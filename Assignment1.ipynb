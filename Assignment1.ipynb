{
  "nbformat": 4,
  "nbformat_minor": 0,
  "metadata": {
    "colab": {
      "name": "Group5-CMLS-HW1.ipynb",
      "provenance": [],
      "collapsed_sections": [],
      "toc_visible": true,
      "machine_shape": "hm",
      "include_colab_link": true
    },
    "kernelspec": {
      "display_name": "Python 3",
      "language": "python",
      "name": "python3"
    },
    "language_info": {
      "codemirror_mode": {
        "name": "ipython",
        "version": 3
      },
      "file_extension": ".py",
      "mimetype": "text/x-python",
      "name": "python",
      "nbconvert_exporter": "python",
      "pygments_lexer": "ipython3",
      "version": "3.6.8"
    },
    "widgets": {
      "application/vnd.jupyter.widget-state+json": {
        "b548879196284e859a56d36d2d0618c0": {
          "model_module": "@jupyter-widgets/controls",
          "model_name": "HBoxModel",
          "state": {
            "_view_name": "HBoxView",
            "_dom_classes": [],
            "_model_name": "HBoxModel",
            "_view_module": "@jupyter-widgets/controls",
            "_model_module_version": "1.5.0",
            "_view_count": null,
            "_view_module_version": "1.5.0",
            "box_style": "",
            "layout": "IPY_MODEL_fbad6964234e4317be784c8461b60446",
            "_model_module": "@jupyter-widgets/controls",
            "children": [
              "IPY_MODEL_2ac3094dda684542a611973fb46a4e94",
              "IPY_MODEL_efccfb2299234ef580f38e81d8e6348d"
            ]
          }
        },
        "fbad6964234e4317be784c8461b60446": {
          "model_module": "@jupyter-widgets/base",
          "model_name": "LayoutModel",
          "state": {
            "_view_name": "LayoutView",
            "grid_template_rows": null,
            "right": null,
            "justify_content": null,
            "_view_module": "@jupyter-widgets/base",
            "overflow": null,
            "_model_module_version": "1.2.0",
            "_view_count": null,
            "flex_flow": null,
            "width": null,
            "min_width": null,
            "border": null,
            "align_items": null,
            "bottom": null,
            "_model_module": "@jupyter-widgets/base",
            "top": null,
            "grid_column": null,
            "overflow_y": null,
            "overflow_x": null,
            "grid_auto_flow": null,
            "grid_area": null,
            "grid_template_columns": null,
            "flex": null,
            "_model_name": "LayoutModel",
            "justify_items": null,
            "grid_row": null,
            "max_height": null,
            "align_content": null,
            "visibility": null,
            "align_self": null,
            "height": null,
            "min_height": null,
            "padding": null,
            "grid_auto_rows": null,
            "grid_gap": null,
            "max_width": null,
            "order": null,
            "_view_module_version": "1.2.0",
            "grid_template_areas": null,
            "object_position": null,
            "object_fit": null,
            "grid_auto_columns": null,
            "margin": null,
            "display": null,
            "left": null
          }
        },
        "2ac3094dda684542a611973fb46a4e94": {
          "model_module": "@jupyter-widgets/controls",
          "model_name": "FloatProgressModel",
          "state": {
            "_view_name": "ProgressView",
            "style": "IPY_MODEL_ec19f25a69c944ec8a4bef0f3e8cf3ff",
            "_dom_classes": [],
            "description": "100%",
            "_model_name": "FloatProgressModel",
            "bar_style": "success",
            "max": 4,
            "_view_module": "@jupyter-widgets/controls",
            "_model_module_version": "1.5.0",
            "value": 4,
            "_view_count": null,
            "_view_module_version": "1.5.0",
            "orientation": "horizontal",
            "min": 0,
            "description_tooltip": null,
            "_model_module": "@jupyter-widgets/controls",
            "layout": "IPY_MODEL_d12161babc9d42b98ee1402186b3bf5a"
          }
        },
        "efccfb2299234ef580f38e81d8e6348d": {
          "model_module": "@jupyter-widgets/controls",
          "model_name": "HTMLModel",
          "state": {
            "_view_name": "HTMLView",
            "style": "IPY_MODEL_b74d24d7a4734908825ab5b24ff7cc58",
            "_dom_classes": [],
            "description": "",
            "_model_name": "HTMLModel",
            "placeholder": "​",
            "_view_module": "@jupyter-widgets/controls",
            "_model_module_version": "1.5.0",
            "value": " 4/4 [00:00&lt;00:00, 146.48it/s]",
            "_view_count": null,
            "_view_module_version": "1.5.0",
            "description_tooltip": null,
            "_model_module": "@jupyter-widgets/controls",
            "layout": "IPY_MODEL_69fc92d5a0174d2da66897ca0294163a"
          }
        },
        "ec19f25a69c944ec8a4bef0f3e8cf3ff": {
          "model_module": "@jupyter-widgets/controls",
          "model_name": "ProgressStyleModel",
          "state": {
            "_view_name": "StyleView",
            "_model_name": "ProgressStyleModel",
            "description_width": "initial",
            "_view_module": "@jupyter-widgets/base",
            "_model_module_version": "1.5.0",
            "_view_count": null,
            "_view_module_version": "1.2.0",
            "bar_color": null,
            "_model_module": "@jupyter-widgets/controls"
          }
        },
        "d12161babc9d42b98ee1402186b3bf5a": {
          "model_module": "@jupyter-widgets/base",
          "model_name": "LayoutModel",
          "state": {
            "_view_name": "LayoutView",
            "grid_template_rows": null,
            "right": null,
            "justify_content": null,
            "_view_module": "@jupyter-widgets/base",
            "overflow": null,
            "_model_module_version": "1.2.0",
            "_view_count": null,
            "flex_flow": null,
            "width": null,
            "min_width": null,
            "border": null,
            "align_items": null,
            "bottom": null,
            "_model_module": "@jupyter-widgets/base",
            "top": null,
            "grid_column": null,
            "overflow_y": null,
            "overflow_x": null,
            "grid_auto_flow": null,
            "grid_area": null,
            "grid_template_columns": null,
            "flex": null,
            "_model_name": "LayoutModel",
            "justify_items": null,
            "grid_row": null,
            "max_height": null,
            "align_content": null,
            "visibility": null,
            "align_self": null,
            "height": null,
            "min_height": null,
            "padding": null,
            "grid_auto_rows": null,
            "grid_gap": null,
            "max_width": null,
            "order": null,
            "_view_module_version": "1.2.0",
            "grid_template_areas": null,
            "object_position": null,
            "object_fit": null,
            "grid_auto_columns": null,
            "margin": null,
            "display": null,
            "left": null
          }
        },
        "b74d24d7a4734908825ab5b24ff7cc58": {
          "model_module": "@jupyter-widgets/controls",
          "model_name": "DescriptionStyleModel",
          "state": {
            "_view_name": "StyleView",
            "_model_name": "DescriptionStyleModel",
            "description_width": "",
            "_view_module": "@jupyter-widgets/base",
            "_model_module_version": "1.5.0",
            "_view_count": null,
            "_view_module_version": "1.2.0",
            "_model_module": "@jupyter-widgets/controls"
          }
        },
        "69fc92d5a0174d2da66897ca0294163a": {
          "model_module": "@jupyter-widgets/base",
          "model_name": "LayoutModel",
          "state": {
            "_view_name": "LayoutView",
            "grid_template_rows": null,
            "right": null,
            "justify_content": null,
            "_view_module": "@jupyter-widgets/base",
            "overflow": null,
            "_model_module_version": "1.2.0",
            "_view_count": null,
            "flex_flow": null,
            "width": null,
            "min_width": null,
            "border": null,
            "align_items": null,
            "bottom": null,
            "_model_module": "@jupyter-widgets/base",
            "top": null,
            "grid_column": null,
            "overflow_y": null,
            "overflow_x": null,
            "grid_auto_flow": null,
            "grid_area": null,
            "grid_template_columns": null,
            "flex": null,
            "_model_name": "LayoutModel",
            "justify_items": null,
            "grid_row": null,
            "max_height": null,
            "align_content": null,
            "visibility": null,
            "align_self": null,
            "height": null,
            "min_height": null,
            "padding": null,
            "grid_auto_rows": null,
            "grid_gap": null,
            "max_width": null,
            "order": null,
            "_view_module_version": "1.2.0",
            "grid_template_areas": null,
            "object_position": null,
            "object_fit": null,
            "grid_auto_columns": null,
            "margin": null,
            "display": null,
            "left": null
          }
        },
        "d5b0cd90b2474f2eb92bdbbaaf2b68f6": {
          "model_module": "@jupyter-widgets/controls",
          "model_name": "HBoxModel",
          "state": {
            "_view_name": "HBoxView",
            "_dom_classes": [],
            "_model_name": "HBoxModel",
            "_view_module": "@jupyter-widgets/controls",
            "_model_module_version": "1.5.0",
            "_view_count": null,
            "_view_module_version": "1.5.0",
            "box_style": "",
            "layout": "IPY_MODEL_ca54a0321fc44fd5a01c873f6965f79d",
            "_model_module": "@jupyter-widgets/controls",
            "children": [
              "IPY_MODEL_05538951a28a4268b237bcd59636405d",
              "IPY_MODEL_2fec3e5b9423488ab3fc8a128bbe4156"
            ]
          }
        },
        "ca54a0321fc44fd5a01c873f6965f79d": {
          "model_module": "@jupyter-widgets/base",
          "model_name": "LayoutModel",
          "state": {
            "_view_name": "LayoutView",
            "grid_template_rows": null,
            "right": null,
            "justify_content": null,
            "_view_module": "@jupyter-widgets/base",
            "overflow": null,
            "_model_module_version": "1.2.0",
            "_view_count": null,
            "flex_flow": null,
            "width": null,
            "min_width": null,
            "border": null,
            "align_items": null,
            "bottom": null,
            "_model_module": "@jupyter-widgets/base",
            "top": null,
            "grid_column": null,
            "overflow_y": null,
            "overflow_x": null,
            "grid_auto_flow": null,
            "grid_area": null,
            "grid_template_columns": null,
            "flex": null,
            "_model_name": "LayoutModel",
            "justify_items": null,
            "grid_row": null,
            "max_height": null,
            "align_content": null,
            "visibility": null,
            "align_self": null,
            "height": null,
            "min_height": null,
            "padding": null,
            "grid_auto_rows": null,
            "grid_gap": null,
            "max_width": null,
            "order": null,
            "_view_module_version": "1.2.0",
            "grid_template_areas": null,
            "object_position": null,
            "object_fit": null,
            "grid_auto_columns": null,
            "margin": null,
            "display": null,
            "left": null
          }
        },
        "05538951a28a4268b237bcd59636405d": {
          "model_module": "@jupyter-widgets/controls",
          "model_name": "FloatProgressModel",
          "state": {
            "_view_name": "ProgressView",
            "style": "IPY_MODEL_b9c77cf0e9094c4c91fa879d57aa776d",
            "_dom_classes": [],
            "description": "100%",
            "_model_name": "FloatProgressModel",
            "bar_style": "success",
            "max": 80,
            "_view_module": "@jupyter-widgets/controls",
            "_model_module_version": "1.5.0",
            "value": 80,
            "_view_count": null,
            "_view_module_version": "1.5.0",
            "orientation": "horizontal",
            "min": 0,
            "description_tooltip": null,
            "_model_module": "@jupyter-widgets/controls",
            "layout": "IPY_MODEL_2c5755f8d6d94879b70dc9033d859ea1"
          }
        },
        "2fec3e5b9423488ab3fc8a128bbe4156": {
          "model_module": "@jupyter-widgets/controls",
          "model_name": "HTMLModel",
          "state": {
            "_view_name": "HTMLView",
            "style": "IPY_MODEL_cd64efa838824c2caa537bff65da1e36",
            "_dom_classes": [],
            "description": "",
            "_model_name": "HTMLModel",
            "placeholder": "​",
            "_view_module": "@jupyter-widgets/controls",
            "_model_module_version": "1.5.0",
            "value": " 80/80 [01:36&lt;00:00,  1.20s/it]",
            "_view_count": null,
            "_view_module_version": "1.5.0",
            "description_tooltip": null,
            "_model_module": "@jupyter-widgets/controls",
            "layout": "IPY_MODEL_80c583d14ee347e7b66d15e138da225c"
          }
        },
        "b9c77cf0e9094c4c91fa879d57aa776d": {
          "model_module": "@jupyter-widgets/controls",
          "model_name": "ProgressStyleModel",
          "state": {
            "_view_name": "StyleView",
            "_model_name": "ProgressStyleModel",
            "description_width": "initial",
            "_view_module": "@jupyter-widgets/base",
            "_model_module_version": "1.5.0",
            "_view_count": null,
            "_view_module_version": "1.2.0",
            "bar_color": null,
            "_model_module": "@jupyter-widgets/controls"
          }
        },
        "2c5755f8d6d94879b70dc9033d859ea1": {
          "model_module": "@jupyter-widgets/base",
          "model_name": "LayoutModel",
          "state": {
            "_view_name": "LayoutView",
            "grid_template_rows": null,
            "right": null,
            "justify_content": null,
            "_view_module": "@jupyter-widgets/base",
            "overflow": null,
            "_model_module_version": "1.2.0",
            "_view_count": null,
            "flex_flow": null,
            "width": null,
            "min_width": null,
            "border": null,
            "align_items": null,
            "bottom": null,
            "_model_module": "@jupyter-widgets/base",
            "top": null,
            "grid_column": null,
            "overflow_y": null,
            "overflow_x": null,
            "grid_auto_flow": null,
            "grid_area": null,
            "grid_template_columns": null,
            "flex": null,
            "_model_name": "LayoutModel",
            "justify_items": null,
            "grid_row": null,
            "max_height": null,
            "align_content": null,
            "visibility": null,
            "align_self": null,
            "height": null,
            "min_height": null,
            "padding": null,
            "grid_auto_rows": null,
            "grid_gap": null,
            "max_width": null,
            "order": null,
            "_view_module_version": "1.2.0",
            "grid_template_areas": null,
            "object_position": null,
            "object_fit": null,
            "grid_auto_columns": null,
            "margin": null,
            "display": null,
            "left": null
          }
        },
        "cd64efa838824c2caa537bff65da1e36": {
          "model_module": "@jupyter-widgets/controls",
          "model_name": "DescriptionStyleModel",
          "state": {
            "_view_name": "StyleView",
            "_model_name": "DescriptionStyleModel",
            "description_width": "",
            "_view_module": "@jupyter-widgets/base",
            "_model_module_version": "1.5.0",
            "_view_count": null,
            "_view_module_version": "1.2.0",
            "_model_module": "@jupyter-widgets/controls"
          }
        },
        "80c583d14ee347e7b66d15e138da225c": {
          "model_module": "@jupyter-widgets/base",
          "model_name": "LayoutModel",
          "state": {
            "_view_name": "LayoutView",
            "grid_template_rows": null,
            "right": null,
            "justify_content": null,
            "_view_module": "@jupyter-widgets/base",
            "overflow": null,
            "_model_module_version": "1.2.0",
            "_view_count": null,
            "flex_flow": null,
            "width": null,
            "min_width": null,
            "border": null,
            "align_items": null,
            "bottom": null,
            "_model_module": "@jupyter-widgets/base",
            "top": null,
            "grid_column": null,
            "overflow_y": null,
            "overflow_x": null,
            "grid_auto_flow": null,
            "grid_area": null,
            "grid_template_columns": null,
            "flex": null,
            "_model_name": "LayoutModel",
            "justify_items": null,
            "grid_row": null,
            "max_height": null,
            "align_content": null,
            "visibility": null,
            "align_self": null,
            "height": null,
            "min_height": null,
            "padding": null,
            "grid_auto_rows": null,
            "grid_gap": null,
            "max_width": null,
            "order": null,
            "_view_module_version": "1.2.0",
            "grid_template_areas": null,
            "object_position": null,
            "object_fit": null,
            "grid_auto_columns": null,
            "margin": null,
            "display": null,
            "left": null
          }
        },
        "c1a87d379ead45d5996893e8b6fb8ad7": {
          "model_module": "@jupyter-widgets/controls",
          "model_name": "HBoxModel",
          "state": {
            "_view_name": "HBoxView",
            "_dom_classes": [],
            "_model_name": "HBoxModel",
            "_view_module": "@jupyter-widgets/controls",
            "_model_module_version": "1.5.0",
            "_view_count": null,
            "_view_module_version": "1.5.0",
            "box_style": "",
            "layout": "IPY_MODEL_e2ff3c523c774140a3c0172c2ff73c77",
            "_model_module": "@jupyter-widgets/controls",
            "children": [
              "IPY_MODEL_0be95c22790e4a9c9f689a71c386cfbe",
              "IPY_MODEL_28b30950b85144fd9e524cb774f2a918"
            ]
          }
        },
        "e2ff3c523c774140a3c0172c2ff73c77": {
          "model_module": "@jupyter-widgets/base",
          "model_name": "LayoutModel",
          "state": {
            "_view_name": "LayoutView",
            "grid_template_rows": null,
            "right": null,
            "justify_content": null,
            "_view_module": "@jupyter-widgets/base",
            "overflow": null,
            "_model_module_version": "1.2.0",
            "_view_count": null,
            "flex_flow": null,
            "width": null,
            "min_width": null,
            "border": null,
            "align_items": null,
            "bottom": null,
            "_model_module": "@jupyter-widgets/base",
            "top": null,
            "grid_column": null,
            "overflow_y": null,
            "overflow_x": null,
            "grid_auto_flow": null,
            "grid_area": null,
            "grid_template_columns": null,
            "flex": null,
            "_model_name": "LayoutModel",
            "justify_items": null,
            "grid_row": null,
            "max_height": null,
            "align_content": null,
            "visibility": null,
            "align_self": null,
            "height": null,
            "min_height": null,
            "padding": null,
            "grid_auto_rows": null,
            "grid_gap": null,
            "max_width": null,
            "order": null,
            "_view_module_version": "1.2.0",
            "grid_template_areas": null,
            "object_position": null,
            "object_fit": null,
            "grid_auto_columns": null,
            "margin": null,
            "display": null,
            "left": null
          }
        },
        "0be95c22790e4a9c9f689a71c386cfbe": {
          "model_module": "@jupyter-widgets/controls",
          "model_name": "FloatProgressModel",
          "state": {
            "_view_name": "ProgressView",
            "style": "IPY_MODEL_9b8db861efc0445cbac12ff772afdaf7",
            "_dom_classes": [],
            "description": "100%",
            "_model_name": "FloatProgressModel",
            "bar_style": "danger",
            "max": 400,
            "_view_module": "@jupyter-widgets/controls",
            "_model_module_version": "1.5.0",
            "value": 399,
            "_view_count": null,
            "_view_module_version": "1.5.0",
            "orientation": "horizontal",
            "min": 0,
            "description_tooltip": null,
            "_model_module": "@jupyter-widgets/controls",
            "layout": "IPY_MODEL_2c700dfdb7ac4aaba5182ec333d0ba22"
          }
        },
        "28b30950b85144fd9e524cb774f2a918": {
          "model_module": "@jupyter-widgets/controls",
          "model_name": "HTMLModel",
          "state": {
            "_view_name": "HTMLView",
            "style": "IPY_MODEL_6820fd23a5ce42a6b5a4356851de1ac6",
            "_dom_classes": [],
            "description": "",
            "_model_name": "HTMLModel",
            "placeholder": "​",
            "_view_module": "@jupyter-widgets/controls",
            "_model_module_version": "1.5.0",
            "value": " 399/400 [01:13&lt;00:00,  5.38it/s]",
            "_view_count": null,
            "_view_module_version": "1.5.0",
            "description_tooltip": null,
            "_model_module": "@jupyter-widgets/controls",
            "layout": "IPY_MODEL_20c3a5bcdd4346a0abf919fcbca4080a"
          }
        },
        "9b8db861efc0445cbac12ff772afdaf7": {
          "model_module": "@jupyter-widgets/controls",
          "model_name": "ProgressStyleModel",
          "state": {
            "_view_name": "StyleView",
            "_model_name": "ProgressStyleModel",
            "description_width": "initial",
            "_view_module": "@jupyter-widgets/base",
            "_model_module_version": "1.5.0",
            "_view_count": null,
            "_view_module_version": "1.2.0",
            "bar_color": null,
            "_model_module": "@jupyter-widgets/controls"
          }
        },
        "2c700dfdb7ac4aaba5182ec333d0ba22": {
          "model_module": "@jupyter-widgets/base",
          "model_name": "LayoutModel",
          "state": {
            "_view_name": "LayoutView",
            "grid_template_rows": null,
            "right": null,
            "justify_content": null,
            "_view_module": "@jupyter-widgets/base",
            "overflow": null,
            "_model_module_version": "1.2.0",
            "_view_count": null,
            "flex_flow": null,
            "width": null,
            "min_width": null,
            "border": null,
            "align_items": null,
            "bottom": null,
            "_model_module": "@jupyter-widgets/base",
            "top": null,
            "grid_column": null,
            "overflow_y": null,
            "overflow_x": null,
            "grid_auto_flow": null,
            "grid_area": null,
            "grid_template_columns": null,
            "flex": null,
            "_model_name": "LayoutModel",
            "justify_items": null,
            "grid_row": null,
            "max_height": null,
            "align_content": null,
            "visibility": null,
            "align_self": null,
            "height": null,
            "min_height": null,
            "padding": null,
            "grid_auto_rows": null,
            "grid_gap": null,
            "max_width": null,
            "order": null,
            "_view_module_version": "1.2.0",
            "grid_template_areas": null,
            "object_position": null,
            "object_fit": null,
            "grid_auto_columns": null,
            "margin": null,
            "display": null,
            "left": null
          }
        },
        "6820fd23a5ce42a6b5a4356851de1ac6": {
          "model_module": "@jupyter-widgets/controls",
          "model_name": "DescriptionStyleModel",
          "state": {
            "_view_name": "StyleView",
            "_model_name": "DescriptionStyleModel",
            "description_width": "",
            "_view_module": "@jupyter-widgets/base",
            "_model_module_version": "1.5.0",
            "_view_count": null,
            "_view_module_version": "1.2.0",
            "_model_module": "@jupyter-widgets/controls"
          }
        },
        "20c3a5bcdd4346a0abf919fcbca4080a": {
          "model_module": "@jupyter-widgets/base",
          "model_name": "LayoutModel",
          "state": {
            "_view_name": "LayoutView",
            "grid_template_rows": null,
            "right": null,
            "justify_content": null,
            "_view_module": "@jupyter-widgets/base",
            "overflow": null,
            "_model_module_version": "1.2.0",
            "_view_count": null,
            "flex_flow": null,
            "width": null,
            "min_width": null,
            "border": null,
            "align_items": null,
            "bottom": null,
            "_model_module": "@jupyter-widgets/base",
            "top": null,
            "grid_column": null,
            "overflow_y": null,
            "overflow_x": null,
            "grid_auto_flow": null,
            "grid_area": null,
            "grid_template_columns": null,
            "flex": null,
            "_model_name": "LayoutModel",
            "justify_items": null,
            "grid_row": null,
            "max_height": null,
            "align_content": null,
            "visibility": null,
            "align_self": null,
            "height": null,
            "min_height": null,
            "padding": null,
            "grid_auto_rows": null,
            "grid_gap": null,
            "max_width": null,
            "order": null,
            "_view_module_version": "1.2.0",
            "grid_template_areas": null,
            "object_position": null,
            "object_fit": null,
            "grid_auto_columns": null,
            "margin": null,
            "display": null,
            "left": null
          }
        },
        "e060a653e79b417bbc1ea32f6bb6bcde": {
          "model_module": "@jupyter-widgets/controls",
          "model_name": "HBoxModel",
          "state": {
            "_view_name": "HBoxView",
            "_dom_classes": [],
            "_model_name": "HBoxModel",
            "_view_module": "@jupyter-widgets/controls",
            "_model_module_version": "1.5.0",
            "_view_count": null,
            "_view_module_version": "1.5.0",
            "box_style": "",
            "layout": "IPY_MODEL_f416da1140c54e62a52f8c0b554c9941",
            "_model_module": "@jupyter-widgets/controls",
            "children": [
              "IPY_MODEL_96db757a3d434b5889c36bb5cd36ccbf",
              "IPY_MODEL_e0c89962ed464fac8cecc7d0da45692e"
            ]
          }
        },
        "f416da1140c54e62a52f8c0b554c9941": {
          "model_module": "@jupyter-widgets/base",
          "model_name": "LayoutModel",
          "state": {
            "_view_name": "LayoutView",
            "grid_template_rows": null,
            "right": null,
            "justify_content": null,
            "_view_module": "@jupyter-widgets/base",
            "overflow": null,
            "_model_module_version": "1.2.0",
            "_view_count": null,
            "flex_flow": null,
            "width": null,
            "min_width": null,
            "border": null,
            "align_items": null,
            "bottom": null,
            "_model_module": "@jupyter-widgets/base",
            "top": null,
            "grid_column": null,
            "overflow_y": null,
            "overflow_x": null,
            "grid_auto_flow": null,
            "grid_area": null,
            "grid_template_columns": null,
            "flex": null,
            "_model_name": "LayoutModel",
            "justify_items": null,
            "grid_row": null,
            "max_height": null,
            "align_content": null,
            "visibility": null,
            "align_self": null,
            "height": null,
            "min_height": null,
            "padding": null,
            "grid_auto_rows": null,
            "grid_gap": null,
            "max_width": null,
            "order": null,
            "_view_module_version": "1.2.0",
            "grid_template_areas": null,
            "object_position": null,
            "object_fit": null,
            "grid_auto_columns": null,
            "margin": null,
            "display": null,
            "left": null
          }
        },
        "96db757a3d434b5889c36bb5cd36ccbf": {
          "model_module": "@jupyter-widgets/controls",
          "model_name": "FloatProgressModel",
          "state": {
            "_view_name": "ProgressView",
            "style": "IPY_MODEL_5c71018bfb0f4f1e9223740ab8dcf4c7",
            "_dom_classes": [],
            "description": "100%",
            "_model_name": "FloatProgressModel",
            "bar_style": "danger",
            "max": 400,
            "_view_module": "@jupyter-widgets/controls",
            "_model_module_version": "1.5.0",
            "value": 399,
            "_view_count": null,
            "_view_module_version": "1.5.0",
            "orientation": "horizontal",
            "min": 0,
            "description_tooltip": null,
            "_model_module": "@jupyter-widgets/controls",
            "layout": "IPY_MODEL_c1aee74a027f4076bdd28e06c540fbdd"
          }
        },
        "e0c89962ed464fac8cecc7d0da45692e": {
          "model_module": "@jupyter-widgets/controls",
          "model_name": "HTMLModel",
          "state": {
            "_view_name": "HTMLView",
            "style": "IPY_MODEL_afa1409f6a12463dae6e39ee227a83ba",
            "_dom_classes": [],
            "description": "",
            "_model_name": "HTMLModel",
            "placeholder": "​",
            "_view_module": "@jupyter-widgets/controls",
            "_model_module_version": "1.5.0",
            "value": " 399/400 [01:14&lt;00:00,  5.34it/s]",
            "_view_count": null,
            "_view_module_version": "1.5.0",
            "description_tooltip": null,
            "_model_module": "@jupyter-widgets/controls",
            "layout": "IPY_MODEL_d658f631306341db9963b6c983a807cd"
          }
        },
        "5c71018bfb0f4f1e9223740ab8dcf4c7": {
          "model_module": "@jupyter-widgets/controls",
          "model_name": "ProgressStyleModel",
          "state": {
            "_view_name": "StyleView",
            "_model_name": "ProgressStyleModel",
            "description_width": "initial",
            "_view_module": "@jupyter-widgets/base",
            "_model_module_version": "1.5.0",
            "_view_count": null,
            "_view_module_version": "1.2.0",
            "bar_color": null,
            "_model_module": "@jupyter-widgets/controls"
          }
        },
        "c1aee74a027f4076bdd28e06c540fbdd": {
          "model_module": "@jupyter-widgets/base",
          "model_name": "LayoutModel",
          "state": {
            "_view_name": "LayoutView",
            "grid_template_rows": null,
            "right": null,
            "justify_content": null,
            "_view_module": "@jupyter-widgets/base",
            "overflow": null,
            "_model_module_version": "1.2.0",
            "_view_count": null,
            "flex_flow": null,
            "width": null,
            "min_width": null,
            "border": null,
            "align_items": null,
            "bottom": null,
            "_model_module": "@jupyter-widgets/base",
            "top": null,
            "grid_column": null,
            "overflow_y": null,
            "overflow_x": null,
            "grid_auto_flow": null,
            "grid_area": null,
            "grid_template_columns": null,
            "flex": null,
            "_model_name": "LayoutModel",
            "justify_items": null,
            "grid_row": null,
            "max_height": null,
            "align_content": null,
            "visibility": null,
            "align_self": null,
            "height": null,
            "min_height": null,
            "padding": null,
            "grid_auto_rows": null,
            "grid_gap": null,
            "max_width": null,
            "order": null,
            "_view_module_version": "1.2.0",
            "grid_template_areas": null,
            "object_position": null,
            "object_fit": null,
            "grid_auto_columns": null,
            "margin": null,
            "display": null,
            "left": null
          }
        },
        "afa1409f6a12463dae6e39ee227a83ba": {
          "model_module": "@jupyter-widgets/controls",
          "model_name": "DescriptionStyleModel",
          "state": {
            "_view_name": "StyleView",
            "_model_name": "DescriptionStyleModel",
            "description_width": "",
            "_view_module": "@jupyter-widgets/base",
            "_model_module_version": "1.5.0",
            "_view_count": null,
            "_view_module_version": "1.2.0",
            "_model_module": "@jupyter-widgets/controls"
          }
        },
        "d658f631306341db9963b6c983a807cd": {
          "model_module": "@jupyter-widgets/base",
          "model_name": "LayoutModel",
          "state": {
            "_view_name": "LayoutView",
            "grid_template_rows": null,
            "right": null,
            "justify_content": null,
            "_view_module": "@jupyter-widgets/base",
            "overflow": null,
            "_model_module_version": "1.2.0",
            "_view_count": null,
            "flex_flow": null,
            "width": null,
            "min_width": null,
            "border": null,
            "align_items": null,
            "bottom": null,
            "_model_module": "@jupyter-widgets/base",
            "top": null,
            "grid_column": null,
            "overflow_y": null,
            "overflow_x": null,
            "grid_auto_flow": null,
            "grid_area": null,
            "grid_template_columns": null,
            "flex": null,
            "_model_name": "LayoutModel",
            "justify_items": null,
            "grid_row": null,
            "max_height": null,
            "align_content": null,
            "visibility": null,
            "align_self": null,
            "height": null,
            "min_height": null,
            "padding": null,
            "grid_auto_rows": null,
            "grid_gap": null,
            "max_width": null,
            "order": null,
            "_view_module_version": "1.2.0",
            "grid_template_areas": null,
            "object_position": null,
            "object_fit": null,
            "grid_auto_columns": null,
            "margin": null,
            "display": null,
            "left": null
          }
        },
        "bfb0fab0e58f4792a260ec50e0f9ab80": {
          "model_module": "@jupyter-widgets/controls",
          "model_name": "HBoxModel",
          "state": {
            "_view_name": "HBoxView",
            "_dom_classes": [],
            "_model_name": "HBoxModel",
            "_view_module": "@jupyter-widgets/controls",
            "_model_module_version": "1.5.0",
            "_view_count": null,
            "_view_module_version": "1.5.0",
            "box_style": "",
            "layout": "IPY_MODEL_4cfa2f4794024285b8073f34c72ea70a",
            "_model_module": "@jupyter-widgets/controls",
            "children": [
              "IPY_MODEL_7e9cbe22ef9d43e18f473f7606f6c1c9",
              "IPY_MODEL_a9794c3106e54c0185a44bc2a1b0c9e1"
            ]
          }
        },
        "4cfa2f4794024285b8073f34c72ea70a": {
          "model_module": "@jupyter-widgets/base",
          "model_name": "LayoutModel",
          "state": {
            "_view_name": "LayoutView",
            "grid_template_rows": null,
            "right": null,
            "justify_content": null,
            "_view_module": "@jupyter-widgets/base",
            "overflow": null,
            "_model_module_version": "1.2.0",
            "_view_count": null,
            "flex_flow": null,
            "width": null,
            "min_width": null,
            "border": null,
            "align_items": null,
            "bottom": null,
            "_model_module": "@jupyter-widgets/base",
            "top": null,
            "grid_column": null,
            "overflow_y": null,
            "overflow_x": null,
            "grid_auto_flow": null,
            "grid_area": null,
            "grid_template_columns": null,
            "flex": null,
            "_model_name": "LayoutModel",
            "justify_items": null,
            "grid_row": null,
            "max_height": null,
            "align_content": null,
            "visibility": null,
            "align_self": null,
            "height": null,
            "min_height": null,
            "padding": null,
            "grid_auto_rows": null,
            "grid_gap": null,
            "max_width": null,
            "order": null,
            "_view_module_version": "1.2.0",
            "grid_template_areas": null,
            "object_position": null,
            "object_fit": null,
            "grid_auto_columns": null,
            "margin": null,
            "display": null,
            "left": null
          }
        },
        "7e9cbe22ef9d43e18f473f7606f6c1c9": {
          "model_module": "@jupyter-widgets/controls",
          "model_name": "FloatProgressModel",
          "state": {
            "_view_name": "ProgressView",
            "style": "IPY_MODEL_a345c508592f470aa3d2e214e06dd599",
            "_dom_classes": [],
            "description": "  0%",
            "_model_name": "FloatProgressModel",
            "bar_style": "danger",
            "max": 400,
            "_view_module": "@jupyter-widgets/controls",
            "_model_module_version": "1.5.0",
            "value": 0,
            "_view_count": null,
            "_view_module_version": "1.5.0",
            "orientation": "horizontal",
            "min": 0,
            "description_tooltip": null,
            "_model_module": "@jupyter-widgets/controls",
            "layout": "IPY_MODEL_974fd59bf52844a293209b6139e767af"
          }
        },
        "a9794c3106e54c0185a44bc2a1b0c9e1": {
          "model_module": "@jupyter-widgets/controls",
          "model_name": "HTMLModel",
          "state": {
            "_view_name": "HTMLView",
            "style": "IPY_MODEL_9ecb1214ea0541edaf86fcf4df992400",
            "_dom_classes": [],
            "description": "",
            "_model_name": "HTMLModel",
            "placeholder": "​",
            "_view_module": "@jupyter-widgets/controls",
            "_model_module_version": "1.5.0",
            "value": " 0/400 [00:00&lt;?, ?it/s]",
            "_view_count": null,
            "_view_module_version": "1.5.0",
            "description_tooltip": null,
            "_model_module": "@jupyter-widgets/controls",
            "layout": "IPY_MODEL_a4932c994a66446680bb3c88594048a1"
          }
        },
        "a345c508592f470aa3d2e214e06dd599": {
          "model_module": "@jupyter-widgets/controls",
          "model_name": "ProgressStyleModel",
          "state": {
            "_view_name": "StyleView",
            "_model_name": "ProgressStyleModel",
            "description_width": "initial",
            "_view_module": "@jupyter-widgets/base",
            "_model_module_version": "1.5.0",
            "_view_count": null,
            "_view_module_version": "1.2.0",
            "bar_color": null,
            "_model_module": "@jupyter-widgets/controls"
          }
        },
        "974fd59bf52844a293209b6139e767af": {
          "model_module": "@jupyter-widgets/base",
          "model_name": "LayoutModel",
          "state": {
            "_view_name": "LayoutView",
            "grid_template_rows": null,
            "right": null,
            "justify_content": null,
            "_view_module": "@jupyter-widgets/base",
            "overflow": null,
            "_model_module_version": "1.2.0",
            "_view_count": null,
            "flex_flow": null,
            "width": null,
            "min_width": null,
            "border": null,
            "align_items": null,
            "bottom": null,
            "_model_module": "@jupyter-widgets/base",
            "top": null,
            "grid_column": null,
            "overflow_y": null,
            "overflow_x": null,
            "grid_auto_flow": null,
            "grid_area": null,
            "grid_template_columns": null,
            "flex": null,
            "_model_name": "LayoutModel",
            "justify_items": null,
            "grid_row": null,
            "max_height": null,
            "align_content": null,
            "visibility": null,
            "align_self": null,
            "height": null,
            "min_height": null,
            "padding": null,
            "grid_auto_rows": null,
            "grid_gap": null,
            "max_width": null,
            "order": null,
            "_view_module_version": "1.2.0",
            "grid_template_areas": null,
            "object_position": null,
            "object_fit": null,
            "grid_auto_columns": null,
            "margin": null,
            "display": null,
            "left": null
          }
        },
        "9ecb1214ea0541edaf86fcf4df992400": {
          "model_module": "@jupyter-widgets/controls",
          "model_name": "DescriptionStyleModel",
          "state": {
            "_view_name": "StyleView",
            "_model_name": "DescriptionStyleModel",
            "description_width": "",
            "_view_module": "@jupyter-widgets/base",
            "_model_module_version": "1.5.0",
            "_view_count": null,
            "_view_module_version": "1.2.0",
            "_model_module": "@jupyter-widgets/controls"
          }
        },
        "a4932c994a66446680bb3c88594048a1": {
          "model_module": "@jupyter-widgets/base",
          "model_name": "LayoutModel",
          "state": {
            "_view_name": "LayoutView",
            "grid_template_rows": null,
            "right": null,
            "justify_content": null,
            "_view_module": "@jupyter-widgets/base",
            "overflow": null,
            "_model_module_version": "1.2.0",
            "_view_count": null,
            "flex_flow": null,
            "width": null,
            "min_width": null,
            "border": null,
            "align_items": null,
            "bottom": null,
            "_model_module": "@jupyter-widgets/base",
            "top": null,
            "grid_column": null,
            "overflow_y": null,
            "overflow_x": null,
            "grid_auto_flow": null,
            "grid_area": null,
            "grid_template_columns": null,
            "flex": null,
            "_model_name": "LayoutModel",
            "justify_items": null,
            "grid_row": null,
            "max_height": null,
            "align_content": null,
            "visibility": null,
            "align_self": null,
            "height": null,
            "min_height": null,
            "padding": null,
            "grid_auto_rows": null,
            "grid_gap": null,
            "max_width": null,
            "order": null,
            "_view_module_version": "1.2.0",
            "grid_template_areas": null,
            "object_position": null,
            "object_fit": null,
            "grid_auto_columns": null,
            "margin": null,
            "display": null,
            "left": null
          }
        },
        "84940727cfb749a1a4fce10f9088ad3f": {
          "model_module": "@jupyter-widgets/controls",
          "model_name": "HBoxModel",
          "state": {
            "_view_name": "HBoxView",
            "_dom_classes": [],
            "_model_name": "HBoxModel",
            "_view_module": "@jupyter-widgets/controls",
            "_model_module_version": "1.5.0",
            "_view_count": null,
            "_view_module_version": "1.5.0",
            "box_style": "",
            "layout": "IPY_MODEL_49af2dc3b0414018bdb9b26f7c201366",
            "_model_module": "@jupyter-widgets/controls",
            "children": [
              "IPY_MODEL_ec6fdb9be43a46eba431773c3589f0a0",
              "IPY_MODEL_a774c64be2a4453a9369779a29020878"
            ]
          }
        },
        "49af2dc3b0414018bdb9b26f7c201366": {
          "model_module": "@jupyter-widgets/base",
          "model_name": "LayoutModel",
          "state": {
            "_view_name": "LayoutView",
            "grid_template_rows": null,
            "right": null,
            "justify_content": null,
            "_view_module": "@jupyter-widgets/base",
            "overflow": null,
            "_model_module_version": "1.2.0",
            "_view_count": null,
            "flex_flow": null,
            "width": null,
            "min_width": null,
            "border": null,
            "align_items": null,
            "bottom": null,
            "_model_module": "@jupyter-widgets/base",
            "top": null,
            "grid_column": null,
            "overflow_y": null,
            "overflow_x": null,
            "grid_auto_flow": null,
            "grid_area": null,
            "grid_template_columns": null,
            "flex": null,
            "_model_name": "LayoutModel",
            "justify_items": null,
            "grid_row": null,
            "max_height": null,
            "align_content": null,
            "visibility": null,
            "align_self": null,
            "height": null,
            "min_height": null,
            "padding": null,
            "grid_auto_rows": null,
            "grid_gap": null,
            "max_width": null,
            "order": null,
            "_view_module_version": "1.2.0",
            "grid_template_areas": null,
            "object_position": null,
            "object_fit": null,
            "grid_auto_columns": null,
            "margin": null,
            "display": null,
            "left": null
          }
        },
        "ec6fdb9be43a46eba431773c3589f0a0": {
          "model_module": "@jupyter-widgets/controls",
          "model_name": "FloatProgressModel",
          "state": {
            "_view_name": "ProgressView",
            "style": "IPY_MODEL_9b3659c13c864e7c9e4161ba093b636c",
            "_dom_classes": [],
            "description": "100%",
            "_model_name": "FloatProgressModel",
            "bar_style": "danger",
            "max": 400,
            "_view_module": "@jupyter-widgets/controls",
            "_model_module_version": "1.5.0",
            "value": 399,
            "_view_count": null,
            "_view_module_version": "1.5.0",
            "orientation": "horizontal",
            "min": 0,
            "description_tooltip": null,
            "_model_module": "@jupyter-widgets/controls",
            "layout": "IPY_MODEL_47b60f6e3fe74d05aad9415e3fef28f9"
          }
        },
        "a774c64be2a4453a9369779a29020878": {
          "model_module": "@jupyter-widgets/controls",
          "model_name": "HTMLModel",
          "state": {
            "_view_name": "HTMLView",
            "style": "IPY_MODEL_f7925013bde7402ba2d879b1fc626459",
            "_dom_classes": [],
            "description": "",
            "_model_name": "HTMLModel",
            "placeholder": "​",
            "_view_module": "@jupyter-widgets/controls",
            "_model_module_version": "1.5.0",
            "value": " 399/400 [07:32&lt;00:01,  1.12s/it]",
            "_view_count": null,
            "_view_module_version": "1.5.0",
            "description_tooltip": null,
            "_model_module": "@jupyter-widgets/controls",
            "layout": "IPY_MODEL_4819bdb63e184e74b5a4dcbf98f993fe"
          }
        },
        "9b3659c13c864e7c9e4161ba093b636c": {
          "model_module": "@jupyter-widgets/controls",
          "model_name": "ProgressStyleModel",
          "state": {
            "_view_name": "StyleView",
            "_model_name": "ProgressStyleModel",
            "description_width": "initial",
            "_view_module": "@jupyter-widgets/base",
            "_model_module_version": "1.5.0",
            "_view_count": null,
            "_view_module_version": "1.2.0",
            "bar_color": null,
            "_model_module": "@jupyter-widgets/controls"
          }
        },
        "47b60f6e3fe74d05aad9415e3fef28f9": {
          "model_module": "@jupyter-widgets/base",
          "model_name": "LayoutModel",
          "state": {
            "_view_name": "LayoutView",
            "grid_template_rows": null,
            "right": null,
            "justify_content": null,
            "_view_module": "@jupyter-widgets/base",
            "overflow": null,
            "_model_module_version": "1.2.0",
            "_view_count": null,
            "flex_flow": null,
            "width": null,
            "min_width": null,
            "border": null,
            "align_items": null,
            "bottom": null,
            "_model_module": "@jupyter-widgets/base",
            "top": null,
            "grid_column": null,
            "overflow_y": null,
            "overflow_x": null,
            "grid_auto_flow": null,
            "grid_area": null,
            "grid_template_columns": null,
            "flex": null,
            "_model_name": "LayoutModel",
            "justify_items": null,
            "grid_row": null,
            "max_height": null,
            "align_content": null,
            "visibility": null,
            "align_self": null,
            "height": null,
            "min_height": null,
            "padding": null,
            "grid_auto_rows": null,
            "grid_gap": null,
            "max_width": null,
            "order": null,
            "_view_module_version": "1.2.0",
            "grid_template_areas": null,
            "object_position": null,
            "object_fit": null,
            "grid_auto_columns": null,
            "margin": null,
            "display": null,
            "left": null
          }
        },
        "f7925013bde7402ba2d879b1fc626459": {
          "model_module": "@jupyter-widgets/controls",
          "model_name": "DescriptionStyleModel",
          "state": {
            "_view_name": "StyleView",
            "_model_name": "DescriptionStyleModel",
            "description_width": "",
            "_view_module": "@jupyter-widgets/base",
            "_model_module_version": "1.5.0",
            "_view_count": null,
            "_view_module_version": "1.2.0",
            "_model_module": "@jupyter-widgets/controls"
          }
        },
        "4819bdb63e184e74b5a4dcbf98f993fe": {
          "model_module": "@jupyter-widgets/base",
          "model_name": "LayoutModel",
          "state": {
            "_view_name": "LayoutView",
            "grid_template_rows": null,
            "right": null,
            "justify_content": null,
            "_view_module": "@jupyter-widgets/base",
            "overflow": null,
            "_model_module_version": "1.2.0",
            "_view_count": null,
            "flex_flow": null,
            "width": null,
            "min_width": null,
            "border": null,
            "align_items": null,
            "bottom": null,
            "_model_module": "@jupyter-widgets/base",
            "top": null,
            "grid_column": null,
            "overflow_y": null,
            "overflow_x": null,
            "grid_auto_flow": null,
            "grid_area": null,
            "grid_template_columns": null,
            "flex": null,
            "_model_name": "LayoutModel",
            "justify_items": null,
            "grid_row": null,
            "max_height": null,
            "align_content": null,
            "visibility": null,
            "align_self": null,
            "height": null,
            "min_height": null,
            "padding": null,
            "grid_auto_rows": null,
            "grid_gap": null,
            "max_width": null,
            "order": null,
            "_view_module_version": "1.2.0",
            "grid_template_areas": null,
            "object_position": null,
            "object_fit": null,
            "grid_auto_columns": null,
            "margin": null,
            "display": null,
            "left": null
          }
        },
        "41d487e79aa840c8854c6e612a6fe686": {
          "model_module": "@jupyter-widgets/controls",
          "model_name": "HBoxModel",
          "state": {
            "_view_name": "HBoxView",
            "_dom_classes": [],
            "_model_name": "HBoxModel",
            "_view_module": "@jupyter-widgets/controls",
            "_model_module_version": "1.5.0",
            "_view_count": null,
            "_view_module_version": "1.5.0",
            "box_style": "",
            "layout": "IPY_MODEL_d5c9e69c1c5c45e4b7e1ec58ad1aed60",
            "_model_module": "@jupyter-widgets/controls",
            "children": [
              "IPY_MODEL_0a8096cff525429b9ff21678ecfa1c2b",
              "IPY_MODEL_6ee5f4b06383435997b03b39e5103309"
            ]
          }
        },
        "d5c9e69c1c5c45e4b7e1ec58ad1aed60": {
          "model_module": "@jupyter-widgets/base",
          "model_name": "LayoutModel",
          "state": {
            "_view_name": "LayoutView",
            "grid_template_rows": null,
            "right": null,
            "justify_content": null,
            "_view_module": "@jupyter-widgets/base",
            "overflow": null,
            "_model_module_version": "1.2.0",
            "_view_count": null,
            "flex_flow": null,
            "width": null,
            "min_width": null,
            "border": null,
            "align_items": null,
            "bottom": null,
            "_model_module": "@jupyter-widgets/base",
            "top": null,
            "grid_column": null,
            "overflow_y": null,
            "overflow_x": null,
            "grid_auto_flow": null,
            "grid_area": null,
            "grid_template_columns": null,
            "flex": null,
            "_model_name": "LayoutModel",
            "justify_items": null,
            "grid_row": null,
            "max_height": null,
            "align_content": null,
            "visibility": null,
            "align_self": null,
            "height": null,
            "min_height": null,
            "padding": null,
            "grid_auto_rows": null,
            "grid_gap": null,
            "max_width": null,
            "order": null,
            "_view_module_version": "1.2.0",
            "grid_template_areas": null,
            "object_position": null,
            "object_fit": null,
            "grid_auto_columns": null,
            "margin": null,
            "display": null,
            "left": null
          }
        },
        "0a8096cff525429b9ff21678ecfa1c2b": {
          "model_module": "@jupyter-widgets/controls",
          "model_name": "FloatProgressModel",
          "state": {
            "_view_name": "ProgressView",
            "style": "IPY_MODEL_7f4afabe391a46e2a75b66cb9d1a0bd0",
            "_dom_classes": [],
            "description": "100%",
            "_model_name": "FloatProgressModel",
            "bar_style": "success",
            "max": 4,
            "_view_module": "@jupyter-widgets/controls",
            "_model_module_version": "1.5.0",
            "value": 4,
            "_view_count": null,
            "_view_module_version": "1.5.0",
            "orientation": "horizontal",
            "min": 0,
            "description_tooltip": null,
            "_model_module": "@jupyter-widgets/controls",
            "layout": "IPY_MODEL_619012712d9b44be8e61eb146440cdff"
          }
        },
        "6ee5f4b06383435997b03b39e5103309": {
          "model_module": "@jupyter-widgets/controls",
          "model_name": "HTMLModel",
          "state": {
            "_view_name": "HTMLView",
            "style": "IPY_MODEL_7441b2923c5c42d09bcb901bc9831f9c",
            "_dom_classes": [],
            "description": "",
            "_model_name": "HTMLModel",
            "placeholder": "​",
            "_view_module": "@jupyter-widgets/controls",
            "_model_module_version": "1.5.0",
            "value": " 4/4 [00:14&lt;00:00,  3.61s/it]",
            "_view_count": null,
            "_view_module_version": "1.5.0",
            "description_tooltip": null,
            "_model_module": "@jupyter-widgets/controls",
            "layout": "IPY_MODEL_8b807a7e1d494ec9aa2877bf9967633e"
          }
        },
        "7f4afabe391a46e2a75b66cb9d1a0bd0": {
          "model_module": "@jupyter-widgets/controls",
          "model_name": "ProgressStyleModel",
          "state": {
            "_view_name": "StyleView",
            "_model_name": "ProgressStyleModel",
            "description_width": "initial",
            "_view_module": "@jupyter-widgets/base",
            "_model_module_version": "1.5.0",
            "_view_count": null,
            "_view_module_version": "1.2.0",
            "bar_color": null,
            "_model_module": "@jupyter-widgets/controls"
          }
        },
        "619012712d9b44be8e61eb146440cdff": {
          "model_module": "@jupyter-widgets/base",
          "model_name": "LayoutModel",
          "state": {
            "_view_name": "LayoutView",
            "grid_template_rows": null,
            "right": null,
            "justify_content": null,
            "_view_module": "@jupyter-widgets/base",
            "overflow": null,
            "_model_module_version": "1.2.0",
            "_view_count": null,
            "flex_flow": null,
            "width": null,
            "min_width": null,
            "border": null,
            "align_items": null,
            "bottom": null,
            "_model_module": "@jupyter-widgets/base",
            "top": null,
            "grid_column": null,
            "overflow_y": null,
            "overflow_x": null,
            "grid_auto_flow": null,
            "grid_area": null,
            "grid_template_columns": null,
            "flex": null,
            "_model_name": "LayoutModel",
            "justify_items": null,
            "grid_row": null,
            "max_height": null,
            "align_content": null,
            "visibility": null,
            "align_self": null,
            "height": null,
            "min_height": null,
            "padding": null,
            "grid_auto_rows": null,
            "grid_gap": null,
            "max_width": null,
            "order": null,
            "_view_module_version": "1.2.0",
            "grid_template_areas": null,
            "object_position": null,
            "object_fit": null,
            "grid_auto_columns": null,
            "margin": null,
            "display": null,
            "left": null
          }
        },
        "7441b2923c5c42d09bcb901bc9831f9c": {
          "model_module": "@jupyter-widgets/controls",
          "model_name": "DescriptionStyleModel",
          "state": {
            "_view_name": "StyleView",
            "_model_name": "DescriptionStyleModel",
            "description_width": "",
            "_view_module": "@jupyter-widgets/base",
            "_model_module_version": "1.5.0",
            "_view_count": null,
            "_view_module_version": "1.2.0",
            "_model_module": "@jupyter-widgets/controls"
          }
        },
        "8b807a7e1d494ec9aa2877bf9967633e": {
          "model_module": "@jupyter-widgets/base",
          "model_name": "LayoutModel",
          "state": {
            "_view_name": "LayoutView",
            "grid_template_rows": null,
            "right": null,
            "justify_content": null,
            "_view_module": "@jupyter-widgets/base",
            "overflow": null,
            "_model_module_version": "1.2.0",
            "_view_count": null,
            "flex_flow": null,
            "width": null,
            "min_width": null,
            "border": null,
            "align_items": null,
            "bottom": null,
            "_model_module": "@jupyter-widgets/base",
            "top": null,
            "grid_column": null,
            "overflow_y": null,
            "overflow_x": null,
            "grid_auto_flow": null,
            "grid_area": null,
            "grid_template_columns": null,
            "flex": null,
            "_model_name": "LayoutModel",
            "justify_items": null,
            "grid_row": null,
            "max_height": null,
            "align_content": null,
            "visibility": null,
            "align_self": null,
            "height": null,
            "min_height": null,
            "padding": null,
            "grid_auto_rows": null,
            "grid_gap": null,
            "max_width": null,
            "order": null,
            "_view_module_version": "1.2.0",
            "grid_template_areas": null,
            "object_position": null,
            "object_fit": null,
            "grid_auto_columns": null,
            "margin": null,
            "display": null,
            "left": null
          }
        },
        "2bc727d810ec42ea9a5d40f6add6a65e": {
          "model_module": "@jupyter-widgets/controls",
          "model_name": "HBoxModel",
          "state": {
            "_view_name": "HBoxView",
            "_dom_classes": [],
            "_model_name": "HBoxModel",
            "_view_module": "@jupyter-widgets/controls",
            "_model_module_version": "1.5.0",
            "_view_count": null,
            "_view_module_version": "1.5.0",
            "box_style": "",
            "layout": "IPY_MODEL_a1c5141f47ed45f98b24b392cf783f99",
            "_model_module": "@jupyter-widgets/controls",
            "children": [
              "IPY_MODEL_363a68e1473340809a034b4ce2136a82",
              "IPY_MODEL_1630af3611014debbdab87d394ae4b2a"
            ]
          }
        },
        "a1c5141f47ed45f98b24b392cf783f99": {
          "model_module": "@jupyter-widgets/base",
          "model_name": "LayoutModel",
          "state": {
            "_view_name": "LayoutView",
            "grid_template_rows": null,
            "right": null,
            "justify_content": null,
            "_view_module": "@jupyter-widgets/base",
            "overflow": null,
            "_model_module_version": "1.2.0",
            "_view_count": null,
            "flex_flow": null,
            "width": null,
            "min_width": null,
            "border": null,
            "align_items": null,
            "bottom": null,
            "_model_module": "@jupyter-widgets/base",
            "top": null,
            "grid_column": null,
            "overflow_y": null,
            "overflow_x": null,
            "grid_auto_flow": null,
            "grid_area": null,
            "grid_template_columns": null,
            "flex": null,
            "_model_name": "LayoutModel",
            "justify_items": null,
            "grid_row": null,
            "max_height": null,
            "align_content": null,
            "visibility": null,
            "align_self": null,
            "height": null,
            "min_height": null,
            "padding": null,
            "grid_auto_rows": null,
            "grid_gap": null,
            "max_width": null,
            "order": null,
            "_view_module_version": "1.2.0",
            "grid_template_areas": null,
            "object_position": null,
            "object_fit": null,
            "grid_auto_columns": null,
            "margin": null,
            "display": null,
            "left": null
          }
        },
        "363a68e1473340809a034b4ce2136a82": {
          "model_module": "@jupyter-widgets/controls",
          "model_name": "FloatProgressModel",
          "state": {
            "_view_name": "ProgressView",
            "style": "IPY_MODEL_77cc6ff6125040f8aef1a19467ba3a2f",
            "_dom_classes": [],
            "description": "100%",
            "_model_name": "FloatProgressModel",
            "bar_style": "success",
            "max": 2,
            "_view_module": "@jupyter-widgets/controls",
            "_model_module_version": "1.5.0",
            "value": 2,
            "_view_count": null,
            "_view_module_version": "1.5.0",
            "orientation": "horizontal",
            "min": 0,
            "description_tooltip": null,
            "_model_module": "@jupyter-widgets/controls",
            "layout": "IPY_MODEL_16a685521ff444729a9247fad38c4c89"
          }
        },
        "1630af3611014debbdab87d394ae4b2a": {
          "model_module": "@jupyter-widgets/controls",
          "model_name": "HTMLModel",
          "state": {
            "_view_name": "HTMLView",
            "style": "IPY_MODEL_b9f37e9e7abf4d56b622b8222772197a",
            "_dom_classes": [],
            "description": "",
            "_model_name": "HTMLModel",
            "placeholder": "​",
            "_view_module": "@jupyter-widgets/controls",
            "_model_module_version": "1.5.0",
            "value": " 2/2 [00:28&lt;00:00, 14.32s/it]",
            "_view_count": null,
            "_view_module_version": "1.5.0",
            "description_tooltip": null,
            "_model_module": "@jupyter-widgets/controls",
            "layout": "IPY_MODEL_f15b8ea9443c4ac4ad5ed708981bbd3f"
          }
        },
        "77cc6ff6125040f8aef1a19467ba3a2f": {
          "model_module": "@jupyter-widgets/controls",
          "model_name": "ProgressStyleModel",
          "state": {
            "_view_name": "StyleView",
            "_model_name": "ProgressStyleModel",
            "description_width": "initial",
            "_view_module": "@jupyter-widgets/base",
            "_model_module_version": "1.5.0",
            "_view_count": null,
            "_view_module_version": "1.2.0",
            "bar_color": null,
            "_model_module": "@jupyter-widgets/controls"
          }
        },
        "16a685521ff444729a9247fad38c4c89": {
          "model_module": "@jupyter-widgets/base",
          "model_name": "LayoutModel",
          "state": {
            "_view_name": "LayoutView",
            "grid_template_rows": null,
            "right": null,
            "justify_content": null,
            "_view_module": "@jupyter-widgets/base",
            "overflow": null,
            "_model_module_version": "1.2.0",
            "_view_count": null,
            "flex_flow": null,
            "width": null,
            "min_width": null,
            "border": null,
            "align_items": null,
            "bottom": null,
            "_model_module": "@jupyter-widgets/base",
            "top": null,
            "grid_column": null,
            "overflow_y": null,
            "overflow_x": null,
            "grid_auto_flow": null,
            "grid_area": null,
            "grid_template_columns": null,
            "flex": null,
            "_model_name": "LayoutModel",
            "justify_items": null,
            "grid_row": null,
            "max_height": null,
            "align_content": null,
            "visibility": null,
            "align_self": null,
            "height": null,
            "min_height": null,
            "padding": null,
            "grid_auto_rows": null,
            "grid_gap": null,
            "max_width": null,
            "order": null,
            "_view_module_version": "1.2.0",
            "grid_template_areas": null,
            "object_position": null,
            "object_fit": null,
            "grid_auto_columns": null,
            "margin": null,
            "display": null,
            "left": null
          }
        },
        "b9f37e9e7abf4d56b622b8222772197a": {
          "model_module": "@jupyter-widgets/controls",
          "model_name": "DescriptionStyleModel",
          "state": {
            "_view_name": "StyleView",
            "_model_name": "DescriptionStyleModel",
            "description_width": "",
            "_view_module": "@jupyter-widgets/base",
            "_model_module_version": "1.5.0",
            "_view_count": null,
            "_view_module_version": "1.2.0",
            "_model_module": "@jupyter-widgets/controls"
          }
        },
        "f15b8ea9443c4ac4ad5ed708981bbd3f": {
          "model_module": "@jupyter-widgets/base",
          "model_name": "LayoutModel",
          "state": {
            "_view_name": "LayoutView",
            "grid_template_rows": null,
            "right": null,
            "justify_content": null,
            "_view_module": "@jupyter-widgets/base",
            "overflow": null,
            "_model_module_version": "1.2.0",
            "_view_count": null,
            "flex_flow": null,
            "width": null,
            "min_width": null,
            "border": null,
            "align_items": null,
            "bottom": null,
            "_model_module": "@jupyter-widgets/base",
            "top": null,
            "grid_column": null,
            "overflow_y": null,
            "overflow_x": null,
            "grid_auto_flow": null,
            "grid_area": null,
            "grid_template_columns": null,
            "flex": null,
            "_model_name": "LayoutModel",
            "justify_items": null,
            "grid_row": null,
            "max_height": null,
            "align_content": null,
            "visibility": null,
            "align_self": null,
            "height": null,
            "min_height": null,
            "padding": null,
            "grid_auto_rows": null,
            "grid_gap": null,
            "max_width": null,
            "order": null,
            "_view_module_version": "1.2.0",
            "grid_template_areas": null,
            "object_position": null,
            "object_fit": null,
            "grid_auto_columns": null,
            "margin": null,
            "display": null,
            "left": null
          }
        }
      }
    }
  },
  "cells": [
    {
      "cell_type": "markdown",
      "metadata": {
        "id": "view-in-github",
        "colab_type": "text"
      },
      "source": [
        "<a href=\"https://colab.research.google.com/github/yilin10/MusicalGenreClassification/blob/master/Assignment1.ipynb\" target=\"_parent\"><img src=\"https://colab.research.google.com/assets/colab-badge.svg\" alt=\"Open In Colab\"/></a>"
      ]
    },
    {
      "cell_type": "markdown",
      "metadata": {
        "colab_type": "text",
        "id": "jLVe0JKuO3bf"
      },
      "source": [
        "# CMLS - Assignment 1: Music Genre Classification\n"
      ]
    },
    {
      "cell_type": "markdown",
      "metadata": {
        "id": "gqa0sub0LAkQ",
        "colab_type": "text"
      },
      "source": [
        "## Introduction"
      ]
    },
    {
      "cell_type": "markdown",
      "metadata": {
        "id": "9Qx1zsQfLC0q",
        "colab_type": "text"
      },
      "source": [
        "This is a brief report for Computer Music: Language and Systesms in Politecnico di Milano, Group 5 Assignment 1. \n",
        "\n",
        "It is written as IPython Notebook using Google Colaboratory.\n",
        "\n",
        "The full report version is available on OverLeaf [link](https://www.overleaf.com/1494782774kwgkjvfgddzq).\n",
        "\n"
      ]
    },
    {
      "cell_type": "markdown",
      "metadata": {
        "colab_type": "text",
        "id": "oAMtiv3fi_zD"
      },
      "source": [
        "## Import Libraries"
      ]
    },
    {
      "cell_type": "markdown",
      "metadata": {
        "colab_type": "text",
        "id": "AoIKVCIltRqu"
      },
      "source": [
        "Import of **Libraries** we needed."
      ]
    },
    {
      "cell_type": "code",
      "metadata": {
        "colab_type": "code",
        "id": "PM1VJfgyOXPH",
        "colab": {}
      },
      "source": [
        "# import python libraries\n",
        "import librosa\n",
        "import numpy as np\n",
        "import pandas as pd\n",
        "import os\n",
        "import matplotlib.pyplot as plt\n",
        "import IPython.display as ipd\n",
        "import scipy as sp\n",
        "from tqdm.notebook import tqdm\n",
        "from time import sleep\n",
        "\n",
        "# import classification and evaluation libraries\n",
        "import sklearn.svm\n",
        "from sklearn.model_selection import train_test_split,cross_val_score\n",
        "from sklearn import datasets\n",
        "import sklearn.neighbors as neighbors\n",
        "from sklearn.model_selection import cross_val_score\n",
        "from sklearn.metrics import plot_confusion_matrix\n",
        "from sklearn.model_selection import train_test_split\n",
        "from sklearn.model_selection import GridSearchCV\n",
        "from sklearn.metrics import classification_report\n",
        "import sklearn.preprocessing as preprocessing"
      ],
      "execution_count": 0,
      "outputs": []
    },
    {
      "cell_type": "markdown",
      "metadata": {
        "colab_type": "text",
        "id": "hxm6tnwutXJu"
      },
      "source": [
        "Use the personal **Kaggle Api token** to enable download from Kaggle."
      ]
    },
    {
      "cell_type": "code",
      "metadata": {
        "colab_type": "code",
        "id": "X8wsW27Qk5d2",
        "outputId": "5e20bb22-4504-4238-8341-d4472f6392f5",
        "colab": {
          "resources": {
            "http://localhost:8080/nbextensions/google.colab/files.js": {
              "data": "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",
              "ok": true,
              "headers": [
                [
                  "content-type",
                  "application/javascript"
                ]
              ],
              "status": 200,
              "status_text": ""
            }
          },
          "base_uri": "https://localhost:8080/",
          "height": 75
        }
      },
      "source": [
        "from google.colab import files\n",
        "files.upload() # Choose kaggle.json (your personal Kaggle API token)\n",
        "\n",
        "! rm -r ~/.kaggle\n",
        "! mkdir ~/.kaggle\n",
        "! mv kaggle.json ~/.kaggle/\n",
        "! chmod 600 ~/.kaggle/kaggle.json # Change the permissions of the file."
      ],
      "execution_count": 0,
      "outputs": [
        {
          "output_type": "display_data",
          "data": {
            "text/html": [
              "\n",
              "     <input type=\"file\" id=\"files-0abb357d-abb4-4fcf-9276-290ad306e5b5\" name=\"files[]\" multiple disabled />\n",
              "     <output id=\"result-0abb357d-abb4-4fcf-9276-290ad306e5b5\">\n",
              "      Upload widget is only available when the cell has been executed in the\n",
              "      current browser session. Please rerun this cell to enable.\n",
              "      </output>\n",
              "      <script src=\"/nbextensions/google.colab/files.js\"></script> "
            ],
            "text/plain": [
              "<IPython.core.display.HTML object>"
            ]
          },
          "metadata": {
            "tags": []
          }
        },
        {
          "output_type": "stream",
          "text": [
            "Saving kaggle.json to kaggle.json\n"
          ],
          "name": "stdout"
        }
      ]
    },
    {
      "cell_type": "markdown",
      "metadata": {
        "colab_type": "text",
        "id": "ut0yfrF6tvqA"
      },
      "source": [
        "Download of the dataset from Kaggle, and unzip the dataset\n",
        "\n"
      ]
    },
    {
      "cell_type": "code",
      "metadata": {
        "colab_type": "code",
        "id": "O-jkkBM5RLBm",
        "outputId": "692a8d88-7d86-41a3-93d9-83eb1fe120dd",
        "colab": {
          "base_uri": "https://localhost:8080/",
          "height": 68
        }
      },
      "source": [
        "! pip install -q kaggle\n",
        "! mkdir ~/dataset\n",
        "! kaggle datasets download -d carlthome/gtzan-genre-collection\n",
        "! unzip -q gtzan-genre-collection.zip -d ~/dataset"
      ],
      "execution_count": 0,
      "outputs": [
        {
          "output_type": "stream",
          "text": [
            "Downloading gtzan-genre-collection.zip to /content\n",
            " 99% 1.13G/1.14G [00:20<00:00, 55.9MB/s]\n",
            "100% 1.14G/1.14G [00:20<00:00, 60.8MB/s]\n"
          ],
          "name": "stdout"
        }
      ]
    },
    {
      "cell_type": "markdown",
      "metadata": {
        "id": "wMvXCboCo0oa",
        "colab_type": "text"
      },
      "source": [
        "## Observation and Retrieving Annotations\n"
      ]
    },
    {
      "cell_type": "markdown",
      "metadata": {
        "id": "muksP7rsd25t",
        "colab_type": "text"
      },
      "source": [
        "The original Dataset we are using is from [Kaggle](https://www.kaggle.com/carlthome/gtzan-genre-collection) and provided by [GTZAN](http://marsyas.info/downloads/datasets.html), which is the most widely used free database in music genre recognition field.\n",
        "\n",
        "We need to classify the four Music Genre categories **Blues, Metal, Hip-Hop, Reggae**.\n",
        "\n",
        "\n",
        "In the description part, we can see the brief infomation on this data set.\n",
        "\n",
        "```\n",
        "The dataset consists of 1000 audio tracks each 30 seconds long. \n",
        "\n",
        "It contains 10 genres, each represented by 100 tracks. \n",
        "\n",
        "The tracks are all 22050 Hz monophonic 16-bit audio files in .au format.\n",
        "```\n",
        "\n",
        "\n"
      ]
    },
    {
      "cell_type": "code",
      "metadata": {
        "id": "AvcEkZ9IKqPi",
        "colab_type": "code",
        "outputId": "0338ae78-7734-4a0a-8bcf-a7883ec273bf",
        "colab": {
          "base_uri": "https://localhost:8080/",
          "height": 66,
          "referenced_widgets": [
            "b548879196284e859a56d36d2d0618c0",
            "fbad6964234e4317be784c8461b60446",
            "2ac3094dda684542a611973fb46a4e94",
            "efccfb2299234ef580f38e81d8e6348d",
            "ec19f25a69c944ec8a4bef0f3e8cf3ff",
            "d12161babc9d42b98ee1402186b3bf5a",
            "b74d24d7a4734908825ab5b24ff7cc58",
            "69fc92d5a0174d2da66897ca0294163a"
          ]
        }
      },
      "source": [
        "# save data in genre.csv\n",
        "genre_analysis_list = [\"blues\",\"metal\",\"hiphop\",\"reggae\"]  \n",
        "genre_list = []  \n",
        "path_list = []\n",
        "train_path = \"../root/dataset/genres/\"\n",
        "\n",
        "for each in tqdm(genre_analysis_list):\n",
        "    train_test_folder = train_path + format(each)\n",
        "    train_catg_files = [f for f in os.listdir(train_test_folder) if f.endswith('.au')]\n",
        "    for index, each_file in enumerate(train_catg_files):\n",
        "        each_file_path = os.path.join(train_test_folder, each_file)\n",
        "        genre_list.append(each)\n",
        "        path_list.append(each_file_path)\n",
        "genre_data = pd.DataFrame(list(zip(genre_list,path_list)),columns = ['Genre','Path'])\n",
        "genre_data.to_csv('./genres.csv',sep = '\\t', index = False)"
      ],
      "execution_count": 18,
      "outputs": [
        {
          "output_type": "display_data",
          "data": {
            "application/vnd.jupyter.widget-view+json": {
              "model_id": "b548879196284e859a56d36d2d0618c0",
              "version_minor": 0,
              "version_major": 2
            },
            "text/plain": [
              "HBox(children=(FloatProgress(value=0.0, max=4.0), HTML(value='')))"
            ]
          },
          "metadata": {
            "tags": []
          }
        },
        {
          "output_type": "stream",
          "text": [
            "\n"
          ],
          "name": "stdout"
        }
      ]
    },
    {
      "cell_type": "markdown",
      "metadata": {
        "id": "-HHhz4KHKhlJ",
        "colab_type": "text"
      },
      "source": [
        "Check the annotation retrived."
      ]
    },
    {
      "cell_type": "code",
      "metadata": {
        "id": "qeiCrN1Xb1Gt",
        "colab_type": "code",
        "outputId": "b7413112-a8a1-44bf-e678-108f27404642",
        "colab": {
          "base_uri": "https://localhost:8080/",
          "height": 255
        }
      },
      "source": [
        "genre_data.describe # get pd.DataFrame"
      ],
      "execution_count": 19,
      "outputs": [
        {
          "output_type": "execute_result",
          "data": {
            "text/plain": [
              "<bound method NDFrame.describe of       Genre                                           Path\n",
              "0     blues    ../root/dataset/genres/blues/blues.00013.au\n",
              "1     blues    ../root/dataset/genres/blues/blues.00041.au\n",
              "2     blues    ../root/dataset/genres/blues/blues.00071.au\n",
              "3     blues    ../root/dataset/genres/blues/blues.00033.au\n",
              "4     blues    ../root/dataset/genres/blues/blues.00089.au\n",
              "..      ...                                            ...\n",
              "395  reggae  ../root/dataset/genres/reggae/reggae.00080.au\n",
              "396  reggae  ../root/dataset/genres/reggae/reggae.00067.au\n",
              "397  reggae  ../root/dataset/genres/reggae/reggae.00043.au\n",
              "398  reggae  ../root/dataset/genres/reggae/reggae.00024.au\n",
              "399  reggae  ../root/dataset/genres/reggae/reggae.00092.au\n",
              "\n",
              "[400 rows x 2 columns]>"
            ]
          },
          "metadata": {
            "tags": []
          },
          "execution_count": 19
        }
      ]
    },
    {
      "cell_type": "markdown",
      "metadata": {
        "id": "HfjjS6PJ_Moo",
        "colab_type": "text"
      },
      "source": [
        "## Preprocessing"
      ]
    },
    {
      "cell_type": "markdown",
      "metadata": {
        "id": "byNZHT1qP57Z",
        "colab_type": "text"
      },
      "source": [
        "Go through the files and check .au basic info, we can pick random samples to check according to statistic principle.\n",
        "- sample rate\n",
        "- duration in seconds\n",
        "- static tempo\n",
        "\n",
        "By executing the following code we can get the same information on this dataset which confirms with the provided info."
      ]
    },
    {
      "cell_type": "code",
      "metadata": {
        "id": "J0PiPkNoP6Tx",
        "colab_type": "code",
        "outputId": "276b4a70-071d-4937-c49a-10989a28eb26",
        "colab": {
          "base_uri": "https://localhost:8080/",
          "height": 137,
          "referenced_widgets": [
            "d5b0cd90b2474f2eb92bdbbaaf2b68f6",
            "ca54a0321fc44fd5a01c873f6965f79d",
            "05538951a28a4268b237bcd59636405d",
            "2fec3e5b9423488ab3fc8a128bbe4156",
            "b9c77cf0e9094c4c91fa879d57aa776d",
            "2c5755f8d6d94879b70dc9033d859ea1",
            "cd64efa838824c2caa537bff65da1e36",
            "80c583d14ee347e7b66d15e138da225c"
          ]
        }
      },
      "source": [
        "import warnings \n",
        "# ignore dw warning from librosa.beat\n",
        "warnings.filterwarnings(\"ignore\", category=DeprecationWarning) \n",
        "# get 20% of check_sample from original dataset\n",
        "check_sample = genre_data['Path'].sample(frac = 0.2, replace = False,\n",
        "                                         random_state = None, axis = 0 )\n",
        "sr_list = []\n",
        "dur_list = []\n",
        "tempo_list = []\n",
        "for p in tqdm(check_sample):\n",
        "    #read audio file \n",
        "    y, sr = librosa.load(p) \n",
        "    #1. get sample rate\n",
        "    sr_list.append(sr)\n",
        "    #2. get duration\n",
        "    dur = round(librosa.get_duration(y=y, sr=sr))\n",
        "    dur_list.append(dur)\n",
        "    #3. static tempo\n",
        "    onset_env = librosa.onset.onset_strength(y, sr=sr)\n",
        "    tempo = librosa.beat.tempo(onset_envelope=onset_env, sr=sr)\n",
        "    tempo_list.append(round(tempo[0]))\n",
        "print(\"sample rate: \", sr_list) # sample rate = 22050\n",
        "print(\"duration in seconds: \", dur_list)\n",
        "print(\"static tempo: \", tempo_list)"
      ],
      "execution_count": 20,
      "outputs": [
        {
          "output_type": "display_data",
          "data": {
            "application/vnd.jupyter.widget-view+json": {
              "model_id": "d5b0cd90b2474f2eb92bdbbaaf2b68f6",
              "version_minor": 0,
              "version_major": 2
            },
            "text/plain": [
              "HBox(children=(FloatProgress(value=0.0, max=80.0), HTML(value='')))"
            ]
          },
          "metadata": {
            "tags": []
          }
        },
        {
          "output_type": "stream",
          "text": [
            "\n",
            "sample rate:  [22050, 22050, 22050, 22050, 22050, 22050, 22050, 22050, 22050, 22050, 22050, 22050, 22050, 22050, 22050, 22050, 22050, 22050, 22050, 22050, 22050, 22050, 22050, 22050, 22050, 22050, 22050, 22050, 22050, 22050, 22050, 22050, 22050, 22050, 22050, 22050, 22050, 22050, 22050, 22050, 22050, 22050, 22050, 22050, 22050, 22050, 22050, 22050, 22050, 22050, 22050, 22050, 22050, 22050, 22050, 22050, 22050, 22050, 22050, 22050, 22050, 22050, 22050, 22050, 22050, 22050, 22050, 22050, 22050, 22050, 22050, 22050, 22050, 22050, 22050, 22050, 22050, 22050, 22050, 22050]\n",
            "duration in seconds:  [30, 30, 30, 30, 30, 30, 30, 30, 30, 30, 30, 30, 30, 30, 30, 30, 30, 30, 30, 30, 30, 30, 30, 30, 30, 30, 30, 30, 30, 30, 30, 31, 30, 30, 30, 30, 30, 30, 30, 30, 30, 30, 30, 30, 30, 30, 30, 30, 30, 30, 30, 30, 30, 30, 30, 30, 30, 30, 31, 30, 30, 30, 30, 30, 30, 30, 30, 30, 30, 30, 30, 30, 30, 30, 30, 30, 30, 31, 30, 30]\n",
            "static tempo:  [136.0, 112.0, 92.0, 108.0, 108.0, 152.0, 152.0, 117.0, 92.0, 129.0, 108.0, 144.0, 152.0, 152.0, 96.0, 89.0, 99.0, 117.0, 117.0, 112.0, 96.0, 108.0, 152.0, 92.0, 123.0, 152.0, 117.0, 103.0, 136.0, 103.0, 129.0, 117.0, 152.0, 136.0, 152.0, 152.0, 117.0, 99.0, 99.0, 96.0, 112.0, 123.0, 144.0, 99.0, 117.0, 103.0, 117.0, 96.0, 123.0, 108.0, 117.0, 123.0, 144.0, 112.0, 117.0, 161.0, 136.0, 103.0, 117.0, 144.0, 123.0, 161.0, 152.0, 89.0, 144.0, 144.0, 123.0, 112.0, 117.0, 96.0, 161.0, 92.0, 108.0, 129.0, 112.0, 99.0, 136.0, 92.0, 96.0, 129.0]\n"
          ],
          "name": "stdout"
        }
      ]
    },
    {
      "cell_type": "code",
      "metadata": {
        "id": "lzWlyjSEkCuR",
        "colab_type": "code",
        "outputId": "cef5eee3-8e1a-49ed-fc78-3b79aaacf29e",
        "colab": {
          "base_uri": "https://localhost:8080/",
          "height": 119
        }
      },
      "source": [
        "print(\"--- Statistics for sample data in static tempo ---\")\n",
        "print(\"Mean\", np.mean(tempo_list))\n",
        "print(\"Min\",np.min(tempo_list))\n",
        "print(\"Max\",np.min(tempo_list))\n",
        "print(\"Median\", np.median(tempo_list))\n",
        "print(\"Std\", np.std(tempo_list))"
      ],
      "execution_count": 21,
      "outputs": [
        {
          "output_type": "stream",
          "text": [
            "--- Statistics for sample data in static tempo ---\n",
            "Mean 120.575\n",
            "Min 89.0\n",
            "Max 89.0\n",
            "Median 117.0\n",
            "Std 20.73208564037878\n"
          ],
          "name": "stdout"
        }
      ]
    },
    {
      "cell_type": "markdown",
      "metadata": {
        "id": "1--vsk7VfXpB",
        "colab_type": "text"
      },
      "source": [
        "Here we can print to see the statistic info in tempo as a test. We can see in rhythmic part the standard diviation is quiet obvious, which makes it possible to distinguish different different genres."
      ]
    },
    {
      "cell_type": "markdown",
      "metadata": {
        "id": "CJek8GfLI9q9",
        "colab_type": "text"
      },
      "source": [
        "**Check the quality of the Original dataset**\n",
        "\n",
        "- if it is balanced\n",
        "- if it has repetition\n",
        "- if it is able to describe differnet genre\n",
        "\n",
        "According to a research result we found [[1]](https://arxiv.org/abs/1306.1461), the audio pieces from GTZAN is not perfect, it does have repetitions, and dislabelling error.\n",
        "\n",
        "In the research result we find from the paper, they checked each audio piece both using fingerprinting of the audio and also human ears.\n",
        "\n",
        "There are different kinds of repetition and mislabelling in the GTZAN dataset(as recording repetition, artist repetiton and version repetition and others).\n",
        "\n",
        "1. **Recording repetition**: 0 error in blues, 6 in hiphop, 0 in metal, 3 in reggae\n",
        "2. **Artist unbalanced**: all blues audio come from only 9 artists; 34 % of the Reggae pieces come from artist Bob Marley(no.00-27 and no.54-60)\n",
        "3. **Version repetition**: 0 in blues, 2 in hiphop, 3 in Metal, 2 in Reggae; eg. Metal 33 is “Enter Sandman” by Metallica, and Metal 74 is a parody\n",
        "4. **Mislabelling**: there are some contentious or conscpicious labelled piece; eg. In Metal Genre, Queen's “Tie Your Mother Down” (no.58), “Tear it up” (no.59), “We Will Rock You” (no.60) might be labelled as Rock instead; In all, there are 0 error in blues, 4 in Hiphop, 13 in Metal and 1 in reggae.\n",
        "\n",
        "Thus, we know that GTZAN provides convenient origin dataset for further analysis, but is not perfect. \n",
        "\n",
        "We should take into consideration the error inside each 'Genre', especially in the categories of 'Metal' and 'Reggae' for **the evaluation stage**.\n",
        "\n",
        "\n",
        "\n",
        "\n",
        "\n",
        "\n",
        "\n",
        "\n",
        "\n",
        "\n",
        "\n",
        "\n"
      ]
    },
    {
      "cell_type": "markdown",
      "metadata": {
        "id": "oH7PRBQyBzwJ",
        "colab_type": "text"
      },
      "source": [
        "## Choose the Features"
      ]
    },
    {
      "cell_type": "markdown",
      "metadata": {
        "id": "ZipMFYxDvGrq",
        "colab_type": "text"
      },
      "source": [
        "We are able to analysis the genral information and store the data result we need.\n",
        "\n",
        "1. go through the genre list we are going to analysis **'blues', 'metal', 'hiphop', 'reggae'**\n",
        "2. store the file path and the genre tag\n",
        "3. extract and calculate other features we need, as **MFCC**, **Chroma_stft**, **centroid, zero crossing rate, tempo, rms**.\n",
        "4. store result in a pandas.DataFrame structure \n",
        "5. also create a .csv file named **source_data.csv** under **'./source_data.csv'**"
      ]
    },
    {
      "cell_type": "markdown",
      "metadata": {
        "id": "GOCemXLfRsV9",
        "colab_type": "text"
      },
      "source": [
        "Different genre has different **mfcc** pattern\n",
        "we can check the mfcc value on time series"
      ]
    },
    {
      "cell_type": "markdown",
      "metadata": {
        "id": "B_jAvDi4cCJA",
        "colab_type": "text"
      },
      "source": [
        "### MFCC\n",
        "pick different audio draw mfcc pattern and compare the different"
      ]
    },
    {
      "cell_type": "markdown",
      "metadata": {
        "id": "LvQmn2rXciH_",
        "colab_type": "text"
      },
      "source": [
        "**Define functions** to use"
      ]
    },
    {
      "cell_type": "code",
      "metadata": {
        "id": "ATEzlXw9-7LH",
        "colab_type": "code",
        "colab": {}
      },
      "source": [
        "def get_mfcc(audio_path):\n",
        "    y, sr = librosa.load(str(audio_path), offset=0, duration=1)\n",
        "    x = librosa.feature.mfcc(y=y,sr=sr, n_mfcc=13)\n",
        "    return x\n",
        "\n",
        "def plot_mfcc(mfcc):\n",
        "    figure = plt.figure(figsize=(16, 6))\n",
        "    plt.subplot(1,2,1)\n",
        "    plt.imshow(mfcc, origin='lower', aspect='auto')\n",
        "    plt.xlabel('Frame')\n",
        "    plt.ylabel('MFCC coefficients 0 to 13')\n",
        "    plt.colorbar()\n",
        "    plt.show()\n",
        "\n",
        "def plot_mfcc_genre_compare(gn1,gn2):#0b1m2h3r\n",
        "    ''' genre_name1, genre_name2 = string \n",
        "    from genre ana list {'blues','metal','hiphop','reggae'}\n",
        "    '''\n",
        "    g1 = genre_analysis_list.index(gn1)\n",
        "    g2 = genre_analysis_list.index(gn2)\n",
        "    path_1 = genre_data['Path'][np.random.randint(0,100)+100*g1]\n",
        "    path_2 = genre_data['Path'][np.random.randint(0,100)+100*g2]\n",
        "    # subplot\n",
        "    # g1\n",
        "    figure = plt.figure(figsize=(16, 6))\n",
        "    plt.subplot(1,2,1)\n",
        "    mfcc1 = get_mfcc(path_1)\n",
        "    plt.imshow(mfcc1, aspect='auto')\n",
        "    plt.xlabel('Frame in time series')\n",
        "    plt.ylabel('MFCC cooeffients')\n",
        "    plt.title('MFCC coefficients for: {}'.format(gn1))\n",
        "    plt.colorbar()\n",
        "    plt.tight_layout()\n",
        "\n",
        "    # g2\n",
        "    plt.subplot(1,2,2)\n",
        "    mfcc2 = get_mfcc(path_2)\n",
        "    plt.imshow(mfcc2, aspect='auto')\n",
        "    plt.xlabel('Frame in time series')\n",
        "    plt.ylabel('MFCC coefficients')\n",
        "    plt.title('MFCC coefficientsfor: {}'.format(gn2))\n",
        "    plt.colorbar()\n",
        "    plt.show()\n",
        "    plt.tight_layout()\n"
      ],
      "execution_count": 0,
      "outputs": []
    },
    {
      "cell_type": "markdown",
      "metadata": {
        "id": "4VcYGz6MO1EF",
        "colab_type": "text"
      },
      "source": [
        "Plot MFCC test with several random samples"
      ]
    },
    {
      "cell_type": "code",
      "metadata": {
        "id": "Gv30_XhDO1bD",
        "colab_type": "code",
        "colab": {
          "base_uri": "https://localhost:8080/",
          "height": 703
        },
        "outputId": "1396e71b-66ad-4973-9b6e-ba3270738e91"
      },
      "source": [
        "plot_mfcc_genre_compare('blues','metal')\n",
        "plot_mfcc_genre_compare('hiphop','reggae')"
      ],
      "execution_count": 23,
      "outputs": [
        {
          "output_type": "display_data",
          "data": {
            "image/png": "[encoded data removed]",
            "text/plain": [
              "<Figure size 1152x432 with 4 Axes>"
            ]
          },
          "metadata": {
            "tags": [],
            "needs_background": "light"
          }
        },
        {
          "output_type": "display_data",
          "data": {
            "text/plain": [
              "<Figure size 432x288 with 0 Axes>"
            ]
          },
          "metadata": {
            "tags": []
          }
        },
        {
          "output_type": "display_data",
          "data": {
            "image/png": "[encoded data removed]",
            "text/plain": [
              "<Figure size 1152x432 with 4 Axes>"
            ]
          },
          "metadata": {
            "tags": [],
            "needs_background": "light"
          }
        },
        {
          "output_type": "display_data",
          "data": {
            "text/plain": [
              "<Figure size 432x288 with 0 Axes>"
            ]
          },
          "metadata": {
            "tags": []
          }
        }
      ]
    },
    {
      "cell_type": "markdown",
      "metadata": {
        "id": "CnP91dbLSQm9",
        "colab_type": "text"
      },
      "source": [
        "Also check the distribution of chroma **on time axis** in  each genre\n",
        "\n",
        "### **Chroma_stft** (updated)"
      ]
    },
    {
      "cell_type": "code",
      "metadata": {
        "id": "lGlzMti1mYTQ",
        "colab_type": "code",
        "outputId": "c194d734-4a1e-49f4-cf13-c0ffe32c864f",
        "colab": {
          "base_uri": "https://localhost:8080/",
          "height": 49,
          "referenced_widgets": [
            "c1a87d379ead45d5996893e8b6fb8ad7",
            "e2ff3c523c774140a3c0172c2ff73c77",
            "0be95c22790e4a9c9f689a71c386cfbe",
            "28b30950b85144fd9e524cb774f2a918",
            "9b8db861efc0445cbac12ff772afdaf7",
            "2c700dfdb7ac4aaba5182ec333d0ba22",
            "6820fd23a5ce42a6b5a4356851de1ac6",
            "20c3a5bcdd4346a0abf919fcbca4080a"
          ]
        }
      },
      "source": [
        "# new plot\n",
        "# get chroma in time series\n",
        "show_chroma_dict = {'blues':[],'metal':[],'hiphop':[],'reggae':[]}\n",
        "for each in genre_analysis_list:\n",
        "    show_chroma_dict[each] = pd.DataFrame(np.zeros((12,108)))\n",
        "for each, each_class in zip(genre_data['Path'],tqdm(genre_data['Genre'])):\n",
        "    hop_length = 1024\n",
        "    y, sr = librosa.load(each, offset=0, duration=5)\n",
        "    each_sample = librosa.feature.chroma_stft(y=y, sr=sr,hop_length= hop_length)\n",
        "    # change 4/24\n",
        "    show_chroma_dict[each_class] += each_sample\n",
        "for each in genre_analysis_list:\n",
        "    show_chroma_dict[each] /= 100.00"
      ],
      "execution_count": 24,
      "outputs": [
        {
          "output_type": "display_data",
          "data": {
            "application/vnd.jupyter.widget-view+json": {
              "model_id": "c1a87d379ead45d5996893e8b6fb8ad7",
              "version_minor": 0,
              "version_major": 2
            },
            "text/plain": [
              "HBox(children=(FloatProgress(value=0.0, max=400.0), HTML(value='')))"
            ]
          },
          "metadata": {
            "tags": []
          }
        }
      ]
    },
    {
      "cell_type": "code",
      "metadata": {
        "id": "EvYro-aOnc4P",
        "colab_type": "code",
        "outputId": "c9bfe84d-2fb3-4766-8e0a-04811e395206",
        "colab": {
          "base_uri": "https://localhost:8080/",
          "height": 1000
        }
      },
      "source": [
        "show_chroma_dict"
      ],
      "execution_count": 25,
      "outputs": [
        {
          "output_type": "execute_result",
          "data": {
            "text/plain": [
              "{'blues':          0         1         2    ...       105       106       107\n",
              " 0   0.371506  0.367299  0.356962  ...  0.312887  0.280662  0.299450\n",
              " 1   0.356839  0.348583  0.338328  ...  0.295931  0.290436  0.285675\n",
              " 2   0.361248  0.353822  0.308794  ...  0.281588  0.325756  0.322046\n",
              " 3   0.377833  0.304207  0.271913  ...  0.277642  0.304493  0.294053\n",
              " 4   0.403950  0.333285  0.333238  ...  0.329485  0.370983  0.359286\n",
              " 5   0.393489  0.374635  0.368296  ...  0.354875  0.365418  0.355903\n",
              " 6   0.320618  0.323134  0.294987  ...  0.280005  0.296363  0.297931\n",
              " 7   0.351919  0.332332  0.306453  ...  0.276867  0.319871  0.325418\n",
              " 8   0.322796  0.279952  0.289132  ...  0.255199  0.294669  0.314025\n",
              " 9   0.380551  0.335520  0.314634  ...  0.320189  0.350425  0.391934\n",
              " 10  0.447128  0.367975  0.331460  ...  0.335378  0.346622  0.369194\n",
              " 11  0.419405  0.338581  0.330038  ...  0.284425  0.296787  0.348662\n",
              " \n",
              " [12 rows x 108 columns],\n",
              " 'hiphop':          0         1         2    ...       105       106       107\n",
              " 0   0.393432  0.476192  0.435359  ...  0.469141  0.432779  0.468480\n",
              " 1   0.373628  0.442626  0.454667  ...  0.467203  0.464929  0.482979\n",
              " 2   0.450040  0.454175  0.468732  ...  0.465151  0.487617  0.472598\n",
              " 3   0.457086  0.475149  0.491978  ...  0.455315  0.463357  0.472233\n",
              " 4   0.473612  0.474074  0.491854  ...  0.461233  0.440653  0.494031\n",
              " 5   0.448682  0.453397  0.458031  ...  0.471927  0.427280  0.479286\n",
              " 6   0.400340  0.410674  0.434195  ...  0.450269  0.431530  0.474247\n",
              " 7   0.402182  0.394415  0.432314  ...  0.445299  0.459083  0.488625\n",
              " 8   0.421265  0.421819  0.442723  ...  0.426952  0.484119  0.487799\n",
              " 9   0.441517  0.460569  0.460476  ...  0.416530  0.476700  0.491550\n",
              " 10  0.423434  0.456822  0.445622  ...  0.428105  0.415311  0.464637\n",
              " 11  0.419393  0.447392  0.436221  ...  0.457391  0.407577  0.447886\n",
              " \n",
              " [12 rows x 108 columns],\n",
              " 'metal':          0         1         2    ...       105       106       107\n",
              " 0   0.485516  0.435047  0.432665  ...  0.453492  0.433487  0.417367\n",
              " 1   0.468728  0.457930  0.467410  ...  0.491738  0.465753  0.445420\n",
              " 2   0.473154  0.480525  0.504771  ...  0.510798  0.468189  0.457271\n",
              " 3   0.511887  0.455851  0.465781  ...  0.534894  0.518156  0.493848\n",
              " 4   0.564553  0.512094  0.517745  ...  0.556863  0.559937  0.521251\n",
              " 5   0.471117  0.456213  0.455764  ...  0.488734  0.493928  0.481932\n",
              " 6   0.445021  0.416434  0.433809  ...  0.439448  0.451391  0.441198\n",
              " 7   0.449366  0.439097  0.438371  ...  0.447443  0.476046  0.483675\n",
              " 8   0.457824  0.458298  0.434934  ...  0.502692  0.510731  0.501242\n",
              " 9   0.475996  0.469299  0.419436  ...  0.487604  0.482442  0.440553\n",
              " 10  0.443434  0.454114  0.411984  ...  0.448441  0.443041  0.419557\n",
              " 11  0.469037  0.464943  0.485677  ...  0.491094  0.474520  0.452332\n",
              " \n",
              " [12 rows x 108 columns],\n",
              " 'reggae':          0         1         2    ...       105       106       107\n",
              " 0   0.465153  0.420011  0.410929  ...  0.401551  0.406247  0.412002\n",
              " 1   0.452810  0.412496  0.394966  ...  0.430403  0.419404  0.416577\n",
              " 2   0.416432  0.419646  0.391000  ...  0.471703  0.460456  0.455046\n",
              " 3   0.426484  0.428506  0.369485  ...  0.441510  0.426970  0.447343\n",
              " 4   0.457533  0.434439  0.374367  ...  0.406437  0.413250  0.437399\n",
              " 5   0.455236  0.407906  0.379778  ...  0.404923  0.411297  0.387310\n",
              " 6   0.438380  0.396606  0.385252  ...  0.400359  0.396849  0.367978\n",
              " 7   0.431395  0.421894  0.411906  ...  0.431160  0.368184  0.364482\n",
              " 8   0.407857  0.401904  0.370086  ...  0.385052  0.352111  0.362173\n",
              " 9   0.417051  0.389587  0.358435  ...  0.416109  0.369241  0.379980\n",
              " 10  0.456730  0.371824  0.386701  ...  0.374026  0.350017  0.376345\n",
              " 11  0.471538  0.406081  0.432967  ...  0.389042  0.386916  0.429313\n",
              " \n",
              " [12 rows x 108 columns]}"
            ]
          },
          "metadata": {
            "tags": []
          },
          "execution_count": 25
        }
      ]
    },
    {
      "cell_type": "code",
      "metadata": {
        "id": "0q2BY2JuSP_N",
        "colab_type": "code",
        "outputId": "050d4c9d-128f-4821-8edf-61669dc756a1",
        "colab": {
          "base_uri": "https://localhost:8080/",
          "height": 849
        }
      },
      "source": [
        "# new plot\n",
        "for each in genre_analysis_list:\n",
        "    figure = plt.figure(figsize=(6, 3))\n",
        "    plt.imshow(show_chroma_dict[each],cmap='Blues', aspect='auto' )\n",
        "    plt.xlabel('Frame(Time series)')\n",
        "    plt.ylabel('Chroma Distribution')\n",
        "    plt.title('Chroma stft for: Genre {}'.format(each))\n",
        "    plt.colorbar()\n",
        "    plt.tight_layout()"
      ],
      "execution_count": 26,
      "outputs": [
        {
          "output_type": "display_data",
          "data": {
            "image/png": "[encoded data removed]",
            "text/plain": [
              "<Figure size 432x216 with 2 Axes>"
            ]
          },
          "metadata": {
            "tags": [],
            "needs_background": "light"
          }
        },
        {
          "output_type": "display_data",
          "data": {
            "image/png": "[encoded data removed]",
            "text/plain": [
              "<Figure size 432x216 with 2 Axes>"
            ]
          },
          "metadata": {
            "tags": [],
            "needs_background": "light"
          }
        },
        {
          "output_type": "display_data",
          "data": {
            "image/png": "[encoded data removed]",
            "text/plain": [
              "<Figure size 432x216 with 2 Axes>"
            ]
          },
          "metadata": {
            "tags": [],
            "needs_background": "light"
          }
        },
        {
          "output_type": "display_data",
          "data": {
            "image/png": "[encoded data removed]",
            "text/plain": [
              "<Figure size 432x216 with 2 Axes>"
            ]
          },
          "metadata": {
            "tags": [],
            "needs_background": "light"
          }
        }
      ]
    },
    {
      "cell_type": "markdown",
      "metadata": {
        "id": "a1NyEsAqOjiG",
        "colab_type": "text"
      },
      "source": [
        "### Spectral Flatness"
      ]
    },
    {
      "cell_type": "markdown",
      "metadata": {
        "id": "dVyrbmMlbniC",
        "colab_type": "text"
      },
      "source": [
        "get time series of spectral flatness"
      ]
    },
    {
      "cell_type": "code",
      "metadata": {
        "id": "Tid0bDoy5hzb",
        "colab_type": "code",
        "outputId": "2cb91fcf-593b-42a0-8689-e374d5072057",
        "colab": {
          "base_uri": "https://localhost:8080/",
          "height": 285,
          "referenced_widgets": [
            "e060a653e79b417bbc1ea32f6bb6bcde",
            "f416da1140c54e62a52f8c0b554c9941",
            "96db757a3d434b5889c36bb5cd36ccbf",
            "e0c89962ed464fac8cecc7d0da45692e",
            "5c71018bfb0f4f1e9223740ab8dcf4c7",
            "c1aee74a027f4076bdd28e06c540fbdd",
            "afa1409f6a12463dae6e39ee227a83ba",
            "d658f631306341db9963b6c983a807cd"
          ]
        }
      },
      "source": [
        "sample = np.zeros((400,216))\n",
        "for each,i in zip(genre_data['Path'],tqdm(range(0,400))):\n",
        "    # read each file\n",
        "    y, sr = librosa.load(each, offset=0, duration=5)\n",
        "    each_sample = librosa.feature.spectral_flatness(y=y)[0] \n",
        "    # first line: flat\n",
        "    sample[i] = each_sample\n",
        "pd_flat = pd.DataFrame(sample)\n",
        "pd_flat['Genre'] = genre_data['Genre']\n",
        "show_flat = pd_flat.groupby(['Genre']).mean()\n",
        "# show data frame\n",
        "show_flat"
      ],
      "execution_count": 27,
      "outputs": [
        {
          "output_type": "display_data",
          "data": {
            "application/vnd.jupyter.widget-view+json": {
              "model_id": "e060a653e79b417bbc1ea32f6bb6bcde",
              "version_minor": 0,
              "version_major": 2
            },
            "text/plain": [
              "HBox(children=(FloatProgress(value=0.0, max=400.0), HTML(value='')))"
            ]
          },
          "metadata": {
            "tags": []
          }
        },
        {
          "output_type": "execute_result",
          "data": {
            "text/html": [
              "<div>\n",
              "<style scoped>\n",
              "    .dataframe tbody tr th:only-of-type {\n",
              "        vertical-align: middle;\n",
              "    }\n",
              "\n",
              "    .dataframe tbody tr th {\n",
              "        vertical-align: top;\n",
              "    }\n",
              "\n",
              "    .dataframe thead th {\n",
              "        text-align: right;\n",
              "    }\n",
              "</style>\n",
              "<table border=\"1\" class=\"dataframe\">\n",
              "  <thead>\n",
              "    <tr style=\"text-align: right;\">\n",
              "      <th></th>\n",
              "      <th>0</th>\n",
              "      <th>1</th>\n",
              "      <th>2</th>\n",
              "      <th>3</th>\n",
              "      <th>4</th>\n",
              "      <th>5</th>\n",
              "      <th>6</th>\n",
              "      <th>7</th>\n",
              "      <th>8</th>\n",
              "      <th>9</th>\n",
              "      <th>10</th>\n",
              "      <th>11</th>\n",
              "      <th>12</th>\n",
              "      <th>13</th>\n",
              "      <th>14</th>\n",
              "      <th>15</th>\n",
              "      <th>16</th>\n",
              "      <th>17</th>\n",
              "      <th>18</th>\n",
              "      <th>19</th>\n",
              "      <th>20</th>\n",
              "      <th>21</th>\n",
              "      <th>22</th>\n",
              "      <th>23</th>\n",
              "      <th>24</th>\n",
              "      <th>25</th>\n",
              "      <th>26</th>\n",
              "      <th>27</th>\n",
              "      <th>28</th>\n",
              "      <th>29</th>\n",
              "      <th>30</th>\n",
              "      <th>31</th>\n",
              "      <th>32</th>\n",
              "      <th>33</th>\n",
              "      <th>34</th>\n",
              "      <th>35</th>\n",
              "      <th>36</th>\n",
              "      <th>37</th>\n",
              "      <th>38</th>\n",
              "      <th>39</th>\n",
              "      <th>...</th>\n",
              "      <th>176</th>\n",
              "      <th>177</th>\n",
              "      <th>178</th>\n",
              "      <th>179</th>\n",
              "      <th>180</th>\n",
              "      <th>181</th>\n",
              "      <th>182</th>\n",
              "      <th>183</th>\n",
              "      <th>184</th>\n",
              "      <th>185</th>\n",
              "      <th>186</th>\n",
              "      <th>187</th>\n",
              "      <th>188</th>\n",
              "      <th>189</th>\n",
              "      <th>190</th>\n",
              "      <th>191</th>\n",
              "      <th>192</th>\n",
              "      <th>193</th>\n",
              "      <th>194</th>\n",
              "      <th>195</th>\n",
              "      <th>196</th>\n",
              "      <th>197</th>\n",
              "      <th>198</th>\n",
              "      <th>199</th>\n",
              "      <th>200</th>\n",
              "      <th>201</th>\n",
              "      <th>202</th>\n",
              "      <th>203</th>\n",
              "      <th>204</th>\n",
              "      <th>205</th>\n",
              "      <th>206</th>\n",
              "      <th>207</th>\n",
              "      <th>208</th>\n",
              "      <th>209</th>\n",
              "      <th>210</th>\n",
              "      <th>211</th>\n",
              "      <th>212</th>\n",
              "      <th>213</th>\n",
              "      <th>214</th>\n",
              "      <th>215</th>\n",
              "    </tr>\n",
              "    <tr>\n",
              "      <th>Genre</th>\n",
              "      <th></th>\n",
              "      <th></th>\n",
              "      <th></th>\n",
              "      <th></th>\n",
              "      <th></th>\n",
              "      <th></th>\n",
              "      <th></th>\n",
              "      <th></th>\n",
              "      <th></th>\n",
              "      <th></th>\n",
              "      <th></th>\n",
              "      <th></th>\n",
              "      <th></th>\n",
              "      <th></th>\n",
              "      <th></th>\n",
              "      <th></th>\n",
              "      <th></th>\n",
              "      <th></th>\n",
              "      <th></th>\n",
              "      <th></th>\n",
              "      <th></th>\n",
              "      <th></th>\n",
              "      <th></th>\n",
              "      <th></th>\n",
              "      <th></th>\n",
              "      <th></th>\n",
              "      <th></th>\n",
              "      <th></th>\n",
              "      <th></th>\n",
              "      <th></th>\n",
              "      <th></th>\n",
              "      <th></th>\n",
              "      <th></th>\n",
              "      <th></th>\n",
              "      <th></th>\n",
              "      <th></th>\n",
              "      <th></th>\n",
              "      <th></th>\n",
              "      <th></th>\n",
              "      <th></th>\n",
              "      <th></th>\n",
              "      <th></th>\n",
              "      <th></th>\n",
              "      <th></th>\n",
              "      <th></th>\n",
              "      <th></th>\n",
              "      <th></th>\n",
              "      <th></th>\n",
              "      <th></th>\n",
              "      <th></th>\n",
              "      <th></th>\n",
              "      <th></th>\n",
              "      <th></th>\n",
              "      <th></th>\n",
              "      <th></th>\n",
              "      <th></th>\n",
              "      <th></th>\n",
              "      <th></th>\n",
              "      <th></th>\n",
              "      <th></th>\n",
              "      <th></th>\n",
              "      <th></th>\n",
              "      <th></th>\n",
              "      <th></th>\n",
              "      <th></th>\n",
              "      <th></th>\n",
              "      <th></th>\n",
              "      <th></th>\n",
              "      <th></th>\n",
              "      <th></th>\n",
              "      <th></th>\n",
              "      <th></th>\n",
              "      <th></th>\n",
              "      <th></th>\n",
              "      <th></th>\n",
              "      <th></th>\n",
              "      <th></th>\n",
              "      <th></th>\n",
              "      <th></th>\n",
              "      <th></th>\n",
              "      <th></th>\n",
              "    </tr>\n",
              "  </thead>\n",
              "  <tbody>\n",
              "    <tr>\n",
              "      <th>blues</th>\n",
              "      <td>0.005861</td>\n",
              "      <td>0.007009</td>\n",
              "      <td>0.002559</td>\n",
              "      <td>0.002272</td>\n",
              "      <td>0.002763</td>\n",
              "      <td>0.002980</td>\n",
              "      <td>0.002946</td>\n",
              "      <td>0.003073</td>\n",
              "      <td>0.003155</td>\n",
              "      <td>0.003164</td>\n",
              "      <td>0.003350</td>\n",
              "      <td>0.003586</td>\n",
              "      <td>0.003540</td>\n",
              "      <td>0.003317</td>\n",
              "      <td>0.003422</td>\n",
              "      <td>0.003816</td>\n",
              "      <td>0.002973</td>\n",
              "      <td>0.003121</td>\n",
              "      <td>0.003734</td>\n",
              "      <td>0.004268</td>\n",
              "      <td>0.003999</td>\n",
              "      <td>0.004368</td>\n",
              "      <td>0.005189</td>\n",
              "      <td>0.004626</td>\n",
              "      <td>0.004213</td>\n",
              "      <td>0.003375</td>\n",
              "      <td>0.003069</td>\n",
              "      <td>0.003515</td>\n",
              "      <td>0.003583</td>\n",
              "      <td>0.003544</td>\n",
              "      <td>0.003372</td>\n",
              "      <td>0.003750</td>\n",
              "      <td>0.004443</td>\n",
              "      <td>0.003869</td>\n",
              "      <td>0.003427</td>\n",
              "      <td>0.003296</td>\n",
              "      <td>0.003250</td>\n",
              "      <td>0.003201</td>\n",
              "      <td>0.003598</td>\n",
              "      <td>0.003874</td>\n",
              "      <td>...</td>\n",
              "      <td>0.003129</td>\n",
              "      <td>0.003445</td>\n",
              "      <td>0.003961</td>\n",
              "      <td>0.003816</td>\n",
              "      <td>0.003684</td>\n",
              "      <td>0.003760</td>\n",
              "      <td>0.003664</td>\n",
              "      <td>0.003056</td>\n",
              "      <td>0.002762</td>\n",
              "      <td>0.003249</td>\n",
              "      <td>0.003983</td>\n",
              "      <td>0.004490</td>\n",
              "      <td>0.003800</td>\n",
              "      <td>0.003285</td>\n",
              "      <td>0.003182</td>\n",
              "      <td>0.003065</td>\n",
              "      <td>0.002982</td>\n",
              "      <td>0.003117</td>\n",
              "      <td>0.003143</td>\n",
              "      <td>0.003038</td>\n",
              "      <td>0.003121</td>\n",
              "      <td>0.003875</td>\n",
              "      <td>0.003482</td>\n",
              "      <td>0.003406</td>\n",
              "      <td>0.003600</td>\n",
              "      <td>0.003786</td>\n",
              "      <td>0.003946</td>\n",
              "      <td>0.003907</td>\n",
              "      <td>0.003674</td>\n",
              "      <td>0.003634</td>\n",
              "      <td>0.003607</td>\n",
              "      <td>0.003863</td>\n",
              "      <td>0.003829</td>\n",
              "      <td>0.003356</td>\n",
              "      <td>0.002859</td>\n",
              "      <td>0.002448</td>\n",
              "      <td>0.002314</td>\n",
              "      <td>0.002704</td>\n",
              "      <td>0.004677</td>\n",
              "      <td>0.005888</td>\n",
              "    </tr>\n",
              "    <tr>\n",
              "      <th>hiphop</th>\n",
              "      <td>0.117201</td>\n",
              "      <td>0.120168</td>\n",
              "      <td>0.069183</td>\n",
              "      <td>0.038065</td>\n",
              "      <td>0.035945</td>\n",
              "      <td>0.029767</td>\n",
              "      <td>0.029598</td>\n",
              "      <td>0.034797</td>\n",
              "      <td>0.040853</td>\n",
              "      <td>0.045784</td>\n",
              "      <td>0.049302</td>\n",
              "      <td>0.047756</td>\n",
              "      <td>0.042556</td>\n",
              "      <td>0.044221</td>\n",
              "      <td>0.045426</td>\n",
              "      <td>0.043709</td>\n",
              "      <td>0.043664</td>\n",
              "      <td>0.044287</td>\n",
              "      <td>0.044255</td>\n",
              "      <td>0.043918</td>\n",
              "      <td>0.035335</td>\n",
              "      <td>0.037618</td>\n",
              "      <td>0.036396</td>\n",
              "      <td>0.032231</td>\n",
              "      <td>0.029268</td>\n",
              "      <td>0.031739</td>\n",
              "      <td>0.037515</td>\n",
              "      <td>0.044859</td>\n",
              "      <td>0.048819</td>\n",
              "      <td>0.053382</td>\n",
              "      <td>0.055816</td>\n",
              "      <td>0.049556</td>\n",
              "      <td>0.047654</td>\n",
              "      <td>0.048040</td>\n",
              "      <td>0.048482</td>\n",
              "      <td>0.048739</td>\n",
              "      <td>0.047684</td>\n",
              "      <td>0.046614</td>\n",
              "      <td>0.044835</td>\n",
              "      <td>0.045542</td>\n",
              "      <td>...</td>\n",
              "      <td>0.026289</td>\n",
              "      <td>0.030294</td>\n",
              "      <td>0.035505</td>\n",
              "      <td>0.037066</td>\n",
              "      <td>0.033822</td>\n",
              "      <td>0.031885</td>\n",
              "      <td>0.029592</td>\n",
              "      <td>0.028207</td>\n",
              "      <td>0.031740</td>\n",
              "      <td>0.032298</td>\n",
              "      <td>0.031764</td>\n",
              "      <td>0.031765</td>\n",
              "      <td>0.031290</td>\n",
              "      <td>0.025581</td>\n",
              "      <td>0.022650</td>\n",
              "      <td>0.029745</td>\n",
              "      <td>0.029879</td>\n",
              "      <td>0.029780</td>\n",
              "      <td>0.030299</td>\n",
              "      <td>0.030693</td>\n",
              "      <td>0.029638</td>\n",
              "      <td>0.027102</td>\n",
              "      <td>0.029555</td>\n",
              "      <td>0.034631</td>\n",
              "      <td>0.035832</td>\n",
              "      <td>0.032621</td>\n",
              "      <td>0.030896</td>\n",
              "      <td>0.028711</td>\n",
              "      <td>0.028512</td>\n",
              "      <td>0.022941</td>\n",
              "      <td>0.019098</td>\n",
              "      <td>0.020828</td>\n",
              "      <td>0.022326</td>\n",
              "      <td>0.023844</td>\n",
              "      <td>0.028291</td>\n",
              "      <td>0.034899</td>\n",
              "      <td>0.039081</td>\n",
              "      <td>0.039879</td>\n",
              "      <td>0.039261</td>\n",
              "      <td>0.036309</td>\n",
              "    </tr>\n",
              "    <tr>\n",
              "      <th>metal</th>\n",
              "      <td>0.019628</td>\n",
              "      <td>0.028162</td>\n",
              "      <td>0.018124</td>\n",
              "      <td>0.017505</td>\n",
              "      <td>0.017826</td>\n",
              "      <td>0.019309</td>\n",
              "      <td>0.018591</td>\n",
              "      <td>0.017554</td>\n",
              "      <td>0.017123</td>\n",
              "      <td>0.017377</td>\n",
              "      <td>0.018126</td>\n",
              "      <td>0.018138</td>\n",
              "      <td>0.016521</td>\n",
              "      <td>0.016856</td>\n",
              "      <td>0.019471</td>\n",
              "      <td>0.018924</td>\n",
              "      <td>0.018657</td>\n",
              "      <td>0.018658</td>\n",
              "      <td>0.017787</td>\n",
              "      <td>0.017310</td>\n",
              "      <td>0.017420</td>\n",
              "      <td>0.016001</td>\n",
              "      <td>0.014741</td>\n",
              "      <td>0.015159</td>\n",
              "      <td>0.015379</td>\n",
              "      <td>0.015606</td>\n",
              "      <td>0.017149</td>\n",
              "      <td>0.016930</td>\n",
              "      <td>0.018522</td>\n",
              "      <td>0.017894</td>\n",
              "      <td>0.018135</td>\n",
              "      <td>0.016827</td>\n",
              "      <td>0.018032</td>\n",
              "      <td>0.018938</td>\n",
              "      <td>0.019401</td>\n",
              "      <td>0.018490</td>\n",
              "      <td>0.017028</td>\n",
              "      <td>0.016254</td>\n",
              "      <td>0.016780</td>\n",
              "      <td>0.018452</td>\n",
              "      <td>...</td>\n",
              "      <td>0.015563</td>\n",
              "      <td>0.016222</td>\n",
              "      <td>0.016780</td>\n",
              "      <td>0.019870</td>\n",
              "      <td>0.021468</td>\n",
              "      <td>0.022320</td>\n",
              "      <td>0.019676</td>\n",
              "      <td>0.015887</td>\n",
              "      <td>0.014144</td>\n",
              "      <td>0.013170</td>\n",
              "      <td>0.013340</td>\n",
              "      <td>0.013575</td>\n",
              "      <td>0.013867</td>\n",
              "      <td>0.013914</td>\n",
              "      <td>0.014070</td>\n",
              "      <td>0.013776</td>\n",
              "      <td>0.014464</td>\n",
              "      <td>0.014803</td>\n",
              "      <td>0.015209</td>\n",
              "      <td>0.015033</td>\n",
              "      <td>0.015008</td>\n",
              "      <td>0.018282</td>\n",
              "      <td>0.021714</td>\n",
              "      <td>0.021366</td>\n",
              "      <td>0.017254</td>\n",
              "      <td>0.015596</td>\n",
              "      <td>0.015771</td>\n",
              "      <td>0.017297</td>\n",
              "      <td>0.019104</td>\n",
              "      <td>0.016472</td>\n",
              "      <td>0.014386</td>\n",
              "      <td>0.015406</td>\n",
              "      <td>0.016445</td>\n",
              "      <td>0.018099</td>\n",
              "      <td>0.018433</td>\n",
              "      <td>0.017757</td>\n",
              "      <td>0.016253</td>\n",
              "      <td>0.014507</td>\n",
              "      <td>0.022024</td>\n",
              "      <td>0.025279</td>\n",
              "    </tr>\n",
              "    <tr>\n",
              "      <th>reggae</th>\n",
              "      <td>0.011975</td>\n",
              "      <td>0.019704</td>\n",
              "      <td>0.016165</td>\n",
              "      <td>0.016494</td>\n",
              "      <td>0.015377</td>\n",
              "      <td>0.013849</td>\n",
              "      <td>0.013418</td>\n",
              "      <td>0.017718</td>\n",
              "      <td>0.018320</td>\n",
              "      <td>0.021303</td>\n",
              "      <td>0.025650</td>\n",
              "      <td>0.026756</td>\n",
              "      <td>0.028626</td>\n",
              "      <td>0.026918</td>\n",
              "      <td>0.024275</td>\n",
              "      <td>0.022605</td>\n",
              "      <td>0.022704</td>\n",
              "      <td>0.018960</td>\n",
              "      <td>0.018169</td>\n",
              "      <td>0.016867</td>\n",
              "      <td>0.013577</td>\n",
              "      <td>0.014703</td>\n",
              "      <td>0.020090</td>\n",
              "      <td>0.020725</td>\n",
              "      <td>0.025462</td>\n",
              "      <td>0.024599</td>\n",
              "      <td>0.022647</td>\n",
              "      <td>0.021059</td>\n",
              "      <td>0.019954</td>\n",
              "      <td>0.021522</td>\n",
              "      <td>0.019660</td>\n",
              "      <td>0.018624</td>\n",
              "      <td>0.016743</td>\n",
              "      <td>0.016725</td>\n",
              "      <td>0.021075</td>\n",
              "      <td>0.021618</td>\n",
              "      <td>0.022798</td>\n",
              "      <td>0.019860</td>\n",
              "      <td>0.019397</td>\n",
              "      <td>0.018830</td>\n",
              "      <td>...</td>\n",
              "      <td>0.018032</td>\n",
              "      <td>0.020278</td>\n",
              "      <td>0.022948</td>\n",
              "      <td>0.021153</td>\n",
              "      <td>0.024034</td>\n",
              "      <td>0.024389</td>\n",
              "      <td>0.024232</td>\n",
              "      <td>0.025955</td>\n",
              "      <td>0.026487</td>\n",
              "      <td>0.027078</td>\n",
              "      <td>0.029061</td>\n",
              "      <td>0.030325</td>\n",
              "      <td>0.023086</td>\n",
              "      <td>0.018083</td>\n",
              "      <td>0.016925</td>\n",
              "      <td>0.017552</td>\n",
              "      <td>0.021330</td>\n",
              "      <td>0.021080</td>\n",
              "      <td>0.019372</td>\n",
              "      <td>0.020858</td>\n",
              "      <td>0.020256</td>\n",
              "      <td>0.020744</td>\n",
              "      <td>0.022557</td>\n",
              "      <td>0.018499</td>\n",
              "      <td>0.017492</td>\n",
              "      <td>0.013418</td>\n",
              "      <td>0.013328</td>\n",
              "      <td>0.017969</td>\n",
              "      <td>0.023448</td>\n",
              "      <td>0.023643</td>\n",
              "      <td>0.023549</td>\n",
              "      <td>0.021163</td>\n",
              "      <td>0.017722</td>\n",
              "      <td>0.018038</td>\n",
              "      <td>0.018892</td>\n",
              "      <td>0.019739</td>\n",
              "      <td>0.019407</td>\n",
              "      <td>0.019506</td>\n",
              "      <td>0.018257</td>\n",
              "      <td>0.014916</td>\n",
              "    </tr>\n",
              "  </tbody>\n",
              "</table>\n",
              "<p>4 rows × 216 columns</p>\n",
              "</div>"
            ],
            "text/plain": [
              "             0         1         2    ...       213       214       215\n",
              "Genre                                 ...                              \n",
              "blues   0.005861  0.007009  0.002559  ...  0.002704  0.004677  0.005888\n",
              "hiphop  0.117201  0.120168  0.069183  ...  0.039879  0.039261  0.036309\n",
              "metal   0.019628  0.028162  0.018124  ...  0.014507  0.022024  0.025279\n",
              "reggae  0.011975  0.019704  0.016165  ...  0.019506  0.018257  0.014916\n",
              "\n",
              "[4 rows x 216 columns]"
            ]
          },
          "metadata": {
            "tags": []
          },
          "execution_count": 27
        }
      ]
    },
    {
      "cell_type": "code",
      "metadata": {
        "id": "PO8xU4TTRfLS",
        "colab_type": "code",
        "outputId": "37bc106b-5fe9-430a-b2e8-2afcfa984e5d",
        "colab": {
          "base_uri": "https://localhost:8080/",
          "height": 312
        }
      },
      "source": [
        "for each in show_flat.index:\n",
        "    plt.plot(show_flat.loc[each,:])\n",
        "plt.xlabel('Frame number in Time Seies')\n",
        "plt.ylabel('Spectral Flatness')\n",
        "plt.title('Spectral Flatness for different genre')\n",
        "plt.legend(show_flat.index)"
      ],
      "execution_count": 28,
      "outputs": [
        {
          "output_type": "execute_result",
          "data": {
            "text/plain": [
              "<matplotlib.legend.Legend at 0x7f68aefda8d0>"
            ]
          },
          "metadata": {
            "tags": []
          },
          "execution_count": 28
        },
        {
          "output_type": "display_data",
          "data": {
            "image/png": "[encoded data removed]",
            "text/plain": [
              "<Figure size 432x288 with 1 Axes>"
            ]
          },
          "metadata": {
            "tags": [],
            "needs_background": "light"
          }
        }
      ]
    },
    {
      "cell_type": "markdown",
      "metadata": {
        "id": "YTFpOKnIOt5x",
        "colab_type": "text"
      },
      "source": [
        "### Tempo"
      ]
    },
    {
      "cell_type": "markdown",
      "metadata": {
        "id": "qoneKBBR5CRR",
        "colab_type": "text"
      },
      "source": [
        "define all sample"
      ]
    },
    {
      "cell_type": "code",
      "metadata": {
        "id": "OtZ5VMNrOubD",
        "colab_type": "code",
        "colab": {}
      },
      "source": [
        "def get_tempo_list(audio_path_list,genre_list):\n",
        "    '''\n",
        "    function to get mean tempo for passed list\n",
        "    return pd dataframe\n",
        "    '''\n",
        "    for each,i in zip(tqdm(audio_path_list),range(400)):\n",
        "        y, sr = librosa.load(str(each))\n",
        "        onset_env = librosa.onset.onset_strength(y, sr=sr)\n",
        "        features_tempo = librosa.beat.tempo(onset_envelope=onset_env, sr=sr)\n",
        "        x[i] = round(features_tempo[0])\n",
        "    data = list(zip(list(genre_list),x))\n",
        "    pd_tempo = pd.DataFrame(data, columns= ['Genre','Tempo'])\n",
        "    return pd_tempo"
      ],
      "execution_count": 0,
      "outputs": []
    },
    {
      "cell_type": "markdown",
      "metadata": {
        "id": "YVSTu1N6W4hh",
        "colab_type": "text"
      },
      "source": [
        "**check all sample tempo**"
      ]
    },
    {
      "cell_type": "code",
      "metadata": {
        "id": "4nWRzeSgWzTz",
        "colab_type": "code",
        "outputId": "c6b30943-ec72-4657-eaee-652bd4f0c952",
        "colab": {
          "base_uri": "https://localhost:8080/",
          "height": 366,
          "referenced_widgets": [
            "bfb0fab0e58f4792a260ec50e0f9ab80",
            "4cfa2f4794024285b8073f34c72ea70a",
            "7e9cbe22ef9d43e18f473f7606f6c1c9",
            "a9794c3106e54c0185a44bc2a1b0c9e1",
            "a345c508592f470aa3d2e214e06dd599",
            "974fd59bf52844a293209b6139e767af",
            "9ecb1214ea0541edaf86fcf4df992400",
            "a4932c994a66446680bb3c88594048a1"
          ]
        }
      },
      "source": [
        "all_tempo = get_tempo_list(genre_data['Path'].values.tolist(),genre_data['Genre'].values.tolist())\n",
        "# group by each genre\n",
        "group_tempo = all_tempo.groupby(['Genre']).mean()\n"
      ],
      "execution_count": 0,
      "outputs": [
        {
          "output_type": "display_data",
          "data": {
            "application/vnd.jupyter.widget-view+json": {
              "model_id": "bfb0fab0e58f4792a260ec50e0f9ab80",
              "version_minor": 0,
              "version_major": 2
            },
            "text/plain": [
              "HBox(children=(FloatProgress(value=0.0, max=400.0), HTML(value='')))"
            ]
          },
          "metadata": {
            "tags": []
          }
        },
        {
          "output_type": "stream",
          "text": [
            "\n"
          ],
          "name": "stdout"
        },
        {
          "output_type": "error",
          "ename": "NameError",
          "evalue": "ignored",
          "traceback": [
            "\u001b[0;31m---------------------------------------------------------------------------\u001b[0m",
            "\u001b[0;31mNameError\u001b[0m                                 Traceback (most recent call last)",
            "\u001b[0;32m<ipython-input-21-6b056cad23ac>\u001b[0m in \u001b[0;36m<module>\u001b[0;34m()\u001b[0m\n\u001b[0;32m----> 1\u001b[0;31m \u001b[0mall_tempo\u001b[0m \u001b[0;34m=\u001b[0m \u001b[0mget_tempo_list\u001b[0m\u001b[0;34m(\u001b[0m\u001b[0mgenre_data\u001b[0m\u001b[0;34m[\u001b[0m\u001b[0;34m'Path'\u001b[0m\u001b[0;34m]\u001b[0m\u001b[0;34m.\u001b[0m\u001b[0mvalues\u001b[0m\u001b[0;34m,\u001b[0m\u001b[0mgenre_data\u001b[0m\u001b[0;34m[\u001b[0m\u001b[0;34m'Genre'\u001b[0m\u001b[0;34m]\u001b[0m\u001b[0;34m.\u001b[0m\u001b[0mvalues\u001b[0m\u001b[0;34m)\u001b[0m\u001b[0;34m\u001b[0m\u001b[0;34m\u001b[0m\u001b[0m\n\u001b[0m\u001b[1;32m      2\u001b[0m \u001b[0;31m# group by each genre\u001b[0m\u001b[0;34m\u001b[0m\u001b[0;34m\u001b[0m\u001b[0;34m\u001b[0m\u001b[0m\n\u001b[1;32m      3\u001b[0m \u001b[0mgroup_tempo\u001b[0m \u001b[0;34m=\u001b[0m \u001b[0mall_tempo\u001b[0m\u001b[0;34m.\u001b[0m\u001b[0mgroupby\u001b[0m\u001b[0;34m(\u001b[0m\u001b[0;34m[\u001b[0m\u001b[0;34m'Genre'\u001b[0m\u001b[0;34m]\u001b[0m\u001b[0;34m)\u001b[0m\u001b[0;34m.\u001b[0m\u001b[0mmean\u001b[0m\u001b[0;34m(\u001b[0m\u001b[0;34m)\u001b[0m\u001b[0;34m\u001b[0m\u001b[0;34m\u001b[0m\u001b[0m\n",
            "\u001b[0;32m<ipython-input-18-a4a741d73e8a>\u001b[0m in \u001b[0;36mget_tempo_list\u001b[0;34m(audio_path_list, genre_list)\u001b[0m\n\u001b[1;32m      8\u001b[0m         \u001b[0monset_env\u001b[0m \u001b[0;34m=\u001b[0m \u001b[0mlibrosa\u001b[0m\u001b[0;34m.\u001b[0m\u001b[0monset\u001b[0m\u001b[0;34m.\u001b[0m\u001b[0monset_strength\u001b[0m\u001b[0;34m(\u001b[0m\u001b[0my\u001b[0m\u001b[0;34m,\u001b[0m \u001b[0msr\u001b[0m\u001b[0;34m=\u001b[0m\u001b[0msr\u001b[0m\u001b[0;34m)\u001b[0m\u001b[0;34m\u001b[0m\u001b[0;34m\u001b[0m\u001b[0m\n\u001b[1;32m      9\u001b[0m         \u001b[0mfeatures_tempo\u001b[0m \u001b[0;34m=\u001b[0m \u001b[0mlibrosa\u001b[0m\u001b[0;34m.\u001b[0m\u001b[0mbeat\u001b[0m\u001b[0;34m.\u001b[0m\u001b[0mtempo\u001b[0m\u001b[0;34m(\u001b[0m\u001b[0monset_envelope\u001b[0m\u001b[0;34m=\u001b[0m\u001b[0monset_env\u001b[0m\u001b[0;34m,\u001b[0m \u001b[0msr\u001b[0m\u001b[0;34m=\u001b[0m\u001b[0msr\u001b[0m\u001b[0;34m)\u001b[0m\u001b[0;34m\u001b[0m\u001b[0;34m\u001b[0m\u001b[0m\n\u001b[0;32m---> 10\u001b[0;31m         \u001b[0mx\u001b[0m\u001b[0;34m[\u001b[0m\u001b[0mi\u001b[0m\u001b[0;34m]\u001b[0m \u001b[0;34m=\u001b[0m \u001b[0mround\u001b[0m\u001b[0;34m(\u001b[0m\u001b[0mfeatures_tempo\u001b[0m\u001b[0;34m[\u001b[0m\u001b[0;36m0\u001b[0m\u001b[0;34m]\u001b[0m\u001b[0;34m)\u001b[0m\u001b[0;34m\u001b[0m\u001b[0;34m\u001b[0m\u001b[0m\n\u001b[0m\u001b[1;32m     11\u001b[0m     \u001b[0mdata\u001b[0m \u001b[0;34m=\u001b[0m \u001b[0mlist\u001b[0m\u001b[0;34m(\u001b[0m\u001b[0mzip\u001b[0m\u001b[0;34m(\u001b[0m\u001b[0mlist\u001b[0m\u001b[0;34m(\u001b[0m\u001b[0mgenre_list\u001b[0m\u001b[0;34m)\u001b[0m\u001b[0;34m,\u001b[0m\u001b[0mx\u001b[0m\u001b[0;34m)\u001b[0m\u001b[0;34m)\u001b[0m\u001b[0;34m\u001b[0m\u001b[0;34m\u001b[0m\u001b[0m\n\u001b[1;32m     12\u001b[0m     \u001b[0mpd_tempo\u001b[0m \u001b[0;34m=\u001b[0m \u001b[0mpd\u001b[0m\u001b[0;34m.\u001b[0m\u001b[0mDataFrame\u001b[0m\u001b[0;34m(\u001b[0m\u001b[0mdata\u001b[0m\u001b[0;34m,\u001b[0m \u001b[0mcolumns\u001b[0m\u001b[0;34m=\u001b[0m \u001b[0;34m[\u001b[0m\u001b[0;34m'Genre'\u001b[0m\u001b[0;34m,\u001b[0m\u001b[0;34m'Tempo'\u001b[0m\u001b[0;34m]\u001b[0m\u001b[0;34m)\u001b[0m\u001b[0;34m\u001b[0m\u001b[0;34m\u001b[0m\u001b[0m\n",
            "\u001b[0;31mNameError\u001b[0m: name 'x' is not defined"
          ]
        }
      ]
    },
    {
      "cell_type": "code",
      "metadata": {
        "id": "EATO0it8FC0p",
        "colab_type": "code",
        "outputId": "82b720b8-18eb-44cd-9f4a-287ceb6fb286",
        "colab": {
          "base_uri": "https://localhost:8080/",
          "height": 164
        }
      },
      "source": [
        "group_tempo.T\n"
      ],
      "execution_count": 0,
      "outputs": [
        {
          "output_type": "error",
          "ename": "NameError",
          "evalue": "ignored",
          "traceback": [
            "\u001b[0;31m---------------------------------------------------------------------------\u001b[0m",
            "\u001b[0;31mNameError\u001b[0m                                 Traceback (most recent call last)",
            "\u001b[0;32m<ipython-input-20-1d613c9fcd71>\u001b[0m in \u001b[0;36m<module>\u001b[0;34m()\u001b[0m\n\u001b[0;32m----> 1\u001b[0;31m \u001b[0mgroup_tempo\u001b[0m\u001b[0;34m.\u001b[0m\u001b[0mT\u001b[0m\u001b[0;34m\u001b[0m\u001b[0;34m\u001b[0m\u001b[0m\n\u001b[0m",
            "\u001b[0;31mNameError\u001b[0m: name 'group_tempo' is not defined"
          ]
        }
      ]
    },
    {
      "cell_type": "code",
      "metadata": {
        "id": "YT573japGsmj",
        "colab_type": "code",
        "outputId": "83e13455-d062-48ce-b216-ebde95b51e17",
        "colab": {
          "base_uri": "https://localhost:8080/",
          "height": 80
        }
      },
      "source": [
        "all_tempo.describe().T"
      ],
      "execution_count": 0,
      "outputs": [
        {
          "output_type": "execute_result",
          "data": {
            "text/html": [
              "<div>\n",
              "<style scoped>\n",
              "    .dataframe tbody tr th:only-of-type {\n",
              "        vertical-align: middle;\n",
              "    }\n",
              "\n",
              "    .dataframe tbody tr th {\n",
              "        vertical-align: top;\n",
              "    }\n",
              "\n",
              "    .dataframe thead th {\n",
              "        text-align: right;\n",
              "    }\n",
              "</style>\n",
              "<table border=\"1\" class=\"dataframe\">\n",
              "  <thead>\n",
              "    <tr style=\"text-align: right;\">\n",
              "      <th></th>\n",
              "      <th>count</th>\n",
              "      <th>mean</th>\n",
              "      <th>std</th>\n",
              "      <th>min</th>\n",
              "      <th>25%</th>\n",
              "      <th>50%</th>\n",
              "      <th>75%</th>\n",
              "      <th>max</th>\n",
              "    </tr>\n",
              "  </thead>\n",
              "  <tbody>\n",
              "    <tr>\n",
              "      <th>Tempo</th>\n",
              "      <td>400.0</td>\n",
              "      <td>122.5625</td>\n",
              "      <td>23.830144</td>\n",
              "      <td>83.0</td>\n",
              "      <td>99.0</td>\n",
              "      <td>123.0</td>\n",
              "      <td>144.0</td>\n",
              "      <td>185.0</td>\n",
              "    </tr>\n",
              "  </tbody>\n",
              "</table>\n",
              "</div>"
            ],
            "text/plain": [
              "       count      mean        std   min   25%    50%    75%    max\n",
              "Tempo  400.0  122.5625  23.830144  83.0  99.0  123.0  144.0  185.0"
            ]
          },
          "metadata": {
            "tags": []
          },
          "execution_count": 87
        }
      ]
    },
    {
      "cell_type": "markdown",
      "metadata": {
        "id": "rEFnzyV5d86g",
        "colab_type": "text"
      },
      "source": [
        "### Pulse"
      ]
    },
    {
      "cell_type": "code",
      "metadata": {
        "id": "syVm5Uoyd9UG",
        "colab_type": "code",
        "colab": {}
      },
      "source": [
        "def mean_plp(audio_path):\n",
        "    x , sr = librosa.load(audio_path)\n",
        "    onset_env = librosa.onset.onset_strength(x, sr=sr)\n",
        "    pulse = librosa.beat.plp(onset_envelope=onset_env, sr=sr)\n",
        "    # ???\n",
        "    # https://librosa.github.io/librosa/generated/librosa.beat.plp.html#librosa.beat.plp\n",
        "    return np.mean(pulse)"
      ],
      "execution_count": 0,
      "outputs": []
    },
    {
      "cell_type": "markdown",
      "metadata": {
        "id": "UCT15AADfijy",
        "colab_type": "text"
      },
      "source": [
        "**get list of mean_plp for all**"
      ]
    },
    {
      "cell_type": "code",
      "metadata": {
        "id": "EM6i2b_Vfi59",
        "colab_type": "code",
        "colab": {}
      },
      "source": [
        "for each_path,i in zip(genre_data['Path'],range(0,400)):\n",
        "    pulse[i] = mean_plp(each_path)\n",
        "pd_pulse = pd.DataFrame(pulse)\n",
        "\n",
        "pd_pulse\n"
      ],
      "execution_count": 0,
      "outputs": []
    },
    {
      "cell_type": "markdown",
      "metadata": {
        "id": "tZfnxz9WHf6w",
        "colab_type": "text"
      },
      "source": [
        "## Feature Extraction 2: MFCC + chroma_stft + centroid + zcr + tempo + rms + spectral flatness\n",
        "\n"
      ]
    },
    {
      "cell_type": "markdown",
      "metadata": {
        "id": "b8CTKj1vo2QN",
        "colab_type": "text"
      },
      "source": [
        "We decided to use the features of MFCC, Chroma_stft, tempogram and zero crossing rate.\n",
        "\n",
        "1. why we choose these fetures\n",
        "2. explain the meaning of each features"
      ]
    },
    {
      "cell_type": "code",
      "metadata": {
        "id": "_B8d6Bds_QAt",
        "colab_type": "code",
        "outputId": "e2a7dd56-ebb6-4da7-b006-c9c4cb43131d",
        "colab": {
          "base_uri": "https://localhost:8080/",
          "height": 34
        }
      },
      "source": [
        "# test tempogram\n",
        "# This is just a test to get tempogram features\n",
        "hop_length = 512\n",
        "y, sr = librosa.load(genre_data['Path'][1])\n",
        "oenv = librosa.onset.onset_strength(y=y, sr=sr, hop_length=hop_length)\n",
        "features_tempogram = librosa.feature.tempogram(onset_envelope=oenv, sr=sr,hop_length=hop_length)\n",
        "# show \n",
        "avg = np.mean(features_tempogram,axis=1)\n",
        "print(np.mean(avg,axis= 0))\n"
      ],
      "execution_count": 29,
      "outputs": [
        {
          "output_type": "stream",
          "text": [
            "0.18802592051835867\n"
          ],
          "name": "stdout"
        }
      ]
    },
    {
      "cell_type": "code",
      "metadata": {
        "id": "l7J7U2UR2LLt",
        "colab_type": "code",
        "outputId": "5f45af99-733b-4380-9fc0-9218da047896",
        "colab": {
          "base_uri": "https://localhost:8080/",
          "height": 34
        }
      },
      "source": [
        "# This is a test to add zero crossing rate\n",
        "y, sr = librosa.load(genre_data['Path'][1])\n",
        "feature_zcr = librosa.feature.zero_crossing_rate(y,frame_length = 2048, hop_length=512)\n",
        "# mean + std\n",
        "print(np.mean(feature_zcr),np.std(feature_zcr))"
      ],
      "execution_count": 0,
      "outputs": [
        {
          "output_type": "stream",
          "text": [
            "0.048048310010634185 0.016315251808262494\n"
          ],
          "name": "stdout"
        }
      ]
    },
    {
      "cell_type": "code",
      "metadata": {
        "id": "0DvgvEfxgLJV",
        "colab_type": "code",
        "outputId": "a9c1a738-72b0-429f-e214-93a3a5358e81",
        "colab": {
          "base_uri": "https://localhost:8080/",
          "height": 34
        }
      },
      "source": [
        "# test rms\n",
        "y, sr = librosa.load(genre_data['Path'][1])\n",
        "features_rms = librosa.feature.rms(y=y)\n",
        "print(np.mean(features_rms),np.std(features_rms))"
      ],
      "execution_count": 0,
      "outputs": [
        {
          "output_type": "stream",
          "text": [
            "0.14835843 0.02661097\n"
          ],
          "name": "stdout"
        }
      ]
    },
    {
      "cell_type": "markdown",
      "metadata": {
        "id": "qaH0dQxSPSO9",
        "colab_type": "text"
      },
      "source": [
        "Now we can **extract all the features we need**.\n",
        "\n",
        "Save it both in pandas structure and .csv file."
      ]
    },
    {
      "cell_type": "code",
      "metadata": {
        "id": "5xD6qqGjHvnW",
        "colab_type": "code",
        "outputId": "c7d18b07-61f1-493a-87d0-2dd11e4243eb",
        "colab": {
          "base_uri": "https://localhost:8080/",
          "height": 66,
          "referenced_widgets": [
            "84940727cfb749a1a4fce10f9088ad3f",
            "49af2dc3b0414018bdb9b26f7c201366",
            "ec6fdb9be43a46eba431773c3589f0a0",
            "a774c64be2a4453a9369779a29020878",
            "9b3659c13c864e7c9e4161ba093b636c",
            "47b60f6e3fe74d05aad9415e3fef28f9",
            "f7925013bde7402ba2d879b1fc626459",
            "4819bdb63e184e74b5a4dcbf98f993fe"
          ]
        }
      },
      "source": [
        "# get and save all feature values in features.csv\n",
        "mfcc_list = []\n",
        "mfcc_value = np.zeros((400, 13))\n",
        "chroma_value = np.zeros((400, 12))\n",
        "cent_value = np.zeros((400, 2))\n",
        "zcr_value = np.zeros((400,2))\n",
        "stmp_value = np.zeros((400,1))\n",
        "rms_value = np.zeros((400,2))\n",
        "flat_value = np.zeros((400,2))\n",
        "\n",
        "columns =[]\n",
        "for each_file, index in zip(genre_data['Path'],tqdm(range(0,400))):\n",
        "    hop_length = 1024 # 512 # 2058\n",
        "    y, sr = librosa.load(each_file)\n",
        "    #print(\"Now processing:\",each_file)\n",
        "    # get feature mfcc\n",
        "    features_mfcc = librosa.feature.mfcc(y=y, sr=sr, n_mfcc=13) \n",
        "    mfcc_value[index,:] = np.mean(features_mfcc,axis=1)\n",
        "    # get feature chroma\n",
        "    features_chroma = librosa.feature.chroma_stft(y,sr)\n",
        "    chroma_value[index, :] = np.mean(features_chroma, axis=1)\n",
        "    #---------get feature tempo\n",
        "    #oenv = librosa.onset.onset_strength(y=y, sr=sr, hop_length=hop_length)\n",
        "    #features_tempo = librosa.feature.tempogram(onset_envelope=oenv, sr=sr,hop_length=hop_length)\n",
        "    #---------tempo_value[index,:] =  (np.mean(np.mean(features_tempo, axis =1),axis =0),np.std(np.mean(features_tempo, axis =1),axis =0))\n",
        "    \n",
        "    # spectral_centroid\n",
        "    features_cent = librosa.feature.spectral_centroid(y=y, sr=sr)\n",
        "    cent_value[index,:] =(np.mean(features_cent),np.std(features_cent))\n",
        "    \n",
        "    #get zero crossing rate\n",
        "    features_zcr = librosa.feature.zero_crossing_rate(y,frame_length=2048,hop_length=512)\n",
        "    zcr_value[index,:] =(np.mean(features_zcr),np.std(features_zcr))\n",
        "\n",
        "    # static_tempo\n",
        "    onset_env = librosa.onset.onset_strength(y, sr=sr)\n",
        "    features_tempo = librosa.beat.tempo(onset_envelope=onset_env, sr=sr)\n",
        "    stmp_value[index,:] = round(features_tempo[0])\n",
        "\n",
        "    # rms\n",
        "    features_rms = librosa.feature.rms(y=y)\n",
        "    rms_value[index,:] = (np.mean(features_rms),np.std(features_rms))\n",
        "\n",
        "    # spectral flaness\n",
        "    features_flat = librosa.feature.spectral_flatness(y)\n",
        "    flat_value[index,:] =(np.mean(features_flat),np.std(features_flat))\n",
        "\n",
        "\n",
        "\n",
        "# feature_table is the df of mfcc_value\n",
        "features_value = pd.DataFrame(mfcc_value)\n",
        "# add other feature, chroma also inside this table\n",
        "\n",
        "# update features_value and save to .csv\n",
        "features_value = pd.concat([features_value, pd.DataFrame(chroma_value)], axis=1)\n",
        "features_value = pd.concat([features_value, pd.DataFrame(cent_value)], axis=1)\n",
        "features_value = pd.concat([features_value, pd.DataFrame(zcr_value)], axis=1)\n",
        "features_value = pd.concat([features_value, pd.DataFrame(stmp_value)], axis=1)\n",
        "features_value = pd.concat([features_value, pd.DataFrame(rms_value)], axis=1)\n",
        "features_value = pd.concat([features_value, pd.DataFrame(flat_value)], axis=1)\n",
        "\n",
        "# update the features_value dataframe column name to mfcc1 to mfcc13, chroma 1 to 12\n",
        "col_name = []\n",
        "for index in range(0,13):\n",
        "    col_name.append('mfcc'+str(index+1))\n",
        "for index in range(0,12):\n",
        "    col_name.append('chroma'+str(index+1))\n",
        "for index in range(0,2):\n",
        "    col_name.append('cent'+str(index+1))\n",
        "for index in range(0,2):\n",
        "    col_name.append('zcr'+str(index+1))\n",
        "for index in range(0,1):\n",
        "    col_name.append('tempo'+str(index+1))\n",
        "for index in range(0,2):\n",
        "    col_name.append('rms'+str(index+1))\n",
        "for index in range(0,2):\n",
        "    col_name.append('flat'+str(index+1))\n",
        "\n",
        "features_value.columns = col_name\n",
        "# save to .csv\n",
        "features_value.to_csv('./features.csv',sep = '\\t', index = False)\n",
        "print(\"Finished processing, saved all features.\")\n",
        "# need to wait some time to see the result.\n",
        "\n"
      ],
      "execution_count": 30,
      "outputs": [
        {
          "output_type": "display_data",
          "data": {
            "application/vnd.jupyter.widget-view+json": {
              "model_id": "84940727cfb749a1a4fce10f9088ad3f",
              "version_minor": 0,
              "version_major": 2
            },
            "text/plain": [
              "HBox(children=(FloatProgress(value=0.0, max=400.0), HTML(value='')))"
            ]
          },
          "metadata": {
            "tags": []
          }
        },
        {
          "output_type": "stream",
          "text": [
            "Finished processing, saved all features.\n"
          ],
          "name": "stdout"
        }
      ]
    },
    {
      "cell_type": "code",
      "metadata": {
        "id": "FFpBdIqIU1gc",
        "colab_type": "code",
        "outputId": "f85e22d2-07a8-4d84-d124-138da85b0d15",
        "colab": {
          "base_uri": "https://localhost:8080/",
          "height": 439
        }
      },
      "source": [
        "features_value"
      ],
      "execution_count": 31,
      "outputs": [
        {
          "output_type": "execute_result",
          "data": {
            "text/html": [
              "<div>\n",
              "<style scoped>\n",
              "    .dataframe tbody tr th:only-of-type {\n",
              "        vertical-align: middle;\n",
              "    }\n",
              "\n",
              "    .dataframe tbody tr th {\n",
              "        vertical-align: top;\n",
              "    }\n",
              "\n",
              "    .dataframe thead th {\n",
              "        text-align: right;\n",
              "    }\n",
              "</style>\n",
              "<table border=\"1\" class=\"dataframe\">\n",
              "  <thead>\n",
              "    <tr style=\"text-align: right;\">\n",
              "      <th></th>\n",
              "      <th>mfcc1</th>\n",
              "      <th>mfcc2</th>\n",
              "      <th>mfcc3</th>\n",
              "      <th>mfcc4</th>\n",
              "      <th>mfcc5</th>\n",
              "      <th>mfcc6</th>\n",
              "      <th>mfcc7</th>\n",
              "      <th>mfcc8</th>\n",
              "      <th>mfcc9</th>\n",
              "      <th>mfcc10</th>\n",
              "      <th>mfcc11</th>\n",
              "      <th>mfcc12</th>\n",
              "      <th>mfcc13</th>\n",
              "      <th>chroma1</th>\n",
              "      <th>chroma2</th>\n",
              "      <th>chroma3</th>\n",
              "      <th>chroma4</th>\n",
              "      <th>chroma5</th>\n",
              "      <th>chroma6</th>\n",
              "      <th>chroma7</th>\n",
              "      <th>chroma8</th>\n",
              "      <th>chroma9</th>\n",
              "      <th>chroma10</th>\n",
              "      <th>chroma11</th>\n",
              "      <th>chroma12</th>\n",
              "      <th>cent1</th>\n",
              "      <th>cent2</th>\n",
              "      <th>zcr1</th>\n",
              "      <th>zcr2</th>\n",
              "      <th>tempo1</th>\n",
              "      <th>rms1</th>\n",
              "      <th>rms2</th>\n",
              "      <th>flat1</th>\n",
              "      <th>flat2</th>\n",
              "    </tr>\n",
              "  </thead>\n",
              "  <tbody>\n",
              "    <tr>\n",
              "      <th>0</th>\n",
              "      <td>-209.826150</td>\n",
              "      <td>124.463215</td>\n",
              "      <td>10.342456</td>\n",
              "      <td>47.010909</td>\n",
              "      <td>6.508127</td>\n",
              "      <td>15.410516</td>\n",
              "      <td>-2.005106</td>\n",
              "      <td>6.706564</td>\n",
              "      <td>-21.557632</td>\n",
              "      <td>10.718406</td>\n",
              "      <td>-5.523687</td>\n",
              "      <td>-2.199806</td>\n",
              "      <td>-3.034864</td>\n",
              "      <td>0.127189</td>\n",
              "      <td>0.141863</td>\n",
              "      <td>0.170973</td>\n",
              "      <td>0.146901</td>\n",
              "      <td>0.189883</td>\n",
              "      <td>0.232139</td>\n",
              "      <td>0.156369</td>\n",
              "      <td>0.216600</td>\n",
              "      <td>0.345021</td>\n",
              "      <td>0.384547</td>\n",
              "      <td>0.691413</td>\n",
              "      <td>0.373657</td>\n",
              "      <td>1324.293218</td>\n",
              "      <td>414.095391</td>\n",
              "      <td>0.051402</td>\n",
              "      <td>0.035431</td>\n",
              "      <td>108.0</td>\n",
              "      <td>0.113170</td>\n",
              "      <td>0.064722</td>\n",
              "      <td>0.001191</td>\n",
              "      <td>0.001261</td>\n",
              "    </tr>\n",
              "    <tr>\n",
              "      <th>1</th>\n",
              "      <td>-107.170265</td>\n",
              "      <td>88.488187</td>\n",
              "      <td>-4.169413</td>\n",
              "      <td>55.477715</td>\n",
              "      <td>-8.013872</td>\n",
              "      <td>38.415162</td>\n",
              "      <td>-6.410026</td>\n",
              "      <td>28.572667</td>\n",
              "      <td>-19.821608</td>\n",
              "      <td>13.238089</td>\n",
              "      <td>-19.253099</td>\n",
              "      <td>12.072362</td>\n",
              "      <td>-4.578394</td>\n",
              "      <td>0.324107</td>\n",
              "      <td>0.358768</td>\n",
              "      <td>0.419697</td>\n",
              "      <td>0.567364</td>\n",
              "      <td>0.303946</td>\n",
              "      <td>0.251674</td>\n",
              "      <td>0.324632</td>\n",
              "      <td>0.393840</td>\n",
              "      <td>0.453285</td>\n",
              "      <td>0.426857</td>\n",
              "      <td>0.491156</td>\n",
              "      <td>0.327088</td>\n",
              "      <td>2390.390100</td>\n",
              "      <td>553.734076</td>\n",
              "      <td>0.102261</td>\n",
              "      <td>0.039947</td>\n",
              "      <td>129.0</td>\n",
              "      <td>0.129166</td>\n",
              "      <td>0.029503</td>\n",
              "      <td>0.007607</td>\n",
              "      <td>0.006534</td>\n",
              "    </tr>\n",
              "    <tr>\n",
              "      <th>2</th>\n",
              "      <td>-89.354890</td>\n",
              "      <td>93.800390</td>\n",
              "      <td>-14.560049</td>\n",
              "      <td>54.388645</td>\n",
              "      <td>-33.502993</td>\n",
              "      <td>19.423905</td>\n",
              "      <td>-19.761012</td>\n",
              "      <td>13.031584</td>\n",
              "      <td>-13.861511</td>\n",
              "      <td>14.615304</td>\n",
              "      <td>-14.968037</td>\n",
              "      <td>10.597504</td>\n",
              "      <td>-18.022168</td>\n",
              "      <td>0.483075</td>\n",
              "      <td>0.242483</td>\n",
              "      <td>0.250919</td>\n",
              "      <td>0.235217</td>\n",
              "      <td>0.315011</td>\n",
              "      <td>0.613605</td>\n",
              "      <td>0.256483</td>\n",
              "      <td>0.262924</td>\n",
              "      <td>0.242337</td>\n",
              "      <td>0.346093</td>\n",
              "      <td>0.191305</td>\n",
              "      <td>0.222650</td>\n",
              "      <td>2428.928767</td>\n",
              "      <td>312.600973</td>\n",
              "      <td>0.134641</td>\n",
              "      <td>0.037805</td>\n",
              "      <td>144.0</td>\n",
              "      <td>0.120560</td>\n",
              "      <td>0.018036</td>\n",
              "      <td>0.008374</td>\n",
              "      <td>0.006086</td>\n",
              "    </tr>\n",
              "    <tr>\n",
              "      <th>3</th>\n",
              "      <td>-238.951198</td>\n",
              "      <td>108.705427</td>\n",
              "      <td>34.145849</td>\n",
              "      <td>30.211149</td>\n",
              "      <td>-0.502583</td>\n",
              "      <td>27.292958</td>\n",
              "      <td>-21.399484</td>\n",
              "      <td>14.171864</td>\n",
              "      <td>-24.512312</td>\n",
              "      <td>-1.884265</td>\n",
              "      <td>-28.057500</td>\n",
              "      <td>-11.255747</td>\n",
              "      <td>-16.464363</td>\n",
              "      <td>0.312232</td>\n",
              "      <td>0.216736</td>\n",
              "      <td>0.176883</td>\n",
              "      <td>0.155128</td>\n",
              "      <td>0.243879</td>\n",
              "      <td>0.456762</td>\n",
              "      <td>0.316402</td>\n",
              "      <td>0.235207</td>\n",
              "      <td>0.210369</td>\n",
              "      <td>0.269277</td>\n",
              "      <td>0.281575</td>\n",
              "      <td>0.253173</td>\n",
              "      <td>1430.492433</td>\n",
              "      <td>837.162935</td>\n",
              "      <td>0.041974</td>\n",
              "      <td>0.037936</td>\n",
              "      <td>152.0</td>\n",
              "      <td>0.133214</td>\n",
              "      <td>0.047458</td>\n",
              "      <td>0.000805</td>\n",
              "      <td>0.002144</td>\n",
              "    </tr>\n",
              "    <tr>\n",
              "      <th>4</th>\n",
              "      <td>-346.969336</td>\n",
              "      <td>139.273043</td>\n",
              "      <td>24.147860</td>\n",
              "      <td>22.209932</td>\n",
              "      <td>18.703974</td>\n",
              "      <td>11.669042</td>\n",
              "      <td>9.033813</td>\n",
              "      <td>6.945858</td>\n",
              "      <td>-2.019918</td>\n",
              "      <td>5.418928</td>\n",
              "      <td>1.674157</td>\n",
              "      <td>-2.352553</td>\n",
              "      <td>3.198617</td>\n",
              "      <td>0.390058</td>\n",
              "      <td>0.281551</td>\n",
              "      <td>0.221052</td>\n",
              "      <td>0.222528</td>\n",
              "      <td>0.248625</td>\n",
              "      <td>0.253850</td>\n",
              "      <td>0.270304</td>\n",
              "      <td>0.389678</td>\n",
              "      <td>0.448867</td>\n",
              "      <td>0.535472</td>\n",
              "      <td>0.468288</td>\n",
              "      <td>0.451422</td>\n",
              "      <td>798.451172</td>\n",
              "      <td>445.463115</td>\n",
              "      <td>0.025648</td>\n",
              "      <td>0.020114</td>\n",
              "      <td>108.0</td>\n",
              "      <td>0.052853</td>\n",
              "      <td>0.042476</td>\n",
              "      <td>0.000764</td>\n",
              "      <td>0.006836</td>\n",
              "    </tr>\n",
              "    <tr>\n",
              "      <th>...</th>\n",
              "      <td>...</td>\n",
              "      <td>...</td>\n",
              "      <td>...</td>\n",
              "      <td>...</td>\n",
              "      <td>...</td>\n",
              "      <td>...</td>\n",
              "      <td>...</td>\n",
              "      <td>...</td>\n",
              "      <td>...</td>\n",
              "      <td>...</td>\n",
              "      <td>...</td>\n",
              "      <td>...</td>\n",
              "      <td>...</td>\n",
              "      <td>...</td>\n",
              "      <td>...</td>\n",
              "      <td>...</td>\n",
              "      <td>...</td>\n",
              "      <td>...</td>\n",
              "      <td>...</td>\n",
              "      <td>...</td>\n",
              "      <td>...</td>\n",
              "      <td>...</td>\n",
              "      <td>...</td>\n",
              "      <td>...</td>\n",
              "      <td>...</td>\n",
              "      <td>...</td>\n",
              "      <td>...</td>\n",
              "      <td>...</td>\n",
              "      <td>...</td>\n",
              "      <td>...</td>\n",
              "      <td>...</td>\n",
              "      <td>...</td>\n",
              "      <td>...</td>\n",
              "      <td>...</td>\n",
              "    </tr>\n",
              "    <tr>\n",
              "      <th>395</th>\n",
              "      <td>-103.136673</td>\n",
              "      <td>67.205032</td>\n",
              "      <td>2.212647</td>\n",
              "      <td>28.504494</td>\n",
              "      <td>4.172197</td>\n",
              "      <td>11.874952</td>\n",
              "      <td>14.244765</td>\n",
              "      <td>14.292828</td>\n",
              "      <td>3.261752</td>\n",
              "      <td>15.854268</td>\n",
              "      <td>8.042967</td>\n",
              "      <td>4.469097</td>\n",
              "      <td>8.679431</td>\n",
              "      <td>0.527038</td>\n",
              "      <td>0.473009</td>\n",
              "      <td>0.393383</td>\n",
              "      <td>0.333580</td>\n",
              "      <td>0.327089</td>\n",
              "      <td>0.369955</td>\n",
              "      <td>0.427632</td>\n",
              "      <td>0.414551</td>\n",
              "      <td>0.516528</td>\n",
              "      <td>0.569701</td>\n",
              "      <td>0.674864</td>\n",
              "      <td>0.695776</td>\n",
              "      <td>2539.121009</td>\n",
              "      <td>936.008816</td>\n",
              "      <td>0.094298</td>\n",
              "      <td>0.070644</td>\n",
              "      <td>99.0</td>\n",
              "      <td>0.195715</td>\n",
              "      <td>0.102957</td>\n",
              "      <td>0.043690</td>\n",
              "      <td>0.072337</td>\n",
              "    </tr>\n",
              "    <tr>\n",
              "      <th>396</th>\n",
              "      <td>-132.977565</td>\n",
              "      <td>117.143566</td>\n",
              "      <td>-2.825532</td>\n",
              "      <td>22.537389</td>\n",
              "      <td>25.921838</td>\n",
              "      <td>0.278448</td>\n",
              "      <td>13.535487</td>\n",
              "      <td>3.408554</td>\n",
              "      <td>4.533075</td>\n",
              "      <td>0.545919</td>\n",
              "      <td>-0.066564</td>\n",
              "      <td>5.103181</td>\n",
              "      <td>-0.161246</td>\n",
              "      <td>0.337143</td>\n",
              "      <td>0.344633</td>\n",
              "      <td>0.465506</td>\n",
              "      <td>0.385335</td>\n",
              "      <td>0.419384</td>\n",
              "      <td>0.412514</td>\n",
              "      <td>0.390618</td>\n",
              "      <td>0.431549</td>\n",
              "      <td>0.443899</td>\n",
              "      <td>0.496101</td>\n",
              "      <td>0.317166</td>\n",
              "      <td>0.309023</td>\n",
              "      <td>1728.254305</td>\n",
              "      <td>521.916601</td>\n",
              "      <td>0.060468</td>\n",
              "      <td>0.032532</td>\n",
              "      <td>161.0</td>\n",
              "      <td>0.140145</td>\n",
              "      <td>0.044343</td>\n",
              "      <td>0.009812</td>\n",
              "      <td>0.014022</td>\n",
              "    </tr>\n",
              "    <tr>\n",
              "      <th>397</th>\n",
              "      <td>-164.594570</td>\n",
              "      <td>142.707450</td>\n",
              "      <td>-41.489226</td>\n",
              "      <td>41.226193</td>\n",
              "      <td>16.171186</td>\n",
              "      <td>-5.588592</td>\n",
              "      <td>7.633069</td>\n",
              "      <td>5.620200</td>\n",
              "      <td>0.810726</td>\n",
              "      <td>-10.478095</td>\n",
              "      <td>-2.344436</td>\n",
              "      <td>-0.496347</td>\n",
              "      <td>-3.065764</td>\n",
              "      <td>0.616168</td>\n",
              "      <td>0.247922</td>\n",
              "      <td>0.224886</td>\n",
              "      <td>0.266965</td>\n",
              "      <td>0.492462</td>\n",
              "      <td>0.430814</td>\n",
              "      <td>0.326586</td>\n",
              "      <td>0.485215</td>\n",
              "      <td>0.227387</td>\n",
              "      <td>0.222506</td>\n",
              "      <td>0.141551</td>\n",
              "      <td>0.334345</td>\n",
              "      <td>1484.715976</td>\n",
              "      <td>338.400244</td>\n",
              "      <td>0.076013</td>\n",
              "      <td>0.033668</td>\n",
              "      <td>152.0</td>\n",
              "      <td>0.110707</td>\n",
              "      <td>0.042192</td>\n",
              "      <td>0.003385</td>\n",
              "      <td>0.003977</td>\n",
              "    </tr>\n",
              "    <tr>\n",
              "      <th>398</th>\n",
              "      <td>-169.175089</td>\n",
              "      <td>110.450371</td>\n",
              "      <td>-8.545039</td>\n",
              "      <td>43.888601</td>\n",
              "      <td>0.316973</td>\n",
              "      <td>26.636772</td>\n",
              "      <td>-14.361243</td>\n",
              "      <td>13.035166</td>\n",
              "      <td>-11.153996</td>\n",
              "      <td>8.111966</td>\n",
              "      <td>-7.677317</td>\n",
              "      <td>10.930494</td>\n",
              "      <td>-8.167287</td>\n",
              "      <td>0.411790</td>\n",
              "      <td>0.332711</td>\n",
              "      <td>0.389301</td>\n",
              "      <td>0.370354</td>\n",
              "      <td>0.308819</td>\n",
              "      <td>0.386656</td>\n",
              "      <td>0.288723</td>\n",
              "      <td>0.330068</td>\n",
              "      <td>0.243243</td>\n",
              "      <td>0.297590</td>\n",
              "      <td>0.423093</td>\n",
              "      <td>0.402035</td>\n",
              "      <td>1811.234934</td>\n",
              "      <td>809.902274</td>\n",
              "      <td>0.072150</td>\n",
              "      <td>0.051697</td>\n",
              "      <td>136.0</td>\n",
              "      <td>0.123739</td>\n",
              "      <td>0.053039</td>\n",
              "      <td>0.004307</td>\n",
              "      <td>0.008161</td>\n",
              "    </tr>\n",
              "    <tr>\n",
              "      <th>399</th>\n",
              "      <td>-138.122043</td>\n",
              "      <td>101.482168</td>\n",
              "      <td>-35.343779</td>\n",
              "      <td>36.139295</td>\n",
              "      <td>-9.510810</td>\n",
              "      <td>14.766630</td>\n",
              "      <td>-0.240599</td>\n",
              "      <td>11.524783</td>\n",
              "      <td>-2.105261</td>\n",
              "      <td>3.410188</td>\n",
              "      <td>4.206286</td>\n",
              "      <td>0.142541</td>\n",
              "      <td>9.014046</td>\n",
              "      <td>0.423793</td>\n",
              "      <td>0.391529</td>\n",
              "      <td>0.484589</td>\n",
              "      <td>0.359650</td>\n",
              "      <td>0.349037</td>\n",
              "      <td>0.375829</td>\n",
              "      <td>0.354992</td>\n",
              "      <td>0.399343</td>\n",
              "      <td>0.330324</td>\n",
              "      <td>0.478228</td>\n",
              "      <td>0.406650</td>\n",
              "      <td>0.431169</td>\n",
              "      <td>2170.544505</td>\n",
              "      <td>497.036146</td>\n",
              "      <td>0.119993</td>\n",
              "      <td>0.046936</td>\n",
              "      <td>144.0</td>\n",
              "      <td>0.092221</td>\n",
              "      <td>0.041424</td>\n",
              "      <td>0.015136</td>\n",
              "      <td>0.018855</td>\n",
              "    </tr>\n",
              "  </tbody>\n",
              "</table>\n",
              "<p>400 rows × 34 columns</p>\n",
              "</div>"
            ],
            "text/plain": [
              "          mfcc1       mfcc2      mfcc3  ...      rms2     flat1     flat2\n",
              "0   -209.826150  124.463215  10.342456  ...  0.064722  0.001191  0.001261\n",
              "1   -107.170265   88.488187  -4.169413  ...  0.029503  0.007607  0.006534\n",
              "2    -89.354890   93.800390 -14.560049  ...  0.018036  0.008374  0.006086\n",
              "3   -238.951198  108.705427  34.145849  ...  0.047458  0.000805  0.002144\n",
              "4   -346.969336  139.273043  24.147860  ...  0.042476  0.000764  0.006836\n",
              "..          ...         ...        ...  ...       ...       ...       ...\n",
              "395 -103.136673   67.205032   2.212647  ...  0.102957  0.043690  0.072337\n",
              "396 -132.977565  117.143566  -2.825532  ...  0.044343  0.009812  0.014022\n",
              "397 -164.594570  142.707450 -41.489226  ...  0.042192  0.003385  0.003977\n",
              "398 -169.175089  110.450371  -8.545039  ...  0.053039  0.004307  0.008161\n",
              "399 -138.122043  101.482168 -35.343779  ...  0.041424  0.015136  0.018855\n",
              "\n",
              "[400 rows x 34 columns]"
            ]
          },
          "metadata": {
            "tags": []
          },
          "execution_count": 31
        }
      ]
    },
    {
      "cell_type": "markdown",
      "metadata": {
        "id": "iuuAdpjvFTid",
        "colab_type": "text"
      },
      "source": [
        "## Feature Rescaling"
      ]
    },
    {
      "cell_type": "code",
      "metadata": {
        "id": "lisFVAGGJH-Z",
        "colab_type": "code",
        "colab": {}
      },
      "source": [
        "#import sklearn.preprocessing as preprocessing\n",
        "features_rescaled = pd.DataFrame(preprocessing.scale(features_value), columns=features_value.columns, index=features_value.index)\n",
        "features_rescaled.to_csv('./re_features.csv',sep = '\\t', index = False)"
      ],
      "execution_count": 0,
      "outputs": []
    },
    {
      "cell_type": "code",
      "metadata": {
        "id": "hVoRCoCl5oSB",
        "colab_type": "code",
        "colab": {
          "base_uri": "https://localhost:8080/",
          "height": 385
        },
        "outputId": "7bea93ab-e749-4e0c-e3d8-5384455bf455"
      },
      "source": [
        "features_rescaled.describe()"
      ],
      "execution_count": 53,
      "outputs": [
        {
          "output_type": "execute_result",
          "data": {
            "text/html": [
              "<div>\n",
              "<style scoped>\n",
              "    .dataframe tbody tr th:only-of-type {\n",
              "        vertical-align: middle;\n",
              "    }\n",
              "\n",
              "    .dataframe tbody tr th {\n",
              "        vertical-align: top;\n",
              "    }\n",
              "\n",
              "    .dataframe thead th {\n",
              "        text-align: right;\n",
              "    }\n",
              "</style>\n",
              "<table border=\"1\" class=\"dataframe\">\n",
              "  <thead>\n",
              "    <tr style=\"text-align: right;\">\n",
              "      <th></th>\n",
              "      <th>mfcc1</th>\n",
              "      <th>mfcc2</th>\n",
              "      <th>mfcc3</th>\n",
              "      <th>mfcc4</th>\n",
              "      <th>mfcc5</th>\n",
              "      <th>mfcc6</th>\n",
              "      <th>mfcc7</th>\n",
              "      <th>mfcc8</th>\n",
              "      <th>mfcc9</th>\n",
              "      <th>mfcc10</th>\n",
              "      <th>mfcc11</th>\n",
              "      <th>mfcc12</th>\n",
              "      <th>mfcc13</th>\n",
              "      <th>chroma1</th>\n",
              "      <th>chroma2</th>\n",
              "      <th>chroma3</th>\n",
              "      <th>chroma4</th>\n",
              "      <th>chroma5</th>\n",
              "      <th>chroma6</th>\n",
              "      <th>chroma7</th>\n",
              "      <th>chroma8</th>\n",
              "      <th>chroma9</th>\n",
              "      <th>chroma10</th>\n",
              "      <th>chroma11</th>\n",
              "      <th>chroma12</th>\n",
              "      <th>cent1</th>\n",
              "      <th>cent2</th>\n",
              "      <th>zcr1</th>\n",
              "      <th>zcr2</th>\n",
              "      <th>tempo1</th>\n",
              "      <th>rms1</th>\n",
              "      <th>rms2</th>\n",
              "      <th>flat1</th>\n",
              "      <th>flat2</th>\n",
              "    </tr>\n",
              "  </thead>\n",
              "  <tbody>\n",
              "    <tr>\n",
              "      <th>count</th>\n",
              "      <td>4.000000e+02</td>\n",
              "      <td>4.000000e+02</td>\n",
              "      <td>4.000000e+02</td>\n",
              "      <td>4.000000e+02</td>\n",
              "      <td>4.000000e+02</td>\n",
              "      <td>4.000000e+02</td>\n",
              "      <td>4.000000e+02</td>\n",
              "      <td>4.000000e+02</td>\n",
              "      <td>4.000000e+02</td>\n",
              "      <td>4.000000e+02</td>\n",
              "      <td>4.000000e+02</td>\n",
              "      <td>4.000000e+02</td>\n",
              "      <td>4.000000e+02</td>\n",
              "      <td>4.000000e+02</td>\n",
              "      <td>4.000000e+02</td>\n",
              "      <td>4.000000e+02</td>\n",
              "      <td>4.000000e+02</td>\n",
              "      <td>4.000000e+02</td>\n",
              "      <td>4.000000e+02</td>\n",
              "      <td>4.000000e+02</td>\n",
              "      <td>4.000000e+02</td>\n",
              "      <td>4.000000e+02</td>\n",
              "      <td>4.000000e+02</td>\n",
              "      <td>4.000000e+02</td>\n",
              "      <td>4.000000e+02</td>\n",
              "      <td>4.000000e+02</td>\n",
              "      <td>4.000000e+02</td>\n",
              "      <td>4.000000e+02</td>\n",
              "      <td>4.000000e+02</td>\n",
              "      <td>4.000000e+02</td>\n",
              "      <td>4.000000e+02</td>\n",
              "      <td>4.000000e+02</td>\n",
              "      <td>4.000000e+02</td>\n",
              "      <td>4.000000e+02</td>\n",
              "    </tr>\n",
              "    <tr>\n",
              "      <th>mean</th>\n",
              "      <td>2.163547e-16</td>\n",
              "      <td>1.034728e-15</td>\n",
              "      <td>-4.440892e-17</td>\n",
              "      <td>7.049916e-17</td>\n",
              "      <td>8.743006e-17</td>\n",
              "      <td>-2.664535e-17</td>\n",
              "      <td>-3.663736e-16</td>\n",
              "      <td>3.348710e-16</td>\n",
              "      <td>9.908740e-17</td>\n",
              "      <td>-1.962319e-16</td>\n",
              "      <td>3.341771e-16</td>\n",
              "      <td>2.209344e-16</td>\n",
              "      <td>1.809664e-16</td>\n",
              "      <td>-4.835195e-16</td>\n",
              "      <td>-2.332856e-16</td>\n",
              "      <td>-1.465494e-16</td>\n",
              "      <td>-4.504730e-16</td>\n",
              "      <td>-1.337819e-16</td>\n",
              "      <td>-3.629042e-16</td>\n",
              "      <td>-3.694267e-16</td>\n",
              "      <td>2.227385e-17</td>\n",
              "      <td>4.671263e-16</td>\n",
              "      <td>1.941503e-16</td>\n",
              "      <td>3.078787e-16</td>\n",
              "      <td>-4.182418e-17</td>\n",
              "      <td>3.094747e-17</td>\n",
              "      <td>-3.597123e-16</td>\n",
              "      <td>5.220824e-16</td>\n",
              "      <td>-2.405021e-16</td>\n",
              "      <td>8.021361e-17</td>\n",
              "      <td>1.146305e-16</td>\n",
              "      <td>-8.409939e-17</td>\n",
              "      <td>1.066508e-16</td>\n",
              "      <td>-1.963707e-17</td>\n",
              "    </tr>\n",
              "    <tr>\n",
              "      <th>std</th>\n",
              "      <td>1.001252e+00</td>\n",
              "      <td>1.001252e+00</td>\n",
              "      <td>1.001252e+00</td>\n",
              "      <td>1.001252e+00</td>\n",
              "      <td>1.001252e+00</td>\n",
              "      <td>1.001252e+00</td>\n",
              "      <td>1.001252e+00</td>\n",
              "      <td>1.001252e+00</td>\n",
              "      <td>1.001252e+00</td>\n",
              "      <td>1.001252e+00</td>\n",
              "      <td>1.001252e+00</td>\n",
              "      <td>1.001252e+00</td>\n",
              "      <td>1.001252e+00</td>\n",
              "      <td>1.001252e+00</td>\n",
              "      <td>1.001252e+00</td>\n",
              "      <td>1.001252e+00</td>\n",
              "      <td>1.001252e+00</td>\n",
              "      <td>1.001252e+00</td>\n",
              "      <td>1.001252e+00</td>\n",
              "      <td>1.001252e+00</td>\n",
              "      <td>1.001252e+00</td>\n",
              "      <td>1.001252e+00</td>\n",
              "      <td>1.001252e+00</td>\n",
              "      <td>1.001252e+00</td>\n",
              "      <td>1.001252e+00</td>\n",
              "      <td>1.001252e+00</td>\n",
              "      <td>1.001252e+00</td>\n",
              "      <td>1.001252e+00</td>\n",
              "      <td>1.001252e+00</td>\n",
              "      <td>1.001252e+00</td>\n",
              "      <td>1.001252e+00</td>\n",
              "      <td>1.001252e+00</td>\n",
              "      <td>1.001252e+00</td>\n",
              "      <td>1.001252e+00</td>\n",
              "    </tr>\n",
              "    <tr>\n",
              "      <th>min</th>\n",
              "      <td>-3.021479e+00</td>\n",
              "      <td>-3.797117e+00</td>\n",
              "      <td>-3.560271e+00</td>\n",
              "      <td>-2.771183e+00</td>\n",
              "      <td>-2.682491e+00</td>\n",
              "      <td>-3.364409e+00</td>\n",
              "      <td>-2.574820e+00</td>\n",
              "      <td>-2.715545e+00</td>\n",
              "      <td>-2.438470e+00</td>\n",
              "      <td>-2.813262e+00</td>\n",
              "      <td>-2.874989e+00</td>\n",
              "      <td>-2.982377e+00</td>\n",
              "      <td>-3.073133e+00</td>\n",
              "      <td>-2.857675e+00</td>\n",
              "      <td>-2.599036e+00</td>\n",
              "      <td>-2.957918e+00</td>\n",
              "      <td>-2.367860e+00</td>\n",
              "      <td>-2.638915e+00</td>\n",
              "      <td>-3.117863e+00</td>\n",
              "      <td>-2.704511e+00</td>\n",
              "      <td>-3.053457e+00</td>\n",
              "      <td>-2.538488e+00</td>\n",
              "      <td>-2.582758e+00</td>\n",
              "      <td>-2.597180e+00</td>\n",
              "      <td>-2.685416e+00</td>\n",
              "      <td>-2.768787e+00</td>\n",
              "      <td>-1.682206e+00</td>\n",
              "      <td>-1.937006e+00</td>\n",
              "      <td>-1.899235e+00</td>\n",
              "      <td>-1.662266e+00</td>\n",
              "      <td>-2.016481e+00</td>\n",
              "      <td>-1.605535e+00</td>\n",
              "      <td>-6.656150e-01</td>\n",
              "      <td>-7.980346e-01</td>\n",
              "    </tr>\n",
              "    <tr>\n",
              "      <th>25%</th>\n",
              "      <td>-6.864699e-01</td>\n",
              "      <td>-6.554488e-01</td>\n",
              "      <td>-7.286502e-01</td>\n",
              "      <td>-7.246703e-01</td>\n",
              "      <td>-7.034648e-01</td>\n",
              "      <td>-6.857107e-01</td>\n",
              "      <td>-7.394485e-01</td>\n",
              "      <td>-7.445617e-01</td>\n",
              "      <td>-7.542615e-01</td>\n",
              "      <td>-8.046345e-01</td>\n",
              "      <td>-7.260222e-01</td>\n",
              "      <td>-6.862412e-01</td>\n",
              "      <td>-7.149468e-01</td>\n",
              "      <td>-6.481857e-01</td>\n",
              "      <td>-6.048665e-01</td>\n",
              "      <td>-6.036656e-01</td>\n",
              "      <td>-6.621476e-01</td>\n",
              "      <td>-7.066316e-01</td>\n",
              "      <td>-6.593021e-01</td>\n",
              "      <td>-6.527770e-01</td>\n",
              "      <td>-5.835041e-01</td>\n",
              "      <td>-7.357565e-01</td>\n",
              "      <td>-6.987357e-01</td>\n",
              "      <td>-6.641790e-01</td>\n",
              "      <td>-6.350650e-01</td>\n",
              "      <td>-7.343236e-01</td>\n",
              "      <td>-7.845489e-01</td>\n",
              "      <td>-7.791097e-01</td>\n",
              "      <td>-6.844083e-01</td>\n",
              "      <td>-9.900069e-01</td>\n",
              "      <td>-7.695575e-01</td>\n",
              "      <td>-6.632327e-01</td>\n",
              "      <td>-5.098907e-01</td>\n",
              "      <td>-5.964683e-01</td>\n",
              "    </tr>\n",
              "    <tr>\n",
              "      <th>50%</th>\n",
              "      <td>1.696501e-01</td>\n",
              "      <td>6.043220e-03</td>\n",
              "      <td>-5.928621e-02</td>\n",
              "      <td>4.604820e-02</td>\n",
              "      <td>9.816163e-02</td>\n",
              "      <td>1.672599e-01</td>\n",
              "      <td>-1.276976e-01</td>\n",
              "      <td>1.494434e-01</td>\n",
              "      <td>-1.615289e-01</td>\n",
              "      <td>1.545667e-01</td>\n",
              "      <td>-5.574161e-02</td>\n",
              "      <td>8.173526e-02</td>\n",
              "      <td>-9.738192e-03</td>\n",
              "      <td>2.504438e-02</td>\n",
              "      <td>-1.111577e-02</td>\n",
              "      <td>-2.943889e-03</td>\n",
              "      <td>4.194957e-02</td>\n",
              "      <td>-4.583892e-02</td>\n",
              "      <td>3.758396e-04</td>\n",
              "      <td>-1.745682e-02</td>\n",
              "      <td>2.383689e-02</td>\n",
              "      <td>4.360864e-02</td>\n",
              "      <td>-2.988635e-02</td>\n",
              "      <td>-9.974408e-03</td>\n",
              "      <td>-4.612995e-02</td>\n",
              "      <td>7.582951e-02</td>\n",
              "      <td>-2.635457e-01</td>\n",
              "      <td>-9.344256e-02</td>\n",
              "      <td>-2.219361e-01</td>\n",
              "      <td>1.838209e-02</td>\n",
              "      <td>-2.321299e-01</td>\n",
              "      <td>-2.307338e-01</td>\n",
              "      <td>-2.832415e-01</td>\n",
              "      <td>-3.969840e-01</td>\n",
              "    </tr>\n",
              "    <tr>\n",
              "      <th>75%</th>\n",
              "      <td>6.448121e-01</td>\n",
              "      <td>6.327305e-01</td>\n",
              "      <td>6.674040e-01</td>\n",
              "      <td>7.010302e-01</td>\n",
              "      <td>6.937359e-01</td>\n",
              "      <td>7.083727e-01</td>\n",
              "      <td>8.289737e-01</td>\n",
              "      <td>7.519821e-01</td>\n",
              "      <td>8.143617e-01</td>\n",
              "      <td>8.172617e-01</td>\n",
              "      <td>6.975311e-01</td>\n",
              "      <td>7.661312e-01</td>\n",
              "      <td>7.909608e-01</td>\n",
              "      <td>6.265854e-01</td>\n",
              "      <td>6.265700e-01</td>\n",
              "      <td>6.093171e-01</td>\n",
              "      <td>6.472386e-01</td>\n",
              "      <td>6.954438e-01</td>\n",
              "      <td>6.687853e-01</td>\n",
              "      <td>6.061960e-01</td>\n",
              "      <td>6.655350e-01</td>\n",
              "      <td>6.408436e-01</td>\n",
              "      <td>6.719140e-01</td>\n",
              "      <td>6.499924e-01</td>\n",
              "      <td>6.371547e-01</td>\n",
              "      <td>6.850945e-01</td>\n",
              "      <td>6.455860e-01</td>\n",
              "      <td>6.595280e-01</td>\n",
              "      <td>4.212409e-01</td>\n",
              "      <td>9.007225e-01</td>\n",
              "      <td>7.037100e-01</td>\n",
              "      <td>3.825213e-01</td>\n",
              "      <td>1.738726e-01</td>\n",
              "      <td>3.312616e-01</td>\n",
              "    </tr>\n",
              "    <tr>\n",
              "      <th>max</th>\n",
              "      <td>2.199507e+00</td>\n",
              "      <td>3.069193e+00</td>\n",
              "      <td>2.890171e+00</td>\n",
              "      <td>2.304428e+00</td>\n",
              "      <td>2.509991e+00</td>\n",
              "      <td>2.375337e+00</td>\n",
              "      <td>2.308378e+00</td>\n",
              "      <td>2.466289e+00</td>\n",
              "      <td>2.105561e+00</td>\n",
              "      <td>2.215130e+00</td>\n",
              "      <td>3.125507e+00</td>\n",
              "      <td>2.322753e+00</td>\n",
              "      <td>2.334336e+00</td>\n",
              "      <td>2.788885e+00</td>\n",
              "      <td>3.436844e+00</td>\n",
              "      <td>2.696761e+00</td>\n",
              "      <td>3.428770e+00</td>\n",
              "      <td>3.154630e+00</td>\n",
              "      <td>2.841294e+00</td>\n",
              "      <td>3.428881e+00</td>\n",
              "      <td>2.312064e+00</td>\n",
              "      <td>3.056003e+00</td>\n",
              "      <td>2.869476e+00</td>\n",
              "      <td>3.173975e+00</td>\n",
              "      <td>3.349387e+00</td>\n",
              "      <td>3.564519e+00</td>\n",
              "      <td>4.006308e+00</td>\n",
              "      <td>3.840810e+00</td>\n",
              "      <td>5.375217e+00</td>\n",
              "      <td>2.623387e+00</td>\n",
              "      <td>3.369157e+00</td>\n",
              "      <td>4.016856e+00</td>\n",
              "      <td>1.377135e+01</td>\n",
              "      <td>8.476856e+00</td>\n",
              "    </tr>\n",
              "  </tbody>\n",
              "</table>\n",
              "</div>"
            ],
            "text/plain": [
              "              mfcc1         mfcc2  ...         flat1         flat2\n",
              "count  4.000000e+02  4.000000e+02  ...  4.000000e+02  4.000000e+02\n",
              "mean   2.163547e-16  1.034728e-15  ...  1.066508e-16 -1.963707e-17\n",
              "std    1.001252e+00  1.001252e+00  ...  1.001252e+00  1.001252e+00\n",
              "min   -3.021479e+00 -3.797117e+00  ... -6.656150e-01 -7.980346e-01\n",
              "25%   -6.864699e-01 -6.554488e-01  ... -5.098907e-01 -5.964683e-01\n",
              "50%    1.696501e-01  6.043220e-03  ... -2.832415e-01 -3.969840e-01\n",
              "75%    6.448121e-01  6.327305e-01  ...  1.738726e-01  3.312616e-01\n",
              "max    2.199507e+00  3.069193e+00  ...  1.377135e+01  8.476856e+00\n",
              "\n",
              "[8 rows x 34 columns]"
            ]
          },
          "metadata": {
            "tags": []
          },
          "execution_count": 53
        }
      ]
    },
    {
      "cell_type": "markdown",
      "metadata": {
        "id": "y3t1yJUPAPpp",
        "colab_type": "text"
      },
      "source": [
        " ## Visualize the feature"
      ]
    },
    {
      "cell_type": "markdown",
      "metadata": {
        "id": "EmGlRWFC4RlD",
        "colab_type": "text"
      },
      "source": [
        "Check all feature values"
      ]
    },
    {
      "cell_type": "code",
      "metadata": {
        "id": "tTn6ck4J4R5d",
        "colab_type": "code",
        "outputId": "848eb627-f31b-4941-eb75-0b99953fb73f",
        "colab": {
          "base_uri": "https://localhost:8080/",
          "height": 317
        }
      },
      "source": [
        "features_value.describe()"
      ],
      "execution_count": 0,
      "outputs": [
        {
          "output_type": "execute_result",
          "data": {
            "text/html": [
              "<div>\n",
              "<style scoped>\n",
              "    .dataframe tbody tr th:only-of-type {\n",
              "        vertical-align: middle;\n",
              "    }\n",
              "\n",
              "    .dataframe tbody tr th {\n",
              "        vertical-align: top;\n",
              "    }\n",
              "\n",
              "    .dataframe thead th {\n",
              "        text-align: right;\n",
              "    }\n",
              "</style>\n",
              "<table border=\"1\" class=\"dataframe\">\n",
              "  <thead>\n",
              "    <tr style=\"text-align: right;\">\n",
              "      <th></th>\n",
              "      <th>mfcc1</th>\n",
              "      <th>mfcc2</th>\n",
              "      <th>mfcc3</th>\n",
              "      <th>mfcc4</th>\n",
              "      <th>mfcc5</th>\n",
              "      <th>mfcc6</th>\n",
              "      <th>mfcc7</th>\n",
              "      <th>mfcc8</th>\n",
              "      <th>mfcc9</th>\n",
              "      <th>mfcc10</th>\n",
              "      <th>mfcc11</th>\n",
              "      <th>mfcc12</th>\n",
              "      <th>mfcc13</th>\n",
              "      <th>chroma1</th>\n",
              "      <th>chroma2</th>\n",
              "      <th>chroma3</th>\n",
              "      <th>chroma4</th>\n",
              "      <th>chroma5</th>\n",
              "      <th>chroma6</th>\n",
              "      <th>chroma7</th>\n",
              "      <th>chroma8</th>\n",
              "      <th>chroma9</th>\n",
              "      <th>chroma10</th>\n",
              "      <th>chroma11</th>\n",
              "      <th>chroma12</th>\n",
              "      <th>cent1</th>\n",
              "      <th>cent2</th>\n",
              "      <th>zcr1</th>\n",
              "      <th>zcr2</th>\n",
              "      <th>tempo1</th>\n",
              "      <th>rms1</th>\n",
              "      <th>rms2</th>\n",
              "      <th>flat1</th>\n",
              "      <th>flat2</th>\n",
              "    </tr>\n",
              "  </thead>\n",
              "  <tbody>\n",
              "    <tr>\n",
              "      <th>count</th>\n",
              "      <td>400.000000</td>\n",
              "      <td>400.000000</td>\n",
              "      <td>400.000000</td>\n",
              "      <td>400.000000</td>\n",
              "      <td>400.000000</td>\n",
              "      <td>400.000000</td>\n",
              "      <td>400.000000</td>\n",
              "      <td>400.000000</td>\n",
              "      <td>400.000000</td>\n",
              "      <td>400.000000</td>\n",
              "      <td>400.000000</td>\n",
              "      <td>400.000000</td>\n",
              "      <td>400.000000</td>\n",
              "      <td>400.000000</td>\n",
              "      <td>400.000000</td>\n",
              "      <td>400.000000</td>\n",
              "      <td>400.000000</td>\n",
              "      <td>400.000000</td>\n",
              "      <td>400.000000</td>\n",
              "      <td>400.000000</td>\n",
              "      <td>400.000000</td>\n",
              "      <td>400.000000</td>\n",
              "      <td>400.000000</td>\n",
              "      <td>400.000000</td>\n",
              "      <td>400.000000</td>\n",
              "      <td>400.000000</td>\n",
              "      <td>400.000000</td>\n",
              "      <td>400.000000</td>\n",
              "      <td>400.000000</td>\n",
              "      <td>400.000000</td>\n",
              "      <td>400.000000</td>\n",
              "      <td>400.000000</td>\n",
              "      <td>400.000000</td>\n",
              "      <td>400.000000</td>\n",
              "    </tr>\n",
              "    <tr>\n",
              "      <th>mean</th>\n",
              "      <td>-123.302809</td>\n",
              "      <td>93.103490</td>\n",
              "      <td>-10.708109</td>\n",
              "      <td>44.586473</td>\n",
              "      <td>-2.647285</td>\n",
              "      <td>20.647792</td>\n",
              "      <td>-6.601616</td>\n",
              "      <td>15.119746</td>\n",
              "      <td>-7.784932</td>\n",
              "      <td>10.608834</td>\n",
              "      <td>-6.267335</td>\n",
              "      <td>7.243566</td>\n",
              "      <td>-5.888498</td>\n",
              "      <td>0.418017</td>\n",
              "      <td>0.404597</td>\n",
              "      <td>0.423493</td>\n",
              "      <td>0.415418</td>\n",
              "      <td>0.435819</td>\n",
              "      <td>0.417033</td>\n",
              "      <td>0.399524</td>\n",
              "      <td>0.421189</td>\n",
              "      <td>0.422162</td>\n",
              "      <td>0.441138</td>\n",
              "      <td>0.427015</td>\n",
              "      <td>0.424282</td>\n",
              "      <td>2259.825286</td>\n",
              "      <td>662.643585</td>\n",
              "      <td>0.106493</td>\n",
              "      <td>0.052253</td>\n",
              "      <td>122.562500</td>\n",
              "      <td>0.147598</td>\n",
              "      <td>0.053840</td>\n",
              "      <td>0.019570</td>\n",
              "      <td>0.023964</td>\n",
              "    </tr>\n",
              "    <tr>\n",
              "      <th>std</th>\n",
              "      <td>75.266544</td>\n",
              "      <td>24.935616</td>\n",
              "      <td>22.262692</td>\n",
              "      <td>15.691987</td>\n",
              "      <td>13.527896</td>\n",
              "      <td>10.337941</td>\n",
              "      <td>10.238306</td>\n",
              "      <td>9.188245</td>\n",
              "      <td>7.979676</td>\n",
              "      <td>7.504931</td>\n",
              "      <td>7.588709</td>\n",
              "      <td>6.807039</td>\n",
              "      <td>7.048743</td>\n",
              "      <td>0.104106</td>\n",
              "      <td>0.117047</td>\n",
              "      <td>0.113602</td>\n",
              "      <td>0.113543</td>\n",
              "      <td>0.118321</td>\n",
              "      <td>0.100998</td>\n",
              "      <td>0.104287</td>\n",
              "      <td>0.111097</td>\n",
              "      <td>0.116205</td>\n",
              "      <td>0.116427</td>\n",
              "      <td>0.110050</td>\n",
              "      <td>0.111363</td>\n",
              "      <td>611.062168</td>\n",
              "      <td>269.915092</td>\n",
              "      <td>0.043832</td>\n",
              "      <td>0.021833</td>\n",
              "      <td>23.830144</td>\n",
              "      <td>0.060464</td>\n",
              "      <td>0.028050</td>\n",
              "      <td>0.028954</td>\n",
              "      <td>0.029677</td>\n",
              "    </tr>\n",
              "    <tr>\n",
              "      <th>min</th>\n",
              "      <td>-350.434656</td>\n",
              "      <td>-1.461542</td>\n",
              "      <td>-89.870197</td>\n",
              "      <td>1.155494</td>\n",
              "      <td>-38.890351</td>\n",
              "      <td>-14.089770</td>\n",
              "      <td>-32.930434</td>\n",
              "      <td>-9.800140</td>\n",
              "      <td>-27.218797</td>\n",
              "      <td>-10.478095</td>\n",
              "      <td>-28.057500</td>\n",
              "      <td>-13.032196</td>\n",
              "      <td>-27.523131</td>\n",
              "      <td>0.120889</td>\n",
              "      <td>0.100767</td>\n",
              "      <td>0.087887</td>\n",
              "      <td>0.146901</td>\n",
              "      <td>0.123971</td>\n",
              "      <td>0.102530</td>\n",
              "      <td>0.117831</td>\n",
              "      <td>0.082383</td>\n",
              "      <td>0.127545</td>\n",
              "      <td>0.140811</td>\n",
              "      <td>0.141551</td>\n",
              "      <td>0.125599</td>\n",
              "      <td>570.040355</td>\n",
              "      <td>209.158637</td>\n",
              "      <td>0.021697</td>\n",
              "      <td>0.010838</td>\n",
              "      <td>83.000000</td>\n",
              "      <td>0.025826</td>\n",
              "      <td>0.008861</td>\n",
              "      <td>0.000322</td>\n",
              "      <td>0.000310</td>\n",
              "    </tr>\n",
              "    <tr>\n",
              "      <th>25%</th>\n",
              "      <td>-174.906400</td>\n",
              "      <td>76.779914</td>\n",
              "      <td>-26.909533</td>\n",
              "      <td>33.229180</td>\n",
              "      <td>-12.151781</td>\n",
              "      <td>13.567823</td>\n",
              "      <td>-14.162847</td>\n",
              "      <td>8.287087</td>\n",
              "      <td>-13.796166</td>\n",
              "      <td>4.577661</td>\n",
              "      <td>-11.770015</td>\n",
              "      <td>2.578138</td>\n",
              "      <td>-10.921671</td>\n",
              "      <td>0.350622</td>\n",
              "      <td>0.333888</td>\n",
              "      <td>0.355001</td>\n",
              "      <td>0.340330</td>\n",
              "      <td>0.352315</td>\n",
              "      <td>0.350528</td>\n",
              "      <td>0.331533</td>\n",
              "      <td>0.356445</td>\n",
              "      <td>0.336770</td>\n",
              "      <td>0.359888</td>\n",
              "      <td>0.354013</td>\n",
              "      <td>0.353648</td>\n",
              "      <td>1811.669152</td>\n",
              "      <td>451.146869</td>\n",
              "      <td>0.072386</td>\n",
              "      <td>0.037329</td>\n",
              "      <td>99.000000</td>\n",
              "      <td>0.101126</td>\n",
              "      <td>0.035260</td>\n",
              "      <td>0.004826</td>\n",
              "      <td>0.006284</td>\n",
              "    </tr>\n",
              "    <tr>\n",
              "      <th>50%</th>\n",
              "      <td>-110.549807</td>\n",
              "      <td>93.253993</td>\n",
              "      <td>-12.026329</td>\n",
              "      <td>45.308157</td>\n",
              "      <td>-1.321026</td>\n",
              "      <td>22.374753</td>\n",
              "      <td>-7.907388</td>\n",
              "      <td>16.491150</td>\n",
              "      <td>-9.072268</td>\n",
              "      <td>11.767396</td>\n",
              "      <td>-6.689813</td>\n",
              "      <td>7.799245</td>\n",
              "      <td>-5.957054</td>\n",
              "      <td>0.420621</td>\n",
              "      <td>0.403298</td>\n",
              "      <td>0.423159</td>\n",
              "      <td>0.420175</td>\n",
              "      <td>0.430402</td>\n",
              "      <td>0.417071</td>\n",
              "      <td>0.397705</td>\n",
              "      <td>0.423834</td>\n",
              "      <td>0.427223</td>\n",
              "      <td>0.437663</td>\n",
              "      <td>0.425918</td>\n",
              "      <td>0.419151</td>\n",
              "      <td>2306.103872</td>\n",
              "      <td>591.597601</td>\n",
              "      <td>0.102402</td>\n",
              "      <td>0.047413</td>\n",
              "      <td>123.000000</td>\n",
              "      <td>0.133580</td>\n",
              "      <td>0.047376</td>\n",
              "      <td>0.011380</td>\n",
              "      <td>0.012197</td>\n",
              "    </tr>\n",
              "    <tr>\n",
              "      <th>75%</th>\n",
              "      <td>-74.830733</td>\n",
              "      <td>108.861281</td>\n",
              "      <td>4.131517</td>\n",
              "      <td>55.573270</td>\n",
              "      <td>6.725764</td>\n",
              "      <td>27.961748</td>\n",
              "      <td>1.875055</td>\n",
              "      <td>22.020500</td>\n",
              "      <td>-1.294718</td>\n",
              "      <td>16.734655</td>\n",
              "      <td>-0.980595</td>\n",
              "      <td>12.452128</td>\n",
              "      <td>-0.320192</td>\n",
              "      <td>0.483167</td>\n",
              "      <td>0.477844</td>\n",
              "      <td>0.492626</td>\n",
              "      <td>0.488816</td>\n",
              "      <td>0.518002</td>\n",
              "      <td>0.484495</td>\n",
              "      <td>0.462663</td>\n",
              "      <td>0.495036</td>\n",
              "      <td>0.496538</td>\n",
              "      <td>0.519270</td>\n",
              "      <td>0.498457</td>\n",
              "      <td>0.495149</td>\n",
              "      <td>2677.937021</td>\n",
              "      <td>836.679042</td>\n",
              "      <td>0.135365</td>\n",
              "      <td>0.061439</td>\n",
              "      <td>144.000000</td>\n",
              "      <td>0.190093</td>\n",
              "      <td>0.064556</td>\n",
              "      <td>0.024598</td>\n",
              "      <td>0.033782</td>\n",
              "    </tr>\n",
              "    <tr>\n",
              "      <th>max</th>\n",
              "      <td>42.039432</td>\n",
              "      <td>169.539988</td>\n",
              "      <td>53.554402</td>\n",
              "      <td>80.702302</td>\n",
              "      <td>31.265146</td>\n",
              "      <td>45.173174</td>\n",
              "      <td>17.002701</td>\n",
              "      <td>37.752269</td>\n",
              "      <td>8.995744</td>\n",
              "      <td>27.212436</td>\n",
              "      <td>17.421561</td>\n",
              "      <td>23.034858</td>\n",
              "      <td>10.545053</td>\n",
              "      <td>0.707993</td>\n",
              "      <td>0.806368</td>\n",
              "      <td>0.729468</td>\n",
              "      <td>0.804244</td>\n",
              "      <td>0.808611</td>\n",
              "      <td>0.703639</td>\n",
              "      <td>0.756665</td>\n",
              "      <td>0.677732</td>\n",
              "      <td>0.776841</td>\n",
              "      <td>0.774805</td>\n",
              "      <td>0.775875</td>\n",
              "      <td>0.796815</td>\n",
              "      <td>4435.243901</td>\n",
              "      <td>1742.654028</td>\n",
              "      <td>0.274631</td>\n",
              "      <td>0.169465</td>\n",
              "      <td>185.000000</td>\n",
              "      <td>0.351055</td>\n",
              "      <td>0.166372</td>\n",
              "      <td>0.417805</td>\n",
              "      <td>0.275216</td>\n",
              "    </tr>\n",
              "  </tbody>\n",
              "</table>\n",
              "</div>"
            ],
            "text/plain": [
              "            mfcc1       mfcc2       mfcc3  ...        rms2       flat1       flat2\n",
              "count  400.000000  400.000000  400.000000  ...  400.000000  400.000000  400.000000\n",
              "mean  -123.302809   93.103490  -10.708109  ...    0.053840    0.019570    0.023964\n",
              "std     75.266544   24.935616   22.262692  ...    0.028050    0.028954    0.029677\n",
              "min   -350.434656   -1.461542  -89.870197  ...    0.008861    0.000322    0.000310\n",
              "25%   -174.906400   76.779914  -26.909533  ...    0.035260    0.004826    0.006284\n",
              "50%   -110.549807   93.253993  -12.026329  ...    0.047376    0.011380    0.012197\n",
              "75%    -74.830733  108.861281    4.131517  ...    0.064556    0.024598    0.033782\n",
              "max     42.039432  169.539988   53.554402  ...    0.166372    0.417805    0.275216\n",
              "\n",
              "[8 rows x 34 columns]"
            ]
          },
          "metadata": {
            "tags": []
          },
          "execution_count": 27
        }
      ]
    },
    {
      "cell_type": "markdown",
      "metadata": {
        "id": "8c3UIBKK5u8H",
        "colab_type": "text"
      },
      "source": [
        "Check **zero crossing rate**\n",
        "\n",
        "this feature might indicates the presence of how much different instruments are used"
      ]
    },
    {
      "cell_type": "code",
      "metadata": {
        "id": "0k1fHexG6Udz",
        "colab_type": "code",
        "outputId": "fa9bf372-9980-4cad-856e-2cf6ffce2783",
        "colab": {
          "base_uri": "https://localhost:8080/",
          "height": 282
        }
      },
      "source": [
        "x = features_value['zcr1']\n",
        "y = features_value['zcr2']\n",
        "# set colors\n",
        "color_to_genre = {'blues':'blue','metal':'grey','hiphop':'red','reggae':'green'}\n",
        "colors = []\n",
        "for each in genre_data['Genre']:\n",
        "    colors.append(color_to_genre[each])\n",
        "\n",
        "area = 10\n",
        "plt.scatter(x, y, s=area, c=colors, alpha=0.5)\n",
        "plt.grid(True)\n",
        "plt.legend()\n",
        "plt.show()"
      ],
      "execution_count": 0,
      "outputs": [
        {
          "output_type": "stream",
          "text": [
            "No handles with labels found to put in legend.\n"
          ],
          "name": "stderr"
        },
        {
          "output_type": "display_data",
          "data": {
            "image/png": "[encoded data removed]",
            "text/plain": [
              "<Figure size 432x288 with 1 Axes>"
            ]
          },
          "metadata": {
            "tags": [],
            "needs_background": "light"
          }
        }
      ]
    },
    {
      "cell_type": "markdown",
      "metadata": {
        "id": "p9lQZ4ri7iXQ",
        "colab_type": "text"
      },
      "source": [
        "Check **centroid**"
      ]
    },
    {
      "cell_type": "code",
      "metadata": {
        "id": "5sR0ILa67qhh",
        "colab_type": "code",
        "outputId": "b999207b-3b96-46d5-c8a1-8bc24f76a055",
        "colab": {
          "base_uri": "https://localhost:8080/",
          "height": 267
        }
      },
      "source": [
        "x = features_value['cent1']\n",
        "y = features_value['cent2']\n",
        "# set colors\n",
        "colors = []\n",
        "for each in genre_data['Genre']:\n",
        "    colors.append(color_to_genre[each])\n",
        "\n",
        "area = 10\n",
        "plt.scatter(x, y, s=area, c=colors, alpha=0.5)\n",
        "plt.grid(True)\n",
        "plt.show()"
      ],
      "execution_count": 0,
      "outputs": [
        {
          "output_type": "display_data",
          "data": {
            "image/png": "[encoded data removed]",
            "text/plain": [
              "<Figure size 432x288 with 1 Axes>"
            ]
          },
          "metadata": {
            "tags": [],
            "needs_background": "light"
          }
        }
      ]
    },
    {
      "cell_type": "markdown",
      "metadata": {
        "id": "SLMwGtgYmN5J",
        "colab_type": "text"
      },
      "source": [
        "**Check rms**"
      ]
    },
    {
      "cell_type": "code",
      "metadata": {
        "id": "x_BZcrlLmOXW",
        "colab_type": "code",
        "outputId": "1c895e4a-0d45-46ca-ea7b-e27837c55ca9",
        "colab": {
          "base_uri": "https://localhost:8080/",
          "height": 265
        }
      },
      "source": [
        "x = features_value['rms1']\n",
        "y = features_value['rms2']\n",
        "# set colors\n",
        "colors = []\n",
        "for each in genre_data['Genre']:\n",
        "    colors.append(color_to_genre[each])\n",
        "\n",
        "area = 10\n",
        "plt.scatter(x, y, s=area, c=colors, alpha=0.5)\n",
        "plt.grid(True)\n",
        "plt.show()"
      ],
      "execution_count": 0,
      "outputs": [
        {
          "output_type": "display_data",
          "data": {
            "image/png": "[encoded data removed]",
            "text/plain": [
              "<Figure size 432x288 with 1 Axes>"
            ]
          },
          "metadata": {
            "tags": [],
            "needs_background": "light"
          }
        }
      ]
    },
    {
      "cell_type": "markdown",
      "metadata": {
        "id": "0gVvN74mvFGN",
        "colab_type": "text"
      },
      "source": [
        ""
      ]
    },
    {
      "cell_type": "code",
      "metadata": {
        "id": "5UFSRE92vFb4",
        "colab_type": "code",
        "outputId": "f4af4363-97a0-4ee3-8921-cdc5f2b2e5f9",
        "colab": {
          "base_uri": "https://localhost:8080/",
          "height": 265
        }
      },
      "source": [
        "x = features_value['flat1']\n",
        "y = features_value['flat2']\n",
        "# set colors\n",
        "colors = []\n",
        "for each in genre_data['Genre']:\n",
        "    colors.append(color_to_genre[each])\n",
        "\n",
        "area = 10\n",
        "plt.scatter(x, y, s=area, c=colors, alpha=0.5)\n",
        "plt.grid(True)\n",
        "plt.show()"
      ],
      "execution_count": 0,
      "outputs": [
        {
          "output_type": "display_data",
          "data": {
            "image/png": "[encoded data removed]",
            "text/plain": [
              "<Figure size 432x288 with 1 Axes>"
            ]
          },
          "metadata": {
            "tags": [],
            "needs_background": "light"
          }
        }
      ]
    },
    {
      "cell_type": "markdown",
      "metadata": {
        "id": "1dQfS1TFvdip",
        "colab_type": "text"
      },
      "source": [
        "There are extra value in the flatness."
      ]
    },
    {
      "cell_type": "code",
      "metadata": {
        "id": "zILZ6jzrvclX",
        "colab_type": "code",
        "colab": {}
      },
      "source": [
        "# the strange sample 4/23 didn't finish\n",
        "x1 = np.max(features_value['flat1'])\n",
        "print(\"x1=\",x1)\n",
        "features_value.loc[x1,:]\n",
        "genre_data.tail(1)\n",
        "\n",
        "# another strange sample\n",
        "x2 = np.max(features_value['flat2'])\n",
        "print(\"x2=\",x2)\n",
        "features_value.loc[x2,:]\n"
      ],
      "execution_count": 0,
      "outputs": []
    },
    {
      "cell_type": "markdown",
      "metadata": {
        "id": "uz3Pourp78Ys",
        "colab_type": "text"
      },
      "source": [
        "## Feature Selection"
      ]
    },
    {
      "cell_type": "markdown",
      "metadata": {
        "id": "P35QymSI8AKk",
        "colab_type": "text"
      },
      "source": [
        "Since we have a multi dimensional feature list, \n",
        "\n",
        "although they all seems useful. But some of it might not have be helpful enough to support our classification model.\n",
        "So we can use  **sklearn.feature_selection module** to check some useless feature.\n",
        "\n",
        "[Ref](https://scikit-learn.org/stable/modules/feature_selection.html)"
      ]
    },
    {
      "cell_type": "code",
      "metadata": {
        "id": "9M2ACi4m8bUf",
        "colab_type": "code",
        "colab": {}
      },
      "source": [
        "from sklearn.feature_selection import VarianceThreshold\n",
        "# Remove features with low variance\n",
        "X_t1 = features_rescaled\n",
        "\n",
        "sel = VarianceThreshold(threshold=(.8 * (1 - .8)))\n",
        "X_del_useless_feature = sel.fit_transform(X_t1)"
      ],
      "execution_count": 0,
      "outputs": []
    },
    {
      "cell_type": "code",
      "metadata": {
        "id": "UUsPjHaR-Ac3",
        "colab_type": "code",
        "outputId": "8151df85-8985-40ad-e86a-618228b224fb",
        "colab": {
          "base_uri": "https://localhost:8080/",
          "height": 238
        }
      },
      "source": [
        "print(X_del_useless_feature)"
      ],
      "execution_count": 63,
      "outputs": [
        {
          "output_type": "stream",
          "text": [
            "[[-1.15099875  1.25920282  0.94673759 ...  0.38843355 -0.6355828\n",
            "  -0.76595601]\n",
            " [ 0.21460727 -0.18532059  0.29407425 ... -0.86872285 -0.41369219\n",
            "  -0.58805898]\n",
            " [ 0.45160083  0.02798297 -0.1732389  ... -1.27802266 -0.38718501\n",
            "  -0.60316014]\n",
            " ...\n",
            " [-0.54929415  1.99177282 -1.38436381 ... -0.41578915 -0.55969871\n",
            "  -0.67431593]\n",
            " [-0.61022767  0.69653805  0.09728289 ... -0.02858516 -0.52783078\n",
            "  -0.53314227]\n",
            " [-0.19713662  0.33643326 -1.10797571 ... -0.44319875 -0.15333553\n",
            "  -0.17237   ]]\n"
          ],
          "name": "stdout"
        }
      ]
    },
    {
      "cell_type": "markdown",
      "metadata": {
        "id": "wSSYxuLsqhv5",
        "colab_type": "text"
      },
      "source": [
        "\n",
        "## Data Spliting"
      ]
    },
    {
      "cell_type": "markdown",
      "metadata": {
        "id": "dDAYgLuqtGq4",
        "colab_type": "text"
      },
      "source": [
        "What's the benefit about data spliting,\n",
        "\n",
        "1. By dividing the data set according to a certain ratio, we can reasonably evaluate the performance of the learning algorithm in the face of unknown data.\n",
        "\n",
        "2. If the data used to evaluate the model is not independent of the sample, the evaluation result may be inaccurate. We also want this model can be applied in a wider range of situations.\n",
        "\n"
      ]
    },
    {
      "cell_type": "markdown",
      "metadata": {
        "id": "_R5429yU3OEk",
        "colab_type": "text"
      },
      "source": [
        "The simple way to do the data spliting is to use *sklearn.model_selection.train_test_split* to split to **Training set** and **Testing set**.\n"
      ]
    },
    {
      "cell_type": "code",
      "metadata": {
        "id": "7gpR50PytP4h",
        "colab_type": "code",
        "outputId": "72568278-d329-47a1-87a0-8e245e2b8405",
        "colab": {
          "base_uri": "https://localhost:8080/",
          "height": 66,
          "referenced_widgets": [
            "41d487e79aa840c8854c6e612a6fe686",
            "d5c9e69c1c5c45e4b7e1ec58ad1aed60",
            "0a8096cff525429b9ff21678ecfa1c2b",
            "6ee5f4b06383435997b03b39e5103309",
            "7f4afabe391a46e2a75b66cb9d1a0bd0",
            "619012712d9b44be8e61eb146440cdff",
            "7441b2923c5c42d09bcb901bc9831f9c",
            "8b807a7e1d494ec9aa2877bf9967633e"
          ]
        }
      },
      "source": [
        "# sklearn provides the function to split data\n",
        "# from sklearn.model_selection import train_test_split\n",
        "# get the features\n",
        "features = X_del_useless_feature# features = features_value\n",
        "# I am changing feature selection\n",
        "# get only the labeled genre result\n",
        "result = genre_data['Genre']\n",
        "\n",
        "# Use sklearn.train_test_split to split 80 % for training and 20% for testing\n",
        "# the random seed is set to 22 here in order to see a fixed output based on this.\n",
        "for each in tqdm(genre_analysis_list):\n",
        "    X_train, X_test,y_train,y_test = train_test_split(\n",
        "        features, result,\n",
        "        test_size = 0.2,\n",
        "        random_state = 72, shuffle = True) #22"
      ],
      "execution_count": 98,
      "outputs": [
        {
          "output_type": "display_data",
          "data": {
            "application/vnd.jupyter.widget-view+json": {
              "model_id": "41d487e79aa840c8854c6e612a6fe686",
              "version_minor": 0,
              "version_major": 2
            },
            "text/plain": [
              "HBox(children=(FloatProgress(value=0.0, max=4.0), HTML(value='')))"
            ]
          },
          "metadata": {
            "tags": []
          }
        },
        {
          "output_type": "stream",
          "text": [
            "\n"
          ],
          "name": "stdout"
        }
      ]
    },
    {
      "cell_type": "markdown",
      "metadata": {
        "id": "l_b1isGt3lYv",
        "colab_type": "text"
      },
      "source": [
        "Seconderly, another way to do the spliting, is to use **K-fold cross validating** method.\n",
        "\n",
        "The advantage of applying this method:\n",
        "\n",
        "1. we only have 400 audio piece in total, it's realatively a small amout of sample\n",
        "2. to make the future model more accurate\n",
        "\n",
        "\n",
        "**K-fold cross-validation** to do the selecting for the best parameter for the future model in order to increase the accuary dealing with unseen data.\n",
        "\n",
        "\n",
        "The workflow in this part should be like this,\n",
        "<div>\n",
        "<img src=\"https://scikit-learn.org/stable/_images/grid_search_workflow.png\" width=\"500\"/>\n",
        "</div>\n",
        "\n",
        "The general procedure for Cross-Validating is:\n",
        "\n",
        "1. Shuffle the dataset randomly.\n",
        "2. Split the dataset into k groups\n",
        "3. For each unique group:\n",
        "    - Take the group as a hold out or test data set\n",
        "    - Take the remaining groups as a training data set\n",
        "    - Fit a model on the training set and evaluate it on the test set\n",
        "    - Retain the evaluation score and discard the model\n",
        "    - Summarize the skill of the model using the sample of model evaluation scores\n",
        "\n",
        "**Reference**\n",
        "1. [Wiki](https://en.wikipedia.org/wiki/Cross-validation_(statistics))\n",
        "2. [sklearn](https://scikit-learn.org/stable/modules/generated/sklearn.model_selection.cross_validate.html)"
      ]
    },
    {
      "cell_type": "markdown",
      "metadata": {
        "id": "cRGlQyghYkq9",
        "colab_type": "text"
      },
      "source": [
        "## Observing the Training Set"
      ]
    },
    {
      "cell_type": "markdown",
      "metadata": {
        "id": "AbnimjWFYtCE",
        "colab_type": "text"
      },
      "source": [
        "We can visusalise the feature we want to use from the splited subset **X_train** and its genre label **y_train** .\n",
        "\n"
      ]
    },
    {
      "cell_type": "code",
      "metadata": {
        "id": "tGFkT-InkFqd",
        "colab_type": "code",
        "outputId": "8ef97cd2-0d3b-4291-b615-459887bcbe6b",
        "colab": {
          "base_uri": "https://localhost:8080/",
          "height": 252
        }
      },
      "source": [
        "# test plot 1 using\n",
        "x = X_train['cent1']\n",
        "y = X_train['zcr1']\n",
        "color_to_genre = {'blues':'blue','metal':'grey','hiphop':'red','reggae':'green'}\n",
        "\n",
        "colors = []\n",
        "for each in y_train:\n",
        "    colors.append(color_to_genre[each])\n",
        "\n",
        "area = 10\n",
        "plt.scatter(x, y, s=area, c=colors, alpha=0.5)\n",
        "plt.grid(True)\n",
        "plt.show()"
      ],
      "execution_count": 100,
      "outputs": [
        {
          "output_type": "error",
          "ename": "IndexError",
          "evalue": "ignored",
          "traceback": [
            "\u001b[0;31m---------------------------------------------------------------------------\u001b[0m",
            "\u001b[0;31mIndexError\u001b[0m                                Traceback (most recent call last)",
            "\u001b[0;32m<ipython-input-100-1cf0cf2f5249>\u001b[0m in \u001b[0;36m<module>\u001b[0;34m()\u001b[0m\n\u001b[1;32m      1\u001b[0m \u001b[0;31m# test plot 1 using\u001b[0m\u001b[0;34m\u001b[0m\u001b[0;34m\u001b[0m\u001b[0;34m\u001b[0m\u001b[0m\n\u001b[0;32m----> 2\u001b[0;31m \u001b[0mx\u001b[0m \u001b[0;34m=\u001b[0m \u001b[0mX_train\u001b[0m\u001b[0;34m[\u001b[0m\u001b[0;34m'cent1'\u001b[0m\u001b[0;34m]\u001b[0m\u001b[0;34m\u001b[0m\u001b[0;34m\u001b[0m\u001b[0m\n\u001b[0m\u001b[1;32m      3\u001b[0m \u001b[0my\u001b[0m \u001b[0;34m=\u001b[0m \u001b[0mX_train\u001b[0m\u001b[0;34m[\u001b[0m\u001b[0;34m'zcr1'\u001b[0m\u001b[0;34m]\u001b[0m\u001b[0;34m\u001b[0m\u001b[0;34m\u001b[0m\u001b[0m\n\u001b[1;32m      4\u001b[0m \u001b[0mcolor_to_genre\u001b[0m \u001b[0;34m=\u001b[0m \u001b[0;34m{\u001b[0m\u001b[0;34m'blues'\u001b[0m\u001b[0;34m:\u001b[0m\u001b[0;34m'blue'\u001b[0m\u001b[0;34m,\u001b[0m\u001b[0;34m'metal'\u001b[0m\u001b[0;34m:\u001b[0m\u001b[0;34m'grey'\u001b[0m\u001b[0;34m,\u001b[0m\u001b[0;34m'hiphop'\u001b[0m\u001b[0;34m:\u001b[0m\u001b[0;34m'red'\u001b[0m\u001b[0;34m,\u001b[0m\u001b[0;34m'reggae'\u001b[0m\u001b[0;34m:\u001b[0m\u001b[0;34m'green'\u001b[0m\u001b[0;34m}\u001b[0m\u001b[0;34m\u001b[0m\u001b[0;34m\u001b[0m\u001b[0m\n\u001b[1;32m      5\u001b[0m \u001b[0;34m\u001b[0m\u001b[0m\n",
            "\u001b[0;31mIndexError\u001b[0m: only integers, slices (`:`), ellipsis (`...`), numpy.newaxis (`None`) and integer or boolean arrays are valid indices"
          ]
        }
      ]
    },
    {
      "cell_type": "code",
      "metadata": {
        "id": "SrGaosmSrd5t",
        "colab_type": "code",
        "colab": {}
      },
      "source": [
        "# test plot 2 using\n",
        "x = X_train['mfcc1']\n",
        "y = X_train['cent1']\n",
        "color_to_genre = {'blues':'blue','metal':'grey','hiphop':'red','reggae':'green'}\n",
        "\n",
        "colors = []\n",
        "for each in y_train:\n",
        "    colors.append(color_to_genre[each])\n",
        "\n",
        "area = 10\n",
        "plt.scatter(x, y, s=area, c=colors, alpha=0.5)\n",
        "\n",
        "plt.grid(True)\n",
        "plt.show()"
      ],
      "execution_count": 0,
      "outputs": []
    },
    {
      "cell_type": "markdown",
      "metadata": {
        "id": "1LlAg7ll8Lhj",
        "colab_type": "text"
      },
      "source": [
        "3d"
      ]
    },
    {
      "cell_type": "code",
      "metadata": {
        "id": "w_RV7I6p8L-x",
        "colab_type": "code",
        "outputId": "737f1e5b-0c91-46ad-a287-e7466959a2e7",
        "colab": {
          "base_uri": "https://localhost:8080/",
          "height": 248
        }
      },
      "source": [
        "fig = plt.figure()\n",
        "#plt.rcParams['figure.figsize'] = (20.0, 10.0)\n",
        "\n",
        "ax = fig.add_subplot(111, projection='3d')\n",
        "\n",
        "m = 'o'\n",
        "xs = X_train['cent1']\n",
        "ys = X_train['zcr1']\n",
        "zs = X_train['tempo1']\n",
        "ax.scatter(xs, ys, zs, marker=m,color = colors)\n",
        "\n",
        "ax.set_xlabel('X Label')\n",
        "ax.set_ylabel('Y Label')\n",
        "ax.set_zlabel('Z Label')\n",
        "\n",
        "\n",
        "plt.show()\n"
      ],
      "execution_count": 0,
      "outputs": [
        {
          "output_type": "display_data",
          "data": {
            "image/png": "[encoded data removed]",
            "text/plain": [
              "<Figure size 432x288 with 1 Axes>"
            ]
          },
          "metadata": {
            "tags": [],
            "needs_background": "light"
          }
        }
      ]
    },
    {
      "cell_type": "markdown",
      "metadata": {
        "id": "JoSgWvefYfAQ",
        "colab_type": "text"
      },
      "source": [
        "## Modelling Classifier(1): KNN"
      ]
    },
    {
      "cell_type": "markdown",
      "metadata": {
        "id": "ZvVHHhDa6sxG",
        "colab_type": "text"
      },
      "source": [
        "As for classifier, we can try different approaches, \n",
        "\n",
        "1. use **K Neighbour Classfier**\n",
        "2. use **Support Vector Classifier** or others.\n",
        "\n",
        "We can test each model with the already splited dataset and try to find the best parameters to see the best result they could have."
      ]
    },
    {
      "cell_type": "markdown",
      "metadata": {
        "id": "uBdy05siwszs",
        "colab_type": "text"
      },
      "source": [
        "The parameters for KNN Classifier are **searching algorithm**, **n_neighbors**, **weights** and **p** (the way to calculate distance)\n",
        "\n",
        "Here is a simple test example using the dataset we have.\n",
        "\n",
        "\n",
        "Here is a **Simple test... with random parameters**"
      ]
    },
    {
      "cell_type": "code",
      "metadata": {
        "id": "qH_klroVP0x1",
        "colab_type": "code",
        "outputId": "e586a00d-ba40-4159-f766-54ffa4b38471",
        "colab": {
          "base_uri": "https://localhost:8080/",
          "height": 34
        }
      },
      "source": [
        "kClassifier = neighbors.KNeighborsClassifier(n_neighbors=15,weights = 'distance')\n",
        "kClassifier.fit(X_train,y_train)\n",
        "\n",
        "predictedTestLabels = kClassifier.predict(X_test)\n",
        "  \n",
        "print(kClassifier.score(X_test,y_test))"
      ],
      "execution_count": 103,
      "outputs": [
        {
          "output_type": "stream",
          "text": [
            "0.7875\n"
          ],
          "name": "stdout"
        }
      ]
    },
    {
      "cell_type": "markdown",
      "metadata": {
        "id": "oz41s_2h_r5F",
        "colab_type": "text"
      },
      "source": [
        "Now we can try to find a better k and weight to get higher score.\n",
        "\n",
        "\n",
        "For the **algorithm**, we can just choose **'auto'**, since this method would choose the fatest method from the other three, 'brute', 'kd_tree', 'ball_tree'.\n",
        "\n",
        "But for k and p, we will just enumerate all the combinations of different parameter set to check which has the highest score. \n",
        "\n",
        "(Is this called Grid Search to get the best parameter set?)"
      ]
    },
    {
      "cell_type": "markdown",
      "metadata": {
        "id": "UlolIGsJCtUG",
        "colab_type": "text"
      },
      "source": [
        "### Cross Validation: KNN \n",
        "We have training set (320 audio) and testing set(80 audio).\n",
        "\n",
        "We can use the training set also for cross validation, and save the testing set to evaluate the model for final conclusion.\n",
        "\n",
        "Using cross validation, we can improve the model,\n",
        "by searching for a better **k** with **p**\n",
        "\n"
      ]
    },
    {
      "cell_type": "code",
      "metadata": {
        "id": "g7hdcVXqA-8q",
        "colab_type": "code",
        "outputId": "585ae941-0a75-4e84-971b-ece0b5bd19af",
        "colab": {
          "base_uri": "https://localhost:8080/",
          "height": 68
        }
      },
      "source": [
        "# Test cross validation, k-fold\n",
        "# is this right? or something wrong?\n",
        "%%time\n",
        "best_p = -1\n",
        "best_score = 0.0\n",
        "best_k = -1\n",
        "for k in range(1, 11):\n",
        "    for p in range(1, 6):\n",
        "        knn_clf = neighbors.KNeighborsClassifier(n_neighbors = k, weights = \"distance\", p = p)\n",
        "        knn_clf.fit(X_train, y_train)\n",
        "        knn_score = np.mean(cross_val_score(knn_clf, X_train, y_train, cv=10, scoring='accuracy'))\n",
        "        #print(\"New cross test\",cross_val_score(knn_clf, X_train, y_train, cv=10, scoring='accuracy'))\n",
        "        if knn_score > best_score:\n",
        "            best_score = knn_score\n",
        "            best_k = k\n",
        "            best_p = p\n",
        "\n",
        "print(\"best_p = \", best_p, \", the best_k = \", best_k,\", and best_score = \", best_score)\n",
        "\n"
      ],
      "execution_count": 104,
      "outputs": [
        {
          "output_type": "stream",
          "text": [
            "best_p =  1 , the best_k =  5 , and best_score =  0.8375\n",
            "CPU times: user 8.39 s, sys: 1.83 ms, total: 8.39 s\n",
            "Wall time: 8.39 s\n"
          ],
          "name": "stdout"
        }
      ]
    },
    {
      "cell_type": "markdown",
      "metadata": {
        "id": "Tfo3avvocrjO",
        "colab_type": "text"
      },
      "source": [
        "### Evaluation: KNN\n",
        "\n"
      ]
    },
    {
      "cell_type": "markdown",
      "metadata": {
        "id": "bMYgKfJL3xS9",
        "colab_type": "text"
      },
      "source": [
        "Check the result"
      ]
    },
    {
      "cell_type": "markdown",
      "metadata": {
        "id": "wBvyvqqZ7kow",
        "colab_type": "text"
      },
      "source": [
        "### Testing: KNN\n",
        "So we can use the best parameter for training"
      ]
    },
    {
      "cell_type": "code",
      "metadata": {
        "id": "W0Gu0VqHnW90",
        "colab_type": "code",
        "outputId": "d0bf085c-e31c-485f-bc29-6ae91237fe9d",
        "colab": {
          "base_uri": "https://localhost:8080/",
          "height": 34
        }
      },
      "source": [
        "kClassifier = neighbors.KNeighborsClassifier(n_neighbors=5, weights = 'distance',p =2)\n",
        "kClassifier.fit(X_train,y_train)\n",
        "\n",
        "predictedTestLabels = kClassifier.predict(X_test)\n",
        "  \n",
        "print(kClassifier.score(X_test,y_test))"
      ],
      "execution_count": 107,
      "outputs": [
        {
          "output_type": "stream",
          "text": [
            "0.8125\n"
          ],
          "name": "stdout"
        }
      ]
    },
    {
      "cell_type": "markdown",
      "metadata": {
        "id": "gYpqEc3KHEwp",
        "colab_type": "text"
      },
      "source": [
        "**Confusion Matrix**\n",
        "\n",
        "So up to now, the best parameter for current KNN model should use **k = ?, p =? **.\n",
        "\n",
        "(With different testing data, different result of parameters)\n",
        "\n",
        "We can get the percentage of the accuracy for the prediction result,then together with the genre label of the testdata we can plot the **Confusion Matrix** as followed.\n",
        "\n",
        "Each **row** in the matrix is the real genre, while each **column** is the predicted genre category classified by the model we build.\n",
        "\n",
        "From the result of this Confusion Matrix, we can clearly see that the only music genre that has been difficult for our KNN model to classify is the \"Regea\". The result shows that the accuracy rate is only 0.48. And 0.43 has been put in the wrong genre a \"metal\"."
      ]
    },
    {
      "cell_type": "code",
      "metadata": {
        "id": "mi9XUnPvjbdn",
        "colab_type": "code",
        "outputId": "15184405-2a02-48ce-f915-5bf8c0ad75a5",
        "colab": {
          "base_uri": "https://localhost:8080/",
          "height": 380
        }
      },
      "source": [
        "#from sklearn.metrics import plot_confusion_matrix\n",
        "# plot confusion matrix\n",
        "title = \"Normalized confusion matrix\"\n",
        "disp = plot_confusion_matrix(kClassifier,X_test, y_test,\n",
        "                                 display_labels=genre_analysis_list, # genre names list\n",
        "                                 cmap=plt.cm.Blues,\n",
        "                                 normalize='true')\n",
        "disp.ax_.set_title(title)\n",
        "\n",
        "print()\n",
        "print(disp.confusion_matrix)\n",
        "\n",
        "plt.show()"
      ],
      "execution_count": 108,
      "outputs": [
        {
          "output_type": "stream",
          "text": [
            "\n",
            "[[0.94736842 0.         0.         0.05263158]\n",
            " [0.05       0.8        0.1        0.05      ]\n",
            " [0.18181818 0.09090909 0.72727273 0.        ]\n",
            " [0.10526316 0.10526316 0.         0.78947368]]\n"
          ],
          "name": "stdout"
        },
        {
          "output_type": "display_data",
          "data": {
            "image/png": "[encoded data removed]",
            "text/plain": [
              "<Figure size 432x288 with 2 Axes>"
            ]
          },
          "metadata": {
            "tags": [],
            "needs_background": "light"
          }
        }
      ]
    },
    {
      "cell_type": "markdown",
      "metadata": {
        "id": "j7pIp54HKp1O",
        "colab_type": "text"
      },
      "source": [
        "## Modelling Classifier(2): SVC\n",
        "\n",
        "using sklearn [SVM](https://scikit-learn.org/stable/modules/svm.html#classification)\n",
        "\n",
        "In this part, we can use the simplest svm to get get prediction of the music genre using test data."
      ]
    },
    {
      "cell_type": "code",
      "metadata": {
        "id": "3smDhj-0a8Wb",
        "colab_type": "code",
        "outputId": "4a80024a-2136-4682-dc26-387981a9536d",
        "colab": {
          "base_uri": "https://localhost:8080/",
          "height": 34
        }
      },
      "source": [
        "from sklearn import svm\n",
        "from sklearn.model_selection import cross_val_score\n",
        "\n",
        "X = X_train #feature training data\n",
        "Y = y_train # genre\n",
        "clf = svm.SVC(decision_function_shape='ovo')\n",
        "\n",
        "# the predicted result\n",
        "clf.fit(X, Y)\n",
        "#print(clf.predict(X_test))\n",
        "# check the score of the predicted result\n",
        "scores = cross_val_score(clf,features,result, cv=5)\n",
        "np.mean(scores)\n"
      ],
      "execution_count": 109,
      "outputs": [
        {
          "output_type": "execute_result",
          "data": {
            "text/plain": [
              "0.8150000000000001"
            ]
          },
          "metadata": {
            "tags": []
          },
          "execution_count": 109
        }
      ]
    },
    {
      "cell_type": "markdown",
      "metadata": {
        "id": "3LrDxaDKz9Rr",
        "colab_type": "text"
      },
      "source": [
        "Plot the prediction result and the difference between the test result.\n"
      ]
    },
    {
      "cell_type": "markdown",
      "metadata": {
        "id": "7tbfBRthXq9L",
        "colab_type": "text"
      },
      "source": [
        "### Cross Validation: SVC\n",
        "\n",
        "This part **runs really slow**...\n",
        "- need to check if it is possible to run faster"
      ]
    },
    {
      "cell_type": "code",
      "metadata": {
        "id": "OPi2S6euXro5",
        "colab_type": "code",
        "outputId": "a2d66317-c782-425f-d2b9-60cbeb9c0dbf",
        "colab": {
          "base_uri": "https://localhost:8080/",
          "height": 1000,
          "referenced_widgets": [
            "2bc727d810ec42ea9a5d40f6add6a65e",
            "a1c5141f47ed45f98b24b392cf783f99",
            "363a68e1473340809a034b4ce2136a82",
            "1630af3611014debbdab87d394ae4b2a",
            "77cc6ff6125040f8aef1a19467ba3a2f",
            "16a685521ff444729a9247fad38c4c89",
            "b9f37e9e7abf4d56b622b8222772197a",
            "f15b8ea9443c4ac4ad5ed708981bbd3f"
          ]
        }
      },
      "source": [
        "\n",
        "tuned_parameters = [{'kernel': ['rbf'], 'gamma': [1e-3, 1e-4],\n",
        "                     'C': [1, 10, 100, 1000]},\n",
        "                    {'kernel': ['linear'], 'C': [1, 10, 100, 1000]}]\n",
        "\n",
        "scores = ['precision', 'recall']\n",
        "print(\"Still searching....please wait...\")\n",
        "for score in tqdm(scores):\n",
        "    print(\"# Tuning hyper-parameters for %s\" % score)\n",
        "    print()\n",
        "    # use Parallelism\n",
        "    # https://scikit-learn.org/stable/modules/generated/sklearn.model_selection.GridSearchCV.html\n",
        "    clf = GridSearchCV(\n",
        "        svm.SVC(), tuned_parameters, scoring='%s_macro' % score, n_jobs = -1)\n",
        "    clf.fit(X_train, y_train)\n",
        "\n",
        "    print(\"Best parameters set found on development set:\")\n",
        "    print()\n",
        "    print(clf.best_params_)\n",
        "    print()\n",
        "    print(\"Grid scores on development set:\")\n",
        "    print()\n",
        "    means = clf.cv_results_['mean_test_score']\n",
        "    stds = clf.cv_results_['std_test_score']\n",
        "    for mean, std, params in zip(means, stds, clf.cv_results_['params']):\n",
        "        print(\"%0.3f (+/-%0.03f) for %r\"\n",
        "              % (mean, std * 2, params))\n",
        "    print()\n",
        "\n",
        "    print(\"Detailed classification report:\")\n",
        "    print()\n",
        "    print(\"The model is trained on the full development set.\")\n",
        "    print(\"The scores are computed on the full evaluation set.\")\n",
        "    print()\n",
        "    y_true, y_pred = y_test, clf.predict(X_test)\n",
        "    print(classification_report(y_true, y_pred))\n",
        "    print()"
      ],
      "execution_count": 110,
      "outputs": [
        {
          "output_type": "stream",
          "text": [
            "Still searching....please wait...\n"
          ],
          "name": "stdout"
        },
        {
          "output_type": "display_data",
          "data": {
            "application/vnd.jupyter.widget-view+json": {
              "model_id": "2bc727d810ec42ea9a5d40f6add6a65e",
              "version_minor": 0,
              "version_major": 2
            },
            "text/plain": [
              "HBox(children=(FloatProgress(value=0.0, max=2.0), HTML(value='')))"
            ]
          },
          "metadata": {
            "tags": []
          }
        },
        {
          "output_type": "stream",
          "text": [
            "# Tuning hyper-parameters for precision\n",
            "\n",
            "Best parameters set found on development set:\n",
            "\n",
            "{'C': 10, 'gamma': 0.001, 'kernel': 'rbf'}\n",
            "\n",
            "Grid scores on development set:\n",
            "\n",
            "0.718 (+/-0.070) for {'C': 1, 'gamma': 0.001, 'kernel': 'rbf'}\n",
            "0.136 (+/-0.129) for {'C': 1, 'gamma': 0.0001, 'kernel': 'rbf'}\n",
            "0.797 (+/-0.126) for {'C': 10, 'gamma': 0.001, 'kernel': 'rbf'}\n",
            "0.711 (+/-0.056) for {'C': 10, 'gamma': 0.0001, 'kernel': 'rbf'}\n",
            "0.779 (+/-0.099) for {'C': 100, 'gamma': 0.001, 'kernel': 'rbf'}\n",
            "0.785 (+/-0.112) for {'C': 100, 'gamma': 0.0001, 'kernel': 'rbf'}\n",
            "0.780 (+/-0.055) for {'C': 1000, 'gamma': 0.001, 'kernel': 'rbf'}\n",
            "0.782 (+/-0.090) for {'C': 1000, 'gamma': 0.0001, 'kernel': 'rbf'}\n",
            "0.781 (+/-0.097) for {'C': 1, 'kernel': 'linear'}\n",
            "0.772 (+/-0.059) for {'C': 10, 'kernel': 'linear'}\n",
            "0.769 (+/-0.104) for {'C': 100, 'kernel': 'linear'}\n",
            "0.760 (+/-0.067) for {'C': 1000, 'kernel': 'linear'}\n",
            "\n",
            "Detailed classification report:\n",
            "\n",
            "The model is trained on the full development set.\n",
            "The scores are computed on the full evaluation set.\n",
            "\n",
            "              precision    recall  f1-score   support\n",
            "\n",
            "       blues       0.66      1.00      0.79        19\n",
            "      hiphop       0.85      0.85      0.85        20\n",
            "       metal       0.90      0.82      0.86        22\n",
            "      reggae       0.82      0.47      0.60        19\n",
            "\n",
            "    accuracy                           0.79        80\n",
            "   macro avg       0.81      0.79      0.77        80\n",
            "weighted avg       0.81      0.79      0.78        80\n",
            "\n",
            "\n",
            "# Tuning hyper-parameters for recall\n",
            "\n",
            "Best parameters set found on development set:\n",
            "\n",
            "{'C': 10, 'gamma': 0.001, 'kernel': 'rbf'}\n",
            "\n",
            "Grid scores on development set:\n",
            "\n",
            "0.697 (+/-0.081) for {'C': 1, 'gamma': 0.001, 'kernel': 'rbf'}\n",
            "0.322 (+/-0.150) for {'C': 1, 'gamma': 0.0001, 'kernel': 'rbf'}\n",
            "0.795 (+/-0.119) for {'C': 10, 'gamma': 0.001, 'kernel': 'rbf'}\n",
            "0.690 (+/-0.068) for {'C': 10, 'gamma': 0.0001, 'kernel': 'rbf'}\n",
            "0.769 (+/-0.091) for {'C': 100, 'gamma': 0.001, 'kernel': 'rbf'}\n",
            "0.782 (+/-0.104) for {'C': 100, 'gamma': 0.0001, 'kernel': 'rbf'}\n",
            "0.776 (+/-0.056) for {'C': 1000, 'gamma': 0.001, 'kernel': 'rbf'}\n",
            "0.778 (+/-0.085) for {'C': 1000, 'gamma': 0.0001, 'kernel': 'rbf'}\n",
            "0.773 (+/-0.095) for {'C': 1, 'kernel': 'linear'}\n",
            "0.760 (+/-0.065) for {'C': 10, 'kernel': 'linear'}\n",
            "0.763 (+/-0.105) for {'C': 100, 'kernel': 'linear'}\n",
            "0.754 (+/-0.071) for {'C': 1000, 'kernel': 'linear'}\n",
            "\n",
            "Detailed classification report:\n",
            "\n",
            "The model is trained on the full development set.\n",
            "The scores are computed on the full evaluation set.\n",
            "\n",
            "              precision    recall  f1-score   support\n",
            "\n",
            "       blues       0.66      1.00      0.79        19\n",
            "      hiphop       0.85      0.85      0.85        20\n",
            "       metal       0.90      0.82      0.86        22\n",
            "      reggae       0.82      0.47      0.60        19\n",
            "\n",
            "    accuracy                           0.79        80\n",
            "   macro avg       0.81      0.79      0.77        80\n",
            "weighted avg       0.81      0.79      0.78        80\n",
            "\n",
            "\n",
            "\n"
          ],
          "name": "stdout"
        }
      ]
    },
    {
      "cell_type": "markdown",
      "metadata": {
        "id": "86oTW1U9f5nX",
        "colab_type": "text"
      },
      "source": [
        "### Testing: SVC"
      ]
    },
    {
      "cell_type": "markdown",
      "metadata": {
        "id": "4UQ7zfVmDEoK",
        "colab_type": "text"
      },
      "source": [
        "Then, we can see the best parameter set\n",
        "{'C': 10, 'gamma': 0.001, 'kernel': 'rbf'}"
      ]
    },
    {
      "cell_type": "code",
      "metadata": {
        "id": "V09EekGbz9qk",
        "colab_type": "code",
        "outputId": "6f7a5f82-bc12-4a02-a4ff-26d00a1ef5b6",
        "colab": {
          "base_uri": "https://localhost:8080/",
          "height": 380
        }
      },
      "source": [
        "from sklearn.metrics import plot_confusion_matrix\n",
        "# plot confusion matrix\n",
        "title = \"Normalized confusion matrix\"\n",
        "clf = svm.SVC(C=10.0,kernel ='rbf',gamma= 0.001,)\n",
        "clf.fit(X, Y)\n",
        "disp = plot_confusion_matrix(clf,X_test, y_test,\n",
        "                                 display_labels=genre_analysis_list, # genre names list\n",
        "                                 cmap=plt.cm.Blues,\n",
        "                                 normalize='true')\n",
        "disp.ax_.set_title(title)\n",
        "\n",
        "print()\n",
        "print(disp.confusion_matrix)\n",
        "\n",
        "plt.show()"
      ],
      "execution_count": 111,
      "outputs": [
        {
          "output_type": "stream",
          "text": [
            "\n",
            "[[1.         0.         0.         0.        ]\n",
            " [0.         0.85       0.1        0.05      ]\n",
            " [0.13636364 0.         0.81818182 0.04545455]\n",
            " [0.36842105 0.15789474 0.         0.47368421]]\n"
          ],
          "name": "stdout"
        },
        {
          "output_type": "display_data",
          "data": {
            "image/png": "[encoded data removed]",
            "text/plain": [
              "<Figure size 432x288 with 2 Axes>"
            ]
          },
          "metadata": {
            "tags": [],
            "needs_background": "light"
          }
        }
      ]
    },
    {
      "cell_type": "markdown",
      "metadata": {
        "id": "fOAxKOIUSRHA",
        "colab_type": "text"
      },
      "source": [
        "## About Team Work\n",
        "**0410 Discussion**\n",
        "1. apply preprocessing to audio files\n",
        "2. how to split our dataset to {training, testing} to make sure the difference of the two groups\n",
        "3. check if our dataset is balanced? Actually it is already balanced.\n",
        "4. which set of features can to useful for our cases\n",
        "5. apply feature selection?\n",
        "6. choose which classification method?\n",
        "7. try different parameter for the classfier\n",
        "8. evaluate the model\n",
        "9. display the result\n",
        "**0411 Discussion**\n",
        "1. do some test individually, using different classfiers\n",
        "**0422 Discussion**\n",
        "1. finish HW1: add tempo features(peakA1,A0,beat...)\n",
        "2. start to write Document, do it together\n",
        "3. still need to fix some error\n",
        "4. complete the model evaluation,optimization\n",
        "5. then, write the introduction and final conclusion\n",
        "\n",
        "**0510**\n",
        "1. document\n",
        "\n",
        "**0514**\n",
        "1. group discussion\n",
        "2. finish final document\n"
      ]
    },
    {
      "cell_type": "markdown",
      "metadata": {
        "id": "RX0AgidX4rzo",
        "colab_type": "text"
      },
      "source": [
        "## Reference Materials"
      ]
    },
    {
      "cell_type": "markdown",
      "metadata": {
        "id": "4xJ3RN_-IdrD",
        "colab_type": "text"
      },
      "source": [
        "1. [librosa Library](http://librosa.github.io/librosa/generated/librosa.feature.tempogram.html#librosa.feature.tempogram)\n",
        "2. [Pandas Library](https://pandas.pydata.org/Pandas_Cheat_Sheet.pdf)\n",
        "2. [sklearn cheat sheet](https://s3.amazonaws.com/assets.datacamp.com/blog_assets/Scikit_Learn_Cheat_Sheet_Python.pdf)\n",
        "2. [sklearn, machine learning library](https://scikit-learn.org/stable/) \n",
        "3. [Essentia Library](https://essentia.upf.edu/essentia_python_tutorial.html) \n",
        "4. VAMP plugin python wrapper\n",
        "5. The GTZAN dataset: Its contents, its faults, their effects on evaluation, and its future us, Bob L. Sturm, [2013](https://arxiv.org/abs/1306.1461)\n",
        "6. Mattia recommend, [Musical Genre Classification of Audio Signals](https://dspace.library.uvic.ca/bitstream/handle/1828/1344/tsap02gtzan.pdf?sequence=1)\n",
        "7. Miriam recommend, [Feature Extraction](http://www.ifs.tuwien.ac.at/~schindler/lectures/MIR_Feature_Extraction.html), Alexander Schindler\n",
        "\n",
        "8. reference for how to present a report [MusicGenreClassification Report cs229](http://cs229.stanford.edu/proj2016/report/BurlinCremeLenain-MusicGenreClassification-report.pdf)"
      ]
    }
  ]
}