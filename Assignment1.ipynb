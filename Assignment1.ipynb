{
  "nbformat": 4,
  "nbformat_minor": 0,
  "metadata": {
    "colab": {
      "name": "Assignment1.ipynb",
      "provenance": [],
      "collapsed_sections": [],
      "toc_visible": true,
      "include_colab_link": true
    },
    "kernelspec": {
      "display_name": "Python 3",
      "language": "python",
      "name": "python3"
    },
    "language_info": {
      "codemirror_mode": {
        "name": "ipython",
        "version": 3
      },
      "file_extension": ".py",
      "mimetype": "text/x-python",
      "name": "python",
      "nbconvert_exporter": "python",
      "pygments_lexer": "ipython3",
      "version": "3.6.8"
    }
  },
  "cells": [
    {
      "cell_type": "markdown",
      "metadata": {
        "id": "view-in-github",
        "colab_type": "text"
      },
      "source": [
        "<a href=\"https://colab.research.google.com/github/yilin10/MusicalGenreClassification/blob/master/Assignment1.ipynb\" target=\"_parent\"><img src=\"https://colab.research.google.com/assets/colab-badge.svg\" alt=\"Open In Colab\"/></a>"
      ]
    },
    {
      "cell_type": "markdown",
      "metadata": {
        "colab_type": "text",
        "id": "jLVe0JKuO3bf"
      },
      "source": [
        "# Computer Music Languages and System - Assignment 1"
      ]
    },
    {
      "cell_type": "markdown",
      "metadata": {
        "colab_type": "text",
        "id": "oAMtiv3fi_zD"
      },
      "source": [
        "## Imports"
      ]
    },
    {
      "cell_type": "markdown",
      "metadata": {
        "colab_type": "text",
        "id": "AoIKVCIltRqu"
      },
      "source": [
        "Import of **Libraries**"
      ]
    },
    {
      "cell_type": "code",
      "metadata": {
        "colab_type": "code",
        "id": "PM1VJfgyOXPH",
        "colab": {}
      },
      "source": [
        "import numpy as np\n",
        "import librosa\n",
        "import os\n",
        "import matplotlib.pyplot as plt\n",
        "import sklearn.svm\n",
        "import IPython.display as ipd\n",
        "import scipy as sp"
      ],
      "execution_count": 0,
      "outputs": []
    },
    {
      "cell_type": "markdown",
      "metadata": {
        "colab_type": "text",
        "id": "hxm6tnwutXJu"
      },
      "source": [
        "Upload of your personal **Kaggle Api token** to enable download from Kaggle"
      ]
    },
    {
      "cell_type": "code",
      "metadata": {
        "colab_type": "code",
        "id": "X8wsW27Qk5d2",
        "outputId": "a70fc1af-3e6f-49cb-e7e6-e410afc61cb0",
        "colab": {
          "resources": {
            "http://localhost:8080/nbextensions/google.colab/files.js": {
              "data": "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",
              "ok": true,
              "headers": [
                [
                  "content-type",
                  "application/javascript"
                ]
              ],
              "status": 200,
              "status_text": ""
            }
          },
          "base_uri": "https://localhost:8080/",
          "height": 75
        }
      },
      "source": [
        "from google.colab import files\n",
        "files.upload() # Choose kaggle.json (your personal Kaggle API token)\n",
        "\n",
        "! rm -r ~/.kaggle\n",
        "! mkdir ~/.kaggle\n",
        "! mv kaggle.json ~/.kaggle/\n",
        "! chmod 600 ~/.kaggle/kaggle.json # Change the permissions of the file."
      ],
      "execution_count": 0,
      "outputs": [
        {
          "output_type": "display_data",
          "data": {
            "text/html": [
              "\n",
              "     <input type=\"file\" id=\"files-6139d1bd-bedc-414b-91cc-669eeea76faf\" name=\"files[]\" multiple disabled />\n",
              "     <output id=\"result-6139d1bd-bedc-414b-91cc-669eeea76faf\">\n",
              "      Upload widget is only available when the cell has been executed in the\n",
              "      current browser session. Please rerun this cell to enable.\n",
              "      </output>\n",
              "      <script src=\"/nbextensions/google.colab/files.js\"></script> "
            ],
            "text/plain": [
              "<IPython.core.display.HTML object>"
            ]
          },
          "metadata": {
            "tags": []
          }
        },
        {
          "output_type": "stream",
          "text": [
            "Saving kaggle.json to kaggle.json\n"
          ],
          "name": "stdout"
        }
      ]
    },
    {
      "cell_type": "markdown",
      "metadata": {
        "colab_type": "text",
        "id": "ut0yfrF6tvqA"
      },
      "source": [
        "Download of the dataset from Kaggle"
      ]
    },
    {
      "cell_type": "code",
      "metadata": {
        "colab_type": "code",
        "id": "O-jkkBM5RLBm",
        "outputId": "b0383f52-b225-4fec-ea31-0bf64f8caa67",
        "colab": {
          "base_uri": "https://localhost:8080/",
          "height": 88
        }
      },
      "source": [
        "! pip install -q kaggle\n",
        "! mkdir ~/dataset\n",
        "! kaggle datasets download -d carlthome/gtzan-genre-collection\n",
        "! unzip -q gtzan-genre-collection.zip -d ~/dataset"
      ],
      "execution_count": 0,
      "outputs": [
        {
          "output_type": "stream",
          "text": [
            "mkdir: cannot create directory ‘/root/dataset’: File exists\n",
            "gtzan-genre-collection.zip: Skipping, found more recently modified local copy (use --force to force download)\n",
            "replace /root/dataset/genres/blues/blues.00000.au? [y]es, [n]o, [A]ll, [N]one, [r]ename: A\n"
          ],
          "name": "stdout"
        }
      ]
    },
    {
      "cell_type": "markdown",
      "metadata": {
        "id": "pzQ5pqIHdY2B",
        "colab_type": "text"
      },
      "source": [
        "## Observing Data"
      ]
    },
    {
      "cell_type": "markdown",
      "metadata": {
        "id": "muksP7rsd25t",
        "colab_type": "text"
      },
      "source": [
        "We can get the dataset from kaggle, which includes 100 pieces of 30s audio from 10 different music genres provided by GTZAN. All the audio tracks are sampled at 22050 Hz Mono 16-bit audio files in .au format.\n",
        "\n",
        "And in our task we need to classify Blues, Metal, Hip-Hop, Reggae.\n",
        "\n",
        "**To be Finished Later**...\n"
      ]
    },
    {
      "cell_type": "markdown",
      "metadata": {
        "id": "PLdMMi5PeZg_",
        "colab_type": "text"
      },
      "source": [
        "## Data Preprocessing"
      ]
    },
    {
      "cell_type": "markdown",
      "metadata": {
        "id": "ZipMFYxDvGrq",
        "colab_type": "text"
      },
      "source": [
        "We should do some general analysis to show the statistical overview to understand the data we have.\n",
        "\n",
        "**This part also can be done later.**\n"
      ]
    },
    {
      "cell_type": "markdown",
      "metadata": {
        "id": "kSjl2usBdkfU",
        "colab_type": "text"
      },
      "source": [
        "## Feature Extracting"
      ]
    },
    {
      "cell_type": "markdown",
      "metadata": {
        "id": "rkH5ul-DdoEI",
        "colab_type": "text"
      },
      "source": [
        "In this part, we are goint to extract some feature using librosa library used for future steps, like training our model.\n",
        "\n",
        "1. Feature Selecting\n",
        "- mfcc: librosa.feature.mfcc\n",
        "- melspectrogram: librosa.feature.melspectrogram\n",
        "- tempogram: librosa.feature.tempogram\n"
      ]
    },
    {
      "cell_type": "markdown",
      "metadata": {
        "id": "bA3xB-SXeDCA",
        "colab_type": "text"
      },
      "source": [
        "2. Feature extracting: **mfcc**"
      ]
    },
    {
      "cell_type": "code",
      "metadata": {
        "id": "Oapm5mMheEpb",
        "colab_type": "code",
        "outputId": "35aa2c97-17fc-457c-f369-0744cd2631df",
        "colab": {
          "base_uri": "https://localhost:8080/",
          "height": 153
        }
      },
      "source": [
        "#we need to analysis Blues, Metal, Hip-Hop, Reggae\n",
        "ana_class = [\"blues\",\"metal\",\"hiphop\",\"reggae\"] \n",
        "dict_train_features_mfcc = {\"blues\": [], \"metal\": [], \"hiphop\": [], \"reggae\": []}\n",
        "\n",
        "n_mfcc = 13 # try: change back to 13\n",
        "train_path = \"../root/dataset/genres/\"\n",
        "\n",
        "for each in ana_class:\n",
        "    train_test_folder = train_path + format(each)\n",
        "    #the current folder/categories\n",
        "    print(\"Current train_test_folder is: \" + train_test_folder)\n",
        "\n",
        "    train_catg_files = [f for f in os.listdir(train_test_folder) if f.endswith('.au')]\n",
        "    #print(train_catg_files)\n",
        "    n_train_samples = len(train_catg_files) \n",
        "    #how much files in each category\n",
        "    print(\"Number of training samples in this category: \", n_train_samples)\n",
        "    \n",
        "    #store feature result\n",
        "    train_features = np.zeros((n_train_samples, n_mfcc))\n",
        "    \n",
        "    #print(train_features)\n",
        "    for index, each_file in enumerate(train_catg_files):\n",
        "        each_file_path = os.path.join(train_test_folder, each_file)\n",
        "        y, sr = librosa.load(each_file_path)\n",
        "        #n_mfcc=20\n",
        "        feature_mfcc = librosa.feature.mfcc(y, sr, n_mfcc=13) \n",
        "        train_features[index, :] = np.mean(feature_mfcc, axis=1)\n",
        "        #print(\"train_features\", train_features)\n",
        "        #dont need tempo in this way, for now...\n",
        "        #tempo, beat_frames = librosa.beat.beat_track(y, sr)\n",
        "        #print(\"Estimated tempo: \", tempo)\n",
        "\n",
        "    dict_train_features_mfcc[each] = train_features\n"
      ],
      "execution_count": 42,
      "outputs": [
        {
          "output_type": "stream",
          "text": [
            "Current train_test_folder is: ../root/dataset/genres/blues\n",
            "Number of training samples in this category:  100\n",
            "Current train_test_folder is: ../root/dataset/genres/metal\n",
            "Number of training samples in this category:  100\n",
            "Current train_test_folder is: ../root/dataset/genres/hiphop\n",
            "Number of training samples in this category:  100\n",
            "Current train_test_folder is: ../root/dataset/genres/reggae\n",
            "Number of training samples in this category:  100\n"
          ],
          "name": "stdout"
        }
      ]
    },
    {
      "cell_type": "markdown",
      "metadata": {
        "id": "WqsDUcSJm434",
        "colab_type": "text"
      },
      "source": [
        "3. Feature extracting: **tempogram** \n",
        "\n",
        "    [---not using right now---]\n",
        "\n",
        "    There might be some problems with the window length need to be fixed.\n",
        "\n"
      ]
    },
    {
      "cell_type": "code",
      "metadata": {
        "id": "6R10PL8mm4oo",
        "colab_type": "code",
        "colab": {}
      },
      "source": [
        "dict_train_features_tempo = {\"blues\": [], \"metal\": [], \"hiphop\": [], \"reggae\": []}\n",
        "for each in ana_class:\n",
        "    train_test_folder = train_path + format(each)\n",
        "    print(\"Current train_test_folder is: \" + train_test_folder) #current folder\n",
        "    train_catg_files = [f for f in os.listdir(train_test_folder) if f.endswith('.au')]\n",
        "    n_train_samples = len(train_catg_files)\n",
        "    train_features = np.zeros((n_train_samples,#???)) # win_length=384 too long\n",
        "\n",
        "    for index, each_file in enumerate(train_catg_files):\n",
        "        each_file_path = os.path.join(train_test_folder, each_file)\n",
        "        y, sr = librosa.load(each_file_path)\n",
        "        #New feature: tempogram\n",
        "        feature_tempogram = librosa.feature.tempogram(y, sr)\n",
        "        train_features[index, :] = np.mean(feature_tempogram, axis=1)\n",
        "        \n",
        "\n",
        "    dict_train_features_tempo[each] = train_features\n",
        "#Test\n",
        "print(\"---\\n Testing...\")\n",
        "print(dict_train_features_tempo[\"blues\"])"
      ],
      "execution_count": 0,
      "outputs": []
    },
    {
      "cell_type": "code",
      "metadata": {
        "id": "8PVBz1Sc1N_P",
        "colab_type": "code",
        "outputId": "2070d321-b19e-4a43-aa4b-9dfdca3f3ce6",
        "colab": {
          "base_uri": "https://localhost:8080/",
          "height": 238
        }
      },
      "source": [
        "print(dict_train_features[\"blues\"])\n",
        "print(dict_train_features_tempo[\"blues\"])"
      ],
      "execution_count": 0,
      "outputs": [
        {
          "output_type": "stream",
          "text": [
            "[[-1.21448978e+02  9.60805375e+01 -1.95898421e+01 ... -2.04378116e+00\n",
            "  -1.76269026e+00 -3.96245312e+00]\n",
            " [-1.21363940e+02  1.22506683e+02 -1.47381965e+01 ...  2.69524786e+00\n",
            "   3.41230547e+00 -2.71569238e+00]\n",
            " [-3.00981873e+01  1.03732518e+02 -1.97379711e+01 ...  4.72184211e+00\n",
            "   4.90646799e-01  1.47166699e+00]\n",
            " ...\n",
            " [-1.55558833e+02  1.25645326e+02  1.60112256e+00 ...  9.69413886e-01\n",
            "   2.02691569e+00 -5.73704447e+00]\n",
            " [-1.45280972e+02  1.02806649e+02 -1.25294329e+01 ... -9.52051838e-01\n",
            "   2.25845906e-02 -2.00456166e+00]\n",
            " [-5.26972475e+01  7.44333591e+01 -1.86967667e+01 ...  3.68983828e+00\n",
            "  -4.93847515e+00  4.42173063e+00]]\n"
          ],
          "name": "stdout"
        }
      ]
    },
    {
      "cell_type": "markdown",
      "metadata": {
        "id": "7CaY82J-tcd0",
        "colab_type": "text"
      },
      "source": [
        "4. Feature extracting: **chroma**"
      ]
    },
    {
      "cell_type": "code",
      "metadata": {
        "id": "Vcd0v8gAqnUb",
        "colab_type": "code",
        "colab": {
          "base_uri": "https://localhost:8080/",
          "height": 221
        },
        "outputId": "473ea8b3-4c28-4e0e-f78d-5d38f844cec3"
      },
      "source": [
        "dict_train_features_chroma = {\"blues\": [], \"metal\": [], \"hiphop\": [], \"reggae\": []}\n",
        "for each in ana_class:\n",
        "    train_test_folder = train_path + format(each)\n",
        "    print(\"Current train_test_folder is: \" + train_test_folder) #current folder\n",
        "    train_catg_files = [f for f in os.listdir(train_test_folder) if f.endswith('.au')]\n",
        "    n_train_samples = len(train_catg_files)\n",
        "    n_size = 12\n",
        "    train_features = np.zeros((n_train_samples,n_size)) # 12\n",
        "\n",
        "    for index, each_file in enumerate(train_catg_files):\n",
        "        each_file_path = os.path.join(train_test_folder, each_file)\n",
        "        y, sr = librosa.load(each_file_path)\n",
        "        #new feature\n",
        "        feature_chroma = librosa.feature.chroma_stft(y,sr)\n",
        "        train_features[index, :] = np.mean(feature_chroma, axis=1)\n",
        "\n",
        "    dict_train_features_chroma[each] = train_features\n",
        "#Test\n",
        "print(\"---\\n Testing...\")\n",
        "print(dict_train_features_chroma[\"blues\"])"
      ],
      "execution_count": 41,
      "outputs": [
        {
          "output_type": "stream",
          "text": [
            "Current train_test_folder is: ../root/dataset/genres/blues\n",
            "Current train_test_folder is: ../root/dataset/genres/metal\n",
            "Current train_test_folder is: ../root/dataset/genres/hiphop\n",
            "Current train_test_folder is: ../root/dataset/genres/reggae\n",
            "testing...\n",
            "[[0.29225903 0.19055726 0.34224745 ... 0.21464935 0.25209257 0.2602833 ]\n",
            " [0.31958133 0.30447576 0.36660105 ... 0.46159659 0.36630426 0.46472693]\n",
            " [0.34952515 0.33075454 0.29117243 ... 0.28203965 0.4997438  0.28577929]\n",
            " ...\n",
            " [0.30524382 0.41201784 0.30276149 ... 0.39435799 0.3372278  0.25945018]\n",
            " [0.29422466 0.2721143  0.40149029 ... 0.39088748 0.34161092 0.41863239]\n",
            " [0.32583133 0.26381195 0.3801748  ... 0.42798993 0.4770285  0.34903449]]\n"
          ],
          "name": "stdout"
        }
      ]
    },
    {
      "cell_type": "markdown",
      "metadata": {
        "id": "g2oep2fHgh4f",
        "colab_type": "text"
      },
      "source": [
        "\n",
        "\n",
        "**Function calculate_features**\n",
        "\n",
        "Define a function calculate any feature we want by walking through the file of specific genres."
      ]
    },
    {
      "cell_type": "code",
      "metadata": {
        "id": "M0_baYNRgcBt",
        "colab_type": "code",
        "colab": {}
      },
      "source": [
        "def calculate_feature(categories = [\"blues\",\"metal\",\"hiphop\",\"reggae\"] ,something):\n",
        "    \"\"\"\n",
        "\n",
        "    \"\"\"\n",
        "    \n",
        "\n",
        "    return dict_feature"
      ],
      "execution_count": 0,
      "outputs": []
    },
    {
      "cell_type": "markdown",
      "metadata": {
        "id": "wSSYxuLsqhv5",
        "colab_type": "text"
      },
      "source": [
        "\n",
        "\n",
        "## Data Spliting(???)"
      ]
    },
    {
      "cell_type": "markdown",
      "metadata": {
        "id": "wfdtn3ERql-9",
        "colab_type": "text"
      },
      "source": [
        "To avoid the influence from the order of the audio pice included in the dataset provided by Gtzan, as welss as enhancing the accuracy for future training and testing our model, we need to split the dataset into two parts, and change the order of it.\n",
        "\n",
        "1. By dividing the data set according to a certain ratio, we can reasonably evaluate the performance of the learning algorithm in the face of unknown data.\n",
        "\n",
        "2. If the data used to evaluate the model is not independent of the sample, the evaluation result may be inaccurate. We also can't figure out whether this algorithm can be applied in a wider range of situations or not.\n",
        "\n"
      ]
    },
    {
      "cell_type": "markdown",
      "metadata": {
        "id": "ekj-kdvuedvc",
        "colab_type": "text"
      },
      "source": [
        "Thus, we can try to split the data into two part( 80% : 20%) in order to have totally different data with labels for training and testing individually."
      ]
    },
    {
      "cell_type": "code",
      "metadata": {
        "id": "-tudoPjwqmPc",
        "colab_type": "code",
        "colab": {}
      },
      "source": [
        "# sklearn provides the function to split data\n",
        "from sklearn.model_selection import train_test_split\n",
        "# feature: 1. mfcc\n",
        "# split 80% for training and 20% for testing\n",
        "# the random seed is set to 22 here in order to see a fixed output based on this.\n",
        "\n"
      ],
      "execution_count": 0,
      "outputs": []
    },
    {
      "cell_type": "markdown",
      "metadata": {
        "id": "afKSmJCmGyer",
        "colab_type": "text"
      },
      "source": [
        "y_train_all= np.zeros((80, 4))\n",
        "\n",
        "y_test_all= np.zeros((20, 4))"
      ]
    },
    {
      "cell_type": "code",
      "metadata": {
        "id": "8oVWnW3bDKFz",
        "colab_type": "code",
        "colab": {
          "base_uri": "https://localhost:8080/",
          "height": 317
        },
        "outputId": "3e068011-f67b-4c72-8cfc-6eb303669c13"
      },
      "source": [
        "for index in dict_train_features:\n",
        "    i = 0\n",
        "    y_train, y_test,x_train,x_test = train_test_split(\n",
        "        dict_train_features_mfcc[index], dict_train_features_chroma[index],\n",
        "        test_size = 0.2,\n",
        "        random_state = 22)\n",
        "    print(\"Index:\",index)\n",
        "    #print(dict_train_features_mfcc[index])\n",
        "    #need to be finished\n",
        "    \n",
        "\n"
      ],
      "execution_count": 61,
      "outputs": [
        {
          "output_type": "stream",
          "text": [
            "Index: blues\n",
            "[0. 0. 0. 0. 0. 0. 0. 0. 0. 0. 0. 0. 0. 0. 0. 0. 0. 0. 0. 0. 0. 0. 0. 0.\n",
            " 0. 0. 0. 0. 0. 0. 0. 0. 0. 0. 0. 0. 0. 0. 0. 0. 0. 0. 0. 0. 0. 0. 0. 0.\n",
            " 0. 0. 0. 0. 0. 0. 0. 0. 0. 0. 0. 0. 0. 0. 0. 0. 0. 0. 0. 0. 0. 0. 0. 0.\n",
            " 0. 0. 0. 0. 0. 0. 0. 0.]\n"
          ],
          "name": "stdout"
        },
        {
          "output_type": "error",
          "ename": "ValueError",
          "evalue": "ignored",
          "traceback": [
            "\u001b[0;31m---------------------------------------------------------------------------\u001b[0m",
            "\u001b[0;31mValueError\u001b[0m                                Traceback (most recent call last)",
            "\u001b[0;32m<ipython-input-61-b7c7fba282bb>\u001b[0m in \u001b[0;36m<module>\u001b[0;34m()\u001b[0m\n\u001b[1;32m      7\u001b[0m     \u001b[0mprint\u001b[0m\u001b[0;34m(\u001b[0m\u001b[0;34m\"Index:\"\u001b[0m\u001b[0;34m,\u001b[0m\u001b[0mindex\u001b[0m\u001b[0;34m)\u001b[0m\u001b[0;34m\u001b[0m\u001b[0;34m\u001b[0m\u001b[0m\n\u001b[1;32m      8\u001b[0m     \u001b[0mprint\u001b[0m\u001b[0;34m(\u001b[0m\u001b[0my_train_all\u001b[0m\u001b[0;34m[\u001b[0m\u001b[0;34m:\u001b[0m\u001b[0;34m,\u001b[0m\u001b[0mi\u001b[0m\u001b[0;34m]\u001b[0m\u001b[0;34m)\u001b[0m\u001b[0;34m\u001b[0m\u001b[0;34m\u001b[0m\u001b[0m\n\u001b[0;32m----> 9\u001b[0;31m     \u001b[0my_train_all\u001b[0m\u001b[0;34m[\u001b[0m\u001b[0;34m:\u001b[0m\u001b[0;34m,\u001b[0m\u001b[0mi\u001b[0m\u001b[0;34m]\u001b[0m \u001b[0;34m=\u001b[0m \u001b[0my_train\u001b[0m\u001b[0;34m\u001b[0m\u001b[0;34m\u001b[0m\u001b[0m\n\u001b[0m\u001b[1;32m     10\u001b[0m     \u001b[0my_test_all\u001b[0m\u001b[0;34m[\u001b[0m\u001b[0;34m:\u001b[0m\u001b[0;34m,\u001b[0m\u001b[0mi\u001b[0m\u001b[0;34m]\u001b[0m \u001b[0;34m=\u001b[0m \u001b[0my_test\u001b[0m\u001b[0;34m\u001b[0m\u001b[0;34m\u001b[0m\u001b[0m\n\u001b[1;32m     11\u001b[0m     \u001b[0mx_train_all\u001b[0m\u001b[0;34m[\u001b[0m\u001b[0;34m:\u001b[0m\u001b[0;34m,\u001b[0m\u001b[0mi\u001b[0m\u001b[0;34m]\u001b[0m \u001b[0;34m=\u001b[0m \u001b[0mx_train\u001b[0m\u001b[0;34m\u001b[0m\u001b[0;34m\u001b[0m\u001b[0m\n",
            "\u001b[0;31mValueError\u001b[0m: could not broadcast input array from shape (80,13) into shape (80)"
          ]
        }
      ]
    },
    {
      "cell_type": "markdown",
      "metadata": {
        "id": "rO70tTnbrGQI",
        "colab_type": "text"
      },
      "source": [
        "## Playground 1(Test 0410 )"
      ]
    },
    {
      "cell_type": "markdown",
      "metadata": {
        "id": "UAQEgTPqPgec",
        "colab_type": "text"
      },
      "source": [
        "This part is not useful, just try to play with the dataset we have in order to get familiar with how to extract the needed features.\n",
        "\n",
        "First, I am trying to play with Library librosa with a simple audio file.\n"
      ]
    },
    {
      "cell_type": "code",
      "metadata": {
        "id": "olQw0jqFPs1T",
        "colab_type": "code",
        "outputId": "5cfe16c3-4aed-4220-e6a3-4c2c5c053dfc",
        "colab": {
          "base_uri": "https://localhost:8080/",
          "height": 1000
        }
      },
      "source": [
        "path = \"../root/dataset/genres/blues/blues.00000.au\"\n",
        "y, sr = librosa.load(path) # samplerate\n",
        "#c_path = librosa.util.example_audio_file()\n",
        "#sample_rate = librosa.get_samplerate(c_path)\n",
        "\n",
        "tempo, beat_frames = librosa.beat.beat_track(y, sr)\n",
        "\n",
        "f_mfcc = librosa.feature.mfcc(y, sr)\n",
        "duration = librosa.get_duration(y, sr)\n",
        "rms = librosa.feature.rms(y)\n",
        "mels = librosa.feature.melspectrogram(y,sr) #calculate the melspectrogram\n",
        "spt_flat = librosa.feature.spectral_flatness(y)\n",
        "feature_tempogram = librosa.feature.tempogram(y, sr,10)\n",
        "feature_chroma = librosa.feature.chroma_stft(y,sr)\n",
        "\n",
        "print(\"current file: \", path, \"with sample rate: \", sr) # \n",
        "#print(\"y = \", y)\n",
        "print('The Estimated tempo is : {:.2f} beats per minute'.format(tempo))\n",
        "print(\"mfcc = \", f_mfcc)\n",
        "print(\"The duration of the file is: \", duration, \"in seconds\")\n",
        "print(\"RMS: \", rms)\n",
        "print(\"MELS: \", mels)\n",
        "print(\"Spectral Flatness:\", spt_flat)\n",
        "print(\"len of Spectral Flatness:\", len(spt_flat))\n",
        "print(\"feature_tempogram:\",feature_tempogram)\n",
        "print(\"len of feature_tempogram:\", len(feature_tempogram))\n",
        "\n",
        "print(\"feature_chroma:\",feature_chroma)\n",
        "print(\"len of feature_chroma:\", len(feature_chroma))\n",
        "\n"
      ],
      "execution_count": 37,
      "outputs": [
        {
          "output_type": "stream",
          "text": [
            "/usr/local/lib/python3.6/dist-packages/librosa/beat.py:306: DeprecationWarning: np.asscalar(a) is deprecated since NumPy v1.16, use a.item() instead\n",
            "  hop_length=hop_length))\n"
          ],
          "name": "stderr"
        },
        {
          "output_type": "stream",
          "text": [
            "current file:  ../root/dataset/genres/blues/blues.00000.au with sample rate:  22050\n",
            "The Estimated tempo is : 123.05 beats per minute\n",
            "mfcc =  [[-211.48465086 -208.94482648 -193.90886432 ... -109.99914277\n",
            "   -86.84641504  -79.03764389]\n",
            " [  99.02296527  101.24677684  102.2439539  ...  150.07934372\n",
            "   138.89685143  140.24707739]\n",
            " [ -10.63469419   -9.34669827    1.91543412 ...  -50.79513665\n",
            "   -36.61398204  -31.44394114]\n",
            " ...\n",
            " [   8.94441077    6.88274853    3.65002299 ...   -2.85715698\n",
            "    -6.25478926   -0.48850937]\n",
            " [   3.07485139    4.56672571    4.78899975 ...   -7.57468805\n",
            "    -8.44005951   -7.88065949]\n",
            " [   5.04152675    2.8966338     0.94024655 ...   -7.55533868\n",
            "     0.29069301    2.65881555]]\n",
            "The duration of the file is:  30.013333333333332 in seconds\n",
            "RMS:  [[0.02698701 0.03934191 0.0497628  ... 0.1405525  0.13533325 0.14893965]]\n",
            "MELS:  [[3.52039269e+00 1.84593385e+00 7.44535793e-01 ... 2.23298189e+00\n",
            "  2.25105209e+00 1.91527191e+01]\n",
            " [2.63766960e+00 3.33343668e+00 5.02164405e+00 ... 8.16211972e+00\n",
            "  2.29877062e+01 3.95273850e+01]\n",
            " [3.78995435e-01 4.16398426e-01 2.99108656e+00 ... 3.68826217e+00\n",
            "  4.02845416e+01 5.25331349e+01]\n",
            " ...\n",
            " [7.70137090e-06 2.03884576e-06 2.67477374e-07 ... 1.09667280e-07\n",
            "  6.27827167e-07 1.13958692e-05]\n",
            " [6.96032580e-06 1.75153462e-06 1.56696727e-08 ... 1.30738462e-08\n",
            "  2.46899015e-07 1.09606998e-05]\n",
            " [6.71965297e-06 1.68365844e-06 4.39500822e-09 ... 5.07369222e-09\n",
            "  2.12503587e-07 1.08901939e-05]]\n",
            "Spectral Flatness: [[0.01366227 0.01668281 0.00578466 ... 0.00196063 0.00337589 0.0041795 ]]\n",
            "len of Spectral Flatness: 1\n",
            "feature_tempogram: [[ 1.00000000e+00]\n",
            " [ 9.99401308e-01]\n",
            " [ 9.98815797e-01]\n",
            " [ 9.98116096e-01]\n",
            " [ 9.97302391e-01]\n",
            " [ 9.96374901e-01]\n",
            " [ 9.95333873e-01]\n",
            " [ 9.94179587e-01]\n",
            " [ 9.92912350e-01]\n",
            " [ 9.91532501e-01]\n",
            " [ 9.90040409e-01]\n",
            " [ 9.88436472e-01]\n",
            " [ 9.86721120e-01]\n",
            " [ 9.84894808e-01]\n",
            " [ 9.82958026e-01]\n",
            " [ 9.80911290e-01]\n",
            " [ 9.78755145e-01]\n",
            " [ 9.76490166e-01]\n",
            " [ 9.74116957e-01]\n",
            " [ 9.71636150e-01]\n",
            " [ 9.68193126e-01]\n",
            " [ 9.64812285e-01]\n",
            " [ 9.61328847e-01]\n",
            " [ 9.57743732e-01]\n",
            " [ 9.54057885e-01]\n",
            " [ 9.50272277e-01]\n",
            " [ 9.46387905e-01]\n",
            " [ 9.42405791e-01]\n",
            " [ 9.38326980e-01]\n",
            " [ 9.34152544e-01]\n",
            " [ 9.29883578e-01]\n",
            " [ 9.25521199e-01]\n",
            " [ 9.21066550e-01]\n",
            " [ 9.16520796e-01]\n",
            " [ 9.11885124e-01]\n",
            " [ 9.07160745e-01]\n",
            " [ 9.02348889e-01]\n",
            " [ 8.97450810e-01]\n",
            " [ 8.92467782e-01]\n",
            " [ 8.86787875e-01]\n",
            " [ 8.81223361e-01]\n",
            " [ 8.75581690e-01]\n",
            " [ 8.69864305e-01]\n",
            " [ 8.64072664e-01]\n",
            " [ 8.58208242e-01]\n",
            " [ 8.52272530e-01]\n",
            " [ 8.46267036e-01]\n",
            " [ 8.40193281e-01]\n",
            " [ 8.34052801e-01]\n",
            " [ 8.27847149e-01]\n",
            " [ 8.21577888e-01]\n",
            " [ 8.15246596e-01]\n",
            " [ 8.08854864e-01]\n",
            " [ 8.02404294e-01]\n",
            " [ 7.95896500e-01]\n",
            " [ 7.89333109e-01]\n",
            " [ 7.82715757e-01]\n",
            " [ 7.76046090e-01]\n",
            " [ 7.68947353e-01]\n",
            " [ 7.62012298e-01]\n",
            " [ 7.55033248e-01]\n",
            " [ 7.48011893e-01]\n",
            " [ 7.40949927e-01]\n",
            " [ 7.33849051e-01]\n",
            " [ 7.26710969e-01]\n",
            " [ 7.19537391e-01]\n",
            " [ 7.12330029e-01]\n",
            " [ 7.05090599e-01]\n",
            " [ 6.97820820e-01]\n",
            " [ 6.90522413e-01]\n",
            " [ 6.83197100e-01]\n",
            " [ 6.75846604e-01]\n",
            " [ 6.68472651e-01]\n",
            " [ 6.61076963e-01]\n",
            " [ 6.53661266e-01]\n",
            " [ 6.46227283e-01]\n",
            " [ 6.38776734e-01]\n",
            " [ 6.31141744e-01]\n",
            " [ 6.23704761e-01]\n",
            " [ 6.16257998e-01]\n",
            " [ 6.08803111e-01]\n",
            " [ 6.01341752e-01]\n",
            " [ 5.93875567e-01]\n",
            " [ 5.86406196e-01]\n",
            " [ 5.78935272e-01]\n",
            " [ 5.71464420e-01]\n",
            " [ 5.63995260e-01]\n",
            " [ 5.56529402e-01]\n",
            " [ 5.49068447e-01]\n",
            " [ 5.41613990e-01]\n",
            " [ 5.34167613e-01]\n",
            " [ 5.26730891e-01]\n",
            " [ 5.19305387e-01]\n",
            " [ 5.11892655e-01]\n",
            " [ 5.04494236e-01]\n",
            " [ 4.97111661e-01]\n",
            " [ 4.89746448e-01]\n",
            " [ 4.82464457e-01]\n",
            " [ 4.75329582e-01]\n",
            " [ 4.68215689e-01]\n",
            " [ 4.61124157e-01]\n",
            " [ 4.54056353e-01]\n",
            " [ 4.47013629e-01]\n",
            " [ 4.39997322e-01]\n",
            " [ 4.33008752e-01]\n",
            " [ 4.26049225e-01]\n",
            " [ 4.19120032e-01]\n",
            " [ 4.12222445e-01]\n",
            " [ 4.05357723e-01]\n",
            " [ 3.98527104e-01]\n",
            " [ 3.91731812e-01]\n",
            " [ 3.84973051e-01]\n",
            " [ 3.78252011e-01]\n",
            " [ 3.71569859e-01]\n",
            " [ 3.64927747e-01]\n",
            " [ 3.58326808e-01]\n",
            " [ 3.51834776e-01]\n",
            " [ 3.45595710e-01]\n",
            " [ 3.39397612e-01]\n",
            " [ 3.33241451e-01]\n",
            " [ 3.27128181e-01]\n",
            " [ 3.21058733e-01]\n",
            " [ 3.15034020e-01]\n",
            " [ 3.09054935e-01]\n",
            " [ 3.03122353e-01]\n",
            " [ 2.97237126e-01]\n",
            " [ 2.91400088e-01]\n",
            " [ 2.85612051e-01]\n",
            " [ 2.79873808e-01]\n",
            " [ 2.74186131e-01]\n",
            " [ 2.68549771e-01]\n",
            " [ 2.62965457e-01]\n",
            " [ 2.57433898e-01]\n",
            " [ 2.51955783e-01]\n",
            " [ 2.46531777e-01]\n",
            " [ 2.41213902e-01]\n",
            " [ 2.36200929e-01]\n",
            " [ 2.31238170e-01]\n",
            " [ 2.26326155e-01]\n",
            " [ 2.21465393e-01]\n",
            " [ 2.16656373e-01]\n",
            " [ 2.11899565e-01]\n",
            " [ 2.07195416e-01]\n",
            " [ 2.02544357e-01]\n",
            " [ 1.97946795e-01]\n",
            " [ 1.93403120e-01]\n",
            " [ 1.88913700e-01]\n",
            " [ 1.84478884e-01]\n",
            " [ 1.80098998e-01]\n",
            " [ 1.75774353e-01]\n",
            " [ 1.71505234e-01]\n",
            " [ 1.67291911e-01]\n",
            " [ 1.63134631e-01]\n",
            " [ 1.59033621e-01]\n",
            " [ 1.55013627e-01]\n",
            " [ 1.51302125e-01]\n",
            " [ 1.47640239e-01]\n",
            " [ 1.44028123e-01]\n",
            " [ 1.40465915e-01]\n",
            " [ 1.36953732e-01]\n",
            " [ 1.33491676e-01]\n",
            " [ 1.30079833e-01]\n",
            " [ 1.26718270e-01]\n",
            " [ 1.23407037e-01]\n",
            " [ 1.20146167e-01]\n",
            " [ 1.16935677e-01]\n",
            " [ 1.13775567e-01]\n",
            " [ 1.10665820e-01]\n",
            " [ 1.07606402e-01]\n",
            " [ 1.04597264e-01]\n",
            " [ 1.01638340e-01]\n",
            " [ 9.87295477e-02]\n",
            " [ 9.58707882e-02]\n",
            " [ 9.30558342e-02]\n",
            " [ 9.05175022e-02]\n",
            " [ 8.80213117e-02]\n",
            " [ 8.55671784e-02]\n",
            " [ 8.31550051e-02]\n",
            " [ 8.07846816e-02]\n",
            " [ 7.84560852e-02]\n",
            " [ 7.61690803e-02]\n",
            " [ 7.39235192e-02]\n",
            " [ 7.17192415e-02]\n",
            " [ 6.95560749e-02]\n",
            " [ 6.74338350e-02]\n",
            " [ 6.53523254e-02]\n",
            " [ 6.33113382e-02]\n",
            " [ 6.13106537e-02]\n",
            " [ 5.93500408e-02]\n",
            " [ 5.74292575e-02]\n",
            " [ 5.55480503e-02]\n",
            " [ 5.37061551e-02]\n",
            " [ 5.19032968e-02]\n",
            " [ 5.02639594e-02]\n",
            " [ 4.86884767e-02]\n",
            " [ 4.71447740e-02]\n",
            " [ 4.56326505e-02]\n",
            " [ 4.41518967e-02]\n",
            " [ 4.27022956e-02]\n",
            " [ 4.12836218e-02]\n",
            " [ 3.98956423e-02]\n",
            " [ 3.85381166e-02]\n",
            " [ 3.72107964e-02]\n",
            " [ 3.59134263e-02]\n",
            " [ 3.46457436e-02]\n",
            " [ 3.34074785e-02]\n",
            " [ 3.21983544e-02]\n",
            " [ 3.10180880e-02]\n",
            " [ 2.98663893e-02]\n",
            " [ 2.87429618e-02]\n",
            " [ 2.76475030e-02]\n",
            " [ 2.65797041e-02]\n",
            " [ 2.55973128e-02]\n",
            " [ 2.46813144e-02]\n",
            " [ 2.37872311e-02]\n",
            " [ 2.29148389e-02]\n",
            " [ 2.20639093e-02]\n",
            " [ 2.12342097e-02]\n",
            " [ 2.04255032e-02]\n",
            " [ 1.96375488e-02]\n",
            " [ 1.88701015e-02]\n",
            " [ 1.81229127e-02]\n",
            " [ 1.73957298e-02]\n",
            " [ 1.66882970e-02]\n",
            " [ 1.60003548e-02]\n",
            " [ 1.53316404e-02]\n",
            " [ 1.46818879e-02]\n",
            " [ 1.40508283e-02]\n",
            " [ 1.34381895e-02]\n",
            " [ 1.28436969e-02]\n",
            " [ 1.22670729e-02]\n",
            " [ 1.17284589e-02]\n",
            " [ 1.12456851e-02]\n",
            " [ 1.07765755e-02]\n",
            " [ 1.03209354e-02]\n",
            " [ 9.87856800e-03]\n",
            " [ 9.44927479e-03]\n",
            " [ 9.03285578e-03]\n",
            " [ 8.62910940e-03]\n",
            " [ 8.23783269e-03]\n",
            " [ 7.85882133e-03]\n",
            " [ 7.49186979e-03]\n",
            " [ 7.13677134e-03]\n",
            " [ 6.79331822e-03]\n",
            " [ 6.46130168e-03]\n",
            " [ 6.14051208e-03]\n",
            " [ 5.83073897e-03]\n",
            " [ 5.53177122e-03]\n",
            " [ 5.24339703e-03]\n",
            " [ 4.96540409e-03]\n",
            " [ 4.70157135e-03]\n",
            " [ 4.47647160e-03]\n",
            " [ 4.25893623e-03]\n",
            " [ 4.04882344e-03]\n",
            " [ 3.84599120e-03]\n",
            " [ 3.65029728e-03]\n",
            " [ 3.46159933e-03]\n",
            " [ 3.27975490e-03]\n",
            " [ 3.10462154e-03]\n",
            " [ 2.93605684e-03]\n",
            " [ 2.77391846e-03]\n",
            " [ 2.61806422e-03]\n",
            " [ 2.46835211e-03]\n",
            " [ 2.32464040e-03]\n",
            " [ 2.18678765e-03]\n",
            " [ 2.05465277e-03]\n",
            " [ 1.92809507e-03]\n",
            " [ 1.80697432e-03]\n",
            " [ 1.69115082e-03]\n",
            " [ 1.58048537e-03]\n",
            " [ 1.49115518e-03]\n",
            " [ 1.40542187e-03]\n",
            " [ 1.32319894e-03]\n",
            " [ 1.24440028e-03]\n",
            " [ 1.16894021e-03]\n",
            " [ 1.09673352e-03]\n",
            " [ 1.02769549e-03]\n",
            " [ 9.61741899e-04]\n",
            " [ 8.98789092e-04]\n",
            " [ 8.38753972e-04]\n",
            " [ 7.81554042e-04]\n",
            " [ 7.27107428e-04]\n",
            " [ 6.75332902e-04]\n",
            " [ 6.26149910e-04]\n",
            " [ 5.79478592e-04]\n",
            " [ 5.35239808e-04]\n",
            " [ 4.93355161e-04]\n",
            " [ 4.53747018e-04]\n",
            " [ 4.16338534e-04]\n",
            " [ 3.87952584e-04]\n",
            " [ 3.60958006e-04]\n",
            " [ 3.35312070e-04]\n",
            " [ 3.10972525e-04]\n",
            " [ 2.87897603e-04]\n",
            " [ 2.66046037e-04]\n",
            " [ 2.45377065e-04]\n",
            " [ 2.25850444e-04]\n",
            " [ 2.07426458e-04]\n",
            " [ 1.90065925e-04]\n",
            " [ 1.73730207e-04]\n",
            " [ 1.58381221e-04]\n",
            " [ 1.43981441e-04]\n",
            " [ 1.30493911e-04]\n",
            " [ 1.17882249e-04]\n",
            " [ 1.06110655e-04]\n",
            " [ 9.51439150e-05]\n",
            " [ 8.49474120e-05]\n",
            " [ 7.54871263e-05]\n",
            " [ 6.90821687e-05]\n",
            " [ 6.30691045e-05]\n",
            " [ 5.74323658e-05]\n",
            " [ 5.21566782e-05]\n",
            " [ 4.72270628e-05]\n",
            " [ 4.26288378e-05]\n",
            " [ 3.83476197e-05]\n",
            " [ 3.43693244e-05]\n",
            " [ 3.06801685e-05]\n",
            " [ 2.72666699e-05]\n",
            " [ 2.41156484e-05]\n",
            " [ 2.12142262e-05]\n",
            " [ 1.85498283e-05]\n",
            " [ 1.61101824e-05]\n",
            " [ 1.38833188e-05]\n",
            " [ 1.18575703e-05]\n",
            " [ 1.00215715e-05]\n",
            " [ 8.36425845e-06]\n",
            " [ 6.87486772e-06]\n",
            " [ 6.11500194e-06]\n",
            " [ 5.41542228e-06]\n",
            " [ 4.77292087e-06]\n",
            " [ 4.18438531e-06]\n",
            " [ 3.64679817e-06]\n",
            " [ 3.15723631e-06]\n",
            " [ 2.71287026e-06]\n",
            " [ 2.31096343e-06]\n",
            " [ 1.94887133e-06]\n",
            " [ 1.62404076e-06]\n",
            " [ 1.33400889e-06]\n",
            " [ 1.07640233e-06]\n",
            " [ 8.48936138e-07]\n",
            " [ 6.49412751e-07]\n",
            " [ 4.75720932e-07]\n",
            " [ 3.25834602e-07]\n",
            " [ 1.97811662e-07]\n",
            " [ 8.97927588e-08]\n",
            " [-4.95666281e-18]\n",
            " [ 2.63862359e-16]\n",
            " [ 4.19878837e-17]\n",
            " [-5.32103569e-18]\n",
            " [ 1.21272972e-16]\n",
            " [-1.33333109e-16]\n",
            " [ 2.41501860e-16]\n",
            " [-1.57957957e-18]\n",
            " [ 2.43226339e-16]\n",
            " [ 1.05688137e-16]\n",
            " [ 2.91299276e-16]\n",
            " [ 1.80461220e-16]\n",
            " [ 1.71864919e-17]\n",
            " [ 1.75700292e-16]\n",
            " [ 3.56109213e-16]\n",
            " [-5.20990557e-17]\n",
            " [ 1.22971776e-16]\n",
            " [ 2.38579152e-16]\n",
            " [ 8.52708528e-18]\n",
            " [ 3.98434697e-16]\n",
            " [ 7.22753707e-17]\n",
            " [ 1.15240442e-16]\n",
            " [ 1.20568789e-16]\n",
            " [-1.15591781e-16]\n",
            " [ 3.29560828e-16]\n",
            " [ 7.33632608e-17]\n",
            " [ 2.51555198e-16]\n",
            " [ 7.99251251e-17]\n",
            " [ 2.62180768e-16]\n",
            " [ 2.76927696e-17]\n",
            " [ 5.13697608e-16]\n",
            " [ 1.14764397e-18]\n",
            " [ 1.08594613e-16]\n",
            " [ 1.51515688e-16]\n",
            " [ 1.06780071e-16]\n",
            " [-7.21888023e-17]\n",
            " [ 1.45296201e-16]\n",
            " [ 1.56764534e-16]\n",
            " [ 1.63306777e-16]]\n",
            "len of feature_tempogram: 384\n",
            "feature_chroma: [[0.39141433 0.24780885 0.87141668 ... 0.15691066 0.89550942 1.        ]\n",
            " [0.54781956 0.32853897 0.68826491 ... 0.13222213 0.69777621 0.70657027]\n",
            " [0.45784439 0.42671597 0.51602762 ... 0.25044859 0.56743535 0.3385622 ]\n",
            " ...\n",
            " [1.         1.         1.         ... 0.26199498 0.96982558 0.74377413]\n",
            " [0.3960335  0.36431649 0.62175821 ... 1.         1.         0.7915454 ]\n",
            " [0.27706598 0.1917556  0.64925484 ... 0.62876084 0.71736392 0.49608501]]\n",
            "len of feature_chroma: 12\n"
          ],
          "name": "stdout"
        }
      ]
    },
    {
      "cell_type": "markdown",
      "metadata": {
        "id": "LZE20ZrbtgXH",
        "colab_type": "text"
      },
      "source": [
        "What we can get from the sample audio file as **general information**,\n",
        "1. basic info: sample rate, duration of the file, estimated tempo\n",
        "2. low level feature info:\n",
        "    - mfcc (recognition)\n",
        "    - melspectrogram\n",
        "    - spectral_flatness (tonal)\n",
        "3. high level feature info\n"
      ]
    },
    {
      "cell_type": "markdown",
      "metadata": {
        "id": "BBxA-fEAw4cJ",
        "colab_type": "text"
      },
      "source": [
        "Using the four categories{Blues, Metal, Hip-hop, Reggae} as instructed."
      ]
    },
    {
      "cell_type": "code",
      "metadata": {
        "id": "kHi0yCzLjAjz",
        "colab_type": "code",
        "outputId": "9b2eedc3-6326-43b8-9656-0facc13bb920",
        "colab": {
          "base_uri": "https://localhost:8080/",
          "height": 1000
        }
      },
      "source": [
        "#we need to analysis Blues, Metal, Hip-Hop, Reggae\n",
        "ana_class = [\"blues\",\"metal\",\"hiphop\",\"reggae\"] \n",
        "dict_train_features = {\"blues\": [], \"metal\": [], \"hiphop\": [], \"Reggae\": []}\n",
        "n_mfcc = 20\n",
        "# try: change back to 13\n",
        "train_path = \"../root/dataset/genres/\"\n",
        "\n",
        "\n",
        "for each in ana_class:\n",
        "    train_test_folder = train_path + format(each)\n",
        "    #the current folder/categories\n",
        "    print(\"Current train_test_folder is: \" + train_test_folder)\n",
        "\n",
        "    train_catg_files = [f for f in os.listdir(train_test_folder) if f.endswith('.au')]\n",
        "    #print(train_catg_files)\n",
        "    n_train_samples = len(train_catg_files) \n",
        "    #how much files in each category\n",
        "    print(\"Number of training samples in this category: \", n_train_samples)\n",
        "    \n",
        "    #store feature result\n",
        "    train_features = np.zeros((n_train_samples, n_mfcc))\n",
        "    \n",
        "    #print(train_features)\n",
        "    for index, each_file in enumerate(train_catg_files):\n",
        "        each_file_path = os.path.join(train_test_folder, each_file)\n",
        "        y, sr = librosa.load(each_file_path)\n",
        "        feature_mfcc = librosa.feature.mfcc(y, sr)\n",
        "        train_features[index, :] = np.mean(feature_mfcc, axis=1)\n",
        "        #print(\"train_features\", train_features)\n",
        "        #dont need tempo in this way, for now...\n",
        "        #tempo, beat_frames = librosa.beat.beat_track(y, sr)\n",
        "        #print(\"Estimated tempo: \", tempo)\n",
        "\n",
        "    dict_train_features[each] = train_features\n",
        "    print(dict_train_features[\"blues\"])"
      ],
      "execution_count": 62,
      "outputs": [
        {
          "output_type": "stream",
          "text": [
            "Current train_test_folder is: ../root/dataset/genres/blues\n",
            "Number of training samples in this category:  100\n",
            "[[-1.21448978e+02  9.60805375e+01 -1.95898421e+01 ... -2.04378116e+00\n",
            "  -1.76269026e+00 -3.96245312e+00]\n",
            " [-1.21363940e+02  1.22506683e+02 -1.47381965e+01 ...  2.69524786e+00\n",
            "   3.41230547e+00 -2.71569238e+00]\n",
            " [-3.00981873e+01  1.03732518e+02 -1.97379711e+01 ...  4.72184211e+00\n",
            "   4.90646799e-01  1.47166699e+00]\n",
            " ...\n",
            " [-1.55558833e+02  1.25645326e+02  1.60112256e+00 ...  9.69413886e-01\n",
            "   2.02691569e+00 -5.73704447e+00]\n",
            " [-1.45280972e+02  1.02806649e+02 -1.25294329e+01 ... -9.52051838e-01\n",
            "   2.25845906e-02 -2.00456166e+00]\n",
            " [-5.26972475e+01  7.44333591e+01 -1.86967667e+01 ...  3.68983828e+00\n",
            "  -4.93847515e+00  4.42173063e+00]]\n",
            "Current train_test_folder is: ../root/dataset/genres/metal\n",
            "Number of training samples in this category:  100\n",
            "[[-1.21448978e+02  9.60805375e+01 -1.95898421e+01 ... -2.04378116e+00\n",
            "  -1.76269026e+00 -3.96245312e+00]\n",
            " [-1.21363940e+02  1.22506683e+02 -1.47381965e+01 ...  2.69524786e+00\n",
            "   3.41230547e+00 -2.71569238e+00]\n",
            " [-3.00981873e+01  1.03732518e+02 -1.97379711e+01 ...  4.72184211e+00\n",
            "   4.90646799e-01  1.47166699e+00]\n",
            " ...\n",
            " [-1.55558833e+02  1.25645326e+02  1.60112256e+00 ...  9.69413886e-01\n",
            "   2.02691569e+00 -5.73704447e+00]\n",
            " [-1.45280972e+02  1.02806649e+02 -1.25294329e+01 ... -9.52051838e-01\n",
            "   2.25845906e-02 -2.00456166e+00]\n",
            " [-5.26972475e+01  7.44333591e+01 -1.86967667e+01 ...  3.68983828e+00\n",
            "  -4.93847515e+00  4.42173063e+00]]\n",
            "Current train_test_folder is: ../root/dataset/genres/hiphop\n",
            "Number of training samples in this category:  100\n",
            "[[-1.21448978e+02  9.60805375e+01 -1.95898421e+01 ... -2.04378116e+00\n",
            "  -1.76269026e+00 -3.96245312e+00]\n",
            " [-1.21363940e+02  1.22506683e+02 -1.47381965e+01 ...  2.69524786e+00\n",
            "   3.41230547e+00 -2.71569238e+00]\n",
            " [-3.00981873e+01  1.03732518e+02 -1.97379711e+01 ...  4.72184211e+00\n",
            "   4.90646799e-01  1.47166699e+00]\n",
            " ...\n",
            " [-1.55558833e+02  1.25645326e+02  1.60112256e+00 ...  9.69413886e-01\n",
            "   2.02691569e+00 -5.73704447e+00]\n",
            " [-1.45280972e+02  1.02806649e+02 -1.25294329e+01 ... -9.52051838e-01\n",
            "   2.25845906e-02 -2.00456166e+00]\n",
            " [-5.26972475e+01  7.44333591e+01 -1.86967667e+01 ...  3.68983828e+00\n",
            "  -4.93847515e+00  4.42173063e+00]]\n",
            "Current train_test_folder is: ../root/dataset/genres/reggae\n",
            "Number of training samples in this category:  100\n",
            "[[-1.21448978e+02  9.60805375e+01 -1.95898421e+01 ... -2.04378116e+00\n",
            "  -1.76269026e+00 -3.96245312e+00]\n",
            " [-1.21363940e+02  1.22506683e+02 -1.47381965e+01 ...  2.69524786e+00\n",
            "   3.41230547e+00 -2.71569238e+00]\n",
            " [-3.00981873e+01  1.03732518e+02 -1.97379711e+01 ...  4.72184211e+00\n",
            "   4.90646799e-01  1.47166699e+00]\n",
            " ...\n",
            " [-1.55558833e+02  1.25645326e+02  1.60112256e+00 ...  9.69413886e-01\n",
            "   2.02691569e+00 -5.73704447e+00]\n",
            " [-1.45280972e+02  1.02806649e+02 -1.25294329e+01 ... -9.52051838e-01\n",
            "   2.25845906e-02 -2.00456166e+00]\n",
            " [-5.26972475e+01  7.44333591e+01 -1.86967667e+01 ...  3.68983828e+00\n",
            "  -4.93847515e+00  4.42173063e+00]]\n"
          ],
          "name": "stdout"
        }
      ]
    },
    {
      "cell_type": "markdown",
      "metadata": {
        "id": "mhStxaQxxMcT",
        "colab_type": "text"
      },
      "source": [
        "**Visulise the features of MFCC**\n"
      ]
    },
    {
      "cell_type": "markdown",
      "metadata": {
        "id": "tlJETLgd6UFO",
        "colab_type": "text"
      },
      "source": [
        "Something seems wrong..."
      ]
    },
    {
      "cell_type": "code",
      "metadata": {
        "id": "0rbijVdu6Uc9",
        "colab_type": "code",
        "outputId": "8dc240f2-3e3c-49e3-fbec-5805798ac696",
        "colab": {
          "base_uri": "https://localhost:8080/",
          "height": 1000
        }
      },
      "source": [
        "for each in ana_class:\n",
        "    mfcc = dict_train_features_mfcc[each].transpose()\n",
        "    \n",
        "    # Visualization\n",
        "    figure = plt.figure(figsize=(16, 6))\n",
        "    plt.subplot(1,2,1)\n",
        "    plt.imshow(mfcc, origin='lower', aspect='auto')\n",
        "    plt.xlabel('Training samples')\n",
        "    plt.ylabel('MFCC coefficients')\n",
        "    plt.title('MFCC (coefficients 0 to 113) for class {}'.format(each))\n",
        "    plt.colorbar()\n",
        "    plt.tight_layout()\n",
        "\n",
        "    mfcc_upper = mfcc[5:]\n",
        "    plt.subplot(1,2,2)\n",
        "    plt.imshow(mfcc_upper, origin='lower', aspect='auto')\n",
        "    plt.title('MFCC (coefficients 5 to 13) for class {}'.format(each))\n",
        "    plt.xlabel('Training samples')\n",
        "    plt.ylabel('MFCC coefficients')\n",
        "    plt.colorbar()\n",
        "    plt.tight_layout()"
      ],
      "execution_count": 66,
      "outputs": [
        {
          "output_type": "display_data",
          "data": {
            "image/png": "[encoded data removed]",
            "text/plain": [
              "<Figure size 1152x432 with 4 Axes>"
            ]
          },
          "metadata": {
            "tags": [],
            "needs_background": "light"
          }
        },
        {
          "output_type": "display_data",
          "data": {
            "image/png": "[encoded data removed]",
            "text/plain": [
              "<Figure size 1152x432 with 4 Axes>"
            ]
          },
          "metadata": {
            "tags": [],
            "needs_background": "light"
          }
        },
        {
          "output_type": "display_data",
          "data": {
            "image/png": "[encoded data removed]",
            "text/plain": [
              "<Figure size 1152x432 with 4 Axes>"
            ]
          },
          "metadata": {
            "tags": [],
            "needs_background": "light"
          }
        },
        {
          "output_type": "display_data",
          "data": {
            "image/png": "[encoded data removed]",
            "text/plain": [
              "<Figure size 1152x432 with 4 Axes>"
            ]
          },
          "metadata": {
            "tags": [],
            "needs_background": "light"
          }
        }
      ]
    },
    {
      "cell_type": "markdown",
      "metadata": {
        "id": "JoSgWvefYfAQ",
        "colab_type": "text"
      },
      "source": [
        "## Training"
      ]
    },
    {
      "cell_type": "markdown",
      "metadata": {
        "id": "o7bEmc7UPqni",
        "colab_type": "text"
      },
      "source": [
        "### 0. KNN"
      ]
    },
    {
      "cell_type": "code",
      "metadata": {
        "id": "qH_klroVP0x1",
        "colab_type": "code",
        "colab": {}
      },
      "source": [
        ""
      ],
      "execution_count": 0,
      "outputs": []
    },
    {
      "cell_type": "markdown",
      "metadata": {
        "id": "j7pIp54HKp1O",
        "colab_type": "text"
      },
      "source": [
        "### 1. Support Vevtor Machine (SVM) \n",
        "\n",
        "using sklearn [SVM](https://scikit-learn.org/stable/modules/svm.html#classification)"
      ]
    },
    {
      "cell_type": "code",
      "metadata": {
        "id": "3smDhj-0a8Wb",
        "colab_type": "code",
        "colab": {
          "base_uri": "https://localhost:8080/",
          "height": 85
        },
        "outputId": "3a42aa83-d66b-4ed4-fc7a-974bbf1cff52"
      },
      "source": [
        "from sklearn import svm\n",
        "X = [[0, 0], [1, 1]]\n",
        "y = [0, 1]\n",
        "clf = svm.SVC()\n",
        "print(clf.fit(X, y))\n",
        "\n"
      ],
      "execution_count": 69,
      "outputs": [
        {
          "output_type": "stream",
          "text": [
            "SVC(C=1.0, break_ties=False, cache_size=200, class_weight=None, coef0=0.0,\n",
            "    decision_function_shape='ovr', degree=3, gamma='scale', kernel='rbf',\n",
            "    max_iter=-1, probability=False, random_state=None, shrinking=True,\n",
            "    tol=0.001, verbose=False)\n"
          ],
          "name": "stdout"
        }
      ]
    },
    {
      "cell_type": "markdown",
      "metadata": {
        "id": "dUbpeMTTKme2",
        "colab_type": "text"
      },
      "source": [
        "..."
      ]
    },
    {
      "cell_type": "markdown",
      "metadata": {
        "id": "Pn-mdN1UY3ZD",
        "colab_type": "text"
      },
      "source": [
        "## Testing\n"
      ]
    },
    {
      "cell_type": "code",
      "metadata": {
        "id": "poIjHAVba-DO",
        "colab_type": "code",
        "colab": {}
      },
      "source": [
        ""
      ],
      "execution_count": 0,
      "outputs": []
    },
    {
      "cell_type": "markdown",
      "metadata": {
        "id": "27HLqzkNR7Zs",
        "colab_type": "text"
      },
      "source": [
        "## Cross Validating"
      ]
    },
    {
      "cell_type": "code",
      "metadata": {
        "id": "pKluO1HDUxah",
        "colab_type": "code",
        "colab": {}
      },
      "source": [
        "print pd.DataFrame(grid.cv_results_)"
      ],
      "execution_count": 0,
      "outputs": []
    },
    {
      "cell_type": "markdown",
      "metadata": {
        "id": "k2vCIyM54Xid",
        "colab_type": "text"
      },
      "source": [
        "We can use **k-fold cross-validation** to do the selecting for the best parameter for our model."
      ]
    },
    {
      "cell_type": "markdown",
      "metadata": {
        "id": "NEv2pnbe4Q69",
        "colab_type": "text"
      },
      "source": [
        "## Optimization"
      ]
    },
    {
      "cell_type": "markdown",
      "metadata": {
        "id": "zgNXSMDl4TtT",
        "colab_type": "text"
      },
      "source": [
        ""
      ]
    },
    {
      "cell_type": "markdown",
      "metadata": {
        "id": "hka4rVTFY3mU",
        "colab_type": "text"
      },
      "source": [
        "## Conclusion"
      ]
    },
    {
      "cell_type": "code",
      "metadata": {
        "id": "CAKeUId6SJ_Z",
        "colab_type": "code",
        "colab": {}
      },
      "source": [
        ""
      ],
      "execution_count": 0,
      "outputs": []
    },
    {
      "cell_type": "markdown",
      "metadata": {
        "id": "fOAxKOIUSRHA",
        "colab_type": "text"
      },
      "source": [
        "## Team Work\n",
        "**0410 Discussion**\n",
        "1. apply preprocessing to audio files\n",
        "2. how to split our dataset to {training, testing} to make sure the difference of the two groups\n",
        "3. check if our dataset is balanced? Actually it is already balanced.\n",
        "4. which set of features can to useful for our cases\n",
        "5. apply feature selection?\n",
        "6. choose which classification method?\n",
        "7. try different parameter for the classfier\n",
        "8. evaluate the model\n",
        "9. display the result"
      ]
    },
    {
      "cell_type": "markdown",
      "metadata": {
        "id": "RX0AgidX4rzo",
        "colab_type": "text"
      },
      "source": [
        "## Reference Materials"
      ]
    },
    {
      "cell_type": "code",
      "metadata": {
        "id": "lbQSTdum4vOP",
        "colab_type": "code",
        "colab": {}
      },
      "source": [
        ""
      ],
      "execution_count": 0,
      "outputs": []
    }
  ]
}