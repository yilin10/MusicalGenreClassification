{
  "nbformat": 4,
  "nbformat_minor": 0,
  "metadata": {
    "colab": {
      "name": "z Assignment1.ipynb",
      "provenance": [],
      "collapsed_sections": [],
      "toc_visible": true,
      "machine_shape": "hm",
      "include_colab_link": true
    },
    "kernelspec": {
      "display_name": "Python 3",
      "language": "python",
      "name": "python3"
    },
    "language_info": {
      "codemirror_mode": {
        "name": "ipython",
        "version": 3
      },
      "file_extension": ".py",
      "mimetype": "text/x-python",
      "name": "python",
      "nbconvert_exporter": "python",
      "pygments_lexer": "ipython3",
      "version": "3.6.8"
    },
    "widgets": {
      "application/vnd.jupyter.widget-state+json": {
        "894144e18c0f4b85a274a13d06d9b57d": {
          "model_module": "@jupyter-widgets/controls",
          "model_name": "HBoxModel",
          "state": {
            "_view_name": "HBoxView",
            "_dom_classes": [],
            "_model_name": "HBoxModel",
            "_view_module": "@jupyter-widgets/controls",
            "_model_module_version": "1.5.0",
            "_view_count": null,
            "_view_module_version": "1.5.0",
            "box_style": "",
            "layout": "IPY_MODEL_af1a48f513c14744b557f85aa8fc9858",
            "_model_module": "@jupyter-widgets/controls",
            "children": [
              "IPY_MODEL_0b6e79a3135145f7965231ead463c742",
              "IPY_MODEL_0a7d8a8b36814a269bb0b25751f89345"
            ]
          }
        },
        "af1a48f513c14744b557f85aa8fc9858": {
          "model_module": "@jupyter-widgets/base",
          "model_name": "LayoutModel",
          "state": {
            "_view_name": "LayoutView",
            "grid_template_rows": null,
            "right": null,
            "justify_content": null,
            "_view_module": "@jupyter-widgets/base",
            "overflow": null,
            "_model_module_version": "1.2.0",
            "_view_count": null,
            "flex_flow": null,
            "width": null,
            "min_width": null,
            "border": null,
            "align_items": null,
            "bottom": null,
            "_model_module": "@jupyter-widgets/base",
            "top": null,
            "grid_column": null,
            "overflow_y": null,
            "overflow_x": null,
            "grid_auto_flow": null,
            "grid_area": null,
            "grid_template_columns": null,
            "flex": null,
            "_model_name": "LayoutModel",
            "justify_items": null,
            "grid_row": null,
            "max_height": null,
            "align_content": null,
            "visibility": null,
            "align_self": null,
            "height": null,
            "min_height": null,
            "padding": null,
            "grid_auto_rows": null,
            "grid_gap": null,
            "max_width": null,
            "order": null,
            "_view_module_version": "1.2.0",
            "grid_template_areas": null,
            "object_position": null,
            "object_fit": null,
            "grid_auto_columns": null,
            "margin": null,
            "display": null,
            "left": null
          }
        },
        "0b6e79a3135145f7965231ead463c742": {
          "model_module": "@jupyter-widgets/controls",
          "model_name": "IntProgressModel",
          "state": {
            "_view_name": "ProgressView",
            "style": "IPY_MODEL_587dde1738f1410d8655c7a0af40cc0d",
            "_dom_classes": [],
            "description": "100%",
            "_model_name": "IntProgressModel",
            "bar_style": "success",
            "max": 4,
            "_view_module": "@jupyter-widgets/controls",
            "_model_module_version": "1.5.0",
            "value": 4,
            "_view_count": null,
            "_view_module_version": "1.5.0",
            "orientation": "horizontal",
            "min": 0,
            "description_tooltip": null,
            "_model_module": "@jupyter-widgets/controls",
            "layout": "IPY_MODEL_9456b744592a44059f3b40fbbb30c203"
          }
        },
        "0a7d8a8b36814a269bb0b25751f89345": {
          "model_module": "@jupyter-widgets/controls",
          "model_name": "HTMLModel",
          "state": {
            "_view_name": "HTMLView",
            "style": "IPY_MODEL_cd264ccc79554480b07579400a6228b2",
            "_dom_classes": [],
            "description": "",
            "_model_name": "HTMLModel",
            "placeholder": "​",
            "_view_module": "@jupyter-widgets/controls",
            "_model_module_version": "1.5.0",
            "value": " 4/4 [00:00&lt;00:00, 54.98it/s]",
            "_view_count": null,
            "_view_module_version": "1.5.0",
            "description_tooltip": null,
            "_model_module": "@jupyter-widgets/controls",
            "layout": "IPY_MODEL_91052d87d49644fbae1f2c0e3dd96000"
          }
        },
        "587dde1738f1410d8655c7a0af40cc0d": {
          "model_module": "@jupyter-widgets/controls",
          "model_name": "ProgressStyleModel",
          "state": {
            "_view_name": "StyleView",
            "_model_name": "ProgressStyleModel",
            "description_width": "initial",
            "_view_module": "@jupyter-widgets/base",
            "_model_module_version": "1.5.0",
            "_view_count": null,
            "_view_module_version": "1.2.0",
            "bar_color": null,
            "_model_module": "@jupyter-widgets/controls"
          }
        },
        "9456b744592a44059f3b40fbbb30c203": {
          "model_module": "@jupyter-widgets/base",
          "model_name": "LayoutModel",
          "state": {
            "_view_name": "LayoutView",
            "grid_template_rows": null,
            "right": null,
            "justify_content": null,
            "_view_module": "@jupyter-widgets/base",
            "overflow": null,
            "_model_module_version": "1.2.0",
            "_view_count": null,
            "flex_flow": null,
            "width": null,
            "min_width": null,
            "border": null,
            "align_items": null,
            "bottom": null,
            "_model_module": "@jupyter-widgets/base",
            "top": null,
            "grid_column": null,
            "overflow_y": null,
            "overflow_x": null,
            "grid_auto_flow": null,
            "grid_area": null,
            "grid_template_columns": null,
            "flex": null,
            "_model_name": "LayoutModel",
            "justify_items": null,
            "grid_row": null,
            "max_height": null,
            "align_content": null,
            "visibility": null,
            "align_self": null,
            "height": null,
            "min_height": null,
            "padding": null,
            "grid_auto_rows": null,
            "grid_gap": null,
            "max_width": null,
            "order": null,
            "_view_module_version": "1.2.0",
            "grid_template_areas": null,
            "object_position": null,
            "object_fit": null,
            "grid_auto_columns": null,
            "margin": null,
            "display": null,
            "left": null
          }
        },
        "cd264ccc79554480b07579400a6228b2": {
          "model_module": "@jupyter-widgets/controls",
          "model_name": "DescriptionStyleModel",
          "state": {
            "_view_name": "StyleView",
            "_model_name": "DescriptionStyleModel",
            "description_width": "",
            "_view_module": "@jupyter-widgets/base",
            "_model_module_version": "1.5.0",
            "_view_count": null,
            "_view_module_version": "1.2.0",
            "_model_module": "@jupyter-widgets/controls"
          }
        },
        "91052d87d49644fbae1f2c0e3dd96000": {
          "model_module": "@jupyter-widgets/base",
          "model_name": "LayoutModel",
          "state": {
            "_view_name": "LayoutView",
            "grid_template_rows": null,
            "right": null,
            "justify_content": null,
            "_view_module": "@jupyter-widgets/base",
            "overflow": null,
            "_model_module_version": "1.2.0",
            "_view_count": null,
            "flex_flow": null,
            "width": null,
            "min_width": null,
            "border": null,
            "align_items": null,
            "bottom": null,
            "_model_module": "@jupyter-widgets/base",
            "top": null,
            "grid_column": null,
            "overflow_y": null,
            "overflow_x": null,
            "grid_auto_flow": null,
            "grid_area": null,
            "grid_template_columns": null,
            "flex": null,
            "_model_name": "LayoutModel",
            "justify_items": null,
            "grid_row": null,
            "max_height": null,
            "align_content": null,
            "visibility": null,
            "align_self": null,
            "height": null,
            "min_height": null,
            "padding": null,
            "grid_auto_rows": null,
            "grid_gap": null,
            "max_width": null,
            "order": null,
            "_view_module_version": "1.2.0",
            "grid_template_areas": null,
            "object_position": null,
            "object_fit": null,
            "grid_auto_columns": null,
            "margin": null,
            "display": null,
            "left": null
          }
        },
        "ff77c9bf584846659278d828cb75fd9c": {
          "model_module": "@jupyter-widgets/controls",
          "model_name": "HBoxModel",
          "state": {
            "_view_name": "HBoxView",
            "_dom_classes": [],
            "_model_name": "HBoxModel",
            "_view_module": "@jupyter-widgets/controls",
            "_model_module_version": "1.5.0",
            "_view_count": null,
            "_view_module_version": "1.5.0",
            "box_style": "",
            "layout": "IPY_MODEL_0048a39504544439bbf7acdbc8a847c8",
            "_model_module": "@jupyter-widgets/controls",
            "children": [
              "IPY_MODEL_37de8bdcfdcb44ff9fbb7c4bb8e9b763",
              "IPY_MODEL_e816cdfcdf8d45cba342eaa95b15ed01"
            ]
          }
        },
        "0048a39504544439bbf7acdbc8a847c8": {
          "model_module": "@jupyter-widgets/base",
          "model_name": "LayoutModel",
          "state": {
            "_view_name": "LayoutView",
            "grid_template_rows": null,
            "right": null,
            "justify_content": null,
            "_view_module": "@jupyter-widgets/base",
            "overflow": null,
            "_model_module_version": "1.2.0",
            "_view_count": null,
            "flex_flow": null,
            "width": null,
            "min_width": null,
            "border": null,
            "align_items": null,
            "bottom": null,
            "_model_module": "@jupyter-widgets/base",
            "top": null,
            "grid_column": null,
            "overflow_y": null,
            "overflow_x": null,
            "grid_auto_flow": null,
            "grid_area": null,
            "grid_template_columns": null,
            "flex": null,
            "_model_name": "LayoutModel",
            "justify_items": null,
            "grid_row": null,
            "max_height": null,
            "align_content": null,
            "visibility": null,
            "align_self": null,
            "height": null,
            "min_height": null,
            "padding": null,
            "grid_auto_rows": null,
            "grid_gap": null,
            "max_width": null,
            "order": null,
            "_view_module_version": "1.2.0",
            "grid_template_areas": null,
            "object_position": null,
            "object_fit": null,
            "grid_auto_columns": null,
            "margin": null,
            "display": null,
            "left": null
          }
        },
        "37de8bdcfdcb44ff9fbb7c4bb8e9b763": {
          "model_module": "@jupyter-widgets/controls",
          "model_name": "IntProgressModel",
          "state": {
            "_view_name": "ProgressView",
            "style": "IPY_MODEL_2e160fc9320f43488c2b6baba0777824",
            "_dom_classes": [],
            "description": "100%",
            "_model_name": "IntProgressModel",
            "bar_style": "success",
            "max": 80,
            "_view_module": "@jupyter-widgets/controls",
            "_model_module_version": "1.5.0",
            "value": 80,
            "_view_count": null,
            "_view_module_version": "1.5.0",
            "orientation": "horizontal",
            "min": 0,
            "description_tooltip": null,
            "_model_module": "@jupyter-widgets/controls",
            "layout": "IPY_MODEL_b5742534e7694d7eb31bd1607f9a5ca1"
          }
        },
        "e816cdfcdf8d45cba342eaa95b15ed01": {
          "model_module": "@jupyter-widgets/controls",
          "model_name": "HTMLModel",
          "state": {
            "_view_name": "HTMLView",
            "style": "IPY_MODEL_e0ea432f75dd4980b9d8ff5ba9074ebd",
            "_dom_classes": [],
            "description": "",
            "_model_name": "HTMLModel",
            "placeholder": "​",
            "_view_module": "@jupyter-widgets/controls",
            "_model_module_version": "1.5.0",
            "value": " 80/80 [01:49&lt;00:00,  1.37s/it]",
            "_view_count": null,
            "_view_module_version": "1.5.0",
            "description_tooltip": null,
            "_model_module": "@jupyter-widgets/controls",
            "layout": "IPY_MODEL_93d9295ec4554d0aa0d3a2557ca7787b"
          }
        },
        "2e160fc9320f43488c2b6baba0777824": {
          "model_module": "@jupyter-widgets/controls",
          "model_name": "ProgressStyleModel",
          "state": {
            "_view_name": "StyleView",
            "_model_name": "ProgressStyleModel",
            "description_width": "initial",
            "_view_module": "@jupyter-widgets/base",
            "_model_module_version": "1.5.0",
            "_view_count": null,
            "_view_module_version": "1.2.0",
            "bar_color": null,
            "_model_module": "@jupyter-widgets/controls"
          }
        },
        "b5742534e7694d7eb31bd1607f9a5ca1": {
          "model_module": "@jupyter-widgets/base",
          "model_name": "LayoutModel",
          "state": {
            "_view_name": "LayoutView",
            "grid_template_rows": null,
            "right": null,
            "justify_content": null,
            "_view_module": "@jupyter-widgets/base",
            "overflow": null,
            "_model_module_version": "1.2.0",
            "_view_count": null,
            "flex_flow": null,
            "width": null,
            "min_width": null,
            "border": null,
            "align_items": null,
            "bottom": null,
            "_model_module": "@jupyter-widgets/base",
            "top": null,
            "grid_column": null,
            "overflow_y": null,
            "overflow_x": null,
            "grid_auto_flow": null,
            "grid_area": null,
            "grid_template_columns": null,
            "flex": null,
            "_model_name": "LayoutModel",
            "justify_items": null,
            "grid_row": null,
            "max_height": null,
            "align_content": null,
            "visibility": null,
            "align_self": null,
            "height": null,
            "min_height": null,
            "padding": null,
            "grid_auto_rows": null,
            "grid_gap": null,
            "max_width": null,
            "order": null,
            "_view_module_version": "1.2.0",
            "grid_template_areas": null,
            "object_position": null,
            "object_fit": null,
            "grid_auto_columns": null,
            "margin": null,
            "display": null,
            "left": null
          }
        },
        "e0ea432f75dd4980b9d8ff5ba9074ebd": {
          "model_module": "@jupyter-widgets/controls",
          "model_name": "DescriptionStyleModel",
          "state": {
            "_view_name": "StyleView",
            "_model_name": "DescriptionStyleModel",
            "description_width": "",
            "_view_module": "@jupyter-widgets/base",
            "_model_module_version": "1.5.0",
            "_view_count": null,
            "_view_module_version": "1.2.0",
            "_model_module": "@jupyter-widgets/controls"
          }
        },
        "93d9295ec4554d0aa0d3a2557ca7787b": {
          "model_module": "@jupyter-widgets/base",
          "model_name": "LayoutModel",
          "state": {
            "_view_name": "LayoutView",
            "grid_template_rows": null,
            "right": null,
            "justify_content": null,
            "_view_module": "@jupyter-widgets/base",
            "overflow": null,
            "_model_module_version": "1.2.0",
            "_view_count": null,
            "flex_flow": null,
            "width": null,
            "min_width": null,
            "border": null,
            "align_items": null,
            "bottom": null,
            "_model_module": "@jupyter-widgets/base",
            "top": null,
            "grid_column": null,
            "overflow_y": null,
            "overflow_x": null,
            "grid_auto_flow": null,
            "grid_area": null,
            "grid_template_columns": null,
            "flex": null,
            "_model_name": "LayoutModel",
            "justify_items": null,
            "grid_row": null,
            "max_height": null,
            "align_content": null,
            "visibility": null,
            "align_self": null,
            "height": null,
            "min_height": null,
            "padding": null,
            "grid_auto_rows": null,
            "grid_gap": null,
            "max_width": null,
            "order": null,
            "_view_module_version": "1.2.0",
            "grid_template_areas": null,
            "object_position": null,
            "object_fit": null,
            "grid_auto_columns": null,
            "margin": null,
            "display": null,
            "left": null
          }
        },
        "07421a64e3ab4ccaa0dd36be2a746738": {
          "model_module": "@jupyter-widgets/controls",
          "model_name": "HBoxModel",
          "state": {
            "_view_name": "HBoxView",
            "_dom_classes": [],
            "_model_name": "HBoxModel",
            "_view_module": "@jupyter-widgets/controls",
            "_model_module_version": "1.5.0",
            "_view_count": null,
            "_view_module_version": "1.5.0",
            "box_style": "",
            "layout": "IPY_MODEL_f031c7fa6b664886af26bb5c27c71622",
            "_model_module": "@jupyter-widgets/controls",
            "children": [
              "IPY_MODEL_15bfcfcd4a794cc98330ad9486247610",
              "IPY_MODEL_616cedc565ca4998962998e22131266d"
            ]
          }
        },
        "f031c7fa6b664886af26bb5c27c71622": {
          "model_module": "@jupyter-widgets/base",
          "model_name": "LayoutModel",
          "state": {
            "_view_name": "LayoutView",
            "grid_template_rows": null,
            "right": null,
            "justify_content": null,
            "_view_module": "@jupyter-widgets/base",
            "overflow": null,
            "_model_module_version": "1.2.0",
            "_view_count": null,
            "flex_flow": null,
            "width": null,
            "min_width": null,
            "border": null,
            "align_items": null,
            "bottom": null,
            "_model_module": "@jupyter-widgets/base",
            "top": null,
            "grid_column": null,
            "overflow_y": null,
            "overflow_x": null,
            "grid_auto_flow": null,
            "grid_area": null,
            "grid_template_columns": null,
            "flex": null,
            "_model_name": "LayoutModel",
            "justify_items": null,
            "grid_row": null,
            "max_height": null,
            "align_content": null,
            "visibility": null,
            "align_self": null,
            "height": null,
            "min_height": null,
            "padding": null,
            "grid_auto_rows": null,
            "grid_gap": null,
            "max_width": null,
            "order": null,
            "_view_module_version": "1.2.0",
            "grid_template_areas": null,
            "object_position": null,
            "object_fit": null,
            "grid_auto_columns": null,
            "margin": null,
            "display": null,
            "left": null
          }
        },
        "15bfcfcd4a794cc98330ad9486247610": {
          "model_module": "@jupyter-widgets/controls",
          "model_name": "IntProgressModel",
          "state": {
            "_view_name": "ProgressView",
            "style": "IPY_MODEL_3bcc3fdc0fde4eb0ac7902fff8788a9f",
            "_dom_classes": [],
            "description": "100%",
            "_model_name": "IntProgressModel",
            "bar_style": "success",
            "max": 4,
            "_view_module": "@jupyter-widgets/controls",
            "_model_module_version": "1.5.0",
            "value": 4,
            "_view_count": null,
            "_view_module_version": "1.5.0",
            "orientation": "horizontal",
            "min": 0,
            "description_tooltip": null,
            "_model_module": "@jupyter-widgets/controls",
            "layout": "IPY_MODEL_3168239ddf2747a48910c9ad6bc12052"
          }
        },
        "616cedc565ca4998962998e22131266d": {
          "model_module": "@jupyter-widgets/controls",
          "model_name": "HTMLModel",
          "state": {
            "_view_name": "HTMLView",
            "style": "IPY_MODEL_b83791cb7d0c4a9e929aaff13c9bd991",
            "_dom_classes": [],
            "description": "",
            "_model_name": "HTMLModel",
            "placeholder": "​",
            "_view_module": "@jupyter-widgets/controls",
            "_model_module_version": "1.5.0",
            "value": " 4/4 [00:04&lt;00:00,  1.05s/it]",
            "_view_count": null,
            "_view_module_version": "1.5.0",
            "description_tooltip": null,
            "_model_module": "@jupyter-widgets/controls",
            "layout": "IPY_MODEL_f9b85695ccae411d8e1048673bc85ba9"
          }
        },
        "3bcc3fdc0fde4eb0ac7902fff8788a9f": {
          "model_module": "@jupyter-widgets/controls",
          "model_name": "ProgressStyleModel",
          "state": {
            "_view_name": "StyleView",
            "_model_name": "ProgressStyleModel",
            "description_width": "initial",
            "_view_module": "@jupyter-widgets/base",
            "_model_module_version": "1.5.0",
            "_view_count": null,
            "_view_module_version": "1.2.0",
            "bar_color": null,
            "_model_module": "@jupyter-widgets/controls"
          }
        },
        "3168239ddf2747a48910c9ad6bc12052": {
          "model_module": "@jupyter-widgets/base",
          "model_name": "LayoutModel",
          "state": {
            "_view_name": "LayoutView",
            "grid_template_rows": null,
            "right": null,
            "justify_content": null,
            "_view_module": "@jupyter-widgets/base",
            "overflow": null,
            "_model_module_version": "1.2.0",
            "_view_count": null,
            "flex_flow": null,
            "width": null,
            "min_width": null,
            "border": null,
            "align_items": null,
            "bottom": null,
            "_model_module": "@jupyter-widgets/base",
            "top": null,
            "grid_column": null,
            "overflow_y": null,
            "overflow_x": null,
            "grid_auto_flow": null,
            "grid_area": null,
            "grid_template_columns": null,
            "flex": null,
            "_model_name": "LayoutModel",
            "justify_items": null,
            "grid_row": null,
            "max_height": null,
            "align_content": null,
            "visibility": null,
            "align_self": null,
            "height": null,
            "min_height": null,
            "padding": null,
            "grid_auto_rows": null,
            "grid_gap": null,
            "max_width": null,
            "order": null,
            "_view_module_version": "1.2.0",
            "grid_template_areas": null,
            "object_position": null,
            "object_fit": null,
            "grid_auto_columns": null,
            "margin": null,
            "display": null,
            "left": null
          }
        },
        "b83791cb7d0c4a9e929aaff13c9bd991": {
          "model_module": "@jupyter-widgets/controls",
          "model_name": "DescriptionStyleModel",
          "state": {
            "_view_name": "StyleView",
            "_model_name": "DescriptionStyleModel",
            "description_width": "",
            "_view_module": "@jupyter-widgets/base",
            "_model_module_version": "1.5.0",
            "_view_count": null,
            "_view_module_version": "1.2.0",
            "_model_module": "@jupyter-widgets/controls"
          }
        },
        "f9b85695ccae411d8e1048673bc85ba9": {
          "model_module": "@jupyter-widgets/base",
          "model_name": "LayoutModel",
          "state": {
            "_view_name": "LayoutView",
            "grid_template_rows": null,
            "right": null,
            "justify_content": null,
            "_view_module": "@jupyter-widgets/base",
            "overflow": null,
            "_model_module_version": "1.2.0",
            "_view_count": null,
            "flex_flow": null,
            "width": null,
            "min_width": null,
            "border": null,
            "align_items": null,
            "bottom": null,
            "_model_module": "@jupyter-widgets/base",
            "top": null,
            "grid_column": null,
            "overflow_y": null,
            "overflow_x": null,
            "grid_auto_flow": null,
            "grid_area": null,
            "grid_template_columns": null,
            "flex": null,
            "_model_name": "LayoutModel",
            "justify_items": null,
            "grid_row": null,
            "max_height": null,
            "align_content": null,
            "visibility": null,
            "align_self": null,
            "height": null,
            "min_height": null,
            "padding": null,
            "grid_auto_rows": null,
            "grid_gap": null,
            "max_width": null,
            "order": null,
            "_view_module_version": "1.2.0",
            "grid_template_areas": null,
            "object_position": null,
            "object_fit": null,
            "grid_auto_columns": null,
            "margin": null,
            "display": null,
            "left": null
          }
        },
        "67f269073ae543cdade07933fe354520": {
          "model_module": "@jupyter-widgets/controls",
          "model_name": "HBoxModel",
          "state": {
            "_view_name": "HBoxView",
            "_dom_classes": [],
            "_model_name": "HBoxModel",
            "_view_module": "@jupyter-widgets/controls",
            "_model_module_version": "1.5.0",
            "_view_count": null,
            "_view_module_version": "1.5.0",
            "box_style": "",
            "layout": "IPY_MODEL_d1fa77836a2f4c8f97aee35ba2b8c150",
            "_model_module": "@jupyter-widgets/controls",
            "children": [
              "IPY_MODEL_7f2c7bb3e17c472f945964aeb9332d79",
              "IPY_MODEL_37f456268322488bbf4a2eb01c6ea00a"
            ]
          }
        },
        "d1fa77836a2f4c8f97aee35ba2b8c150": {
          "model_module": "@jupyter-widgets/base",
          "model_name": "LayoutModel",
          "state": {
            "_view_name": "LayoutView",
            "grid_template_rows": null,
            "right": null,
            "justify_content": null,
            "_view_module": "@jupyter-widgets/base",
            "overflow": null,
            "_model_module_version": "1.2.0",
            "_view_count": null,
            "flex_flow": null,
            "width": null,
            "min_width": null,
            "border": null,
            "align_items": null,
            "bottom": null,
            "_model_module": "@jupyter-widgets/base",
            "top": null,
            "grid_column": null,
            "overflow_y": null,
            "overflow_x": null,
            "grid_auto_flow": null,
            "grid_area": null,
            "grid_template_columns": null,
            "flex": null,
            "_model_name": "LayoutModel",
            "justify_items": null,
            "grid_row": null,
            "max_height": null,
            "align_content": null,
            "visibility": null,
            "align_self": null,
            "height": null,
            "min_height": null,
            "padding": null,
            "grid_auto_rows": null,
            "grid_gap": null,
            "max_width": null,
            "order": null,
            "_view_module_version": "1.2.0",
            "grid_template_areas": null,
            "object_position": null,
            "object_fit": null,
            "grid_auto_columns": null,
            "margin": null,
            "display": null,
            "left": null
          }
        },
        "7f2c7bb3e17c472f945964aeb9332d79": {
          "model_module": "@jupyter-widgets/controls",
          "model_name": "IntProgressModel",
          "state": {
            "_view_name": "ProgressView",
            "style": "IPY_MODEL_273aca6df7d94d998bd83d7696221deb",
            "_dom_classes": [],
            "description": "100%",
            "_model_name": "IntProgressModel",
            "bar_style": "success",
            "max": 4,
            "_view_module": "@jupyter-widgets/controls",
            "_model_module_version": "1.5.0",
            "value": 4,
            "_view_count": null,
            "_view_module_version": "1.5.0",
            "orientation": "horizontal",
            "min": 0,
            "description_tooltip": null,
            "_model_module": "@jupyter-widgets/controls",
            "layout": "IPY_MODEL_3af2a035a0a949afb6d89db8947d77f3"
          }
        },
        "37f456268322488bbf4a2eb01c6ea00a": {
          "model_module": "@jupyter-widgets/controls",
          "model_name": "HTMLModel",
          "state": {
            "_view_name": "HTMLView",
            "style": "IPY_MODEL_32d91d8aded143aab38312597dbcd972",
            "_dom_classes": [],
            "description": "",
            "_model_name": "HTMLModel",
            "placeholder": "​",
            "_view_module": "@jupyter-widgets/controls",
            "_model_module_version": "1.5.0",
            "value": " 4/4 [00:26&lt;00:00,  6.72s/it]",
            "_view_count": null,
            "_view_module_version": "1.5.0",
            "description_tooltip": null,
            "_model_module": "@jupyter-widgets/controls",
            "layout": "IPY_MODEL_4fae35463a5346b98255259bb4f46138"
          }
        },
        "273aca6df7d94d998bd83d7696221deb": {
          "model_module": "@jupyter-widgets/controls",
          "model_name": "ProgressStyleModel",
          "state": {
            "_view_name": "StyleView",
            "_model_name": "ProgressStyleModel",
            "description_width": "initial",
            "_view_module": "@jupyter-widgets/base",
            "_model_module_version": "1.5.0",
            "_view_count": null,
            "_view_module_version": "1.2.0",
            "bar_color": null,
            "_model_module": "@jupyter-widgets/controls"
          }
        },
        "3af2a035a0a949afb6d89db8947d77f3": {
          "model_module": "@jupyter-widgets/base",
          "model_name": "LayoutModel",
          "state": {
            "_view_name": "LayoutView",
            "grid_template_rows": null,
            "right": null,
            "justify_content": null,
            "_view_module": "@jupyter-widgets/base",
            "overflow": null,
            "_model_module_version": "1.2.0",
            "_view_count": null,
            "flex_flow": null,
            "width": null,
            "min_width": null,
            "border": null,
            "align_items": null,
            "bottom": null,
            "_model_module": "@jupyter-widgets/base",
            "top": null,
            "grid_column": null,
            "overflow_y": null,
            "overflow_x": null,
            "grid_auto_flow": null,
            "grid_area": null,
            "grid_template_columns": null,
            "flex": null,
            "_model_name": "LayoutModel",
            "justify_items": null,
            "grid_row": null,
            "max_height": null,
            "align_content": null,
            "visibility": null,
            "align_self": null,
            "height": null,
            "min_height": null,
            "padding": null,
            "grid_auto_rows": null,
            "grid_gap": null,
            "max_width": null,
            "order": null,
            "_view_module_version": "1.2.0",
            "grid_template_areas": null,
            "object_position": null,
            "object_fit": null,
            "grid_auto_columns": null,
            "margin": null,
            "display": null,
            "left": null
          }
        },
        "32d91d8aded143aab38312597dbcd972": {
          "model_module": "@jupyter-widgets/controls",
          "model_name": "DescriptionStyleModel",
          "state": {
            "_view_name": "StyleView",
            "_model_name": "DescriptionStyleModel",
            "description_width": "",
            "_view_module": "@jupyter-widgets/base",
            "_model_module_version": "1.5.0",
            "_view_count": null,
            "_view_module_version": "1.2.0",
            "_model_module": "@jupyter-widgets/controls"
          }
        },
        "4fae35463a5346b98255259bb4f46138": {
          "model_module": "@jupyter-widgets/base",
          "model_name": "LayoutModel",
          "state": {
            "_view_name": "LayoutView",
            "grid_template_rows": null,
            "right": null,
            "justify_content": null,
            "_view_module": "@jupyter-widgets/base",
            "overflow": null,
            "_model_module_version": "1.2.0",
            "_view_count": null,
            "flex_flow": null,
            "width": null,
            "min_width": null,
            "border": null,
            "align_items": null,
            "bottom": null,
            "_model_module": "@jupyter-widgets/base",
            "top": null,
            "grid_column": null,
            "overflow_y": null,
            "overflow_x": null,
            "grid_auto_flow": null,
            "grid_area": null,
            "grid_template_columns": null,
            "flex": null,
            "_model_name": "LayoutModel",
            "justify_items": null,
            "grid_row": null,
            "max_height": null,
            "align_content": null,
            "visibility": null,
            "align_self": null,
            "height": null,
            "min_height": null,
            "padding": null,
            "grid_auto_rows": null,
            "grid_gap": null,
            "max_width": null,
            "order": null,
            "_view_module_version": "1.2.0",
            "grid_template_areas": null,
            "object_position": null,
            "object_fit": null,
            "grid_auto_columns": null,
            "margin": null,
            "display": null,
            "left": null
          }
        },
        "4b48f3d16cf1498fbd2d8bc1f6c1aa2b": {
          "model_module": "@jupyter-widgets/controls",
          "model_name": "HBoxModel",
          "state": {
            "_view_name": "HBoxView",
            "_dom_classes": [],
            "_model_name": "HBoxModel",
            "_view_module": "@jupyter-widgets/controls",
            "_model_module_version": "1.5.0",
            "_view_count": null,
            "_view_module_version": "1.5.0",
            "box_style": "",
            "layout": "IPY_MODEL_68a38cdae5de419f8c0be95451e0bb32",
            "_model_module": "@jupyter-widgets/controls",
            "children": [
              "IPY_MODEL_0a4ecaa977504faeb6e1535cb3750e44",
              "IPY_MODEL_1a89925c17dd4ab88ac8fd48e3385c7e"
            ]
          }
        },
        "68a38cdae5de419f8c0be95451e0bb32": {
          "model_module": "@jupyter-widgets/base",
          "model_name": "LayoutModel",
          "state": {
            "_view_name": "LayoutView",
            "grid_template_rows": null,
            "right": null,
            "justify_content": null,
            "_view_module": "@jupyter-widgets/base",
            "overflow": null,
            "_model_module_version": "1.2.0",
            "_view_count": null,
            "flex_flow": null,
            "width": null,
            "min_width": null,
            "border": null,
            "align_items": null,
            "bottom": null,
            "_model_module": "@jupyter-widgets/base",
            "top": null,
            "grid_column": null,
            "overflow_y": null,
            "overflow_x": null,
            "grid_auto_flow": null,
            "grid_area": null,
            "grid_template_columns": null,
            "flex": null,
            "_model_name": "LayoutModel",
            "justify_items": null,
            "grid_row": null,
            "max_height": null,
            "align_content": null,
            "visibility": null,
            "align_self": null,
            "height": null,
            "min_height": null,
            "padding": null,
            "grid_auto_rows": null,
            "grid_gap": null,
            "max_width": null,
            "order": null,
            "_view_module_version": "1.2.0",
            "grid_template_areas": null,
            "object_position": null,
            "object_fit": null,
            "grid_auto_columns": null,
            "margin": null,
            "display": null,
            "left": null
          }
        },
        "0a4ecaa977504faeb6e1535cb3750e44": {
          "model_module": "@jupyter-widgets/controls",
          "model_name": "IntProgressModel",
          "state": {
            "_view_name": "ProgressView",
            "style": "IPY_MODEL_fd4f04bb219f49ac8dd0295eb86a70f2",
            "_dom_classes": [],
            "description": "100%",
            "_model_name": "IntProgressModel",
            "bar_style": "danger",
            "max": 400,
            "_view_module": "@jupyter-widgets/controls",
            "_model_module_version": "1.5.0",
            "value": 399,
            "_view_count": null,
            "_view_module_version": "1.5.0",
            "orientation": "horizontal",
            "min": 0,
            "description_tooltip": null,
            "_model_module": "@jupyter-widgets/controls",
            "layout": "IPY_MODEL_8c888d6924f14fdcb1e301b6ac8aa0f5"
          }
        },
        "1a89925c17dd4ab88ac8fd48e3385c7e": {
          "model_module": "@jupyter-widgets/controls",
          "model_name": "HTMLModel",
          "state": {
            "_view_name": "HTMLView",
            "style": "IPY_MODEL_291f8eef1cc54bcab7dfa485e67f3fd2",
            "_dom_classes": [],
            "description": "",
            "_model_name": "HTMLModel",
            "placeholder": "​",
            "_view_module": "@jupyter-widgets/controls",
            "_model_module_version": "1.5.0",
            "value": " 399/400 [01:14&lt;00:00,  5.34it/s]",
            "_view_count": null,
            "_view_module_version": "1.5.0",
            "description_tooltip": null,
            "_model_module": "@jupyter-widgets/controls",
            "layout": "IPY_MODEL_afc7ab0108524e609e1147df2d7996a8"
          }
        },
        "fd4f04bb219f49ac8dd0295eb86a70f2": {
          "model_module": "@jupyter-widgets/controls",
          "model_name": "ProgressStyleModel",
          "state": {
            "_view_name": "StyleView",
            "_model_name": "ProgressStyleModel",
            "description_width": "initial",
            "_view_module": "@jupyter-widgets/base",
            "_model_module_version": "1.5.0",
            "_view_count": null,
            "_view_module_version": "1.2.0",
            "bar_color": null,
            "_model_module": "@jupyter-widgets/controls"
          }
        },
        "8c888d6924f14fdcb1e301b6ac8aa0f5": {
          "model_module": "@jupyter-widgets/base",
          "model_name": "LayoutModel",
          "state": {
            "_view_name": "LayoutView",
            "grid_template_rows": null,
            "right": null,
            "justify_content": null,
            "_view_module": "@jupyter-widgets/base",
            "overflow": null,
            "_model_module_version": "1.2.0",
            "_view_count": null,
            "flex_flow": null,
            "width": null,
            "min_width": null,
            "border": null,
            "align_items": null,
            "bottom": null,
            "_model_module": "@jupyter-widgets/base",
            "top": null,
            "grid_column": null,
            "overflow_y": null,
            "overflow_x": null,
            "grid_auto_flow": null,
            "grid_area": null,
            "grid_template_columns": null,
            "flex": null,
            "_model_name": "LayoutModel",
            "justify_items": null,
            "grid_row": null,
            "max_height": null,
            "align_content": null,
            "visibility": null,
            "align_self": null,
            "height": null,
            "min_height": null,
            "padding": null,
            "grid_auto_rows": null,
            "grid_gap": null,
            "max_width": null,
            "order": null,
            "_view_module_version": "1.2.0",
            "grid_template_areas": null,
            "object_position": null,
            "object_fit": null,
            "grid_auto_columns": null,
            "margin": null,
            "display": null,
            "left": null
          }
        },
        "291f8eef1cc54bcab7dfa485e67f3fd2": {
          "model_module": "@jupyter-widgets/controls",
          "model_name": "DescriptionStyleModel",
          "state": {
            "_view_name": "StyleView",
            "_model_name": "DescriptionStyleModel",
            "description_width": "",
            "_view_module": "@jupyter-widgets/base",
            "_model_module_version": "1.5.0",
            "_view_count": null,
            "_view_module_version": "1.2.0",
            "_model_module": "@jupyter-widgets/controls"
          }
        },
        "afc7ab0108524e609e1147df2d7996a8": {
          "model_module": "@jupyter-widgets/base",
          "model_name": "LayoutModel",
          "state": {
            "_view_name": "LayoutView",
            "grid_template_rows": null,
            "right": null,
            "justify_content": null,
            "_view_module": "@jupyter-widgets/base",
            "overflow": null,
            "_model_module_version": "1.2.0",
            "_view_count": null,
            "flex_flow": null,
            "width": null,
            "min_width": null,
            "border": null,
            "align_items": null,
            "bottom": null,
            "_model_module": "@jupyter-widgets/base",
            "top": null,
            "grid_column": null,
            "overflow_y": null,
            "overflow_x": null,
            "grid_auto_flow": null,
            "grid_area": null,
            "grid_template_columns": null,
            "flex": null,
            "_model_name": "LayoutModel",
            "justify_items": null,
            "grid_row": null,
            "max_height": null,
            "align_content": null,
            "visibility": null,
            "align_self": null,
            "height": null,
            "min_height": null,
            "padding": null,
            "grid_auto_rows": null,
            "grid_gap": null,
            "max_width": null,
            "order": null,
            "_view_module_version": "1.2.0",
            "grid_template_areas": null,
            "object_position": null,
            "object_fit": null,
            "grid_auto_columns": null,
            "margin": null,
            "display": null,
            "left": null
          }
        },
        "e894a5b77aca4ac49d401eb3e4e5b326": {
          "model_module": "@jupyter-widgets/controls",
          "model_name": "HBoxModel",
          "state": {
            "_view_name": "HBoxView",
            "_dom_classes": [],
            "_model_name": "HBoxModel",
            "_view_module": "@jupyter-widgets/controls",
            "_model_module_version": "1.5.0",
            "_view_count": null,
            "_view_module_version": "1.5.0",
            "box_style": "",
            "layout": "IPY_MODEL_3f44c6e7a0c4401bbc25b8367a42f456",
            "_model_module": "@jupyter-widgets/controls",
            "children": [
              "IPY_MODEL_8a9ecfceed5346669497ac475e40831b",
              "IPY_MODEL_3b250c4e49c549698b26aef6ddff28c4"
            ]
          }
        },
        "3f44c6e7a0c4401bbc25b8367a42f456": {
          "model_module": "@jupyter-widgets/base",
          "model_name": "LayoutModel",
          "state": {
            "_view_name": "LayoutView",
            "grid_template_rows": null,
            "right": null,
            "justify_content": null,
            "_view_module": "@jupyter-widgets/base",
            "overflow": null,
            "_model_module_version": "1.2.0",
            "_view_count": null,
            "flex_flow": null,
            "width": null,
            "min_width": null,
            "border": null,
            "align_items": null,
            "bottom": null,
            "_model_module": "@jupyter-widgets/base",
            "top": null,
            "grid_column": null,
            "overflow_y": null,
            "overflow_x": null,
            "grid_auto_flow": null,
            "grid_area": null,
            "grid_template_columns": null,
            "flex": null,
            "_model_name": "LayoutModel",
            "justify_items": null,
            "grid_row": null,
            "max_height": null,
            "align_content": null,
            "visibility": null,
            "align_self": null,
            "height": null,
            "min_height": null,
            "padding": null,
            "grid_auto_rows": null,
            "grid_gap": null,
            "max_width": null,
            "order": null,
            "_view_module_version": "1.2.0",
            "grid_template_areas": null,
            "object_position": null,
            "object_fit": null,
            "grid_auto_columns": null,
            "margin": null,
            "display": null,
            "left": null
          }
        },
        "8a9ecfceed5346669497ac475e40831b": {
          "model_module": "@jupyter-widgets/controls",
          "model_name": "IntProgressModel",
          "state": {
            "_view_name": "ProgressView",
            "style": "IPY_MODEL_d2aabdbe4e004f1f9b0203045516267d",
            "_dom_classes": [],
            "description": "100%",
            "_model_name": "IntProgressModel",
            "bar_style": "danger",
            "max": 400,
            "_view_module": "@jupyter-widgets/controls",
            "_model_module_version": "1.5.0",
            "value": 399,
            "_view_count": null,
            "_view_module_version": "1.5.0",
            "orientation": "horizontal",
            "min": 0,
            "description_tooltip": null,
            "_model_module": "@jupyter-widgets/controls",
            "layout": "IPY_MODEL_4df1a21b262148a2a31c7e636047bb7b"
          }
        },
        "3b250c4e49c549698b26aef6ddff28c4": {
          "model_module": "@jupyter-widgets/controls",
          "model_name": "HTMLModel",
          "state": {
            "_view_name": "HTMLView",
            "style": "IPY_MODEL_71d91ff86710435ca6d4f628a72cd075",
            "_dom_classes": [],
            "description": "",
            "_model_name": "HTMLModel",
            "placeholder": "​",
            "_view_module": "@jupyter-widgets/controls",
            "_model_module_version": "1.5.0",
            "value": " 399/400 [07:11&lt;00:01,  1.08s/it]",
            "_view_count": null,
            "_view_module_version": "1.5.0",
            "description_tooltip": null,
            "_model_module": "@jupyter-widgets/controls",
            "layout": "IPY_MODEL_9aa33e0b40c1485aadbd4fc5479ea3a4"
          }
        },
        "d2aabdbe4e004f1f9b0203045516267d": {
          "model_module": "@jupyter-widgets/controls",
          "model_name": "ProgressStyleModel",
          "state": {
            "_view_name": "StyleView",
            "_model_name": "ProgressStyleModel",
            "description_width": "initial",
            "_view_module": "@jupyter-widgets/base",
            "_model_module_version": "1.5.0",
            "_view_count": null,
            "_view_module_version": "1.2.0",
            "bar_color": null,
            "_model_module": "@jupyter-widgets/controls"
          }
        },
        "4df1a21b262148a2a31c7e636047bb7b": {
          "model_module": "@jupyter-widgets/base",
          "model_name": "LayoutModel",
          "state": {
            "_view_name": "LayoutView",
            "grid_template_rows": null,
            "right": null,
            "justify_content": null,
            "_view_module": "@jupyter-widgets/base",
            "overflow": null,
            "_model_module_version": "1.2.0",
            "_view_count": null,
            "flex_flow": null,
            "width": null,
            "min_width": null,
            "border": null,
            "align_items": null,
            "bottom": null,
            "_model_module": "@jupyter-widgets/base",
            "top": null,
            "grid_column": null,
            "overflow_y": null,
            "overflow_x": null,
            "grid_auto_flow": null,
            "grid_area": null,
            "grid_template_columns": null,
            "flex": null,
            "_model_name": "LayoutModel",
            "justify_items": null,
            "grid_row": null,
            "max_height": null,
            "align_content": null,
            "visibility": null,
            "align_self": null,
            "height": null,
            "min_height": null,
            "padding": null,
            "grid_auto_rows": null,
            "grid_gap": null,
            "max_width": null,
            "order": null,
            "_view_module_version": "1.2.0",
            "grid_template_areas": null,
            "object_position": null,
            "object_fit": null,
            "grid_auto_columns": null,
            "margin": null,
            "display": null,
            "left": null
          }
        },
        "71d91ff86710435ca6d4f628a72cd075": {
          "model_module": "@jupyter-widgets/controls",
          "model_name": "DescriptionStyleModel",
          "state": {
            "_view_name": "StyleView",
            "_model_name": "DescriptionStyleModel",
            "description_width": "",
            "_view_module": "@jupyter-widgets/base",
            "_model_module_version": "1.5.0",
            "_view_count": null,
            "_view_module_version": "1.2.0",
            "_model_module": "@jupyter-widgets/controls"
          }
        },
        "9aa33e0b40c1485aadbd4fc5479ea3a4": {
          "model_module": "@jupyter-widgets/base",
          "model_name": "LayoutModel",
          "state": {
            "_view_name": "LayoutView",
            "grid_template_rows": null,
            "right": null,
            "justify_content": null,
            "_view_module": "@jupyter-widgets/base",
            "overflow": null,
            "_model_module_version": "1.2.0",
            "_view_count": null,
            "flex_flow": null,
            "width": null,
            "min_width": null,
            "border": null,
            "align_items": null,
            "bottom": null,
            "_model_module": "@jupyter-widgets/base",
            "top": null,
            "grid_column": null,
            "overflow_y": null,
            "overflow_x": null,
            "grid_auto_flow": null,
            "grid_area": null,
            "grid_template_columns": null,
            "flex": null,
            "_model_name": "LayoutModel",
            "justify_items": null,
            "grid_row": null,
            "max_height": null,
            "align_content": null,
            "visibility": null,
            "align_self": null,
            "height": null,
            "min_height": null,
            "padding": null,
            "grid_auto_rows": null,
            "grid_gap": null,
            "max_width": null,
            "order": null,
            "_view_module_version": "1.2.0",
            "grid_template_areas": null,
            "object_position": null,
            "object_fit": null,
            "grid_auto_columns": null,
            "margin": null,
            "display": null,
            "left": null
          }
        },
        "b94f7aa0896f453eb602ee5a63e99579": {
          "model_module": "@jupyter-widgets/controls",
          "model_name": "HBoxModel",
          "state": {
            "_view_name": "HBoxView",
            "_dom_classes": [],
            "_model_name": "HBoxModel",
            "_view_module": "@jupyter-widgets/controls",
            "_model_module_version": "1.5.0",
            "_view_count": null,
            "_view_module_version": "1.5.0",
            "box_style": "",
            "layout": "IPY_MODEL_123f6b236220444cabeaa733214c6ad0",
            "_model_module": "@jupyter-widgets/controls",
            "children": [
              "IPY_MODEL_20ebe5c3755d4fe79186f64ecd784123",
              "IPY_MODEL_8a266be0368b42ecb1daa5201a6a9a4e"
            ]
          }
        },
        "123f6b236220444cabeaa733214c6ad0": {
          "model_module": "@jupyter-widgets/base",
          "model_name": "LayoutModel",
          "state": {
            "_view_name": "LayoutView",
            "grid_template_rows": null,
            "right": null,
            "justify_content": null,
            "_view_module": "@jupyter-widgets/base",
            "overflow": null,
            "_model_module_version": "1.2.0",
            "_view_count": null,
            "flex_flow": null,
            "width": null,
            "min_width": null,
            "border": null,
            "align_items": null,
            "bottom": null,
            "_model_module": "@jupyter-widgets/base",
            "top": null,
            "grid_column": null,
            "overflow_y": null,
            "overflow_x": null,
            "grid_auto_flow": null,
            "grid_area": null,
            "grid_template_columns": null,
            "flex": null,
            "_model_name": "LayoutModel",
            "justify_items": null,
            "grid_row": null,
            "max_height": null,
            "align_content": null,
            "visibility": null,
            "align_self": null,
            "height": null,
            "min_height": null,
            "padding": null,
            "grid_auto_rows": null,
            "grid_gap": null,
            "max_width": null,
            "order": null,
            "_view_module_version": "1.2.0",
            "grid_template_areas": null,
            "object_position": null,
            "object_fit": null,
            "grid_auto_columns": null,
            "margin": null,
            "display": null,
            "left": null
          }
        },
        "20ebe5c3755d4fe79186f64ecd784123": {
          "model_module": "@jupyter-widgets/controls",
          "model_name": "IntProgressModel",
          "state": {
            "_view_name": "ProgressView",
            "style": "IPY_MODEL_f6c522d4f062433684b55e99e009fa2e",
            "_dom_classes": [],
            "description": "100%",
            "_model_name": "IntProgressModel",
            "bar_style": "success",
            "max": 4,
            "_view_module": "@jupyter-widgets/controls",
            "_model_module_version": "1.5.0",
            "value": 4,
            "_view_count": null,
            "_view_module_version": "1.5.0",
            "orientation": "horizontal",
            "min": 0,
            "description_tooltip": null,
            "_model_module": "@jupyter-widgets/controls",
            "layout": "IPY_MODEL_93841c5763934ff6a2065cc4498607f8"
          }
        },
        "8a266be0368b42ecb1daa5201a6a9a4e": {
          "model_module": "@jupyter-widgets/controls",
          "model_name": "HTMLModel",
          "state": {
            "_view_name": "HTMLView",
            "style": "IPY_MODEL_64ff2081e20f4b59970aff3b097242b9",
            "_dom_classes": [],
            "description": "",
            "_model_name": "HTMLModel",
            "placeholder": "​",
            "_view_module": "@jupyter-widgets/controls",
            "_model_module_version": "1.5.0",
            "value": " 4/4 [00:16&lt;00:00,  4.07s/it]",
            "_view_count": null,
            "_view_module_version": "1.5.0",
            "description_tooltip": null,
            "_model_module": "@jupyter-widgets/controls",
            "layout": "IPY_MODEL_a54c836379b04f8495d0a8c7acaa040e"
          }
        },
        "f6c522d4f062433684b55e99e009fa2e": {
          "model_module": "@jupyter-widgets/controls",
          "model_name": "ProgressStyleModel",
          "state": {
            "_view_name": "StyleView",
            "_model_name": "ProgressStyleModel",
            "description_width": "initial",
            "_view_module": "@jupyter-widgets/base",
            "_model_module_version": "1.5.0",
            "_view_count": null,
            "_view_module_version": "1.2.0",
            "bar_color": null,
            "_model_module": "@jupyter-widgets/controls"
          }
        },
        "93841c5763934ff6a2065cc4498607f8": {
          "model_module": "@jupyter-widgets/base",
          "model_name": "LayoutModel",
          "state": {
            "_view_name": "LayoutView",
            "grid_template_rows": null,
            "right": null,
            "justify_content": null,
            "_view_module": "@jupyter-widgets/base",
            "overflow": null,
            "_model_module_version": "1.2.0",
            "_view_count": null,
            "flex_flow": null,
            "width": null,
            "min_width": null,
            "border": null,
            "align_items": null,
            "bottom": null,
            "_model_module": "@jupyter-widgets/base",
            "top": null,
            "grid_column": null,
            "overflow_y": null,
            "overflow_x": null,
            "grid_auto_flow": null,
            "grid_area": null,
            "grid_template_columns": null,
            "flex": null,
            "_model_name": "LayoutModel",
            "justify_items": null,
            "grid_row": null,
            "max_height": null,
            "align_content": null,
            "visibility": null,
            "align_self": null,
            "height": null,
            "min_height": null,
            "padding": null,
            "grid_auto_rows": null,
            "grid_gap": null,
            "max_width": null,
            "order": null,
            "_view_module_version": "1.2.0",
            "grid_template_areas": null,
            "object_position": null,
            "object_fit": null,
            "grid_auto_columns": null,
            "margin": null,
            "display": null,
            "left": null
          }
        },
        "64ff2081e20f4b59970aff3b097242b9": {
          "model_module": "@jupyter-widgets/controls",
          "model_name": "DescriptionStyleModel",
          "state": {
            "_view_name": "StyleView",
            "_model_name": "DescriptionStyleModel",
            "description_width": "",
            "_view_module": "@jupyter-widgets/base",
            "_model_module_version": "1.5.0",
            "_view_count": null,
            "_view_module_version": "1.2.0",
            "_model_module": "@jupyter-widgets/controls"
          }
        },
        "a54c836379b04f8495d0a8c7acaa040e": {
          "model_module": "@jupyter-widgets/base",
          "model_name": "LayoutModel",
          "state": {
            "_view_name": "LayoutView",
            "grid_template_rows": null,
            "right": null,
            "justify_content": null,
            "_view_module": "@jupyter-widgets/base",
            "overflow": null,
            "_model_module_version": "1.2.0",
            "_view_count": null,
            "flex_flow": null,
            "width": null,
            "min_width": null,
            "border": null,
            "align_items": null,
            "bottom": null,
            "_model_module": "@jupyter-widgets/base",
            "top": null,
            "grid_column": null,
            "overflow_y": null,
            "overflow_x": null,
            "grid_auto_flow": null,
            "grid_area": null,
            "grid_template_columns": null,
            "flex": null,
            "_model_name": "LayoutModel",
            "justify_items": null,
            "grid_row": null,
            "max_height": null,
            "align_content": null,
            "visibility": null,
            "align_self": null,
            "height": null,
            "min_height": null,
            "padding": null,
            "grid_auto_rows": null,
            "grid_gap": null,
            "max_width": null,
            "order": null,
            "_view_module_version": "1.2.0",
            "grid_template_areas": null,
            "object_position": null,
            "object_fit": null,
            "grid_auto_columns": null,
            "margin": null,
            "display": null,
            "left": null
          }
        }
      }
    }
  },
  "cells": [
    {
      "cell_type": "markdown",
      "metadata": {
        "id": "view-in-github",
        "colab_type": "text"
      },
      "source": [
        "<a href=\"https://colab.research.google.com/github/yilin10/MusicalGenreClassification/blob/master/Assignment1.ipynb\" target=\"_parent\"><img src=\"https://colab.research.google.com/assets/colab-badge.svg\" alt=\"Open In Colab\"/></a>"
      ]
    },
    {
      "cell_type": "markdown",
      "metadata": {
        "colab_type": "text",
        "id": "jLVe0JKuO3bf"
      },
      "source": [
        "# Computer Music Languages and System - Assignment 1"
      ]
    },
    {
      "cell_type": "markdown",
      "metadata": {
        "id": "gqa0sub0LAkQ",
        "colab_type": "text"
      },
      "source": [
        "## Introduction"
      ]
    },
    {
      "cell_type": "markdown",
      "metadata": {
        "id": "9Qx1zsQfLC0q",
        "colab_type": "text"
      },
      "source": [
        "This is a report for Computer Music: Language and Systesms in Politecnico di Milano. It is written as IPython Notebook using Google Colaboratory.\n",
        "\n",
        "The report version on OverLeaf (Editable) [link](https://www.overleaf.com/1494782774kwgkjvfgddzq)\n"
      ]
    },
    {
      "cell_type": "markdown",
      "metadata": {
        "colab_type": "text",
        "id": "oAMtiv3fi_zD"
      },
      "source": [
        "## Imports"
      ]
    },
    {
      "cell_type": "markdown",
      "metadata": {
        "colab_type": "text",
        "id": "AoIKVCIltRqu"
      },
      "source": [
        "Import of **Libraries** we needed in this project."
      ]
    },
    {
      "cell_type": "code",
      "metadata": {
        "colab_type": "code",
        "id": "PM1VJfgyOXPH",
        "colab": {}
      },
      "source": [
        "# import python libraries\n",
        "import librosa\n",
        "import numpy as np\n",
        "import pandas as pd\n",
        "import os\n",
        "import matplotlib.pyplot as plt\n",
        "import IPython.display as ipd\n",
        "import scipy as sp\n",
        "from tqdm.notebook import tqdm\n",
        "from time import sleep\n",
        "\n",
        "# import classification and evaluation\n",
        "import sklearn.svm\n",
        "from sklearn.model_selection import train_test_split,cross_val_score\n",
        "from sklearn import datasets\n",
        "import sklearn.neighbors as neighbors\n",
        "from sklearn.model_selection import cross_val_score\n",
        "from sklearn.metrics import plot_confusion_matrix\n",
        "from sklearn.model_selection import train_test_split\n",
        "from sklearn.model_selection import GridSearchCV\n",
        "from sklearn.metrics import classification_report"
      ],
      "execution_count": 0,
      "outputs": []
    },
    {
      "cell_type": "markdown",
      "metadata": {
        "colab_type": "text",
        "id": "hxm6tnwutXJu"
      },
      "source": [
        "We can use the personal **Kaggle Api token** to enable download from Kaggle."
      ]
    },
    {
      "cell_type": "code",
      "metadata": {
        "colab_type": "code",
        "id": "X8wsW27Qk5d2",
        "outputId": "3579fcee-cc48-4e71-8077-0046f28e785e",
        "colab": {
          "resources": {
            "http://localhost:8080/nbextensions/google.colab/files.js": {
              "data": "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",
              "ok": true,
              "headers": [
                [
                  "content-type",
                  "application/javascript"
                ]
              ],
              "status": 200,
              "status_text": ""
            }
          },
          "base_uri": "https://localhost:8080/",
          "height": 92
        }
      },
      "source": [
        "from google.colab import files\n",
        "files.upload() # Choose kaggle.json (your personal Kaggle API token)\n",
        "\n",
        "! rm -r ~/.kaggle\n",
        "! mkdir ~/.kaggle\n",
        "! mv kaggle.json ~/.kaggle/\n",
        "! chmod 600 ~/.kaggle/kaggle.json # Change the permissions of the file."
      ],
      "execution_count": 0,
      "outputs": [
        {
          "output_type": "display_data",
          "data": {
            "text/html": [
              "\n",
              "     <input type=\"file\" id=\"files-e86189d9-c135-4c5b-a2ea-e701c9ae9224\" name=\"files[]\" multiple disabled />\n",
              "     <output id=\"result-e86189d9-c135-4c5b-a2ea-e701c9ae9224\">\n",
              "      Upload widget is only available when the cell has been executed in the\n",
              "      current browser session. Please rerun this cell to enable.\n",
              "      </output>\n",
              "      <script src=\"/nbextensions/google.colab/files.js\"></script> "
            ],
            "text/plain": [
              "<IPython.core.display.HTML object>"
            ]
          },
          "metadata": {
            "tags": []
          }
        },
        {
          "output_type": "stream",
          "text": [
            "Saving kaggle.json to kaggle.json\n",
            "rm: cannot remove '/root/.kaggle': No such file or directory\n"
          ],
          "name": "stdout"
        }
      ]
    },
    {
      "cell_type": "markdown",
      "metadata": {
        "colab_type": "text",
        "id": "ut0yfrF6tvqA"
      },
      "source": [
        "Download of the dataset from Kaggle, and unzip the dataset\n",
        "\n"
      ]
    },
    {
      "cell_type": "code",
      "metadata": {
        "colab_type": "code",
        "id": "O-jkkBM5RLBm",
        "outputId": "e8f9a77c-c5a3-42f3-b053-8a1bf90ae51e",
        "colab": {
          "base_uri": "https://localhost:8080/",
          "height": 68
        }
      },
      "source": [
        "! pip install -q kaggle\n",
        "! mkdir ~/dataset\n",
        "! kaggle datasets download -d carlthome/gtzan-genre-collection\n",
        "! unzip -q gtzan-genre-collection.zip -d ~/dataset"
      ],
      "execution_count": 0,
      "outputs": [
        {
          "output_type": "stream",
          "text": [
            "Downloading gtzan-genre-collection.zip to /content\n",
            " 99% 1.13G/1.14G [00:15<00:00, 89.5MB/s]\n",
            "100% 1.14G/1.14G [00:15<00:00, 78.7MB/s]\n"
          ],
          "name": "stdout"
        }
      ]
    },
    {
      "cell_type": "markdown",
      "metadata": {
        "id": "wMvXCboCo0oa",
        "colab_type": "text"
      },
      "source": [
        "## Observation and Retrieving Annotations\n"
      ]
    },
    {
      "cell_type": "markdown",
      "metadata": {
        "id": "muksP7rsd25t",
        "colab_type": "text"
      },
      "source": [
        "The original Dataset we are using is from [Kaggle](https://www.kaggle.com/carlthome/gtzan-genre-collection) and provided by [GTZAN](http://marsyas.info/downloads/datasets.html), which is the most widely used free database in music genre recognization field.\n",
        "\n",
        "In our Task **Group 5 Assignment 1**, we need to classify the four Music Genre categories **Blues, Metal, Hip-Hop, Reggae**.\n",
        "\n",
        "\n",
        "In the description part, we can see the brief infomation on this data set.\n",
        "\n",
        "\n",
        "\n",
        "```\n",
        "The dataset consists of 1000 audio tracks each 30 seconds long. \n",
        "\n",
        "It contains 10 genres, each represented by 100 tracks. \n",
        "\n",
        "The tracks are all 22050 Hz monophonic 16-bit audio files in .au format.\n",
        "```\n",
        "\n",
        "\n"
      ]
    },
    {
      "cell_type": "code",
      "metadata": {
        "id": "AvcEkZ9IKqPi",
        "colab_type": "code",
        "outputId": "09023335-7c70-4938-9eb6-589e6a740abd",
        "colab": {
          "base_uri": "https://localhost:8080/",
          "height": 468,
          "referenced_widgets": [
            "894144e18c0f4b85a274a13d06d9b57d",
            "af1a48f513c14744b557f85aa8fc9858",
            "0b6e79a3135145f7965231ead463c742",
            "0a7d8a8b36814a269bb0b25751f89345",
            "587dde1738f1410d8655c7a0af40cc0d",
            "9456b744592a44059f3b40fbbb30c203",
            "cd264ccc79554480b07579400a6228b2",
            "91052d87d49644fbae1f2c0e3dd96000"
          ]
        }
      },
      "source": [
        "# save data in genre.csv\n",
        "genre_analysis_list = [\"blues\",\"metal\",\"hiphop\",\"reggae\"]  \n",
        "genre_list = []  \n",
        "path_list = []\n",
        "train_path = \"../root/dataset/genres/\"\n",
        "\n",
        "for each in tqdm(genre_analysis_list):\n",
        "    train_test_folder = train_path + format(each)\n",
        "    train_catg_files = [f for f in os.listdir(train_test_folder) if f.endswith('.au')]\n",
        "    for index, each_file in enumerate(train_catg_files):\n",
        "        each_file_path = os.path.join(train_test_folder, each_file)\n",
        "        genre_list.append(each)\n",
        "        path_list.append(each_file_path)\n",
        "genre_data = pd.DataFrame(list(zip(genre_list,path_list)),columns = ['Genre','Path'])\n",
        "genre_data.to_csv('./genres.csv',sep = '\\t', index = False)\n",
        "\n",
        "genre_data # get pd.DataFrame"
      ],
      "execution_count": 0,
      "outputs": [
        {
          "output_type": "display_data",
          "data": {
            "application/vnd.jupyter.widget-view+json": {
              "model_id": "894144e18c0f4b85a274a13d06d9b57d",
              "version_minor": 0,
              "version_major": 2
            },
            "text/plain": [
              "HBox(children=(IntProgress(value=0, max=4), HTML(value='')))"
            ]
          },
          "metadata": {
            "tags": []
          }
        },
        {
          "output_type": "stream",
          "text": [
            "\n"
          ],
          "name": "stdout"
        },
        {
          "output_type": "execute_result",
          "data": {
            "text/html": [
              "<div>\n",
              "<style scoped>\n",
              "    .dataframe tbody tr th:only-of-type {\n",
              "        vertical-align: middle;\n",
              "    }\n",
              "\n",
              "    .dataframe tbody tr th {\n",
              "        vertical-align: top;\n",
              "    }\n",
              "\n",
              "    .dataframe thead th {\n",
              "        text-align: right;\n",
              "    }\n",
              "</style>\n",
              "<table border=\"1\" class=\"dataframe\">\n",
              "  <thead>\n",
              "    <tr style=\"text-align: right;\">\n",
              "      <th></th>\n",
              "      <th>Genre</th>\n",
              "      <th>Path</th>\n",
              "    </tr>\n",
              "  </thead>\n",
              "  <tbody>\n",
              "    <tr>\n",
              "      <th>0</th>\n",
              "      <td>blues</td>\n",
              "      <td>../root/dataset/genres/blues/blues.00061.au</td>\n",
              "    </tr>\n",
              "    <tr>\n",
              "      <th>1</th>\n",
              "      <td>blues</td>\n",
              "      <td>../root/dataset/genres/blues/blues.00040.au</td>\n",
              "    </tr>\n",
              "    <tr>\n",
              "      <th>2</th>\n",
              "      <td>blues</td>\n",
              "      <td>../root/dataset/genres/blues/blues.00032.au</td>\n",
              "    </tr>\n",
              "    <tr>\n",
              "      <th>3</th>\n",
              "      <td>blues</td>\n",
              "      <td>../root/dataset/genres/blues/blues.00056.au</td>\n",
              "    </tr>\n",
              "    <tr>\n",
              "      <th>4</th>\n",
              "      <td>blues</td>\n",
              "      <td>../root/dataset/genres/blues/blues.00077.au</td>\n",
              "    </tr>\n",
              "    <tr>\n",
              "      <th>...</th>\n",
              "      <td>...</td>\n",
              "      <td>...</td>\n",
              "    </tr>\n",
              "    <tr>\n",
              "      <th>395</th>\n",
              "      <td>reggae</td>\n",
              "      <td>../root/dataset/genres/reggae/reggae.00029.au</td>\n",
              "    </tr>\n",
              "    <tr>\n",
              "      <th>396</th>\n",
              "      <td>reggae</td>\n",
              "      <td>../root/dataset/genres/reggae/reggae.00088.au</td>\n",
              "    </tr>\n",
              "    <tr>\n",
              "      <th>397</th>\n",
              "      <td>reggae</td>\n",
              "      <td>../root/dataset/genres/reggae/reggae.00075.au</td>\n",
              "    </tr>\n",
              "    <tr>\n",
              "      <th>398</th>\n",
              "      <td>reggae</td>\n",
              "      <td>../root/dataset/genres/reggae/reggae.00017.au</td>\n",
              "    </tr>\n",
              "    <tr>\n",
              "      <th>399</th>\n",
              "      <td>reggae</td>\n",
              "      <td>../root/dataset/genres/reggae/reggae.00048.au</td>\n",
              "    </tr>\n",
              "  </tbody>\n",
              "</table>\n",
              "<p>400 rows × 2 columns</p>\n",
              "</div>"
            ],
            "text/plain": [
              "      Genre                                           Path\n",
              "0     blues    ../root/dataset/genres/blues/blues.00061.au\n",
              "1     blues    ../root/dataset/genres/blues/blues.00040.au\n",
              "2     blues    ../root/dataset/genres/blues/blues.00032.au\n",
              "3     blues    ../root/dataset/genres/blues/blues.00056.au\n",
              "4     blues    ../root/dataset/genres/blues/blues.00077.au\n",
              "..      ...                                            ...\n",
              "395  reggae  ../root/dataset/genres/reggae/reggae.00029.au\n",
              "396  reggae  ../root/dataset/genres/reggae/reggae.00088.au\n",
              "397  reggae  ../root/dataset/genres/reggae/reggae.00075.au\n",
              "398  reggae  ../root/dataset/genres/reggae/reggae.00017.au\n",
              "399  reggae  ../root/dataset/genres/reggae/reggae.00048.au\n",
              "\n",
              "[400 rows x 2 columns]"
            ]
          },
          "metadata": {
            "tags": []
          },
          "execution_count": 7
        }
      ]
    },
    {
      "cell_type": "markdown",
      "metadata": {
        "id": "HfjjS6PJ_Moo",
        "colab_type": "text"
      },
      "source": [
        "## Preprocessing"
      ]
    },
    {
      "cell_type": "markdown",
      "metadata": {
        "id": "byNZHT1qP57Z",
        "colab_type": "text"
      },
      "source": [
        "Go through the files and check .au basic info, we can pick random samples to check according to statistic principle.\n",
        "- sample rate\n",
        "- duration in seconds\n",
        "- static tempo\n",
        "\n",
        "By executing the following code we can get the same information on this dataset which confirms with the provided info."
      ]
    },
    {
      "cell_type": "code",
      "metadata": {
        "id": "J0PiPkNoP6Tx",
        "colab_type": "code",
        "outputId": "2421f41c-c2bb-44b3-d532-2daab96a78ab",
        "colab": {
          "base_uri": "https://localhost:8080/",
          "height": 137,
          "referenced_widgets": [
            "ff77c9bf584846659278d828cb75fd9c",
            "0048a39504544439bbf7acdbc8a847c8",
            "37de8bdcfdcb44ff9fbb7c4bb8e9b763",
            "e816cdfcdf8d45cba342eaa95b15ed01",
            "2e160fc9320f43488c2b6baba0777824",
            "b5742534e7694d7eb31bd1607f9a5ca1",
            "e0ea432f75dd4980b9d8ff5ba9074ebd",
            "93d9295ec4554d0aa0d3a2557ca7787b"
          ]
        }
      },
      "source": [
        "import warnings \n",
        "# ignore dw warning from librosa.beat\n",
        "warnings.filterwarnings(\"ignore\", category=DeprecationWarning) \n",
        "# get 20% of check_sample from original dataset\n",
        "check_sample = genre_data['Path'].sample(frac = 0.2, replace = False,\n",
        "                                         random_state = None, axis = 0 )\n",
        "sr_list = []\n",
        "dur_list = []\n",
        "tempo_list = []\n",
        "for p in tqdm(check_sample):\n",
        "    #read audio file \n",
        "    y, sr = librosa.load(p) \n",
        "    #1. get sample rate\n",
        "    sr_list.append(sr)\n",
        "    #2. get duration\n",
        "    dur = round(librosa.get_duration(y=y, sr=sr))\n",
        "    dur_list.append(dur)\n",
        "    #3. static tempo\n",
        "    onset_env = librosa.onset.onset_strength(y, sr=sr)\n",
        "    tempo = librosa.beat.tempo(onset_envelope=onset_env, sr=sr)\n",
        "    tempo_list.append(round(tempo[0]))\n",
        "    #4. ??\n",
        "print(\"sample rate: \", sr_list) # sample rate = 22050\n",
        "print(\"duration in seconds: \", dur_list)\n",
        "print(\"static tempo: \", tempo_list)"
      ],
      "execution_count": 0,
      "outputs": [
        {
          "output_type": "display_data",
          "data": {
            "application/vnd.jupyter.widget-view+json": {
              "model_id": "ff77c9bf584846659278d828cb75fd9c",
              "version_minor": 0,
              "version_major": 2
            },
            "text/plain": [
              "HBox(children=(IntProgress(value=0, max=80), HTML(value='')))"
            ]
          },
          "metadata": {
            "tags": []
          }
        },
        {
          "output_type": "stream",
          "text": [
            "\n",
            "sample rate:  [22050, 22050, 22050, 22050, 22050, 22050, 22050, 22050, 22050, 22050, 22050, 22050, 22050, 22050, 22050, 22050, 22050, 22050, 22050, 22050, 22050, 22050, 22050, 22050, 22050, 22050, 22050, 22050, 22050, 22050, 22050, 22050, 22050, 22050, 22050, 22050, 22050, 22050, 22050, 22050, 22050, 22050, 22050, 22050, 22050, 22050, 22050, 22050, 22050, 22050, 22050, 22050, 22050, 22050, 22050, 22050, 22050, 22050, 22050, 22050, 22050, 22050, 22050, 22050, 22050, 22050, 22050, 22050, 22050, 22050, 22050, 22050, 22050, 22050, 22050, 22050, 22050, 22050, 22050, 22050]\n",
            "duration in seconds:  [30, 30, 30, 30, 30, 30, 30, 30, 30, 30, 30, 30, 30, 31, 30, 30, 31, 30, 30, 30, 30, 30, 30, 30, 30, 30, 30, 30, 30, 30, 30, 30, 30, 30, 30, 30, 30, 30, 30, 30, 30, 30, 30, 30, 30, 30, 30, 30, 30, 30, 30, 31, 30, 30, 30, 30, 30, 30, 30, 30, 30, 30, 30, 30, 30, 30, 30, 30, 30, 30, 30, 30, 30, 31, 31, 30, 30, 30, 30, 30]\n",
            "static tempo:  [152.0, 96.0, 152.0, 144.0, 136.0, 123.0, 99.0, 144.0, 123.0, 123.0, 123.0, 92.0, 152.0, 96.0, 112.0, 136.0, 117.0, 152.0, 136.0, 123.0, 103.0, 152.0, 129.0, 103.0, 117.0, 129.0, 117.0, 83.0, 152.0, 161.0, 152.0, 136.0, 108.0, 112.0, 123.0, 152.0, 108.0, 161.0, 89.0, 92.0, 99.0, 136.0, 96.0, 129.0, 112.0, 112.0, 136.0, 112.0, 144.0, 99.0, 103.0, 161.0, 123.0, 161.0, 136.0, 129.0, 123.0, 161.0, 129.0, 152.0, 103.0, 144.0, 96.0, 92.0, 112.0, 99.0, 96.0, 99.0, 108.0, 117.0, 96.0, 129.0, 144.0, 117.0, 92.0, 99.0, 89.0, 92.0, 144.0, 172.0]\n"
          ],
          "name": "stdout"
        }
      ]
    },
    {
      "cell_type": "code",
      "metadata": {
        "id": "lzWlyjSEkCuR",
        "colab_type": "code",
        "outputId": "517fe936-e83b-44ad-d027-e3de1eee3961",
        "colab": {
          "base_uri": "https://localhost:8080/",
          "height": 119
        }
      },
      "source": [
        "print(\"--- Statistics for sample data in static tempo ---\")\n",
        "print(\"Mean\", np.mean(tempo_list))\n",
        "print(\"Min\",np.min(tempo_list))\n",
        "print(\"Max\",np.min(tempo_list))\n",
        "print(\"Median\", np.median(tempo_list))\n",
        "print(\"Std\", np.std(tempo_list))"
      ],
      "execution_count": 0,
      "outputs": [
        {
          "output_type": "stream",
          "text": [
            "--- Statistics for sample data in static tempo ---\n",
            "Mean 122.5375\n",
            "Min 83.0\n",
            "Max 83.0\n",
            "Median 123.0\n",
            "Std 22.62351859791045\n"
          ],
          "name": "stdout"
        }
      ]
    },
    {
      "cell_type": "markdown",
      "metadata": {
        "id": "1--vsk7VfXpB",
        "colab_type": "text"
      },
      "source": [
        "Here we can print to see the statistic info in tempo as a test. We can see in rhythmic part the standard diviation is quiet obvious, which makes it possible to distinguish different different genres."
      ]
    },
    {
      "cell_type": "markdown",
      "metadata": {
        "id": "CJek8GfLI9q9",
        "colab_type": "text"
      },
      "source": [
        "**Check the quality of the Original dataset**\n",
        "\n",
        "- if it is balanced\n",
        "- if it has repetition\n",
        "- if it is able to describe differnet genre\n",
        "\n",
        "According to a research result we found [[1]](https://arxiv.org/abs/1306.1461), the audio pieces from GTZAN is not perfect, it does have repetitions, and dislabelling error.\n",
        "\n",
        "In the research result we find from the paper, they checked each audio piece both using fingerprinting of the audio and also human ears.\n",
        "\n",
        "There are different kinds of repetition and mislabelling in the GTZAN dataset(as recording repetition, artist repetiton and version repetition and others).\n",
        "\n",
        "1. **Recording repetition**: 0 error in blues, 6 in hiphop, 0 in metal, 3 in reggae\n",
        "2. **Artist unbalanced**: all blues audio come from only 9 artists; 34 % of the Reggae pieces come from artist Bob Marley(no.00-27 and no.54-60)\n",
        "3. **Version repetition**: 0 in blues, 2 in hiphop, 3 in Metal, 2 in Reggae; eg. Metal 33 is “Enter Sandman” by Metallica, and Metal 74 is a parody\n",
        "4. **Mislabelling**: there are some contentious or conscpicious labelled piece; eg. In Metal Genre, Queen's “Tie Your Mother Down” (no.58), “Tear it up” (no.59), “We Will Rock You” (no.60) might be labelled as Rock instead; In all, there are 0 error in blues, 4 in Hiphop, 13 in Metal and 1 in reggae.\n",
        "\n",
        "Thus, we know that GTZAN provides convenient origin dataset for further analysis, but is not perfect. \n",
        "\n",
        "We should take into consideration the error inside each 'Genre', especially in the categories of 'Metal' and 'Reggae' for **the evaluation stage**.\n",
        "\n",
        "\n",
        "\n",
        "\n",
        "\n",
        "\n",
        "\n",
        "\n",
        "\n",
        "\n",
        "\n",
        "\n"
      ]
    },
    {
      "cell_type": "markdown",
      "metadata": {
        "id": "oH7PRBQyBzwJ",
        "colab_type": "text"
      },
      "source": [
        "## Choose the Features"
      ]
    },
    {
      "cell_type": "markdown",
      "metadata": {
        "id": "ZipMFYxDvGrq",
        "colab_type": "text"
      },
      "source": [
        "We are able to analysis the genral information and store the data result we need.\n",
        "\n",
        "1. go through the genre list we are going to analysis **'blues', 'metal', 'hiphop', 'reggae'**\n",
        "2. store the file path and the genre tag\n",
        "3. extract and calculate other features we need, as **MFCC**, **Chroma_stft**, **centroid, zero crossing rate, tempo, rms**.\n",
        "4. store result in a pandas.DataFrame structure \n",
        "5. also create a .csv file named **source_data.csv** under **'./source_data.csv'**"
      ]
    },
    {
      "cell_type": "markdown",
      "metadata": {
        "id": "GOCemXLfRsV9",
        "colab_type": "text"
      },
      "source": [
        "Different genre has different **mfcc** pattern\n",
        "we can check the mfcc value on time series"
      ]
    },
    {
      "cell_type": "code",
      "metadata": {
        "id": "plTiKlerjOkl",
        "colab_type": "code",
        "colab": {}
      },
      "source": [
        "y, sr = librosa.load(genre_data['Path'][1], offset=0, duration=5)\n",
        "x = librosa.feature.mfcc(y=y,sr =sr, n_mfcc=13)\n",
        "print(x)"
      ],
      "execution_count": 0,
      "outputs": []
    },
    {
      "cell_type": "code",
      "metadata": {
        "id": "QvGvKCxrTAPo",
        "colab_type": "code",
        "outputId": "3e82f201-2a24-4bc6-8b1e-5708da830a17",
        "colab": {
          "base_uri": "https://localhost:8080/",
          "height": 66,
          "referenced_widgets": [
            "07421a64e3ab4ccaa0dd36be2a746738",
            "f031c7fa6b664886af26bb5c27c71622",
            "15bfcfcd4a794cc98330ad9486247610",
            "616cedc565ca4998962998e22131266d",
            "3bcc3fdc0fde4eb0ac7902fff8788a9f",
            "3168239ddf2747a48910c9ad6bc12052",
            "b83791cb7d0c4a9e929aaff13c9bd991",
            "f9b85695ccae411d8e1048673bc85ba9"
          ]
        }
      },
      "source": [
        "# get mfcc in time series\n",
        "show_dict = {'blues':[],'metal':[],'hiphop':[],'reggae':[]}\n",
        "for each in genre_analysis_list:\n",
        "    show_dict[each] = pd.DataFrame(np.zeros((13,30)))\n",
        "for each, each_class in zip(genre_data['Path'],tqdm(genre_analysis_list)):\n",
        "    hop_length = 1024\n",
        "    y, sr = librosa.load(each, offset=0, duration=5)\n",
        "    each_sample = librosa.feature.mfcc(y=y, sr=sr, n_mfcc=13,hop_length= hop_length)\n",
        "    show_dict[each_class] += pd.DataFrame(each_sample)\n",
        "#print(show_dict)"
      ],
      "execution_count": 0,
      "outputs": [
        {
          "output_type": "display_data",
          "data": {
            "application/vnd.jupyter.widget-view+json": {
              "model_id": "07421a64e3ab4ccaa0dd36be2a746738",
              "version_minor": 0,
              "version_major": 2
            },
            "text/plain": [
              "HBox(children=(IntProgress(value=0, max=4), HTML(value='')))"
            ]
          },
          "metadata": {
            "tags": []
          }
        },
        {
          "output_type": "stream",
          "text": [
            "\n"
          ],
          "name": "stdout"
        }
      ]
    },
    {
      "cell_type": "markdown",
      "metadata": {
        "id": "ZcQcvBpRa4ul",
        "colab_type": "text"
      },
      "source": [
        "### **MFCC**"
      ]
    },
    {
      "cell_type": "code",
      "metadata": {
        "id": "rhzPjbI4apsh",
        "colab_type": "code",
        "outputId": "686a556c-b598-44b6-cd2f-c7dd7ba2c243",
        "colab": {
          "base_uri": "https://localhost:8080/",
          "height": 1000
        }
      },
      "source": [
        "# plot\n",
        "for each in genre_analysis_list:\n",
        "    figure = plt.figure(figsize=(14, 4))\n",
        "    plt.subplot(1,2,1)\n",
        "    plt.imshow(show_dict[each], origin='lower', aspect='auto')\n",
        "    plt.xlabel('Time')\n",
        "    plt.ylabel('MFCC coefficients')\n",
        "    plt.title('MFCC (coefficients 0 to 13) for: Genre {}'.format(each))\n",
        "    plt.colorbar()\n",
        "    plt.tight_layout()\n",
        "\n",
        "    mfcc_upper = show_dict[each][4:]\n",
        "    plt.subplot(1,2,2)\n",
        "    plt.imshow(mfcc_upper, origin='lower', aspect='auto')\n",
        "    plt.title('MFCC (coefficients 4 to 13) for: Genre {}'.format(each))\n",
        "    plt.xlabel('Time')\n",
        "    plt.ylabel('MFCC coefficients')\n",
        "    plt.colorbar()\n",
        "    plt.tight_layout()"
      ],
      "execution_count": 0,
      "outputs": [
        {
          "output_type": "display_data",
          "data": {
            "image/png": "[encoded data removed]",
            "text/plain": [
              "<Figure size 1008x288 with 4 Axes>"
            ]
          },
          "metadata": {
            "tags": [],
            "needs_background": "light"
          }
        },
        {
          "output_type": "display_data",
          "data": {
            "image/png": "[encoded data removed]",
            "text/plain": [
              "<Figure size 1008x288 with 4 Axes>"
            ]
          },
          "metadata": {
            "tags": [],
            "needs_background": "light"
          }
        },
        {
          "output_type": "display_data",
          "data": {
            "image/png": "[encoded data removed]",
            "text/plain": [
              "<Figure size 1008x288 with 4 Axes>"
            ]
          },
          "metadata": {
            "tags": [],
            "needs_background": "light"
          }
        },
        {
          "output_type": "display_data",
          "data": {
            "image/png": "[encoded data removed]",
            "text/plain": [
              "<Figure size 1008x288 with 4 Axes>"
            ]
          },
          "metadata": {
            "tags": [],
            "needs_background": "light"
          }
        }
      ]
    },
    {
      "cell_type": "markdown",
      "metadata": {
        "id": "CnP91dbLSQm9",
        "colab_type": "text"
      },
      "source": [
        "Also check the distribution of chroma **on time axis** in  each genre\n",
        "\n",
        "### **Chroma_stft**"
      ]
    },
    {
      "cell_type": "code",
      "metadata": {
        "id": "lGlzMti1mYTQ",
        "colab_type": "code",
        "outputId": "0d62f322-e8ef-42e5-f710-4c40c3825507",
        "colab": {
          "base_uri": "https://localhost:8080/",
          "height": 66,
          "referenced_widgets": [
            "67f269073ae543cdade07933fe354520",
            "d1fa77836a2f4c8f97aee35ba2b8c150",
            "7f2c7bb3e17c472f945964aeb9332d79",
            "37f456268322488bbf4a2eb01c6ea00a",
            "273aca6df7d94d998bd83d7696221deb",
            "3af2a035a0a949afb6d89db8947d77f3",
            "32d91d8aded143aab38312597dbcd972",
            "4fae35463a5346b98255259bb4f46138"
          ]
        }
      },
      "source": [
        "# new plot\n",
        "# get chroma in time series\n",
        "show_chroma_dict = {'blues':[],'metal':[],'hiphop':[],'reggae':[]}\n",
        "for each in genre_analysis_list:\n",
        "    show_chroma_dict[each] = pd.DataFrame(np.zeros((12,30)))\n",
        "for each, each_class in zip(genre_data['Path'],tqdm(genre_analysis_list)):\n",
        "    hop_length = 1024\n",
        "    y, sr = librosa.load(each, offset=0, duration=5)\n",
        "    each_sample = librosa.feature.chroma_stft(y=y, sr=sr,hop_length= hop_length)\n",
        "    show_chroma_dict[each_class] += pd.DataFrame(each_sample)"
      ],
      "execution_count": 0,
      "outputs": [
        {
          "output_type": "display_data",
          "data": {
            "application/vnd.jupyter.widget-view+json": {
              "model_id": "67f269073ae543cdade07933fe354520",
              "version_minor": 0,
              "version_major": 2
            },
            "text/plain": [
              "HBox(children=(IntProgress(value=0, max=4), HTML(value='')))"
            ]
          },
          "metadata": {
            "tags": []
          }
        },
        {
          "output_type": "stream",
          "text": [
            "\n"
          ],
          "name": "stdout"
        }
      ]
    },
    {
      "cell_type": "code",
      "metadata": {
        "id": "EvYro-aOnc4P",
        "colab_type": "code",
        "outputId": "d7495c3a-a0ea-4255-f661-f3893866f919",
        "colab": {
          "base_uri": "https://localhost:8080/",
          "height": 1000
        }
      },
      "source": [
        "show_chroma_dict"
      ],
      "execution_count": 0,
      "outputs": [
        {
          "output_type": "execute_result",
          "data": {
            "text/plain": [
              "{'blues':           0         1         2   ...        27        28        29\n",
              " 0   0.288379  0.301413  0.226148  ...  0.103493  0.184268  0.243573\n",
              " 1   0.356168  0.303362  0.381096  ...  0.200460  0.254609  0.335214\n",
              " 2   0.442290  0.734840  0.472438  ...  0.493233  0.218177  0.517989\n",
              " 3   0.525327  0.365546  0.344307  ...  0.126033  0.099246  0.335570\n",
              " 4   0.618087  0.640075  1.000000  ...  0.063869  0.097352  0.372485\n",
              " 5   0.799820  0.669128  0.637757  ...  0.139546  0.209750  0.540321\n",
              " 6   0.902691  0.384657  0.308344  ...  0.143354  0.223089  0.568866\n",
              " 7   1.000000  1.000000  0.534945  ...  1.000000  1.000000  1.000000\n",
              " 8   0.310207  0.333586  0.363623  ...  0.405692  0.374836  0.651334\n",
              " 9   0.348328  0.262359  0.182064  ...  0.098314  0.241626  0.448331\n",
              " 10  0.531053  0.287445  0.316296  ...  0.055623  0.201434  0.442051\n",
              " 11  0.388597  0.510507  0.414021  ...  0.143523  0.365669  0.337938\n",
              " \n",
              " [12 rows x 30 columns],\n",
              " 'hiphop':           0         1         2   ...        27        28        29\n",
              " 0   0.737142  0.199943  0.016555  ...  0.999807  0.089750  0.037528\n",
              " 1   0.209577  0.016214  0.005413  ...  0.721225  0.086394  0.038805\n",
              " 2   0.078084  0.003752  0.002292  ...  0.275857  0.097585  0.046733\n",
              " 3   0.046802  0.001587  0.000407  ...  0.055897  0.084472  0.083898\n",
              " 4   0.034242  0.001100  0.000322  ...  0.074805  0.195659  0.174226\n",
              " 5   0.067755  0.014318  0.002031  ...  0.189003  0.434459  0.243315\n",
              " 6   0.150400  0.037495  0.003248  ...  0.515057  0.581591  0.491490\n",
              " 7   0.114216  0.004896  0.002467  ...  1.000000  1.000000  1.000000\n",
              " 8   0.146555  0.006660  0.052281  ...  0.920631  0.821463  0.830320\n",
              " 9   0.402608  0.089262  0.535524  ...  0.477647  0.319519  0.453999\n",
              " 10  1.000000  0.697422  1.000000  ...  0.283724  0.104156  0.210616\n",
              " 11  0.860170  1.000000  0.242215  ...  0.376634  0.052554  0.109851\n",
              " \n",
              " [12 rows x 30 columns],\n",
              " 'metal':           0         1         2   ...        27        28        29\n",
              " 0   0.488572  0.539983  0.180271  ...  0.450109  0.381502  0.345438\n",
              " 1   1.000000  0.984559  1.000000  ...  1.000000  1.000000  1.000000\n",
              " 2   0.506531  0.571904  0.303339  ...  0.280483  0.345483  0.389954\n",
              " 3   0.150385  0.187785  0.132922  ...  0.104910  0.083531  0.057292\n",
              " 4   0.150641  0.187047  0.326230  ...  0.075247  0.047821  0.020249\n",
              " 5   0.157231  0.326210  0.729510  ...  0.090878  0.087770  0.033073\n",
              " 6   0.152629  0.272768  0.220329  ...  0.123485  0.071386  0.014386\n",
              " 7   0.229386  0.433108  0.239313  ...  0.288515  0.155197  0.029390\n",
              " 8   0.443841  1.000000  0.709554  ...  0.857765  0.449992  0.109094\n",
              " 9   0.655445  0.508840  0.241051  ...  0.331997  0.189560  0.059396\n",
              " 10  0.796783  0.245325  0.157561  ...  0.208109  0.064907  0.052139\n",
              " 11  0.552363  0.515050  0.140270  ...  0.263446  0.159962  0.179072\n",
              " \n",
              " [12 rows x 30 columns],\n",
              " 'reggae':           0         1         2   ...        27        28        29\n",
              " 0   0.781719  1.000000  0.834847  ...  0.043235  0.358170  0.136321\n",
              " 1   0.638319  0.270583  0.174432  ...  0.010393  0.112629  0.074507\n",
              " 2   0.788944  0.332776  0.121128  ...  0.042267  0.107500  0.086698\n",
              " 3   1.000000  0.514200  0.202783  ...  0.061242  0.120288  0.388614\n",
              " 4   0.998917  0.757513  0.369181  ...  0.028190  0.147023  0.551978\n",
              " 5   0.816729  0.873636  0.469171  ...  0.048387  0.263746  0.214628\n",
              " 6   0.730091  0.773428  0.640782  ...  0.207306  0.535801  0.158826\n",
              " 7   0.773474  0.817190  1.000000  ...  0.994387  0.965038  0.282102\n",
              " 8   0.140354  0.131778  0.133028  ...  1.000000  0.982251  0.744534\n",
              " 9   0.157940  0.038659  0.035730  ...  0.286893  1.000000  1.000000\n",
              " 10  0.394948  0.059497  0.056479  ...  0.058501  0.819682  0.349271\n",
              " 11  0.934835  0.612701  0.518125  ...  0.045619  0.641114  0.097873\n",
              " \n",
              " [12 rows x 30 columns]}"
            ]
          },
          "metadata": {
            "tags": []
          },
          "execution_count": 26
        }
      ]
    },
    {
      "cell_type": "code",
      "metadata": {
        "id": "0q2BY2JuSP_N",
        "colab_type": "code",
        "outputId": "5ac6bcf8-e921-4fd3-eaa7-82e9cae14f6d",
        "colab": {
          "base_uri": "https://localhost:8080/",
          "height": 849
        }
      },
      "source": [
        "# new plot\n",
        "for each in genre_analysis_list:\n",
        "    figure = plt.figure(figsize=(6, 3))\n",
        "    plt.imshow(show_chroma_dict[each],cmap='Blues', aspect='auto' )\n",
        "    plt.xlabel('Time')\n",
        "    plt.ylabel('Chroma Distribution')\n",
        "    plt.title('Chroma stft for: Genre {}'.format(each))\n",
        "    plt.colorbar()\n",
        "    plt.tight_layout()"
      ],
      "execution_count": 27,
      "outputs": [
        {
          "output_type": "display_data",
          "data": {
            "image/png": "[encoded data removed]",
            "text/plain": [
              "<Figure size 432x216 with 2 Axes>"
            ]
          },
          "metadata": {
            "tags": [],
            "needs_background": "light"
          }
        },
        {
          "output_type": "display_data",
          "data": {
            "image/png": "[encoded data removed]",
            "text/plain": [
              "<Figure size 432x216 with 2 Axes>"
            ]
          },
          "metadata": {
            "tags": [],
            "needs_background": "light"
          }
        },
        {
          "output_type": "display_data",
          "data": {
            "image/png": "[encoded data removed]",
            "text/plain": [
              "<Figure size 432x216 with 2 Axes>"
            ]
          },
          "metadata": {
            "tags": [],
            "needs_background": "light"
          }
        },
        {
          "output_type": "display_data",
          "data": {
            "image/png": "[encoded data removed]",
            "text/plain": [
              "<Figure size 432x216 with 2 Axes>"
            ]
          },
          "metadata": {
            "tags": [],
            "needs_background": "light"
          }
        }
      ]
    },
    {
      "cell_type": "markdown",
      "metadata": {
        "id": "a1NyEsAqOjiG",
        "colab_type": "text"
      },
      "source": [
        "### Spectral Flatness"
      ]
    },
    {
      "cell_type": "markdown",
      "metadata": {
        "id": "dVyrbmMlbniC",
        "colab_type": "text"
      },
      "source": [
        "get time series of spectral flatness"
      ]
    },
    {
      "cell_type": "code",
      "metadata": {
        "id": "Tid0bDoy5hzb",
        "colab_type": "code",
        "colab": {
          "base_uri": "https://localhost:8080/",
          "height": 285,
          "referenced_widgets": [
            "4b48f3d16cf1498fbd2d8bc1f6c1aa2b",
            "68a38cdae5de419f8c0be95451e0bb32",
            "0a4ecaa977504faeb6e1535cb3750e44",
            "1a89925c17dd4ab88ac8fd48e3385c7e",
            "fd4f04bb219f49ac8dd0295eb86a70f2",
            "8c888d6924f14fdcb1e301b6ac8aa0f5",
            "291f8eef1cc54bcab7dfa485e67f3fd2",
            "afc7ab0108524e609e1147df2d7996a8"
          ]
        },
        "outputId": "9fc9d8d0-75dc-4677-f600-5433ca564395"
      },
      "source": [
        "sample = np.zeros((400,216))\n",
        "for each,i in zip(genre_data['Path'],tqdm(range(0,400))):\n",
        "    # read each file\n",
        "    y, sr = librosa.load(each, offset=0, duration=5)\n",
        "    each_sample = librosa.feature.spectral_flatness(y=y)[0] \n",
        "    # first line: flat\n",
        "    sample[i] = each_sample\n",
        "pd_flat = pd.DataFrame(sample)\n",
        "pd_flat['Genre'] = genre_data['Genre']\n",
        "show_flat = pd_flat.groupby(['Genre']).mean()\n",
        "# show data frame\n",
        "show_flat"
      ],
      "execution_count": 171,
      "outputs": [
        {
          "output_type": "display_data",
          "data": {
            "application/vnd.jupyter.widget-view+json": {
              "model_id": "4b48f3d16cf1498fbd2d8bc1f6c1aa2b",
              "version_minor": 0,
              "version_major": 2
            },
            "text/plain": [
              "HBox(children=(IntProgress(value=0, max=400), HTML(value='')))"
            ]
          },
          "metadata": {
            "tags": []
          }
        },
        {
          "output_type": "execute_result",
          "data": {
            "text/html": [
              "<div>\n",
              "<style scoped>\n",
              "    .dataframe tbody tr th:only-of-type {\n",
              "        vertical-align: middle;\n",
              "    }\n",
              "\n",
              "    .dataframe tbody tr th {\n",
              "        vertical-align: top;\n",
              "    }\n",
              "\n",
              "    .dataframe thead th {\n",
              "        text-align: right;\n",
              "    }\n",
              "</style>\n",
              "<table border=\"1\" class=\"dataframe\">\n",
              "  <thead>\n",
              "    <tr style=\"text-align: right;\">\n",
              "      <th></th>\n",
              "      <th>0</th>\n",
              "      <th>1</th>\n",
              "      <th>2</th>\n",
              "      <th>3</th>\n",
              "      <th>4</th>\n",
              "      <th>5</th>\n",
              "      <th>6</th>\n",
              "      <th>7</th>\n",
              "      <th>8</th>\n",
              "      <th>9</th>\n",
              "      <th>10</th>\n",
              "      <th>11</th>\n",
              "      <th>12</th>\n",
              "      <th>13</th>\n",
              "      <th>14</th>\n",
              "      <th>15</th>\n",
              "      <th>16</th>\n",
              "      <th>17</th>\n",
              "      <th>18</th>\n",
              "      <th>19</th>\n",
              "      <th>20</th>\n",
              "      <th>21</th>\n",
              "      <th>22</th>\n",
              "      <th>23</th>\n",
              "      <th>24</th>\n",
              "      <th>25</th>\n",
              "      <th>26</th>\n",
              "      <th>27</th>\n",
              "      <th>28</th>\n",
              "      <th>29</th>\n",
              "      <th>30</th>\n",
              "      <th>31</th>\n",
              "      <th>32</th>\n",
              "      <th>33</th>\n",
              "      <th>34</th>\n",
              "      <th>35</th>\n",
              "      <th>36</th>\n",
              "      <th>37</th>\n",
              "      <th>38</th>\n",
              "      <th>39</th>\n",
              "      <th>...</th>\n",
              "      <th>176</th>\n",
              "      <th>177</th>\n",
              "      <th>178</th>\n",
              "      <th>179</th>\n",
              "      <th>180</th>\n",
              "      <th>181</th>\n",
              "      <th>182</th>\n",
              "      <th>183</th>\n",
              "      <th>184</th>\n",
              "      <th>185</th>\n",
              "      <th>186</th>\n",
              "      <th>187</th>\n",
              "      <th>188</th>\n",
              "      <th>189</th>\n",
              "      <th>190</th>\n",
              "      <th>191</th>\n",
              "      <th>192</th>\n",
              "      <th>193</th>\n",
              "      <th>194</th>\n",
              "      <th>195</th>\n",
              "      <th>196</th>\n",
              "      <th>197</th>\n",
              "      <th>198</th>\n",
              "      <th>199</th>\n",
              "      <th>200</th>\n",
              "      <th>201</th>\n",
              "      <th>202</th>\n",
              "      <th>203</th>\n",
              "      <th>204</th>\n",
              "      <th>205</th>\n",
              "      <th>206</th>\n",
              "      <th>207</th>\n",
              "      <th>208</th>\n",
              "      <th>209</th>\n",
              "      <th>210</th>\n",
              "      <th>211</th>\n",
              "      <th>212</th>\n",
              "      <th>213</th>\n",
              "      <th>214</th>\n",
              "      <th>215</th>\n",
              "    </tr>\n",
              "    <tr>\n",
              "      <th>Genre</th>\n",
              "      <th></th>\n",
              "      <th></th>\n",
              "      <th></th>\n",
              "      <th></th>\n",
              "      <th></th>\n",
              "      <th></th>\n",
              "      <th></th>\n",
              "      <th></th>\n",
              "      <th></th>\n",
              "      <th></th>\n",
              "      <th></th>\n",
              "      <th></th>\n",
              "      <th></th>\n",
              "      <th></th>\n",
              "      <th></th>\n",
              "      <th></th>\n",
              "      <th></th>\n",
              "      <th></th>\n",
              "      <th></th>\n",
              "      <th></th>\n",
              "      <th></th>\n",
              "      <th></th>\n",
              "      <th></th>\n",
              "      <th></th>\n",
              "      <th></th>\n",
              "      <th></th>\n",
              "      <th></th>\n",
              "      <th></th>\n",
              "      <th></th>\n",
              "      <th></th>\n",
              "      <th></th>\n",
              "      <th></th>\n",
              "      <th></th>\n",
              "      <th></th>\n",
              "      <th></th>\n",
              "      <th></th>\n",
              "      <th></th>\n",
              "      <th></th>\n",
              "      <th></th>\n",
              "      <th></th>\n",
              "      <th></th>\n",
              "      <th></th>\n",
              "      <th></th>\n",
              "      <th></th>\n",
              "      <th></th>\n",
              "      <th></th>\n",
              "      <th></th>\n",
              "      <th></th>\n",
              "      <th></th>\n",
              "      <th></th>\n",
              "      <th></th>\n",
              "      <th></th>\n",
              "      <th></th>\n",
              "      <th></th>\n",
              "      <th></th>\n",
              "      <th></th>\n",
              "      <th></th>\n",
              "      <th></th>\n",
              "      <th></th>\n",
              "      <th></th>\n",
              "      <th></th>\n",
              "      <th></th>\n",
              "      <th></th>\n",
              "      <th></th>\n",
              "      <th></th>\n",
              "      <th></th>\n",
              "      <th></th>\n",
              "      <th></th>\n",
              "      <th></th>\n",
              "      <th></th>\n",
              "      <th></th>\n",
              "      <th></th>\n",
              "      <th></th>\n",
              "      <th></th>\n",
              "      <th></th>\n",
              "      <th></th>\n",
              "      <th></th>\n",
              "      <th></th>\n",
              "      <th></th>\n",
              "      <th></th>\n",
              "      <th></th>\n",
              "    </tr>\n",
              "  </thead>\n",
              "  <tbody>\n",
              "    <tr>\n",
              "      <th>blues</th>\n",
              "      <td>0.005861</td>\n",
              "      <td>0.007009</td>\n",
              "      <td>0.002559</td>\n",
              "      <td>0.002272</td>\n",
              "      <td>0.002763</td>\n",
              "      <td>0.002980</td>\n",
              "      <td>0.002946</td>\n",
              "      <td>0.003073</td>\n",
              "      <td>0.003155</td>\n",
              "      <td>0.003164</td>\n",
              "      <td>0.003350</td>\n",
              "      <td>0.003586</td>\n",
              "      <td>0.003540</td>\n",
              "      <td>0.003317</td>\n",
              "      <td>0.003422</td>\n",
              "      <td>0.003816</td>\n",
              "      <td>0.002973</td>\n",
              "      <td>0.003121</td>\n",
              "      <td>0.003734</td>\n",
              "      <td>0.004268</td>\n",
              "      <td>0.003999</td>\n",
              "      <td>0.004368</td>\n",
              "      <td>0.005189</td>\n",
              "      <td>0.004626</td>\n",
              "      <td>0.004213</td>\n",
              "      <td>0.003375</td>\n",
              "      <td>0.003069</td>\n",
              "      <td>0.003515</td>\n",
              "      <td>0.003583</td>\n",
              "      <td>0.003544</td>\n",
              "      <td>0.003372</td>\n",
              "      <td>0.003750</td>\n",
              "      <td>0.004443</td>\n",
              "      <td>0.003869</td>\n",
              "      <td>0.003427</td>\n",
              "      <td>0.003296</td>\n",
              "      <td>0.003250</td>\n",
              "      <td>0.003201</td>\n",
              "      <td>0.003598</td>\n",
              "      <td>0.003874</td>\n",
              "      <td>...</td>\n",
              "      <td>0.003129</td>\n",
              "      <td>0.003445</td>\n",
              "      <td>0.003961</td>\n",
              "      <td>0.003816</td>\n",
              "      <td>0.003684</td>\n",
              "      <td>0.003760</td>\n",
              "      <td>0.003664</td>\n",
              "      <td>0.003056</td>\n",
              "      <td>0.002762</td>\n",
              "      <td>0.003249</td>\n",
              "      <td>0.003983</td>\n",
              "      <td>0.004490</td>\n",
              "      <td>0.003800</td>\n",
              "      <td>0.003285</td>\n",
              "      <td>0.003182</td>\n",
              "      <td>0.003065</td>\n",
              "      <td>0.002982</td>\n",
              "      <td>0.003117</td>\n",
              "      <td>0.003143</td>\n",
              "      <td>0.003038</td>\n",
              "      <td>0.003121</td>\n",
              "      <td>0.003875</td>\n",
              "      <td>0.003482</td>\n",
              "      <td>0.003406</td>\n",
              "      <td>0.003600</td>\n",
              "      <td>0.003786</td>\n",
              "      <td>0.003946</td>\n",
              "      <td>0.003907</td>\n",
              "      <td>0.003674</td>\n",
              "      <td>0.003634</td>\n",
              "      <td>0.003607</td>\n",
              "      <td>0.003863</td>\n",
              "      <td>0.003829</td>\n",
              "      <td>0.003356</td>\n",
              "      <td>0.002859</td>\n",
              "      <td>0.002448</td>\n",
              "      <td>0.002314</td>\n",
              "      <td>0.002704</td>\n",
              "      <td>0.004677</td>\n",
              "      <td>0.005888</td>\n",
              "    </tr>\n",
              "    <tr>\n",
              "      <th>hiphop</th>\n",
              "      <td>0.117201</td>\n",
              "      <td>0.120168</td>\n",
              "      <td>0.069183</td>\n",
              "      <td>0.038065</td>\n",
              "      <td>0.035945</td>\n",
              "      <td>0.029767</td>\n",
              "      <td>0.029598</td>\n",
              "      <td>0.034797</td>\n",
              "      <td>0.040853</td>\n",
              "      <td>0.045784</td>\n",
              "      <td>0.049302</td>\n",
              "      <td>0.047756</td>\n",
              "      <td>0.042556</td>\n",
              "      <td>0.044221</td>\n",
              "      <td>0.045426</td>\n",
              "      <td>0.043709</td>\n",
              "      <td>0.043664</td>\n",
              "      <td>0.044287</td>\n",
              "      <td>0.044255</td>\n",
              "      <td>0.043918</td>\n",
              "      <td>0.035335</td>\n",
              "      <td>0.037618</td>\n",
              "      <td>0.036396</td>\n",
              "      <td>0.032231</td>\n",
              "      <td>0.029268</td>\n",
              "      <td>0.031739</td>\n",
              "      <td>0.037515</td>\n",
              "      <td>0.044859</td>\n",
              "      <td>0.048819</td>\n",
              "      <td>0.053382</td>\n",
              "      <td>0.055816</td>\n",
              "      <td>0.049556</td>\n",
              "      <td>0.047654</td>\n",
              "      <td>0.048040</td>\n",
              "      <td>0.048482</td>\n",
              "      <td>0.048739</td>\n",
              "      <td>0.047684</td>\n",
              "      <td>0.046614</td>\n",
              "      <td>0.044835</td>\n",
              "      <td>0.045542</td>\n",
              "      <td>...</td>\n",
              "      <td>0.026289</td>\n",
              "      <td>0.030294</td>\n",
              "      <td>0.035505</td>\n",
              "      <td>0.037066</td>\n",
              "      <td>0.033822</td>\n",
              "      <td>0.031885</td>\n",
              "      <td>0.029592</td>\n",
              "      <td>0.028207</td>\n",
              "      <td>0.031740</td>\n",
              "      <td>0.032298</td>\n",
              "      <td>0.031764</td>\n",
              "      <td>0.031765</td>\n",
              "      <td>0.031290</td>\n",
              "      <td>0.025581</td>\n",
              "      <td>0.022650</td>\n",
              "      <td>0.029745</td>\n",
              "      <td>0.029879</td>\n",
              "      <td>0.029780</td>\n",
              "      <td>0.030299</td>\n",
              "      <td>0.030693</td>\n",
              "      <td>0.029638</td>\n",
              "      <td>0.027102</td>\n",
              "      <td>0.029555</td>\n",
              "      <td>0.034631</td>\n",
              "      <td>0.035832</td>\n",
              "      <td>0.032621</td>\n",
              "      <td>0.030896</td>\n",
              "      <td>0.028711</td>\n",
              "      <td>0.028512</td>\n",
              "      <td>0.022941</td>\n",
              "      <td>0.019098</td>\n",
              "      <td>0.020828</td>\n",
              "      <td>0.022326</td>\n",
              "      <td>0.023844</td>\n",
              "      <td>0.028291</td>\n",
              "      <td>0.034899</td>\n",
              "      <td>0.039081</td>\n",
              "      <td>0.039879</td>\n",
              "      <td>0.039261</td>\n",
              "      <td>0.036309</td>\n",
              "    </tr>\n",
              "    <tr>\n",
              "      <th>metal</th>\n",
              "      <td>0.019628</td>\n",
              "      <td>0.028162</td>\n",
              "      <td>0.018124</td>\n",
              "      <td>0.017505</td>\n",
              "      <td>0.017826</td>\n",
              "      <td>0.019309</td>\n",
              "      <td>0.018591</td>\n",
              "      <td>0.017554</td>\n",
              "      <td>0.017123</td>\n",
              "      <td>0.017377</td>\n",
              "      <td>0.018126</td>\n",
              "      <td>0.018138</td>\n",
              "      <td>0.016521</td>\n",
              "      <td>0.016856</td>\n",
              "      <td>0.019471</td>\n",
              "      <td>0.018924</td>\n",
              "      <td>0.018657</td>\n",
              "      <td>0.018658</td>\n",
              "      <td>0.017787</td>\n",
              "      <td>0.017310</td>\n",
              "      <td>0.017420</td>\n",
              "      <td>0.016001</td>\n",
              "      <td>0.014741</td>\n",
              "      <td>0.015159</td>\n",
              "      <td>0.015379</td>\n",
              "      <td>0.015606</td>\n",
              "      <td>0.017149</td>\n",
              "      <td>0.016930</td>\n",
              "      <td>0.018522</td>\n",
              "      <td>0.017894</td>\n",
              "      <td>0.018135</td>\n",
              "      <td>0.016827</td>\n",
              "      <td>0.018032</td>\n",
              "      <td>0.018938</td>\n",
              "      <td>0.019401</td>\n",
              "      <td>0.018490</td>\n",
              "      <td>0.017028</td>\n",
              "      <td>0.016254</td>\n",
              "      <td>0.016780</td>\n",
              "      <td>0.018452</td>\n",
              "      <td>...</td>\n",
              "      <td>0.015563</td>\n",
              "      <td>0.016222</td>\n",
              "      <td>0.016780</td>\n",
              "      <td>0.019870</td>\n",
              "      <td>0.021468</td>\n",
              "      <td>0.022320</td>\n",
              "      <td>0.019676</td>\n",
              "      <td>0.015887</td>\n",
              "      <td>0.014144</td>\n",
              "      <td>0.013170</td>\n",
              "      <td>0.013340</td>\n",
              "      <td>0.013575</td>\n",
              "      <td>0.013867</td>\n",
              "      <td>0.013914</td>\n",
              "      <td>0.014070</td>\n",
              "      <td>0.013776</td>\n",
              "      <td>0.014464</td>\n",
              "      <td>0.014803</td>\n",
              "      <td>0.015209</td>\n",
              "      <td>0.015033</td>\n",
              "      <td>0.015008</td>\n",
              "      <td>0.018282</td>\n",
              "      <td>0.021714</td>\n",
              "      <td>0.021366</td>\n",
              "      <td>0.017254</td>\n",
              "      <td>0.015596</td>\n",
              "      <td>0.015771</td>\n",
              "      <td>0.017297</td>\n",
              "      <td>0.019104</td>\n",
              "      <td>0.016472</td>\n",
              "      <td>0.014386</td>\n",
              "      <td>0.015406</td>\n",
              "      <td>0.016445</td>\n",
              "      <td>0.018099</td>\n",
              "      <td>0.018433</td>\n",
              "      <td>0.017757</td>\n",
              "      <td>0.016253</td>\n",
              "      <td>0.014507</td>\n",
              "      <td>0.022024</td>\n",
              "      <td>0.025279</td>\n",
              "    </tr>\n",
              "    <tr>\n",
              "      <th>reggae</th>\n",
              "      <td>0.011975</td>\n",
              "      <td>0.019704</td>\n",
              "      <td>0.016165</td>\n",
              "      <td>0.016494</td>\n",
              "      <td>0.015377</td>\n",
              "      <td>0.013849</td>\n",
              "      <td>0.013418</td>\n",
              "      <td>0.017718</td>\n",
              "      <td>0.018320</td>\n",
              "      <td>0.021303</td>\n",
              "      <td>0.025650</td>\n",
              "      <td>0.026756</td>\n",
              "      <td>0.028626</td>\n",
              "      <td>0.026918</td>\n",
              "      <td>0.024275</td>\n",
              "      <td>0.022605</td>\n",
              "      <td>0.022704</td>\n",
              "      <td>0.018960</td>\n",
              "      <td>0.018169</td>\n",
              "      <td>0.016867</td>\n",
              "      <td>0.013577</td>\n",
              "      <td>0.014703</td>\n",
              "      <td>0.020090</td>\n",
              "      <td>0.020725</td>\n",
              "      <td>0.025462</td>\n",
              "      <td>0.024599</td>\n",
              "      <td>0.022647</td>\n",
              "      <td>0.021059</td>\n",
              "      <td>0.019954</td>\n",
              "      <td>0.021522</td>\n",
              "      <td>0.019660</td>\n",
              "      <td>0.018624</td>\n",
              "      <td>0.016743</td>\n",
              "      <td>0.016725</td>\n",
              "      <td>0.021075</td>\n",
              "      <td>0.021618</td>\n",
              "      <td>0.022798</td>\n",
              "      <td>0.019860</td>\n",
              "      <td>0.019397</td>\n",
              "      <td>0.018830</td>\n",
              "      <td>...</td>\n",
              "      <td>0.018032</td>\n",
              "      <td>0.020278</td>\n",
              "      <td>0.022948</td>\n",
              "      <td>0.021153</td>\n",
              "      <td>0.024034</td>\n",
              "      <td>0.024389</td>\n",
              "      <td>0.024232</td>\n",
              "      <td>0.025955</td>\n",
              "      <td>0.026487</td>\n",
              "      <td>0.027078</td>\n",
              "      <td>0.029061</td>\n",
              "      <td>0.030325</td>\n",
              "      <td>0.023086</td>\n",
              "      <td>0.018083</td>\n",
              "      <td>0.016925</td>\n",
              "      <td>0.017552</td>\n",
              "      <td>0.021330</td>\n",
              "      <td>0.021080</td>\n",
              "      <td>0.019372</td>\n",
              "      <td>0.020858</td>\n",
              "      <td>0.020256</td>\n",
              "      <td>0.020744</td>\n",
              "      <td>0.022557</td>\n",
              "      <td>0.018499</td>\n",
              "      <td>0.017492</td>\n",
              "      <td>0.013418</td>\n",
              "      <td>0.013328</td>\n",
              "      <td>0.017969</td>\n",
              "      <td>0.023448</td>\n",
              "      <td>0.023643</td>\n",
              "      <td>0.023549</td>\n",
              "      <td>0.021163</td>\n",
              "      <td>0.017722</td>\n",
              "      <td>0.018038</td>\n",
              "      <td>0.018892</td>\n",
              "      <td>0.019739</td>\n",
              "      <td>0.019407</td>\n",
              "      <td>0.019506</td>\n",
              "      <td>0.018257</td>\n",
              "      <td>0.014916</td>\n",
              "    </tr>\n",
              "  </tbody>\n",
              "</table>\n",
              "<p>4 rows × 216 columns</p>\n",
              "</div>"
            ],
            "text/plain": [
              "             0         1         2    ...       213       214       215\n",
              "Genre                                 ...                              \n",
              "blues   0.005861  0.007009  0.002559  ...  0.002704  0.004677  0.005888\n",
              "hiphop  0.117201  0.120168  0.069183  ...  0.039879  0.039261  0.036309\n",
              "metal   0.019628  0.028162  0.018124  ...  0.014507  0.022024  0.025279\n",
              "reggae  0.011975  0.019704  0.016165  ...  0.019506  0.018257  0.014916\n",
              "\n",
              "[4 rows x 216 columns]"
            ]
          },
          "metadata": {
            "tags": []
          },
          "execution_count": 171
        }
      ]
    },
    {
      "cell_type": "code",
      "metadata": {
        "id": "PO8xU4TTRfLS",
        "colab_type": "code",
        "colab": {
          "base_uri": "https://localhost:8080/",
          "height": 312
        },
        "outputId": "03dc666b-eb50-4f8c-ff88-f63f8809abc2"
      },
      "source": [
        "for each in show_flat.index:\n",
        "    plt.plot(show_flat.loc[each,:])\n",
        "plt.xlabel('Frame number in 30s')\n",
        "plt.ylabel('Spectral Flatness')\n",
        "plt.title('Spectral Flatness for different genre')\n",
        "plt.legend(show_flat.index)"
      ],
      "execution_count": 181,
      "outputs": [
        {
          "output_type": "execute_result",
          "data": {
            "text/plain": [
              "<matplotlib.legend.Legend at 0x7f2cfc21e7b8>"
            ]
          },
          "metadata": {
            "tags": []
          },
          "execution_count": 181
        },
        {
          "output_type": "display_data",
          "data": {
            "image/png": "[encoded data removed]",
            "text/plain": [
              "<Figure size 432x288 with 1 Axes>"
            ]
          },
          "metadata": {
            "tags": [],
            "needs_background": "light"
          }
        }
      ]
    },
    {
      "cell_type": "markdown",
      "metadata": {
        "id": "tZfnxz9WHf6w",
        "colab_type": "text"
      },
      "source": [
        "## Feature Extraction 2: MFCC + chroma_stft + centroid + zcr + tempo + rms + spectral flatness\n",
        "\n"
      ]
    },
    {
      "cell_type": "markdown",
      "metadata": {
        "id": "b8CTKj1vo2QN",
        "colab_type": "text"
      },
      "source": [
        "We decided to use the features of MFCC, Chroma_stft, tempogram and zero crossing rate.\n",
        "\n",
        "1. why we choose these fetures\n",
        "2. explain the meaning of each features"
      ]
    },
    {
      "cell_type": "code",
      "metadata": {
        "id": "_B8d6Bds_QAt",
        "colab_type": "code",
        "outputId": "240c514f-9a79-4886-adb8-dce3dc18b1cd",
        "colab": {
          "base_uri": "https://localhost:8080/",
          "height": 34
        }
      },
      "source": [
        "# test tempogram\n",
        "# This is just a test to get tempogram features\n",
        "hop_length = 512\n",
        "y, sr = librosa.load(genre_data['Path'][1])\n",
        "oenv = librosa.onset.onset_strength(y=y, sr=sr, hop_length=hop_length)\n",
        "features_tempogram = librosa.feature.tempogram(onset_envelope=oenv, sr=sr,hop_length=hop_length)\n",
        "# show \n",
        "avg = np.mean(features_tempogram,axis=1)\n",
        "print(np.mean(avg,axis= 0))\n"
      ],
      "execution_count": 0,
      "outputs": [
        {
          "output_type": "stream",
          "text": [
            "0.13729321365601108\n"
          ],
          "name": "stdout"
        }
      ]
    },
    {
      "cell_type": "code",
      "metadata": {
        "id": "l7J7U2UR2LLt",
        "colab_type": "code",
        "outputId": "26409c16-7574-4a52-ed1a-2f9bf3563f61",
        "colab": {
          "base_uri": "https://localhost:8080/",
          "height": 34
        }
      },
      "source": [
        "#This is a test to add zero crossing rate\n",
        "y, sr = librosa.load(genre_data['Path'][1])\n",
        "feature_zcr = librosa.feature.zero_crossing_rate(y,frame_length = 2048, hop_length=512)\n",
        "# mean + std\n",
        "print(np.mean(feature_zcr),np.std(feature_zcr))"
      ],
      "execution_count": 0,
      "outputs": [
        {
          "output_type": "stream",
          "text": [
            "0.10435170751160093 0.0439276251082811\n"
          ],
          "name": "stdout"
        }
      ]
    },
    {
      "cell_type": "code",
      "metadata": {
        "id": "0DvgvEfxgLJV",
        "colab_type": "code",
        "outputId": "1d997170-38da-4300-c3fe-a8da869b871f",
        "colab": {
          "base_uri": "https://localhost:8080/",
          "height": 34
        }
      },
      "source": [
        "# test rms\n",
        "y, sr = librosa.load(genre_data['Path'][1])\n",
        "features_rms = librosa.feature.rms(y=y)\n",
        "print(np.mean(features_rms),np.std(features_rms))"
      ],
      "execution_count": 0,
      "outputs": [
        {
          "output_type": "stream",
          "text": [
            "0.16199261 0.0691715\n"
          ],
          "name": "stdout"
        }
      ]
    },
    {
      "cell_type": "markdown",
      "metadata": {
        "id": "qaH0dQxSPSO9",
        "colab_type": "text"
      },
      "source": [
        "Now we can **extract all the features we need**.\n",
        "\n",
        "Save it both in pandas structure and .csv file."
      ]
    },
    {
      "cell_type": "code",
      "metadata": {
        "id": "5xD6qqGjHvnW",
        "colab_type": "code",
        "outputId": "f837c6d9-24f4-4096-d546-d04b2774a82a",
        "colab": {
          "base_uri": "https://localhost:8080/",
          "height": 66,
          "referenced_widgets": [
            "e894a5b77aca4ac49d401eb3e4e5b326",
            "3f44c6e7a0c4401bbc25b8367a42f456",
            "8a9ecfceed5346669497ac475e40831b",
            "3b250c4e49c549698b26aef6ddff28c4",
            "d2aabdbe4e004f1f9b0203045516267d",
            "4df1a21b262148a2a31c7e636047bb7b",
            "71d91ff86710435ca6d4f628a72cd075",
            "9aa33e0b40c1485aadbd4fc5479ea3a4"
          ]
        }
      },
      "source": [
        "# get and save all feature values in features.csv\n",
        "mfcc_list = []\n",
        "mfcc_value = np.zeros((400, 13))\n",
        "chroma_value = np.zeros((400, 12))\n",
        "cent_value = np.zeros((400, 2))\n",
        "zcr_value = np.zeros((400,2))\n",
        "stmp_value = np.zeros((400,1))\n",
        "rms_value = np.zeros((400,2))\n",
        "flat_value = np.zeros((400,2))\n",
        "\n",
        "columns =[]\n",
        "for each_file, index in zip(genre_data['Path'],tqdm(range(0,400))):\n",
        "    hop_length = 1024 # 512 # 2058\n",
        "    y, sr = librosa.load(each_file)\n",
        "    #print(\"Now processing:\",each_file)\n",
        "    # get feature mfcc\n",
        "    features_mfcc = librosa.feature.mfcc(y=y, sr=sr, n_mfcc=13) \n",
        "    mfcc_value[index,:] = np.mean(features_mfcc,axis=1)\n",
        "    # get feature chroma\n",
        "    features_chroma = librosa.feature.chroma_stft(y,sr)\n",
        "    chroma_value[index, :] = np.mean(features_chroma, axis=1)\n",
        "    #---------get feature tempo\n",
        "    #oenv = librosa.onset.onset_strength(y=y, sr=sr, hop_length=hop_length)\n",
        "    #features_tempo = librosa.feature.tempogram(onset_envelope=oenv, sr=sr,hop_length=hop_length)\n",
        "    #---------tempo_value[index,:] =  (np.mean(np.mean(features_tempo, axis =1),axis =0),np.std(np.mean(features_tempo, axis =1),axis =0))\n",
        "    \n",
        "    # spectral_centroid\n",
        "    features_cent = librosa.feature.spectral_centroid(y=y, sr=sr)\n",
        "    cent_value[index,:] =(np.mean(features_cent),np.std(features_cent))\n",
        "    \n",
        "    #get zero crossing rate\n",
        "    features_zcr = librosa.feature.zero_crossing_rate(y,frame_length=2048,hop_length=512)\n",
        "    zcr_value[index,:] =(np.mean(features_zcr),np.std(features_zcr))\n",
        "\n",
        "    # static_tempo\n",
        "    onset_env = librosa.onset.onset_strength(y, sr=sr)\n",
        "    features_tempo = librosa.beat.tempo(onset_envelope=onset_env, sr=sr)\n",
        "    stmp_value[index,:] = round(features_tempo[0])\n",
        "\n",
        "    # rms\n",
        "    features_rms = librosa.feature.rms(y=y)\n",
        "    rms_value[index,:] = (np.mean(features_rms),np.std(features_rms))\n",
        "\n",
        "    # spectral flaness\n",
        "    features_flat = librosa.feature.spectral_flatness(y)\n",
        "    flat_value[index,:] =(np.mean(features_flat),np.std(features_flat))\n",
        "\n",
        "\n",
        "\n",
        "# feature_table is the df of mfcc_value\n",
        "features_value = pd.DataFrame(mfcc_value)\n",
        "# add other feature, chroma also inside this table\n",
        "\n",
        "# update features_value and save to .csv\n",
        "features_value = pd.concat([features_value, pd.DataFrame(chroma_value)], axis=1)\n",
        "features_value = pd.concat([features_value, pd.DataFrame(cent_value)], axis=1)\n",
        "features_value = pd.concat([features_value, pd.DataFrame(zcr_value)], axis=1)\n",
        "features_value = pd.concat([features_value, pd.DataFrame(stmp_value)], axis=1)\n",
        "features_value = pd.concat([features_value, pd.DataFrame(rms_value)], axis=1)\n",
        "features_value = pd.concat([features_value, pd.DataFrame(flat_value)], axis=1)\n",
        "\n",
        "# update the features_value dataframe column name to mfcc1 to mfcc13, chroma 1 to 12\n",
        "col_name = []\n",
        "for index in range(0,13):\n",
        "    col_name.append('mfcc'+str(index+1))\n",
        "for index in range(0,12):\n",
        "    col_name.append('chroma'+str(index+1))\n",
        "for index in range(0,2):\n",
        "    col_name.append('cent'+str(index+1))\n",
        "for index in range(0,2):\n",
        "    col_name.append('zcr'+str(index+1))\n",
        "for index in range(0,1):\n",
        "    col_name.append('tempo'+str(index+1))\n",
        "for index in range(0,2):\n",
        "    col_name.append('rms'+str(index+1))\n",
        "for index in range(0,2):\n",
        "    col_name.append('flat'+str(index+1))\n",
        "\n",
        "features_value.columns = col_name\n",
        "# save to .csv\n",
        "features_value.to_csv('./features.csv',sep = '\\t', index = False)\n",
        "print(\"Finished processing, saved all features.\")\n",
        "# need to wait some time to see the result.\n",
        "\n"
      ],
      "execution_count": 0,
      "outputs": [
        {
          "output_type": "display_data",
          "data": {
            "application/vnd.jupyter.widget-view+json": {
              "model_id": "e894a5b77aca4ac49d401eb3e4e5b326",
              "version_minor": 0,
              "version_major": 2
            },
            "text/plain": [
              "HBox(children=(IntProgress(value=0, max=400), HTML(value='')))"
            ]
          },
          "metadata": {
            "tags": []
          }
        },
        {
          "output_type": "stream",
          "text": [
            "Finished processing, saved all features.\n"
          ],
          "name": "stdout"
        }
      ]
    },
    {
      "cell_type": "code",
      "metadata": {
        "id": "FFpBdIqIU1gc",
        "colab_type": "code",
        "outputId": "f0f89143-86d7-47af-f36f-36c4feea8fd9",
        "colab": {
          "base_uri": "https://localhost:8080/",
          "height": 439
        }
      },
      "source": [
        "features_value"
      ],
      "execution_count": 0,
      "outputs": [
        {
          "output_type": "execute_result",
          "data": {
            "text/html": [
              "<div>\n",
              "<style scoped>\n",
              "    .dataframe tbody tr th:only-of-type {\n",
              "        vertical-align: middle;\n",
              "    }\n",
              "\n",
              "    .dataframe tbody tr th {\n",
              "        vertical-align: top;\n",
              "    }\n",
              "\n",
              "    .dataframe thead th {\n",
              "        text-align: right;\n",
              "    }\n",
              "</style>\n",
              "<table border=\"1\" class=\"dataframe\">\n",
              "  <thead>\n",
              "    <tr style=\"text-align: right;\">\n",
              "      <th></th>\n",
              "      <th>mfcc1</th>\n",
              "      <th>mfcc2</th>\n",
              "      <th>mfcc3</th>\n",
              "      <th>mfcc4</th>\n",
              "      <th>mfcc5</th>\n",
              "      <th>mfcc6</th>\n",
              "      <th>mfcc7</th>\n",
              "      <th>mfcc8</th>\n",
              "      <th>mfcc9</th>\n",
              "      <th>mfcc10</th>\n",
              "      <th>mfcc11</th>\n",
              "      <th>mfcc12</th>\n",
              "      <th>mfcc13</th>\n",
              "      <th>chroma1</th>\n",
              "      <th>chroma2</th>\n",
              "      <th>chroma3</th>\n",
              "      <th>chroma4</th>\n",
              "      <th>chroma5</th>\n",
              "      <th>chroma6</th>\n",
              "      <th>chroma7</th>\n",
              "      <th>chroma8</th>\n",
              "      <th>chroma9</th>\n",
              "      <th>chroma10</th>\n",
              "      <th>chroma11</th>\n",
              "      <th>chroma12</th>\n",
              "      <th>cent1</th>\n",
              "      <th>cent2</th>\n",
              "      <th>zcr1</th>\n",
              "      <th>zcr2</th>\n",
              "      <th>tempo1</th>\n",
              "      <th>rms1</th>\n",
              "      <th>rms2</th>\n",
              "      <th>flat1</th>\n",
              "      <th>flat2</th>\n",
              "    </tr>\n",
              "  </thead>\n",
              "  <tbody>\n",
              "    <tr>\n",
              "      <th>0</th>\n",
              "      <td>-82.505001</td>\n",
              "      <td>94.153384</td>\n",
              "      <td>-27.101466</td>\n",
              "      <td>75.662212</td>\n",
              "      <td>-27.513670</td>\n",
              "      <td>35.571333</td>\n",
              "      <td>-20.290782</td>\n",
              "      <td>25.110946</td>\n",
              "      <td>-15.360645</td>\n",
              "      <td>11.344384</td>\n",
              "      <td>-13.393383</td>\n",
              "      <td>8.138591</td>\n",
              "      <td>-8.497069</td>\n",
              "      <td>0.369416</td>\n",
              "      <td>0.314797</td>\n",
              "      <td>0.547955</td>\n",
              "      <td>0.356895</td>\n",
              "      <td>0.520970</td>\n",
              "      <td>0.455827</td>\n",
              "      <td>0.442442</td>\n",
              "      <td>0.486855</td>\n",
              "      <td>0.367448</td>\n",
              "      <td>0.560045</td>\n",
              "      <td>0.492593</td>\n",
              "      <td>0.508022</td>\n",
              "      <td>2503.945488</td>\n",
              "      <td>403.577984</td>\n",
              "      <td>0.167534</td>\n",
              "      <td>0.050502</td>\n",
              "      <td>129.0</td>\n",
              "      <td>0.141726</td>\n",
              "      <td>0.024879</td>\n",
              "      <td>0.005139</td>\n",
              "      <td>0.004023</td>\n",
              "    </tr>\n",
              "    <tr>\n",
              "      <th>1</th>\n",
              "      <td>-110.247986</td>\n",
              "      <td>90.702933</td>\n",
              "      <td>-2.525756</td>\n",
              "      <td>74.057941</td>\n",
              "      <td>-11.753321</td>\n",
              "      <td>39.207736</td>\n",
              "      <td>-13.160563</td>\n",
              "      <td>20.542094</td>\n",
              "      <td>-17.153089</td>\n",
              "      <td>12.812633</td>\n",
              "      <td>-21.430073</td>\n",
              "      <td>5.952003</td>\n",
              "      <td>-8.023324</td>\n",
              "      <td>0.376294</td>\n",
              "      <td>0.451727</td>\n",
              "      <td>0.356081</td>\n",
              "      <td>0.438512</td>\n",
              "      <td>0.290701</td>\n",
              "      <td>0.284448</td>\n",
              "      <td>0.326606</td>\n",
              "      <td>0.489787</td>\n",
              "      <td>0.670519</td>\n",
              "      <td>0.457885</td>\n",
              "      <td>0.336294</td>\n",
              "      <td>0.297096</td>\n",
              "      <td>2272.439547</td>\n",
              "      <td>449.783202</td>\n",
              "      <td>0.097643</td>\n",
              "      <td>0.037181</td>\n",
              "      <td>117.0</td>\n",
              "      <td>0.134892</td>\n",
              "      <td>0.027881</td>\n",
              "      <td>0.005725</td>\n",
              "      <td>0.004275</td>\n",
              "    </tr>\n",
              "    <tr>\n",
              "      <th>2</th>\n",
              "      <td>-288.715110</td>\n",
              "      <td>105.926349</td>\n",
              "      <td>18.819949</td>\n",
              "      <td>23.674462</td>\n",
              "      <td>5.700168</td>\n",
              "      <td>25.559087</td>\n",
              "      <td>-13.450495</td>\n",
              "      <td>12.429513</td>\n",
              "      <td>-11.961187</td>\n",
              "      <td>1.589508</td>\n",
              "      <td>-15.623069</td>\n",
              "      <td>-6.638755</td>\n",
              "      <td>-11.685788</td>\n",
              "      <td>0.353669</td>\n",
              "      <td>0.218939</td>\n",
              "      <td>0.196735</td>\n",
              "      <td>0.182825</td>\n",
              "      <td>0.223593</td>\n",
              "      <td>0.296070</td>\n",
              "      <td>0.311601</td>\n",
              "      <td>0.435039</td>\n",
              "      <td>0.277323</td>\n",
              "      <td>0.248390</td>\n",
              "      <td>0.296964</td>\n",
              "      <td>0.273790</td>\n",
              "      <td>1309.382408</td>\n",
              "      <td>869.518610</td>\n",
              "      <td>0.039388</td>\n",
              "      <td>0.056197</td>\n",
              "      <td>123.0</td>\n",
              "      <td>0.101321</td>\n",
              "      <td>0.062855</td>\n",
              "      <td>0.001230</td>\n",
              "      <td>0.004043</td>\n",
              "    </tr>\n",
              "    <tr>\n",
              "      <th>3</th>\n",
              "      <td>-145.280972</td>\n",
              "      <td>102.806649</td>\n",
              "      <td>-12.529433</td>\n",
              "      <td>57.005890</td>\n",
              "      <td>2.262868</td>\n",
              "      <td>26.585438</td>\n",
              "      <td>-4.288540</td>\n",
              "      <td>17.328524</td>\n",
              "      <td>-7.993437</td>\n",
              "      <td>15.229499</td>\n",
              "      <td>-6.934700</td>\n",
              "      <td>7.458769</td>\n",
              "      <td>-10.468453</td>\n",
              "      <td>0.294225</td>\n",
              "      <td>0.272114</td>\n",
              "      <td>0.401490</td>\n",
              "      <td>0.406971</td>\n",
              "      <td>0.518669</td>\n",
              "      <td>0.415106</td>\n",
              "      <td>0.437642</td>\n",
              "      <td>0.418174</td>\n",
              "      <td>0.377091</td>\n",
              "      <td>0.390887</td>\n",
              "      <td>0.341611</td>\n",
              "      <td>0.418632</td>\n",
              "      <td>1811.771254</td>\n",
              "      <td>589.396850</td>\n",
              "      <td>0.075503</td>\n",
              "      <td>0.041210</td>\n",
              "      <td>161.0</td>\n",
              "      <td>0.137871</td>\n",
              "      <td>0.057188</td>\n",
              "      <td>0.003525</td>\n",
              "      <td>0.005905</td>\n",
              "    </tr>\n",
              "    <tr>\n",
              "      <th>4</th>\n",
              "      <td>-28.951168</td>\n",
              "      <td>104.517807</td>\n",
              "      <td>-30.971534</td>\n",
              "      <td>38.158451</td>\n",
              "      <td>-8.001604</td>\n",
              "      <td>30.886064</td>\n",
              "      <td>-20.604154</td>\n",
              "      <td>25.816149</td>\n",
              "      <td>-12.962704</td>\n",
              "      <td>16.937760</td>\n",
              "      <td>-12.270351</td>\n",
              "      <td>10.782378</td>\n",
              "      <td>-10.557270</td>\n",
              "      <td>0.556069</td>\n",
              "      <td>0.340421</td>\n",
              "      <td>0.353600</td>\n",
              "      <td>0.343823</td>\n",
              "      <td>0.397202</td>\n",
              "      <td>0.446034</td>\n",
              "      <td>0.370582</td>\n",
              "      <td>0.463883</td>\n",
              "      <td>0.344755</td>\n",
              "      <td>0.443572</td>\n",
              "      <td>0.403562</td>\n",
              "      <td>0.443157</td>\n",
              "      <td>2207.219165</td>\n",
              "      <td>429.253188</td>\n",
              "      <td>0.111534</td>\n",
              "      <td>0.033841</td>\n",
              "      <td>99.0</td>\n",
              "      <td>0.243229</td>\n",
              "      <td>0.071317</td>\n",
              "      <td>0.008261</td>\n",
              "      <td>0.007449</td>\n",
              "    </tr>\n",
              "    <tr>\n",
              "      <th>...</th>\n",
              "      <td>...</td>\n",
              "      <td>...</td>\n",
              "      <td>...</td>\n",
              "      <td>...</td>\n",
              "      <td>...</td>\n",
              "      <td>...</td>\n",
              "      <td>...</td>\n",
              "      <td>...</td>\n",
              "      <td>...</td>\n",
              "      <td>...</td>\n",
              "      <td>...</td>\n",
              "      <td>...</td>\n",
              "      <td>...</td>\n",
              "      <td>...</td>\n",
              "      <td>...</td>\n",
              "      <td>...</td>\n",
              "      <td>...</td>\n",
              "      <td>...</td>\n",
              "      <td>...</td>\n",
              "      <td>...</td>\n",
              "      <td>...</td>\n",
              "      <td>...</td>\n",
              "      <td>...</td>\n",
              "      <td>...</td>\n",
              "      <td>...</td>\n",
              "      <td>...</td>\n",
              "      <td>...</td>\n",
              "      <td>...</td>\n",
              "      <td>...</td>\n",
              "      <td>...</td>\n",
              "      <td>...</td>\n",
              "      <td>...</td>\n",
              "      <td>...</td>\n",
              "      <td>...</td>\n",
              "    </tr>\n",
              "    <tr>\n",
              "      <th>395</th>\n",
              "      <td>-202.057275</td>\n",
              "      <td>111.108813</td>\n",
              "      <td>8.918227</td>\n",
              "      <td>51.830703</td>\n",
              "      <td>1.296542</td>\n",
              "      <td>30.051833</td>\n",
              "      <td>-4.518410</td>\n",
              "      <td>22.451743</td>\n",
              "      <td>-7.145073</td>\n",
              "      <td>11.499219</td>\n",
              "      <td>-4.750569</td>\n",
              "      <td>10.597324</td>\n",
              "      <td>-2.638124</td>\n",
              "      <td>0.639406</td>\n",
              "      <td>0.461231</td>\n",
              "      <td>0.342892</td>\n",
              "      <td>0.323576</td>\n",
              "      <td>0.386685</td>\n",
              "      <td>0.552562</td>\n",
              "      <td>0.531724</td>\n",
              "      <td>0.463023</td>\n",
              "      <td>0.316420</td>\n",
              "      <td>0.277589</td>\n",
              "      <td>0.372974</td>\n",
              "      <td>0.478175</td>\n",
              "      <td>1585.037772</td>\n",
              "      <td>543.239386</td>\n",
              "      <td>0.043658</td>\n",
              "      <td>0.023327</td>\n",
              "      <td>152.0</td>\n",
              "      <td>0.103874</td>\n",
              "      <td>0.042767</td>\n",
              "      <td>0.003220</td>\n",
              "      <td>0.005130</td>\n",
              "    </tr>\n",
              "    <tr>\n",
              "      <th>396</th>\n",
              "      <td>-75.211070</td>\n",
              "      <td>44.851072</td>\n",
              "      <td>10.090386</td>\n",
              "      <td>1.155494</td>\n",
              "      <td>1.152158</td>\n",
              "      <td>-3.128512</td>\n",
              "      <td>0.133605</td>\n",
              "      <td>0.057857</td>\n",
              "      <td>-3.458619</td>\n",
              "      <td>0.103773</td>\n",
              "      <td>-1.927265</td>\n",
              "      <td>-2.309177</td>\n",
              "      <td>-0.065567</td>\n",
              "      <td>0.370736</td>\n",
              "      <td>0.440187</td>\n",
              "      <td>0.334805</td>\n",
              "      <td>0.380023</td>\n",
              "      <td>0.347685</td>\n",
              "      <td>0.435234</td>\n",
              "      <td>0.353905</td>\n",
              "      <td>0.321770</td>\n",
              "      <td>0.473662</td>\n",
              "      <td>0.372594</td>\n",
              "      <td>0.391542</td>\n",
              "      <td>0.284359</td>\n",
              "      <td>3881.126023</td>\n",
              "      <td>697.259276</td>\n",
              "      <td>0.189188</td>\n",
              "      <td>0.085191</td>\n",
              "      <td>108.0</td>\n",
              "      <td>0.120091</td>\n",
              "      <td>0.041677</td>\n",
              "      <td>0.103404</td>\n",
              "      <td>0.077109</td>\n",
              "    </tr>\n",
              "    <tr>\n",
              "      <th>397</th>\n",
              "      <td>-63.773734</td>\n",
              "      <td>88.247120</td>\n",
              "      <td>-27.589104</td>\n",
              "      <td>18.602060</td>\n",
              "      <td>-3.591296</td>\n",
              "      <td>5.200759</td>\n",
              "      <td>0.987568</td>\n",
              "      <td>8.043937</td>\n",
              "      <td>-4.399216</td>\n",
              "      <td>2.272988</td>\n",
              "      <td>4.151828</td>\n",
              "      <td>-2.204693</td>\n",
              "      <td>10.272971</td>\n",
              "      <td>0.421435</td>\n",
              "      <td>0.391732</td>\n",
              "      <td>0.487106</td>\n",
              "      <td>0.376703</td>\n",
              "      <td>0.320399</td>\n",
              "      <td>0.356034</td>\n",
              "      <td>0.330936</td>\n",
              "      <td>0.396192</td>\n",
              "      <td>0.319085</td>\n",
              "      <td>0.458750</td>\n",
              "      <td>0.407869</td>\n",
              "      <td>0.409596</td>\n",
              "      <td>2481.380494</td>\n",
              "      <td>658.391473</td>\n",
              "      <td>0.135012</td>\n",
              "      <td>0.054863</td>\n",
              "      <td>144.0</td>\n",
              "      <td>0.170981</td>\n",
              "      <td>0.081397</td>\n",
              "      <td>0.030934</td>\n",
              "      <td>0.039801</td>\n",
              "    </tr>\n",
              "    <tr>\n",
              "      <th>398</th>\n",
              "      <td>-154.829001</td>\n",
              "      <td>110.017991</td>\n",
              "      <td>-18.426152</td>\n",
              "      <td>36.617261</td>\n",
              "      <td>0.558373</td>\n",
              "      <td>31.572144</td>\n",
              "      <td>-10.411385</td>\n",
              "      <td>18.814072</td>\n",
              "      <td>-7.158778</td>\n",
              "      <td>13.147525</td>\n",
              "      <td>-5.246445</td>\n",
              "      <td>8.898725</td>\n",
              "      <td>-6.704806</td>\n",
              "      <td>0.411757</td>\n",
              "      <td>0.443227</td>\n",
              "      <td>0.366114</td>\n",
              "      <td>0.303673</td>\n",
              "      <td>0.412451</td>\n",
              "      <td>0.356440</td>\n",
              "      <td>0.471800</td>\n",
              "      <td>0.410190</td>\n",
              "      <td>0.461957</td>\n",
              "      <td>0.512022</td>\n",
              "      <td>0.462485</td>\n",
              "      <td>0.497344</td>\n",
              "      <td>1803.774378</td>\n",
              "      <td>811.936671</td>\n",
              "      <td>0.077952</td>\n",
              "      <td>0.059574</td>\n",
              "      <td>129.0</td>\n",
              "      <td>0.139799</td>\n",
              "      <td>0.060008</td>\n",
              "      <td>0.005074</td>\n",
              "      <td>0.010161</td>\n",
              "    </tr>\n",
              "    <tr>\n",
              "      <th>399</th>\n",
              "      <td>-123.670205</td>\n",
              "      <td>66.229442</td>\n",
              "      <td>8.166252</td>\n",
              "      <td>49.742611</td>\n",
              "      <td>8.532980</td>\n",
              "      <td>25.891525</td>\n",
              "      <td>-5.385702</td>\n",
              "      <td>12.881203</td>\n",
              "      <td>-2.562662</td>\n",
              "      <td>6.796757</td>\n",
              "      <td>-3.573769</td>\n",
              "      <td>7.641900</td>\n",
              "      <td>-2.051100</td>\n",
              "      <td>0.313891</td>\n",
              "      <td>0.317630</td>\n",
              "      <td>0.438389</td>\n",
              "      <td>0.309057</td>\n",
              "      <td>0.266410</td>\n",
              "      <td>0.390724</td>\n",
              "      <td>0.430903</td>\n",
              "      <td>0.571778</td>\n",
              "      <td>0.473881</td>\n",
              "      <td>0.351874</td>\n",
              "      <td>0.464851</td>\n",
              "      <td>0.352742</td>\n",
              "      <td>2672.851913</td>\n",
              "      <td>912.824982</td>\n",
              "      <td>0.111168</td>\n",
              "      <td>0.070936</td>\n",
              "      <td>89.0</td>\n",
              "      <td>0.120222</td>\n",
              "      <td>0.039335</td>\n",
              "      <td>0.030734</td>\n",
              "      <td>0.040689</td>\n",
              "    </tr>\n",
              "  </tbody>\n",
              "</table>\n",
              "<p>400 rows × 34 columns</p>\n",
              "</div>"
            ],
            "text/plain": [
              "          mfcc1       mfcc2      mfcc3  ...      rms2     flat1     flat2\n",
              "0    -82.505001   94.153384 -27.101466  ...  0.024879  0.005139  0.004023\n",
              "1   -110.247986   90.702933  -2.525756  ...  0.027881  0.005725  0.004275\n",
              "2   -288.715110  105.926349  18.819949  ...  0.062855  0.001230  0.004043\n",
              "3   -145.280972  102.806649 -12.529433  ...  0.057188  0.003525  0.005905\n",
              "4    -28.951168  104.517807 -30.971534  ...  0.071317  0.008261  0.007449\n",
              "..          ...         ...        ...  ...       ...       ...       ...\n",
              "395 -202.057275  111.108813   8.918227  ...  0.042767  0.003220  0.005130\n",
              "396  -75.211070   44.851072  10.090386  ...  0.041677  0.103404  0.077109\n",
              "397  -63.773734   88.247120 -27.589104  ...  0.081397  0.030934  0.039801\n",
              "398 -154.829001  110.017991 -18.426152  ...  0.060008  0.005074  0.010161\n",
              "399 -123.670205   66.229442   8.166252  ...  0.039335  0.030734  0.040689\n",
              "\n",
              "[400 rows x 34 columns]"
            ]
          },
          "metadata": {
            "tags": []
          },
          "execution_count": 23
        }
      ]
    },
    {
      "cell_type": "markdown",
      "metadata": {
        "id": "y3t1yJUPAPpp",
        "colab_type": "text"
      },
      "source": [
        " ## Visualize the feature"
      ]
    },
    {
      "cell_type": "markdown",
      "metadata": {
        "id": "EmGlRWFC4RlD",
        "colab_type": "text"
      },
      "source": [
        "Check all feature values"
      ]
    },
    {
      "cell_type": "code",
      "metadata": {
        "id": "tTn6ck4J4R5d",
        "colab_type": "code",
        "outputId": "9851295b-a66f-4e44-9cc4-2c994cda2d15",
        "colab": {
          "base_uri": "https://localhost:8080/",
          "height": 317
        }
      },
      "source": [
        "features_value.describe()"
      ],
      "execution_count": 0,
      "outputs": [
        {
          "output_type": "execute_result",
          "data": {
            "text/html": [
              "<div>\n",
              "<style scoped>\n",
              "    .dataframe tbody tr th:only-of-type {\n",
              "        vertical-align: middle;\n",
              "    }\n",
              "\n",
              "    .dataframe tbody tr th {\n",
              "        vertical-align: top;\n",
              "    }\n",
              "\n",
              "    .dataframe thead th {\n",
              "        text-align: right;\n",
              "    }\n",
              "</style>\n",
              "<table border=\"1\" class=\"dataframe\">\n",
              "  <thead>\n",
              "    <tr style=\"text-align: right;\">\n",
              "      <th></th>\n",
              "      <th>mfcc1</th>\n",
              "      <th>mfcc2</th>\n",
              "      <th>mfcc3</th>\n",
              "      <th>mfcc4</th>\n",
              "      <th>mfcc5</th>\n",
              "      <th>mfcc6</th>\n",
              "      <th>mfcc7</th>\n",
              "      <th>mfcc8</th>\n",
              "      <th>mfcc9</th>\n",
              "      <th>mfcc10</th>\n",
              "      <th>mfcc11</th>\n",
              "      <th>mfcc12</th>\n",
              "      <th>mfcc13</th>\n",
              "      <th>chroma1</th>\n",
              "      <th>chroma2</th>\n",
              "      <th>chroma3</th>\n",
              "      <th>chroma4</th>\n",
              "      <th>chroma5</th>\n",
              "      <th>chroma6</th>\n",
              "      <th>chroma7</th>\n",
              "      <th>chroma8</th>\n",
              "      <th>chroma9</th>\n",
              "      <th>chroma10</th>\n",
              "      <th>chroma11</th>\n",
              "      <th>chroma12</th>\n",
              "      <th>cent1</th>\n",
              "      <th>cent2</th>\n",
              "      <th>zcr1</th>\n",
              "      <th>zcr2</th>\n",
              "      <th>tempo1</th>\n",
              "      <th>rms1</th>\n",
              "      <th>rms2</th>\n",
              "      <th>flat1</th>\n",
              "      <th>flat2</th>\n",
              "    </tr>\n",
              "  </thead>\n",
              "  <tbody>\n",
              "    <tr>\n",
              "      <th>count</th>\n",
              "      <td>400.000000</td>\n",
              "      <td>400.000000</td>\n",
              "      <td>400.000000</td>\n",
              "      <td>400.000000</td>\n",
              "      <td>400.000000</td>\n",
              "      <td>400.000000</td>\n",
              "      <td>400.000000</td>\n",
              "      <td>400.000000</td>\n",
              "      <td>400.000000</td>\n",
              "      <td>400.000000</td>\n",
              "      <td>400.000000</td>\n",
              "      <td>400.000000</td>\n",
              "      <td>400.000000</td>\n",
              "      <td>400.000000</td>\n",
              "      <td>400.000000</td>\n",
              "      <td>400.000000</td>\n",
              "      <td>400.000000</td>\n",
              "      <td>400.000000</td>\n",
              "      <td>400.000000</td>\n",
              "      <td>400.000000</td>\n",
              "      <td>400.000000</td>\n",
              "      <td>400.000000</td>\n",
              "      <td>400.000000</td>\n",
              "      <td>400.000000</td>\n",
              "      <td>400.000000</td>\n",
              "      <td>400.000000</td>\n",
              "      <td>400.000000</td>\n",
              "      <td>400.000000</td>\n",
              "      <td>400.000000</td>\n",
              "      <td>400.000000</td>\n",
              "      <td>400.000000</td>\n",
              "      <td>400.000000</td>\n",
              "      <td>400.000000</td>\n",
              "      <td>400.000000</td>\n",
              "    </tr>\n",
              "    <tr>\n",
              "      <th>mean</th>\n",
              "      <td>-123.302809</td>\n",
              "      <td>93.103490</td>\n",
              "      <td>-10.708109</td>\n",
              "      <td>44.586473</td>\n",
              "      <td>-2.647285</td>\n",
              "      <td>20.647792</td>\n",
              "      <td>-6.601616</td>\n",
              "      <td>15.119746</td>\n",
              "      <td>-7.784932</td>\n",
              "      <td>10.608834</td>\n",
              "      <td>-6.267335</td>\n",
              "      <td>7.243566</td>\n",
              "      <td>-5.888498</td>\n",
              "      <td>0.418017</td>\n",
              "      <td>0.404597</td>\n",
              "      <td>0.423493</td>\n",
              "      <td>0.415418</td>\n",
              "      <td>0.435819</td>\n",
              "      <td>0.417033</td>\n",
              "      <td>0.399524</td>\n",
              "      <td>0.421189</td>\n",
              "      <td>0.422162</td>\n",
              "      <td>0.441138</td>\n",
              "      <td>0.427015</td>\n",
              "      <td>0.424282</td>\n",
              "      <td>2259.825286</td>\n",
              "      <td>662.643585</td>\n",
              "      <td>0.106493</td>\n",
              "      <td>0.052253</td>\n",
              "      <td>122.562500</td>\n",
              "      <td>0.147598</td>\n",
              "      <td>0.053840</td>\n",
              "      <td>0.019570</td>\n",
              "      <td>0.023964</td>\n",
              "    </tr>\n",
              "    <tr>\n",
              "      <th>std</th>\n",
              "      <td>75.266544</td>\n",
              "      <td>24.935616</td>\n",
              "      <td>22.262692</td>\n",
              "      <td>15.691987</td>\n",
              "      <td>13.527896</td>\n",
              "      <td>10.337941</td>\n",
              "      <td>10.238306</td>\n",
              "      <td>9.188245</td>\n",
              "      <td>7.979676</td>\n",
              "      <td>7.504931</td>\n",
              "      <td>7.588709</td>\n",
              "      <td>6.807039</td>\n",
              "      <td>7.048743</td>\n",
              "      <td>0.104106</td>\n",
              "      <td>0.117047</td>\n",
              "      <td>0.113602</td>\n",
              "      <td>0.113543</td>\n",
              "      <td>0.118321</td>\n",
              "      <td>0.100998</td>\n",
              "      <td>0.104287</td>\n",
              "      <td>0.111097</td>\n",
              "      <td>0.116205</td>\n",
              "      <td>0.116427</td>\n",
              "      <td>0.110050</td>\n",
              "      <td>0.111363</td>\n",
              "      <td>611.062168</td>\n",
              "      <td>269.915092</td>\n",
              "      <td>0.043832</td>\n",
              "      <td>0.021833</td>\n",
              "      <td>23.830144</td>\n",
              "      <td>0.060464</td>\n",
              "      <td>0.028050</td>\n",
              "      <td>0.028954</td>\n",
              "      <td>0.029677</td>\n",
              "    </tr>\n",
              "    <tr>\n",
              "      <th>min</th>\n",
              "      <td>-350.434656</td>\n",
              "      <td>-1.461542</td>\n",
              "      <td>-89.870197</td>\n",
              "      <td>1.155494</td>\n",
              "      <td>-38.890351</td>\n",
              "      <td>-14.089770</td>\n",
              "      <td>-32.930434</td>\n",
              "      <td>-9.800140</td>\n",
              "      <td>-27.218797</td>\n",
              "      <td>-10.478095</td>\n",
              "      <td>-28.057500</td>\n",
              "      <td>-13.032196</td>\n",
              "      <td>-27.523131</td>\n",
              "      <td>0.120889</td>\n",
              "      <td>0.100767</td>\n",
              "      <td>0.087887</td>\n",
              "      <td>0.146901</td>\n",
              "      <td>0.123971</td>\n",
              "      <td>0.102530</td>\n",
              "      <td>0.117831</td>\n",
              "      <td>0.082383</td>\n",
              "      <td>0.127545</td>\n",
              "      <td>0.140811</td>\n",
              "      <td>0.141551</td>\n",
              "      <td>0.125599</td>\n",
              "      <td>570.040355</td>\n",
              "      <td>209.158637</td>\n",
              "      <td>0.021697</td>\n",
              "      <td>0.010838</td>\n",
              "      <td>83.000000</td>\n",
              "      <td>0.025826</td>\n",
              "      <td>0.008861</td>\n",
              "      <td>0.000322</td>\n",
              "      <td>0.000310</td>\n",
              "    </tr>\n",
              "    <tr>\n",
              "      <th>25%</th>\n",
              "      <td>-174.906400</td>\n",
              "      <td>76.779914</td>\n",
              "      <td>-26.909533</td>\n",
              "      <td>33.229180</td>\n",
              "      <td>-12.151781</td>\n",
              "      <td>13.567823</td>\n",
              "      <td>-14.162847</td>\n",
              "      <td>8.287087</td>\n",
              "      <td>-13.796166</td>\n",
              "      <td>4.577661</td>\n",
              "      <td>-11.770015</td>\n",
              "      <td>2.578138</td>\n",
              "      <td>-10.921671</td>\n",
              "      <td>0.350622</td>\n",
              "      <td>0.333888</td>\n",
              "      <td>0.355001</td>\n",
              "      <td>0.340330</td>\n",
              "      <td>0.352315</td>\n",
              "      <td>0.350528</td>\n",
              "      <td>0.331533</td>\n",
              "      <td>0.356445</td>\n",
              "      <td>0.336770</td>\n",
              "      <td>0.359888</td>\n",
              "      <td>0.354013</td>\n",
              "      <td>0.353648</td>\n",
              "      <td>1811.669152</td>\n",
              "      <td>451.146869</td>\n",
              "      <td>0.072386</td>\n",
              "      <td>0.037329</td>\n",
              "      <td>99.000000</td>\n",
              "      <td>0.101126</td>\n",
              "      <td>0.035260</td>\n",
              "      <td>0.004826</td>\n",
              "      <td>0.006284</td>\n",
              "    </tr>\n",
              "    <tr>\n",
              "      <th>50%</th>\n",
              "      <td>-110.549807</td>\n",
              "      <td>93.253993</td>\n",
              "      <td>-12.026329</td>\n",
              "      <td>45.308157</td>\n",
              "      <td>-1.321026</td>\n",
              "      <td>22.374753</td>\n",
              "      <td>-7.907388</td>\n",
              "      <td>16.491150</td>\n",
              "      <td>-9.072268</td>\n",
              "      <td>11.767396</td>\n",
              "      <td>-6.689813</td>\n",
              "      <td>7.799245</td>\n",
              "      <td>-5.957054</td>\n",
              "      <td>0.420621</td>\n",
              "      <td>0.403298</td>\n",
              "      <td>0.423159</td>\n",
              "      <td>0.420175</td>\n",
              "      <td>0.430402</td>\n",
              "      <td>0.417071</td>\n",
              "      <td>0.397705</td>\n",
              "      <td>0.423834</td>\n",
              "      <td>0.427223</td>\n",
              "      <td>0.437663</td>\n",
              "      <td>0.425918</td>\n",
              "      <td>0.419151</td>\n",
              "      <td>2306.103872</td>\n",
              "      <td>591.597601</td>\n",
              "      <td>0.102402</td>\n",
              "      <td>0.047413</td>\n",
              "      <td>123.000000</td>\n",
              "      <td>0.133580</td>\n",
              "      <td>0.047376</td>\n",
              "      <td>0.011380</td>\n",
              "      <td>0.012197</td>\n",
              "    </tr>\n",
              "    <tr>\n",
              "      <th>75%</th>\n",
              "      <td>-74.830733</td>\n",
              "      <td>108.861281</td>\n",
              "      <td>4.131517</td>\n",
              "      <td>55.573270</td>\n",
              "      <td>6.725764</td>\n",
              "      <td>27.961748</td>\n",
              "      <td>1.875055</td>\n",
              "      <td>22.020500</td>\n",
              "      <td>-1.294718</td>\n",
              "      <td>16.734655</td>\n",
              "      <td>-0.980595</td>\n",
              "      <td>12.452128</td>\n",
              "      <td>-0.320192</td>\n",
              "      <td>0.483167</td>\n",
              "      <td>0.477844</td>\n",
              "      <td>0.492626</td>\n",
              "      <td>0.488816</td>\n",
              "      <td>0.518002</td>\n",
              "      <td>0.484495</td>\n",
              "      <td>0.462663</td>\n",
              "      <td>0.495036</td>\n",
              "      <td>0.496538</td>\n",
              "      <td>0.519270</td>\n",
              "      <td>0.498457</td>\n",
              "      <td>0.495149</td>\n",
              "      <td>2677.937021</td>\n",
              "      <td>836.679042</td>\n",
              "      <td>0.135365</td>\n",
              "      <td>0.061439</td>\n",
              "      <td>144.000000</td>\n",
              "      <td>0.190093</td>\n",
              "      <td>0.064556</td>\n",
              "      <td>0.024598</td>\n",
              "      <td>0.033782</td>\n",
              "    </tr>\n",
              "    <tr>\n",
              "      <th>max</th>\n",
              "      <td>42.039432</td>\n",
              "      <td>169.539988</td>\n",
              "      <td>53.554402</td>\n",
              "      <td>80.702302</td>\n",
              "      <td>31.265146</td>\n",
              "      <td>45.173174</td>\n",
              "      <td>17.002701</td>\n",
              "      <td>37.752269</td>\n",
              "      <td>8.995744</td>\n",
              "      <td>27.212436</td>\n",
              "      <td>17.421561</td>\n",
              "      <td>23.034858</td>\n",
              "      <td>10.545053</td>\n",
              "      <td>0.707993</td>\n",
              "      <td>0.806368</td>\n",
              "      <td>0.729468</td>\n",
              "      <td>0.804244</td>\n",
              "      <td>0.808611</td>\n",
              "      <td>0.703639</td>\n",
              "      <td>0.756665</td>\n",
              "      <td>0.677732</td>\n",
              "      <td>0.776841</td>\n",
              "      <td>0.774805</td>\n",
              "      <td>0.775875</td>\n",
              "      <td>0.796815</td>\n",
              "      <td>4435.243901</td>\n",
              "      <td>1742.654028</td>\n",
              "      <td>0.274631</td>\n",
              "      <td>0.169465</td>\n",
              "      <td>185.000000</td>\n",
              "      <td>0.351055</td>\n",
              "      <td>0.166372</td>\n",
              "      <td>0.417805</td>\n",
              "      <td>0.275216</td>\n",
              "    </tr>\n",
              "  </tbody>\n",
              "</table>\n",
              "</div>"
            ],
            "text/plain": [
              "            mfcc1       mfcc2       mfcc3  ...        rms2       flat1       flat2\n",
              "count  400.000000  400.000000  400.000000  ...  400.000000  400.000000  400.000000\n",
              "mean  -123.302809   93.103490  -10.708109  ...    0.053840    0.019570    0.023964\n",
              "std     75.266544   24.935616   22.262692  ...    0.028050    0.028954    0.029677\n",
              "min   -350.434656   -1.461542  -89.870197  ...    0.008861    0.000322    0.000310\n",
              "25%   -174.906400   76.779914  -26.909533  ...    0.035260    0.004826    0.006284\n",
              "50%   -110.549807   93.253993  -12.026329  ...    0.047376    0.011380    0.012197\n",
              "75%    -74.830733  108.861281    4.131517  ...    0.064556    0.024598    0.033782\n",
              "max     42.039432  169.539988   53.554402  ...    0.166372    0.417805    0.275216\n",
              "\n",
              "[8 rows x 34 columns]"
            ]
          },
          "metadata": {
            "tags": []
          },
          "execution_count": 22
        }
      ]
    },
    {
      "cell_type": "markdown",
      "metadata": {
        "id": "8c3UIBKK5u8H",
        "colab_type": "text"
      },
      "source": [
        "Check **zero crossing rate**\n",
        "\n",
        "this feature might indicates the presence of how much different instruments are used"
      ]
    },
    {
      "cell_type": "code",
      "metadata": {
        "id": "0k1fHexG6Udz",
        "colab_type": "code",
        "outputId": "fa9bf372-9980-4cad-856e-2cf6ffce2783",
        "colab": {
          "base_uri": "https://localhost:8080/",
          "height": 282
        }
      },
      "source": [
        "x = features_value['zcr1']\n",
        "y = features_value['zcr2']\n",
        "# set colors\n",
        "color_to_genre = {'blues':'blue','metal':'grey','hiphop':'red','reggae':'green'}\n",
        "colors = []\n",
        "for each in genre_data['Genre']:\n",
        "    colors.append(color_to_genre[each])\n",
        "\n",
        "area = 10\n",
        "plt.scatter(x, y, s=area, c=colors, alpha=0.5)\n",
        "plt.grid(True)\n",
        "plt.legend()\n",
        "plt.show()"
      ],
      "execution_count": 0,
      "outputs": [
        {
          "output_type": "stream",
          "text": [
            "No handles with labels found to put in legend.\n"
          ],
          "name": "stderr"
        },
        {
          "output_type": "display_data",
          "data": {
            "image/png": "[encoded data removed]",
            "text/plain": [
              "<Figure size 432x288 with 1 Axes>"
            ]
          },
          "metadata": {
            "tags": [],
            "needs_background": "light"
          }
        }
      ]
    },
    {
      "cell_type": "markdown",
      "metadata": {
        "id": "p9lQZ4ri7iXQ",
        "colab_type": "text"
      },
      "source": [
        "Check **centroid**"
      ]
    },
    {
      "cell_type": "code",
      "metadata": {
        "id": "5sR0ILa67qhh",
        "colab_type": "code",
        "outputId": "b999207b-3b96-46d5-c8a1-8bc24f76a055",
        "colab": {
          "base_uri": "https://localhost:8080/",
          "height": 267
        }
      },
      "source": [
        "x = features_value['cent1']\n",
        "y = features_value['cent2']\n",
        "# set colors\n",
        "colors = []\n",
        "for each in genre_data['Genre']:\n",
        "    colors.append(color_to_genre[each])\n",
        "\n",
        "area = 10\n",
        "plt.scatter(x, y, s=area, c=colors, alpha=0.5)\n",
        "plt.grid(True)\n",
        "plt.show()"
      ],
      "execution_count": 0,
      "outputs": [
        {
          "output_type": "display_data",
          "data": {
            "image/png": "[encoded data removed]",
            "text/plain": [
              "<Figure size 432x288 with 1 Axes>"
            ]
          },
          "metadata": {
            "tags": [],
            "needs_background": "light"
          }
        }
      ]
    },
    {
      "cell_type": "markdown",
      "metadata": {
        "id": "SLMwGtgYmN5J",
        "colab_type": "text"
      },
      "source": [
        "**Check rms**"
      ]
    },
    {
      "cell_type": "code",
      "metadata": {
        "id": "x_BZcrlLmOXW",
        "colab_type": "code",
        "outputId": "1c895e4a-0d45-46ca-ea7b-e27837c55ca9",
        "colab": {
          "base_uri": "https://localhost:8080/",
          "height": 265
        }
      },
      "source": [
        "x = features_value['rms1']\n",
        "y = features_value['rms2']\n",
        "# set colors\n",
        "colors = []\n",
        "for each in genre_data['Genre']:\n",
        "    colors.append(color_to_genre[each])\n",
        "\n",
        "area = 10\n",
        "plt.scatter(x, y, s=area, c=colors, alpha=0.5)\n",
        "plt.grid(True)\n",
        "plt.show()"
      ],
      "execution_count": 0,
      "outputs": [
        {
          "output_type": "display_data",
          "data": {
            "image/png": "[encoded data removed]",
            "text/plain": [
              "<Figure size 432x288 with 1 Axes>"
            ]
          },
          "metadata": {
            "tags": [],
            "needs_background": "light"
          }
        }
      ]
    },
    {
      "cell_type": "markdown",
      "metadata": {
        "id": "0gVvN74mvFGN",
        "colab_type": "text"
      },
      "source": [
        ""
      ]
    },
    {
      "cell_type": "code",
      "metadata": {
        "id": "5UFSRE92vFb4",
        "colab_type": "code",
        "outputId": "f4af4363-97a0-4ee3-8921-cdc5f2b2e5f9",
        "colab": {
          "base_uri": "https://localhost:8080/",
          "height": 265
        }
      },
      "source": [
        "x = features_value['flat1']\n",
        "y = features_value['flat2']\n",
        "# set colors\n",
        "colors = []\n",
        "for each in genre_data['Genre']:\n",
        "    colors.append(color_to_genre[each])\n",
        "\n",
        "area = 10\n",
        "plt.scatter(x, y, s=area, c=colors, alpha=0.5)\n",
        "plt.grid(True)\n",
        "plt.show()"
      ],
      "execution_count": 0,
      "outputs": [
        {
          "output_type": "display_data",
          "data": {
            "image/png": "[encoded data removed]",
            "text/plain": [
              "<Figure size 432x288 with 1 Axes>"
            ]
          },
          "metadata": {
            "tags": [],
            "needs_background": "light"
          }
        }
      ]
    },
    {
      "cell_type": "markdown",
      "metadata": {
        "id": "1dQfS1TFvdip",
        "colab_type": "text"
      },
      "source": [
        "There are extra value in the flatness."
      ]
    },
    {
      "cell_type": "code",
      "metadata": {
        "id": "zILZ6jzrvclX",
        "colab_type": "code",
        "colab": {}
      },
      "source": [
        "# the strange sample 4/23 didn't finish\n",
        "x1 = np.max(features_value['flat1'])\n",
        "print(\"x1=\",x1)\n",
        "features_value.loc[x1,:]\n",
        "genre_data.tail(1)\n",
        "\n",
        "# another strange sample\n",
        "x2 = np.max(features_value['flat2'])\n",
        "print(\"x2=\",x2)\n",
        "features_value.loc[x2,:]\n"
      ],
      "execution_count": 0,
      "outputs": []
    },
    {
      "cell_type": "markdown",
      "metadata": {
        "id": "wSSYxuLsqhv5",
        "colab_type": "text"
      },
      "source": [
        "\n",
        "## Data Spliting"
      ]
    },
    {
      "cell_type": "markdown",
      "metadata": {
        "id": "dDAYgLuqtGq4",
        "colab_type": "text"
      },
      "source": [
        "What's the benefit about data spliting,\n",
        "\n",
        "1. By dividing the data set according to a certain ratio, we can reasonably evaluate the performance of the learning algorithm in the face of unknown data.\n",
        "\n",
        "2. If the data used to evaluate the model is not independent of the sample, the evaluation result may be inaccurate. We also want this model can be applied in a wider range of situations.\n",
        "\n"
      ]
    },
    {
      "cell_type": "markdown",
      "metadata": {
        "id": "_R5429yU3OEk",
        "colab_type": "text"
      },
      "source": [
        "The simple way to do the data spliting is to use *sklearn.model_selection.train_test_split* to split to **Training set** and **Testing set**.\n"
      ]
    },
    {
      "cell_type": "code",
      "metadata": {
        "id": "7gpR50PytP4h",
        "colab_type": "code",
        "outputId": "153744cd-fb0a-43ad-d1a2-dc0ddbf0d93a",
        "colab": {
          "base_uri": "https://localhost:8080/",
          "height": 66,
          "referenced_widgets": [
            "b94f7aa0896f453eb602ee5a63e99579",
            "123f6b236220444cabeaa733214c6ad0",
            "20ebe5c3755d4fe79186f64ecd784123",
            "8a266be0368b42ecb1daa5201a6a9a4e",
            "f6c522d4f062433684b55e99e009fa2e",
            "93841c5763934ff6a2065cc4498607f8",
            "64ff2081e20f4b59970aff3b097242b9",
            "a54c836379b04f8495d0a8c7acaa040e"
          ]
        }
      },
      "source": [
        "# sklearn provides the function to split data\n",
        "# from sklearn.model_selection import train_test_split\n",
        "# get the features\n",
        "features = features_value\n",
        "\n",
        "# get only the labeled genre result\n",
        "result = genre_data['Genre']\n",
        "\n",
        "# Use sklearn.train_test_split to split 80 % for training and 20% for testing\n",
        "# the random seed is set to 22 here in order to see a fixed output based on this.\n",
        "for each in tqdm(genre_analysis_list):\n",
        "    X_train, X_test,y_train,y_test = train_test_split(\n",
        "        features, result,\n",
        "        test_size = 0.2,\n",
        "        random_state = 72, shuffle = True)"
      ],
      "execution_count": 0,
      "outputs": [
        {
          "output_type": "display_data",
          "data": {
            "application/vnd.jupyter.widget-view+json": {
              "model_id": "b94f7aa0896f453eb602ee5a63e99579",
              "version_minor": 0,
              "version_major": 2
            },
            "text/plain": [
              "HBox(children=(IntProgress(value=0, max=4), HTML(value='')))"
            ]
          },
          "metadata": {
            "tags": []
          }
        },
        {
          "output_type": "stream",
          "text": [
            "\n"
          ],
          "name": "stdout"
        }
      ]
    },
    {
      "cell_type": "markdown",
      "metadata": {
        "id": "l_b1isGt3lYv",
        "colab_type": "text"
      },
      "source": [
        "Seconderly, another way to do the spliting, is to use **K-fold cross validating** method.\n",
        "\n",
        "The advantage of applying this method:\n",
        "\n",
        "1. we only have 400 audio piece in total, it's realatively a small amout of sample\n",
        "2. to make the future model more accurate\n",
        "\n",
        "\n",
        "**K-fold cross-validation** to do the selecting for the best parameter for the future model in order to increase the accuary dealing with unseen data.\n",
        "\n",
        "\n",
        "The workflow in this part should be like this,\n",
        "<div>\n",
        "<img src=\"https://scikit-learn.org/stable/_images/grid_search_workflow.png\" width=\"500\"/>\n",
        "</div>\n",
        "\n",
        "The general procedure for Cross-Validating is:\n",
        "\n",
        "1. Shuffle the dataset randomly.\n",
        "2. Split the dataset into k groups\n",
        "3. For each unique group:\n",
        "    - Take the group as a hold out or test data set\n",
        "    - Take the remaining groups as a training data set\n",
        "    - Fit a model on the training set and evaluate it on the test set\n",
        "    - Retain the evaluation score and discard the model\n",
        "    - Summarize the skill of the model using the sample of model evaluation scores\n",
        "\n",
        "**Reference**\n",
        "1. [Wiki](https://en.wikipedia.org/wiki/Cross-validation_(statistics))\n",
        "2. [sklearn](https://scikit-learn.org/stable/modules/generated/sklearn.model_selection.cross_validate.html)"
      ]
    },
    {
      "cell_type": "markdown",
      "metadata": {
        "id": "cRGlQyghYkq9",
        "colab_type": "text"
      },
      "source": [
        "## Observing the Training Set"
      ]
    },
    {
      "cell_type": "markdown",
      "metadata": {
        "id": "AbnimjWFYtCE",
        "colab_type": "text"
      },
      "source": [
        "We can visusalise the feature we want to use from the splited subset **X_train** and its genre label **y_train** .\n",
        "\n"
      ]
    },
    {
      "cell_type": "code",
      "metadata": {
        "id": "tGFkT-InkFqd",
        "colab_type": "code",
        "outputId": "eef8cdae-d081-454b-f0aa-f297d845293f",
        "colab": {
          "base_uri": "https://localhost:8080/",
          "height": 265
        }
      },
      "source": [
        "# test plot 1 using\n",
        "x = X_train['cent1']\n",
        "y = X_train['zcr1']\n",
        "color_to_genre = {'blues':'blue','metal':'grey','hiphop':'red','reggae':'green'}\n",
        "\n",
        "colors = []\n",
        "for each in y_train:\n",
        "    colors.append(color_to_genre[each])\n",
        "\n",
        "area = 10\n",
        "plt.scatter(x, y, s=area, c=colors, alpha=0.5)\n",
        "plt.grid(True)\n",
        "plt.show()"
      ],
      "execution_count": 0,
      "outputs": [
        {
          "output_type": "display_data",
          "data": {
            "image/png": "[encoded data removed]",
            "text/plain": [
              "<Figure size 432x288 with 1 Axes>"
            ]
          },
          "metadata": {
            "tags": [],
            "needs_background": "light"
          }
        }
      ]
    },
    {
      "cell_type": "code",
      "metadata": {
        "id": "SrGaosmSrd5t",
        "colab_type": "code",
        "outputId": "c894639b-e222-47ad-afe2-5c029db93347",
        "colab": {
          "base_uri": "https://localhost:8080/",
          "height": 265
        }
      },
      "source": [
        "# test plot 2 using\n",
        "x = X_train['mfcc1']\n",
        "y = X_train['cent1']\n",
        "color_to_genre = {'blues':'blue','metal':'grey','hiphop':'red','reggae':'green'}\n",
        "\n",
        "colors = []\n",
        "for each in y_train:\n",
        "    colors.append(color_to_genre[each])\n",
        "\n",
        "area = 10\n",
        "plt.scatter(x, y, s=area, c=colors, alpha=0.5)\n",
        "\n",
        "plt.grid(True)\n",
        "plt.show()"
      ],
      "execution_count": 0,
      "outputs": [
        {
          "output_type": "display_data",
          "data": {
            "image/png": "[encoded data removed]",
            "text/plain": [
              "<Figure size 432x288 with 1 Axes>"
            ]
          },
          "metadata": {
            "tags": [],
            "needs_background": "light"
          }
        }
      ]
    },
    {
      "cell_type": "markdown",
      "metadata": {
        "id": "1LlAg7ll8Lhj",
        "colab_type": "text"
      },
      "source": [
        "3d"
      ]
    },
    {
      "cell_type": "code",
      "metadata": {
        "id": "w_RV7I6p8L-x",
        "colab_type": "code",
        "outputId": "737f1e5b-0c91-46ad-a287-e7466959a2e7",
        "colab": {
          "base_uri": "https://localhost:8080/",
          "height": 248
        }
      },
      "source": [
        "fig = plt.figure()\n",
        "#plt.rcParams['figure.figsize'] = (20.0, 10.0)\n",
        "\n",
        "ax = fig.add_subplot(111, projection='3d')\n",
        "\n",
        "m = 'o'\n",
        "xs = X_train['cent1']\n",
        "ys = X_train['zcr1']\n",
        "zs = X_train['tempo1']\n",
        "ax.scatter(xs, ys, zs, marker=m,color = colors)\n",
        "\n",
        "ax.set_xlabel('X Label')\n",
        "ax.set_ylabel('Y Label')\n",
        "ax.set_zlabel('Z Label')\n",
        "\n",
        "\n",
        "plt.show()\n"
      ],
      "execution_count": 0,
      "outputs": [
        {
          "output_type": "display_data",
          "data": {
            "image/png": "[encoded data removed]",
            "text/plain": [
              "<Figure size 432x288 with 1 Axes>"
            ]
          },
          "metadata": {
            "tags": [],
            "needs_background": "light"
          }
        }
      ]
    },
    {
      "cell_type": "markdown",
      "metadata": {
        "id": "JoSgWvefYfAQ",
        "colab_type": "text"
      },
      "source": [
        "## Modelling Classifier(1): KNN"
      ]
    },
    {
      "cell_type": "markdown",
      "metadata": {
        "id": "ZvVHHhDa6sxG",
        "colab_type": "text"
      },
      "source": [
        "As for classifier, we can try different approaches, \n",
        "\n",
        "1. use **K Neighbour Classfier**\n",
        "2. use **Support Vector Classifier** or others.\n",
        "\n",
        "We can test each model with the already splited dataset and try to find the best parameters to see the best result they could have."
      ]
    },
    {
      "cell_type": "markdown",
      "metadata": {
        "id": "uBdy05siwszs",
        "colab_type": "text"
      },
      "source": [
        "The parameters for KNN Classifier are **searching algorithm**, **n_neighbors**, **weights** and **p** (the way to calculate distance)\n",
        "\n",
        "Here is a simple test example using the dataset we have.\n",
        "\n",
        "\n",
        "Here is a **Simple test... with random parameters**"
      ]
    },
    {
      "cell_type": "code",
      "metadata": {
        "id": "qH_klroVP0x1",
        "colab_type": "code",
        "outputId": "3b5c9d42-a25c-4ccf-dc65-651e3c96fce1",
        "colab": {
          "base_uri": "https://localhost:8080/",
          "height": 34
        }
      },
      "source": [
        "kClassifier = neighbors.KNeighborsClassifier(n_neighbors=15,weights = 'distance')\n",
        "kClassifier.fit(X_train,y_train)\n",
        "\n",
        "predictedTestLabels = kClassifier.predict(X_test)\n",
        "  \n",
        "print(kClassifier.score(X_test,y_test))"
      ],
      "execution_count": 0,
      "outputs": [
        {
          "output_type": "stream",
          "text": [
            "0.775\n"
          ],
          "name": "stdout"
        }
      ]
    },
    {
      "cell_type": "markdown",
      "metadata": {
        "id": "oz41s_2h_r5F",
        "colab_type": "text"
      },
      "source": [
        "Now we can try to find a better k and weight to get higher score.\n",
        "\n",
        "\n",
        "For the **algorithm**, we can just choose **'auto'**, since this method would choose the fatest method from the other three, 'brute', 'kd_tree', 'ball_tree'.\n",
        "\n",
        "But for k and p, we will just enumerate all the combinations of different parameter set to check which has the highest score. \n",
        "\n",
        "(Is this called Grid Search to get the best parameter set?)"
      ]
    },
    {
      "cell_type": "markdown",
      "metadata": {
        "id": "UlolIGsJCtUG",
        "colab_type": "text"
      },
      "source": [
        "### Cross Validation: KNN \n",
        "We have training set (320 audio) and testing set(80 audio).\n",
        "\n",
        "We can use the training set also for cross validation, and save the testing set to evaluate the model for final conclusion.\n",
        "\n",
        "Using cross validation, we can improve the model,\n",
        "by searching for a better **k** with **p**\n",
        "\n"
      ]
    },
    {
      "cell_type": "code",
      "metadata": {
        "id": "g7hdcVXqA-8q",
        "colab_type": "code",
        "outputId": "7ec0c855-7f75-4a0f-aa39-c5dfa488c461",
        "colab": {
          "base_uri": "https://localhost:8080/",
          "height": 68
        }
      },
      "source": [
        "# Test cross validation, k-fold\n",
        "# is this right? or something wrong?\n",
        "%%time\n",
        "best_p = -1\n",
        "best_score = 0.0\n",
        "best_k = -1\n",
        "for k in range(1, 11):\n",
        "    for p in range(1, 6):\n",
        "        knn_clf = neighbors.KNeighborsClassifier(n_neighbors = k, weights = \"distance\", p = p)\n",
        "        knn_clf.fit(X_train, y_train)\n",
        "        knn_score = np.mean(cross_val_score(knn_clf, X_train, y_train, cv=10, scoring='accuracy'))\n",
        "        #print(\"New cross test\",cross_val_score(knn_clf, X_train, y_train, cv=10, scoring='accuracy'))\n",
        "        if knn_score > best_score:\n",
        "            best_score = knn_score\n",
        "            best_k = k\n",
        "            best_p = p\n",
        "\n",
        "print(\"best_p = \", best_p, \", the best_k = \", best_k,\", and best_score = \", best_score)\n",
        "\n"
      ],
      "execution_count": 0,
      "outputs": [
        {
          "output_type": "stream",
          "text": [
            "best_p =  1 , the best_k =  7 , and best_score =  0.678125\n",
            "CPU times: user 4.14 s, sys: 3.37 ms, total: 4.14 s\n",
            "Wall time: 4.14 s\n"
          ],
          "name": "stdout"
        }
      ]
    },
    {
      "cell_type": "markdown",
      "metadata": {
        "id": "Tfo3avvocrjO",
        "colab_type": "text"
      },
      "source": [
        "### Evaluation: KNN\n",
        "\n"
      ]
    },
    {
      "cell_type": "markdown",
      "metadata": {
        "id": "bMYgKfJL3xS9",
        "colab_type": "text"
      },
      "source": [
        "Check the result"
      ]
    },
    {
      "cell_type": "markdown",
      "metadata": {
        "id": "wBvyvqqZ7kow",
        "colab_type": "text"
      },
      "source": [
        "### Testing: KNN\n",
        "So we can use the best parameter for training"
      ]
    },
    {
      "cell_type": "code",
      "metadata": {
        "id": "W0Gu0VqHnW90",
        "colab_type": "code",
        "outputId": "3cf49f53-947c-40e7-8394-904c009faf74",
        "colab": {
          "base_uri": "https://localhost:8080/",
          "height": 34
        }
      },
      "source": [
        "kClassifier = neighbors.KNeighborsClassifier(n_neighbors=7, weights = 'distance',p =1)\n",
        "kClassifier.fit(X_train,y_train)\n",
        "\n",
        "predictedTestLabels = kClassifier.predict(X_test)\n",
        "  \n",
        "print(kClassifier.score(X_test,y_test))"
      ],
      "execution_count": 0,
      "outputs": [
        {
          "output_type": "stream",
          "text": [
            "0.8125\n"
          ],
          "name": "stdout"
        }
      ]
    },
    {
      "cell_type": "markdown",
      "metadata": {
        "id": "gYpqEc3KHEwp",
        "colab_type": "text"
      },
      "source": [
        "**Confusion Matrix**\n",
        "\n",
        "So up to now, the best parameter for current KNN model should use **k = ?, p =? **.\n",
        "\n",
        "(With different testing data, different result of parameters)\n",
        "\n",
        "We can get the percentage of the accuracy for the prediction result,then together with the genre label of the testdata we can plot the **Confusion Matrix** as followed.\n",
        "\n",
        "Each **row** in the matrix is the real genre, while each **column** is the predicted genre category classified by the model we build.\n",
        "\n",
        "From the result of this Confusion Matrix, we can clearly see that the only music genre that has been difficult for our KNN model to classify is the \"Regea\". The result shows that the accuracy rate is only 0.48. And 0.43 has been put in the wrong genre a \"metal\"."
      ]
    },
    {
      "cell_type": "code",
      "metadata": {
        "id": "mi9XUnPvjbdn",
        "colab_type": "code",
        "outputId": "57a1a852-1308-4909-ace1-862125e69c8e",
        "colab": {
          "base_uri": "https://localhost:8080/",
          "height": 380
        }
      },
      "source": [
        "#from sklearn.metrics import plot_confusion_matrix\n",
        "# plot confusion matrix\n",
        "title = \"Normalized confusion matrix\"\n",
        "disp = plot_confusion_matrix(kClassifier,X_test, y_test,\n",
        "                                 display_labels=genre_analysis_list, # genre names list\n",
        "                                 cmap=plt.cm.Blues,\n",
        "                                 normalize='true')\n",
        "disp.ax_.set_title(title)\n",
        "\n",
        "print()\n",
        "print(disp.confusion_matrix)\n",
        "\n",
        "plt.show()"
      ],
      "execution_count": 0,
      "outputs": [
        {
          "output_type": "stream",
          "text": [
            "\n",
            "[[0.89473684 0.         0.10526316 0.        ]\n",
            " [0.05       0.65       0.05       0.25      ]\n",
            " [0.09090909 0.         0.90909091 0.        ]\n",
            " [0.10526316 0.10526316 0.         0.78947368]]\n"
          ],
          "name": "stdout"
        },
        {
          "output_type": "display_data",
          "data": {
            "image/png": "[encoded data removed]",
            "text/plain": [
              "<Figure size 432x288 with 2 Axes>"
            ]
          },
          "metadata": {
            "tags": [],
            "needs_background": "light"
          }
        }
      ]
    },
    {
      "cell_type": "markdown",
      "metadata": {
        "id": "j7pIp54HKp1O",
        "colab_type": "text"
      },
      "source": [
        "## Modelling Classifier(2): SVC\n",
        "\n",
        "using sklearn [SVM](https://scikit-learn.org/stable/modules/svm.html#classification)\n",
        "\n",
        "In this part, we can use the simplest svm to get get prediction of the music genre using test data."
      ]
    },
    {
      "cell_type": "code",
      "metadata": {
        "id": "3smDhj-0a8Wb",
        "colab_type": "code",
        "outputId": "cf2a4153-8046-40bc-c8a0-f9982466c3d2",
        "colab": {
          "base_uri": "https://localhost:8080/",
          "height": 34
        }
      },
      "source": [
        "from sklearn import svm\n",
        "from sklearn.model_selection import cross_val_score\n",
        "\n",
        "X = X_train #feature training data\n",
        "Y = y_train # genre\n",
        "clf = svm.SVC(decision_function_shape='ovo')\n",
        "\n",
        "# the predicted result\n",
        "clf.fit(X, Y)\n",
        "#print(clf.predict(X_test))\n",
        "# check the score of the predicted result\n",
        "scores = cross_val_score(clf,features,result, cv=5)\n",
        "np.mean(scores)\n"
      ],
      "execution_count": 0,
      "outputs": [
        {
          "output_type": "execute_result",
          "data": {
            "text/plain": [
              "0.6074999999999999"
            ]
          },
          "metadata": {
            "tags": []
          },
          "execution_count": 40
        }
      ]
    },
    {
      "cell_type": "markdown",
      "metadata": {
        "id": "3LrDxaDKz9Rr",
        "colab_type": "text"
      },
      "source": [
        "Plot the prediction result and the difference between the test result.\n"
      ]
    },
    {
      "cell_type": "markdown",
      "metadata": {
        "id": "7tbfBRthXq9L",
        "colab_type": "text"
      },
      "source": [
        "### Cross Validation: SVC\n",
        "\n",
        "This part **runs really slow**...\n",
        "- need to check if it is possible to run faster"
      ]
    },
    {
      "cell_type": "code",
      "metadata": {
        "id": "OPi2S6euXro5",
        "colab_type": "code",
        "colab": {}
      },
      "source": [
        "\n",
        "tuned_parameters = [{'kernel': ['rbf'], 'gamma': [1e-3, 1e-4],\n",
        "                     'C': [1, 10, 100, 1000]},\n",
        "                    {'kernel': ['linear'], 'C': [1, 10, 100, 1000]}]\n",
        "\n",
        "scores = ['precision', 'recall']\n",
        "print(\"Still searching....please wait...\")\n",
        "for score in tqdm(scores):\n",
        "    print(\"# Tuning hyper-parameters for %s\" % score)\n",
        "    print()\n",
        "    # use Parallelism\n",
        "    # https://scikit-learn.org/stable/modules/generated/sklearn.model_selection.GridSearchCV.html\n",
        "    clf = GridSearchCV(\n",
        "        svm.SVC(), tuned_parameters, scoring='%s_macro' % score, n_jobs = -1)\n",
        "    clf.fit(X_train, y_train)\n",
        "\n",
        "    print(\"Best parameters set found on development set:\")\n",
        "    print()\n",
        "    print(clf.best_params_)\n",
        "    print()\n",
        "    print(\"Grid scores on development set:\")\n",
        "    print()\n",
        "    means = clf.cv_results_['mean_test_score']\n",
        "    stds = clf.cv_results_['std_test_score']\n",
        "    for mean, std, params in zip(means, stds, clf.cv_results_['params']):\n",
        "        print(\"%0.3f (+/-%0.03f) for %r\"\n",
        "              % (mean, std * 2, params))\n",
        "    print()\n",
        "\n",
        "    print(\"Detailed classification report:\")\n",
        "    print()\n",
        "    print(\"The model is trained on the full development set.\")\n",
        "    print(\"The scores are computed on the full evaluation set.\")\n",
        "    print()\n",
        "    y_true, y_pred = y_test, clf.predict(X_test)\n",
        "    print(classification_report(y_true, y_pred))\n",
        "    print()"
      ],
      "execution_count": 0,
      "outputs": []
    },
    {
      "cell_type": "markdown",
      "metadata": {
        "id": "86oTW1U9f5nX",
        "colab_type": "text"
      },
      "source": [
        "### Testing: SVC"
      ]
    },
    {
      "cell_type": "markdown",
      "metadata": {
        "id": "4UQ7zfVmDEoK",
        "colab_type": "text"
      },
      "source": [
        "Then, we can see the best parameter set\n",
        "{'C': 1, 'gamma': 0.0001, 'kernel': 'linear'}"
      ]
    },
    {
      "cell_type": "code",
      "metadata": {
        "id": "V09EekGbz9qk",
        "colab_type": "code",
        "outputId": "33255c83-de06-4764-d51d-408701d731dc",
        "colab": {
          "base_uri": "https://localhost:8080/",
          "height": 380
        }
      },
      "source": [
        "from sklearn.metrics import plot_confusion_matrix\n",
        "# plot confusion matrix\n",
        "title = \"Normalized confusion matrix\"\n",
        "clf = svm.SVC(C=1.0,kernel ='linear')\n",
        "clf.fit(X, Y)\n",
        "disp = plot_confusion_matrix(clf,X_test, y_test,\n",
        "                                 display_labels=genre_analysis_list, # genre names list\n",
        "                                 cmap=plt.cm.Blues,\n",
        "                                 normalize='true')\n",
        "disp.ax_.set_title(title)\n",
        "\n",
        "print()\n",
        "print(disp.confusion_matrix)\n",
        "\n",
        "plt.show()"
      ],
      "execution_count": 0,
      "outputs": [
        {
          "output_type": "stream",
          "text": [
            "\n",
            "[[0.78947368 0.10526316 0.10526316 0.        ]\n",
            " [0.05       0.65       0.05       0.25      ]\n",
            " [0.09090909 0.09090909 0.81818182 0.        ]\n",
            " [0.15789474 0.31578947 0.         0.52631579]]\n"
          ],
          "name": "stdout"
        },
        {
          "output_type": "display_data",
          "data": {
            "image/png": "[encoded data removed]",
            "text/plain": [
              "<Figure size 432x288 with 2 Axes>"
            ]
          },
          "metadata": {
            "tags": [],
            "needs_background": "light"
          }
        }
      ]
    },
    {
      "cell_type": "markdown",
      "metadata": {
        "id": "wSWPLIU3YMvF",
        "colab_type": "text"
      },
      "source": [
        "Need to check \n",
        "\n",
        "https://scikit-learn.org/stable/auto_examples/model_selection/plot_grid_search_digits.html#sphx-glr-auto-examples-model-selection-plot-grid-search-digits-py\n"
      ]
    },
    {
      "cell_type": "markdown",
      "metadata": {
        "id": "hNuhBSnAcXZF",
        "colab_type": "text"
      },
      "source": [
        "## Another model decision tree\n",
        "can be deleted later... not useful\n"
      ]
    },
    {
      "cell_type": "code",
      "metadata": {
        "id": "qr0lcPlgckyB",
        "colab_type": "code",
        "outputId": "95577399-8bfb-48d4-b9e3-22126d6421ba",
        "colab": {
          "base_uri": "https://localhost:8080/",
          "height": 265
        }
      },
      "source": [
        "from sklearn import tree\n",
        "\n",
        "tree_classifier = tree.DecisionTreeClassifier()\n",
        "tree_classifier = tree_classifier.fit(X_train,y_train)\n",
        "tree_classifier.predict(X_test)\n",
        "tree.plot_tree(tree_classifier)\n",
        "\n",
        "scores = cross_val_score(tree_classifier, features, result, cv=10)\n",
        "print(scores,'avg_score: ',np.mean(scores))\n",
        "# can see clearly the plot"
      ],
      "execution_count": 0,
      "outputs": [
        {
          "output_type": "stream",
          "text": [
            "[0.6   0.7   0.6   0.625 0.725 0.675 0.5   0.625 0.775 0.625] avg_score:  0.645\n"
          ],
          "name": "stdout"
        },
        {
          "output_type": "display_data",
          "data": {
            "image/png": "[encoded data removed]",
            "text/plain": [
              "<Figure size 432x288 with 1 Axes>"
            ]
          },
          "metadata": {
            "tags": [],
            "needs_background": "light"
          }
        }
      ]
    },
    {
      "cell_type": "markdown",
      "metadata": {
        "id": "4S2yn57R7Uv6",
        "colab_type": "text"
      },
      "source": [
        "## Final Conclusion"
      ]
    },
    {
      "cell_type": "markdown",
      "metadata": {
        "id": "ye_vUCgF6mCu",
        "colab_type": "text"
      },
      "source": [
        "To Do...\n",
        "\n",
        "\n",
        "- compare two model\n",
        "- have a conclusion\n",
        "- possible future work to improve\n",
        "- what we learned"
      ]
    },
    {
      "cell_type": "markdown",
      "metadata": {
        "id": "fOAxKOIUSRHA",
        "colab_type": "text"
      },
      "source": [
        "## About Team Work\n",
        "**0410 Discussion**\n",
        "1. apply preprocessing to audio files\n",
        "2. how to split our dataset to {training, testing} to make sure the difference of the two groups\n",
        "3. check if our dataset is balanced? Actually it is already balanced.\n",
        "4. which set of features can to useful for our cases\n",
        "5. apply feature selection?\n",
        "6. choose which classification method?\n",
        "7. try different parameter for the classfier\n",
        "8. evaluate the model\n",
        "9. display the result\n",
        "**0411 Discussion**\n",
        "1. do some test individually, using different classfiers\n",
        "**0422 Discussion**\n",
        "1. finish HW1: add tempo features(peakA1,A0,beat...)\n",
        "2. start to write Document, do it together\n",
        "3. still need to fix some error\n",
        "4. complete the model evaluation,optimization\n",
        "5. then, write the introduction and final conclusion\n",
        "\n"
      ]
    },
    {
      "cell_type": "markdown",
      "metadata": {
        "id": "RX0AgidX4rzo",
        "colab_type": "text"
      },
      "source": [
        "## Reference Materials"
      ]
    },
    {
      "cell_type": "markdown",
      "metadata": {
        "id": "4xJ3RN_-IdrD",
        "colab_type": "text"
      },
      "source": [
        "1. [librosa Library](http://librosa.github.io/librosa/generated/librosa.feature.tempogram.html#librosa.feature.tempogram)\n",
        "2. [Pandas Library](https://pandas.pydata.org/Pandas_Cheat_Sheet.pdf)\n",
        "2. [sklearn cheat sheet](https://s3.amazonaws.com/assets.datacamp.com/blog_assets/Scikit_Learn_Cheat_Sheet_Python.pdf)\n",
        "2. [sklearn, machine learning library](https://scikit-learn.org/stable/) \n",
        "3. [Essentia Library](https://essentia.upf.edu/essentia_python_tutorial.html) \n",
        "4. VAMP plugin python wrapper\n",
        "5. The GTZAN dataset: Its contents, its faults, their effects on evaluation, and its future us, Bob L. Sturm, [2013](https://arxiv.org/abs/1306.1461)\n",
        "6. Mattia recommend, [Musical Genre Classification of Audio Signals](https://dspace.library.uvic.ca/bitstream/handle/1828/1344/tsap02gtzan.pdf?sequence=1)\n",
        "7. Miriam recommend, [Feature Extraction](http://www.ifs.tuwien.ac.at/~schindler/lectures/MIR_Feature_Extraction.html), Alexander Schindler\n",
        "\n",
        "8. reference for how to present a report [MusicGenreClassification Report cs229](http://cs229.stanford.edu/proj2016/report/BurlinCremeLenain-MusicGenreClassification-report.pdf)"
      ]
    },
    {
      "cell_type": "code",
      "metadata": {
        "id": "G3Z4iEjBtppR",
        "colab_type": "code",
        "colab": {}
      },
      "source": [
        ""
      ],
      "execution_count": 0,
      "outputs": []
    }
  ]
}