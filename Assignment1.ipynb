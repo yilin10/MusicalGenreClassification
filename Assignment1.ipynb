{
  "nbformat": 4,
  "nbformat_minor": 0,
  "metadata": {
    "colab": {
      "name": "Copy of Assignment1.ipynb",
      "provenance": [],
      "collapsed_sections": [
        "QWwuOXNSPnqH",
        "c18-qYBQdh4E"
      ],
      "toc_visible": true,
      "machine_shape": "hm",
      "include_colab_link": true
    },
    "kernelspec": {
      "display_name": "Python 3",
      "language": "python",
      "name": "python3"
    },
    "language_info": {
      "codemirror_mode": {
        "name": "ipython",
        "version": 3
      },
      "file_extension": ".py",
      "mimetype": "text/x-python",
      "name": "python",
      "nbconvert_exporter": "python",
      "pygments_lexer": "ipython3",
      "version": "3.6.8"
    },
    "widgets": {
      "application/vnd.jupyter.widget-state+json": {
        "3db1a1cbc4c74037b0036c57361ac251": {
          "model_module": "@jupyter-widgets/controls",
          "model_name": "HBoxModel",
          "state": {
            "_view_name": "HBoxView",
            "_dom_classes": [],
            "_model_name": "HBoxModel",
            "_view_module": "@jupyter-widgets/controls",
            "_model_module_version": "1.5.0",
            "_view_count": null,
            "_view_module_version": "1.5.0",
            "box_style": "",
            "layout": "IPY_MODEL_cdf3457fbe6c438bb0a1ec7ff0b09472",
            "_model_module": "@jupyter-widgets/controls",
            "children": [
              "IPY_MODEL_13639197eb9f4e05a0f4db02a1e338e8",
              "IPY_MODEL_a523ac10510345ffa2fc55954aac839b"
            ]
          }
        },
        "cdf3457fbe6c438bb0a1ec7ff0b09472": {
          "model_module": "@jupyter-widgets/base",
          "model_name": "LayoutModel",
          "state": {
            "_view_name": "LayoutView",
            "grid_template_rows": null,
            "right": null,
            "justify_content": null,
            "_view_module": "@jupyter-widgets/base",
            "overflow": null,
            "_model_module_version": "1.2.0",
            "_view_count": null,
            "flex_flow": null,
            "width": null,
            "min_width": null,
            "border": null,
            "align_items": null,
            "bottom": null,
            "_model_module": "@jupyter-widgets/base",
            "top": null,
            "grid_column": null,
            "overflow_y": null,
            "overflow_x": null,
            "grid_auto_flow": null,
            "grid_area": null,
            "grid_template_columns": null,
            "flex": null,
            "_model_name": "LayoutModel",
            "justify_items": null,
            "grid_row": null,
            "max_height": null,
            "align_content": null,
            "visibility": null,
            "align_self": null,
            "height": null,
            "min_height": null,
            "padding": null,
            "grid_auto_rows": null,
            "grid_gap": null,
            "max_width": null,
            "order": null,
            "_view_module_version": "1.2.0",
            "grid_template_areas": null,
            "object_position": null,
            "object_fit": null,
            "grid_auto_columns": null,
            "margin": null,
            "display": null,
            "left": null
          }
        },
        "13639197eb9f4e05a0f4db02a1e338e8": {
          "model_module": "@jupyter-widgets/controls",
          "model_name": "IntProgressModel",
          "state": {
            "_view_name": "ProgressView",
            "style": "IPY_MODEL_6f34ec0ee190454f8876a271ca3dd831",
            "_dom_classes": [],
            "description": "100%",
            "_model_name": "IntProgressModel",
            "bar_style": "success",
            "max": 4,
            "_view_module": "@jupyter-widgets/controls",
            "_model_module_version": "1.5.0",
            "value": 4,
            "_view_count": null,
            "_view_module_version": "1.5.0",
            "orientation": "horizontal",
            "min": 0,
            "description_tooltip": null,
            "_model_module": "@jupyter-widgets/controls",
            "layout": "IPY_MODEL_a7f179f76e15453f9c4f0271e3613048"
          }
        },
        "a523ac10510345ffa2fc55954aac839b": {
          "model_module": "@jupyter-widgets/controls",
          "model_name": "HTMLModel",
          "state": {
            "_view_name": "HTMLView",
            "style": "IPY_MODEL_421dbe7b4def46beafda0aa086cd8b07",
            "_dom_classes": [],
            "description": "",
            "_model_name": "HTMLModel",
            "placeholder": "​",
            "_view_module": "@jupyter-widgets/controls",
            "_model_module_version": "1.5.0",
            "value": " 4/4 [00:00&lt;00:00, 49.91it/s]",
            "_view_count": null,
            "_view_module_version": "1.5.0",
            "description_tooltip": null,
            "_model_module": "@jupyter-widgets/controls",
            "layout": "IPY_MODEL_e9718909e67c4ceab6cca1f865d10918"
          }
        },
        "6f34ec0ee190454f8876a271ca3dd831": {
          "model_module": "@jupyter-widgets/controls",
          "model_name": "ProgressStyleModel",
          "state": {
            "_view_name": "StyleView",
            "_model_name": "ProgressStyleModel",
            "description_width": "initial",
            "_view_module": "@jupyter-widgets/base",
            "_model_module_version": "1.5.0",
            "_view_count": null,
            "_view_module_version": "1.2.0",
            "bar_color": null,
            "_model_module": "@jupyter-widgets/controls"
          }
        },
        "a7f179f76e15453f9c4f0271e3613048": {
          "model_module": "@jupyter-widgets/base",
          "model_name": "LayoutModel",
          "state": {
            "_view_name": "LayoutView",
            "grid_template_rows": null,
            "right": null,
            "justify_content": null,
            "_view_module": "@jupyter-widgets/base",
            "overflow": null,
            "_model_module_version": "1.2.0",
            "_view_count": null,
            "flex_flow": null,
            "width": null,
            "min_width": null,
            "border": null,
            "align_items": null,
            "bottom": null,
            "_model_module": "@jupyter-widgets/base",
            "top": null,
            "grid_column": null,
            "overflow_y": null,
            "overflow_x": null,
            "grid_auto_flow": null,
            "grid_area": null,
            "grid_template_columns": null,
            "flex": null,
            "_model_name": "LayoutModel",
            "justify_items": null,
            "grid_row": null,
            "max_height": null,
            "align_content": null,
            "visibility": null,
            "align_self": null,
            "height": null,
            "min_height": null,
            "padding": null,
            "grid_auto_rows": null,
            "grid_gap": null,
            "max_width": null,
            "order": null,
            "_view_module_version": "1.2.0",
            "grid_template_areas": null,
            "object_position": null,
            "object_fit": null,
            "grid_auto_columns": null,
            "margin": null,
            "display": null,
            "left": null
          }
        },
        "421dbe7b4def46beafda0aa086cd8b07": {
          "model_module": "@jupyter-widgets/controls",
          "model_name": "DescriptionStyleModel",
          "state": {
            "_view_name": "StyleView",
            "_model_name": "DescriptionStyleModel",
            "description_width": "",
            "_view_module": "@jupyter-widgets/base",
            "_model_module_version": "1.5.0",
            "_view_count": null,
            "_view_module_version": "1.2.0",
            "_model_module": "@jupyter-widgets/controls"
          }
        },
        "e9718909e67c4ceab6cca1f865d10918": {
          "model_module": "@jupyter-widgets/base",
          "model_name": "LayoutModel",
          "state": {
            "_view_name": "LayoutView",
            "grid_template_rows": null,
            "right": null,
            "justify_content": null,
            "_view_module": "@jupyter-widgets/base",
            "overflow": null,
            "_model_module_version": "1.2.0",
            "_view_count": null,
            "flex_flow": null,
            "width": null,
            "min_width": null,
            "border": null,
            "align_items": null,
            "bottom": null,
            "_model_module": "@jupyter-widgets/base",
            "top": null,
            "grid_column": null,
            "overflow_y": null,
            "overflow_x": null,
            "grid_auto_flow": null,
            "grid_area": null,
            "grid_template_columns": null,
            "flex": null,
            "_model_name": "LayoutModel",
            "justify_items": null,
            "grid_row": null,
            "max_height": null,
            "align_content": null,
            "visibility": null,
            "align_self": null,
            "height": null,
            "min_height": null,
            "padding": null,
            "grid_auto_rows": null,
            "grid_gap": null,
            "max_width": null,
            "order": null,
            "_view_module_version": "1.2.0",
            "grid_template_areas": null,
            "object_position": null,
            "object_fit": null,
            "grid_auto_columns": null,
            "margin": null,
            "display": null,
            "left": null
          }
        },
        "4b3b45e754494ca5bd27713fcc71713d": {
          "model_module": "@jupyter-widgets/controls",
          "model_name": "HBoxModel",
          "state": {
            "_view_name": "HBoxView",
            "_dom_classes": [],
            "_model_name": "HBoxModel",
            "_view_module": "@jupyter-widgets/controls",
            "_model_module_version": "1.5.0",
            "_view_count": null,
            "_view_module_version": "1.5.0",
            "box_style": "",
            "layout": "IPY_MODEL_ad60ef9a3d9a4b31a9f6c3aa53b82a18",
            "_model_module": "@jupyter-widgets/controls",
            "children": [
              "IPY_MODEL_e7ff7d2438dc43e5882f5cb94337e45d",
              "IPY_MODEL_9c0be9b474c74581837016e140f76efd"
            ]
          }
        },
        "ad60ef9a3d9a4b31a9f6c3aa53b82a18": {
          "model_module": "@jupyter-widgets/base",
          "model_name": "LayoutModel",
          "state": {
            "_view_name": "LayoutView",
            "grid_template_rows": null,
            "right": null,
            "justify_content": null,
            "_view_module": "@jupyter-widgets/base",
            "overflow": null,
            "_model_module_version": "1.2.0",
            "_view_count": null,
            "flex_flow": null,
            "width": null,
            "min_width": null,
            "border": null,
            "align_items": null,
            "bottom": null,
            "_model_module": "@jupyter-widgets/base",
            "top": null,
            "grid_column": null,
            "overflow_y": null,
            "overflow_x": null,
            "grid_auto_flow": null,
            "grid_area": null,
            "grid_template_columns": null,
            "flex": null,
            "_model_name": "LayoutModel",
            "justify_items": null,
            "grid_row": null,
            "max_height": null,
            "align_content": null,
            "visibility": null,
            "align_self": null,
            "height": null,
            "min_height": null,
            "padding": null,
            "grid_auto_rows": null,
            "grid_gap": null,
            "max_width": null,
            "order": null,
            "_view_module_version": "1.2.0",
            "grid_template_areas": null,
            "object_position": null,
            "object_fit": null,
            "grid_auto_columns": null,
            "margin": null,
            "display": null,
            "left": null
          }
        },
        "e7ff7d2438dc43e5882f5cb94337e45d": {
          "model_module": "@jupyter-widgets/controls",
          "model_name": "IntProgressModel",
          "state": {
            "_view_name": "ProgressView",
            "style": "IPY_MODEL_daf35bb88e414c9c9bd1c054be429856",
            "_dom_classes": [],
            "description": "100%",
            "_model_name": "IntProgressModel",
            "bar_style": "success",
            "max": 80,
            "_view_module": "@jupyter-widgets/controls",
            "_model_module_version": "1.5.0",
            "value": 80,
            "_view_count": null,
            "_view_module_version": "1.5.0",
            "orientation": "horizontal",
            "min": 0,
            "description_tooltip": null,
            "_model_module": "@jupyter-widgets/controls",
            "layout": "IPY_MODEL_889884b4f35d48bfac35760893d9ef5e"
          }
        },
        "9c0be9b474c74581837016e140f76efd": {
          "model_module": "@jupyter-widgets/controls",
          "model_name": "HTMLModel",
          "state": {
            "_view_name": "HTMLView",
            "style": "IPY_MODEL_466fc7afcc544474801c9bc02cfae553",
            "_dom_classes": [],
            "description": "",
            "_model_name": "HTMLModel",
            "placeholder": "​",
            "_view_module": "@jupyter-widgets/controls",
            "_model_module_version": "1.5.0",
            "value": " 80/80 [02:26&lt;00:00,  1.83s/it]",
            "_view_count": null,
            "_view_module_version": "1.5.0",
            "description_tooltip": null,
            "_model_module": "@jupyter-widgets/controls",
            "layout": "IPY_MODEL_e8d977a64fc04a09999d1213d4e70891"
          }
        },
        "daf35bb88e414c9c9bd1c054be429856": {
          "model_module": "@jupyter-widgets/controls",
          "model_name": "ProgressStyleModel",
          "state": {
            "_view_name": "StyleView",
            "_model_name": "ProgressStyleModel",
            "description_width": "initial",
            "_view_module": "@jupyter-widgets/base",
            "_model_module_version": "1.5.0",
            "_view_count": null,
            "_view_module_version": "1.2.0",
            "bar_color": null,
            "_model_module": "@jupyter-widgets/controls"
          }
        },
        "889884b4f35d48bfac35760893d9ef5e": {
          "model_module": "@jupyter-widgets/base",
          "model_name": "LayoutModel",
          "state": {
            "_view_name": "LayoutView",
            "grid_template_rows": null,
            "right": null,
            "justify_content": null,
            "_view_module": "@jupyter-widgets/base",
            "overflow": null,
            "_model_module_version": "1.2.0",
            "_view_count": null,
            "flex_flow": null,
            "width": null,
            "min_width": null,
            "border": null,
            "align_items": null,
            "bottom": null,
            "_model_module": "@jupyter-widgets/base",
            "top": null,
            "grid_column": null,
            "overflow_y": null,
            "overflow_x": null,
            "grid_auto_flow": null,
            "grid_area": null,
            "grid_template_columns": null,
            "flex": null,
            "_model_name": "LayoutModel",
            "justify_items": null,
            "grid_row": null,
            "max_height": null,
            "align_content": null,
            "visibility": null,
            "align_self": null,
            "height": null,
            "min_height": null,
            "padding": null,
            "grid_auto_rows": null,
            "grid_gap": null,
            "max_width": null,
            "order": null,
            "_view_module_version": "1.2.0",
            "grid_template_areas": null,
            "object_position": null,
            "object_fit": null,
            "grid_auto_columns": null,
            "margin": null,
            "display": null,
            "left": null
          }
        },
        "466fc7afcc544474801c9bc02cfae553": {
          "model_module": "@jupyter-widgets/controls",
          "model_name": "DescriptionStyleModel",
          "state": {
            "_view_name": "StyleView",
            "_model_name": "DescriptionStyleModel",
            "description_width": "",
            "_view_module": "@jupyter-widgets/base",
            "_model_module_version": "1.5.0",
            "_view_count": null,
            "_view_module_version": "1.2.0",
            "_model_module": "@jupyter-widgets/controls"
          }
        },
        "e8d977a64fc04a09999d1213d4e70891": {
          "model_module": "@jupyter-widgets/base",
          "model_name": "LayoutModel",
          "state": {
            "_view_name": "LayoutView",
            "grid_template_rows": null,
            "right": null,
            "justify_content": null,
            "_view_module": "@jupyter-widgets/base",
            "overflow": null,
            "_model_module_version": "1.2.0",
            "_view_count": null,
            "flex_flow": null,
            "width": null,
            "min_width": null,
            "border": null,
            "align_items": null,
            "bottom": null,
            "_model_module": "@jupyter-widgets/base",
            "top": null,
            "grid_column": null,
            "overflow_y": null,
            "overflow_x": null,
            "grid_auto_flow": null,
            "grid_area": null,
            "grid_template_columns": null,
            "flex": null,
            "_model_name": "LayoutModel",
            "justify_items": null,
            "grid_row": null,
            "max_height": null,
            "align_content": null,
            "visibility": null,
            "align_self": null,
            "height": null,
            "min_height": null,
            "padding": null,
            "grid_auto_rows": null,
            "grid_gap": null,
            "max_width": null,
            "order": null,
            "_view_module_version": "1.2.0",
            "grid_template_areas": null,
            "object_position": null,
            "object_fit": null,
            "grid_auto_columns": null,
            "margin": null,
            "display": null,
            "left": null
          }
        },
        "7a81b71134db4b8b868ed0dce4a4b0c8": {
          "model_module": "@jupyter-widgets/controls",
          "model_name": "HBoxModel",
          "state": {
            "_view_name": "HBoxView",
            "_dom_classes": [],
            "_model_name": "HBoxModel",
            "_view_module": "@jupyter-widgets/controls",
            "_model_module_version": "1.5.0",
            "_view_count": null,
            "_view_module_version": "1.5.0",
            "box_style": "",
            "layout": "IPY_MODEL_f2d6c47f59c8498faa85b6fa7cf78900",
            "_model_module": "@jupyter-widgets/controls",
            "children": [
              "IPY_MODEL_38aff011932a4016a28409918e5561e0",
              "IPY_MODEL_daaaca1864204b9896d4611b37090d44"
            ]
          }
        },
        "f2d6c47f59c8498faa85b6fa7cf78900": {
          "model_module": "@jupyter-widgets/base",
          "model_name": "LayoutModel",
          "state": {
            "_view_name": "LayoutView",
            "grid_template_rows": null,
            "right": null,
            "justify_content": null,
            "_view_module": "@jupyter-widgets/base",
            "overflow": null,
            "_model_module_version": "1.2.0",
            "_view_count": null,
            "flex_flow": null,
            "width": null,
            "min_width": null,
            "border": null,
            "align_items": null,
            "bottom": null,
            "_model_module": "@jupyter-widgets/base",
            "top": null,
            "grid_column": null,
            "overflow_y": null,
            "overflow_x": null,
            "grid_auto_flow": null,
            "grid_area": null,
            "grid_template_columns": null,
            "flex": null,
            "_model_name": "LayoutModel",
            "justify_items": null,
            "grid_row": null,
            "max_height": null,
            "align_content": null,
            "visibility": null,
            "align_self": null,
            "height": null,
            "min_height": null,
            "padding": null,
            "grid_auto_rows": null,
            "grid_gap": null,
            "max_width": null,
            "order": null,
            "_view_module_version": "1.2.0",
            "grid_template_areas": null,
            "object_position": null,
            "object_fit": null,
            "grid_auto_columns": null,
            "margin": null,
            "display": null,
            "left": null
          }
        },
        "38aff011932a4016a28409918e5561e0": {
          "model_module": "@jupyter-widgets/controls",
          "model_name": "IntProgressModel",
          "state": {
            "_view_name": "ProgressView",
            "style": "IPY_MODEL_8c88b7cdef15415095d31d5204db4374",
            "_dom_classes": [],
            "description": "100%",
            "_model_name": "IntProgressModel",
            "bar_style": "danger",
            "max": 400,
            "_view_module": "@jupyter-widgets/controls",
            "_model_module_version": "1.5.0",
            "value": 399,
            "_view_count": null,
            "_view_module_version": "1.5.0",
            "orientation": "horizontal",
            "min": 0,
            "description_tooltip": null,
            "_model_module": "@jupyter-widgets/controls",
            "layout": "IPY_MODEL_9a4a3b4da64147d4aee7b678c6bc5a03"
          }
        },
        "daaaca1864204b9896d4611b37090d44": {
          "model_module": "@jupyter-widgets/controls",
          "model_name": "HTMLModel",
          "state": {
            "_view_name": "HTMLView",
            "style": "IPY_MODEL_180ca5754dd3461e96b5cb21622e2ac2",
            "_dom_classes": [],
            "description": "",
            "_model_name": "HTMLModel",
            "placeholder": "​",
            "_view_module": "@jupyter-widgets/controls",
            "_model_module_version": "1.5.0",
            "value": " 399/400 [06:51&lt;00:01,  1.03s/it]",
            "_view_count": null,
            "_view_module_version": "1.5.0",
            "description_tooltip": null,
            "_model_module": "@jupyter-widgets/controls",
            "layout": "IPY_MODEL_3a2d9bd26807457f9e83a11d615be5d1"
          }
        },
        "8c88b7cdef15415095d31d5204db4374": {
          "model_module": "@jupyter-widgets/controls",
          "model_name": "ProgressStyleModel",
          "state": {
            "_view_name": "StyleView",
            "_model_name": "ProgressStyleModel",
            "description_width": "initial",
            "_view_module": "@jupyter-widgets/base",
            "_model_module_version": "1.5.0",
            "_view_count": null,
            "_view_module_version": "1.2.0",
            "bar_color": null,
            "_model_module": "@jupyter-widgets/controls"
          }
        },
        "9a4a3b4da64147d4aee7b678c6bc5a03": {
          "model_module": "@jupyter-widgets/base",
          "model_name": "LayoutModel",
          "state": {
            "_view_name": "LayoutView",
            "grid_template_rows": null,
            "right": null,
            "justify_content": null,
            "_view_module": "@jupyter-widgets/base",
            "overflow": null,
            "_model_module_version": "1.2.0",
            "_view_count": null,
            "flex_flow": null,
            "width": null,
            "min_width": null,
            "border": null,
            "align_items": null,
            "bottom": null,
            "_model_module": "@jupyter-widgets/base",
            "top": null,
            "grid_column": null,
            "overflow_y": null,
            "overflow_x": null,
            "grid_auto_flow": null,
            "grid_area": null,
            "grid_template_columns": null,
            "flex": null,
            "_model_name": "LayoutModel",
            "justify_items": null,
            "grid_row": null,
            "max_height": null,
            "align_content": null,
            "visibility": null,
            "align_self": null,
            "height": null,
            "min_height": null,
            "padding": null,
            "grid_auto_rows": null,
            "grid_gap": null,
            "max_width": null,
            "order": null,
            "_view_module_version": "1.2.0",
            "grid_template_areas": null,
            "object_position": null,
            "object_fit": null,
            "grid_auto_columns": null,
            "margin": null,
            "display": null,
            "left": null
          }
        },
        "180ca5754dd3461e96b5cb21622e2ac2": {
          "model_module": "@jupyter-widgets/controls",
          "model_name": "DescriptionStyleModel",
          "state": {
            "_view_name": "StyleView",
            "_model_name": "DescriptionStyleModel",
            "description_width": "",
            "_view_module": "@jupyter-widgets/base",
            "_model_module_version": "1.5.0",
            "_view_count": null,
            "_view_module_version": "1.2.0",
            "_model_module": "@jupyter-widgets/controls"
          }
        },
        "3a2d9bd26807457f9e83a11d615be5d1": {
          "model_module": "@jupyter-widgets/base",
          "model_name": "LayoutModel",
          "state": {
            "_view_name": "LayoutView",
            "grid_template_rows": null,
            "right": null,
            "justify_content": null,
            "_view_module": "@jupyter-widgets/base",
            "overflow": null,
            "_model_module_version": "1.2.0",
            "_view_count": null,
            "flex_flow": null,
            "width": null,
            "min_width": null,
            "border": null,
            "align_items": null,
            "bottom": null,
            "_model_module": "@jupyter-widgets/base",
            "top": null,
            "grid_column": null,
            "overflow_y": null,
            "overflow_x": null,
            "grid_auto_flow": null,
            "grid_area": null,
            "grid_template_columns": null,
            "flex": null,
            "_model_name": "LayoutModel",
            "justify_items": null,
            "grid_row": null,
            "max_height": null,
            "align_content": null,
            "visibility": null,
            "align_self": null,
            "height": null,
            "min_height": null,
            "padding": null,
            "grid_auto_rows": null,
            "grid_gap": null,
            "max_width": null,
            "order": null,
            "_view_module_version": "1.2.0",
            "grid_template_areas": null,
            "object_position": null,
            "object_fit": null,
            "grid_auto_columns": null,
            "margin": null,
            "display": null,
            "left": null
          }
        },
        "ea5593013d3340949feda7b3b56f43a5": {
          "model_module": "@jupyter-widgets/controls",
          "model_name": "HBoxModel",
          "state": {
            "_view_name": "HBoxView",
            "_dom_classes": [],
            "_model_name": "HBoxModel",
            "_view_module": "@jupyter-widgets/controls",
            "_model_module_version": "1.5.0",
            "_view_count": null,
            "_view_module_version": "1.5.0",
            "box_style": "",
            "layout": "IPY_MODEL_b0f96d3405114ee9aea702ef1dbc17de",
            "_model_module": "@jupyter-widgets/controls",
            "children": [
              "IPY_MODEL_f9b5eafe2ff54034b3efb1ff7558f29d",
              "IPY_MODEL_c6edf0c08af0455aae61834c9a697483"
            ]
          }
        },
        "b0f96d3405114ee9aea702ef1dbc17de": {
          "model_module": "@jupyter-widgets/base",
          "model_name": "LayoutModel",
          "state": {
            "_view_name": "LayoutView",
            "grid_template_rows": null,
            "right": null,
            "justify_content": null,
            "_view_module": "@jupyter-widgets/base",
            "overflow": null,
            "_model_module_version": "1.2.0",
            "_view_count": null,
            "flex_flow": null,
            "width": null,
            "min_width": null,
            "border": null,
            "align_items": null,
            "bottom": null,
            "_model_module": "@jupyter-widgets/base",
            "top": null,
            "grid_column": null,
            "overflow_y": null,
            "overflow_x": null,
            "grid_auto_flow": null,
            "grid_area": null,
            "grid_template_columns": null,
            "flex": null,
            "_model_name": "LayoutModel",
            "justify_items": null,
            "grid_row": null,
            "max_height": null,
            "align_content": null,
            "visibility": null,
            "align_self": null,
            "height": null,
            "min_height": null,
            "padding": null,
            "grid_auto_rows": null,
            "grid_gap": null,
            "max_width": null,
            "order": null,
            "_view_module_version": "1.2.0",
            "grid_template_areas": null,
            "object_position": null,
            "object_fit": null,
            "grid_auto_columns": null,
            "margin": null,
            "display": null,
            "left": null
          }
        },
        "f9b5eafe2ff54034b3efb1ff7558f29d": {
          "model_module": "@jupyter-widgets/controls",
          "model_name": "IntProgressModel",
          "state": {
            "_view_name": "ProgressView",
            "style": "IPY_MODEL_6390d4efc51a4c439e880d337a0f9e1c",
            "_dom_classes": [],
            "description": "100%",
            "_model_name": "IntProgressModel",
            "bar_style": "success",
            "max": 4,
            "_view_module": "@jupyter-widgets/controls",
            "_model_module_version": "1.5.0",
            "value": 4,
            "_view_count": null,
            "_view_module_version": "1.5.0",
            "orientation": "horizontal",
            "min": 0,
            "description_tooltip": null,
            "_model_module": "@jupyter-widgets/controls",
            "layout": "IPY_MODEL_02c24d1309de40cbb89eb714845e1dd7"
          }
        },
        "c6edf0c08af0455aae61834c9a697483": {
          "model_module": "@jupyter-widgets/controls",
          "model_name": "HTMLModel",
          "state": {
            "_view_name": "HTMLView",
            "style": "IPY_MODEL_f8e5b9f0731f4aafb29aaefd0cdaca12",
            "_dom_classes": [],
            "description": "",
            "_model_name": "HTMLModel",
            "placeholder": "​",
            "_view_module": "@jupyter-widgets/controls",
            "_model_module_version": "1.5.0",
            "value": " 4/4 [00:00&lt;00:00, 122.45it/s]",
            "_view_count": null,
            "_view_module_version": "1.5.0",
            "description_tooltip": null,
            "_model_module": "@jupyter-widgets/controls",
            "layout": "IPY_MODEL_1a1ba2a44d7b4b7bb23a4d76f83e9718"
          }
        },
        "6390d4efc51a4c439e880d337a0f9e1c": {
          "model_module": "@jupyter-widgets/controls",
          "model_name": "ProgressStyleModel",
          "state": {
            "_view_name": "StyleView",
            "_model_name": "ProgressStyleModel",
            "description_width": "initial",
            "_view_module": "@jupyter-widgets/base",
            "_model_module_version": "1.5.0",
            "_view_count": null,
            "_view_module_version": "1.2.0",
            "bar_color": null,
            "_model_module": "@jupyter-widgets/controls"
          }
        },
        "02c24d1309de40cbb89eb714845e1dd7": {
          "model_module": "@jupyter-widgets/base",
          "model_name": "LayoutModel",
          "state": {
            "_view_name": "LayoutView",
            "grid_template_rows": null,
            "right": null,
            "justify_content": null,
            "_view_module": "@jupyter-widgets/base",
            "overflow": null,
            "_model_module_version": "1.2.0",
            "_view_count": null,
            "flex_flow": null,
            "width": null,
            "min_width": null,
            "border": null,
            "align_items": null,
            "bottom": null,
            "_model_module": "@jupyter-widgets/base",
            "top": null,
            "grid_column": null,
            "overflow_y": null,
            "overflow_x": null,
            "grid_auto_flow": null,
            "grid_area": null,
            "grid_template_columns": null,
            "flex": null,
            "_model_name": "LayoutModel",
            "justify_items": null,
            "grid_row": null,
            "max_height": null,
            "align_content": null,
            "visibility": null,
            "align_self": null,
            "height": null,
            "min_height": null,
            "padding": null,
            "grid_auto_rows": null,
            "grid_gap": null,
            "max_width": null,
            "order": null,
            "_view_module_version": "1.2.0",
            "grid_template_areas": null,
            "object_position": null,
            "object_fit": null,
            "grid_auto_columns": null,
            "margin": null,
            "display": null,
            "left": null
          }
        },
        "f8e5b9f0731f4aafb29aaefd0cdaca12": {
          "model_module": "@jupyter-widgets/controls",
          "model_name": "DescriptionStyleModel",
          "state": {
            "_view_name": "StyleView",
            "_model_name": "DescriptionStyleModel",
            "description_width": "",
            "_view_module": "@jupyter-widgets/base",
            "_model_module_version": "1.5.0",
            "_view_count": null,
            "_view_module_version": "1.2.0",
            "_model_module": "@jupyter-widgets/controls"
          }
        },
        "1a1ba2a44d7b4b7bb23a4d76f83e9718": {
          "model_module": "@jupyter-widgets/base",
          "model_name": "LayoutModel",
          "state": {
            "_view_name": "LayoutView",
            "grid_template_rows": null,
            "right": null,
            "justify_content": null,
            "_view_module": "@jupyter-widgets/base",
            "overflow": null,
            "_model_module_version": "1.2.0",
            "_view_count": null,
            "flex_flow": null,
            "width": null,
            "min_width": null,
            "border": null,
            "align_items": null,
            "bottom": null,
            "_model_module": "@jupyter-widgets/base",
            "top": null,
            "grid_column": null,
            "overflow_y": null,
            "overflow_x": null,
            "grid_auto_flow": null,
            "grid_area": null,
            "grid_template_columns": null,
            "flex": null,
            "_model_name": "LayoutModel",
            "justify_items": null,
            "grid_row": null,
            "max_height": null,
            "align_content": null,
            "visibility": null,
            "align_self": null,
            "height": null,
            "min_height": null,
            "padding": null,
            "grid_auto_rows": null,
            "grid_gap": null,
            "max_width": null,
            "order": null,
            "_view_module_version": "1.2.0",
            "grid_template_areas": null,
            "object_position": null,
            "object_fit": null,
            "grid_auto_columns": null,
            "margin": null,
            "display": null,
            "left": null
          }
        },
        "ed4a19eb70fe47bbb0f62eda65a22981": {
          "model_module": "@jupyter-widgets/controls",
          "model_name": "HBoxModel",
          "state": {
            "_view_name": "HBoxView",
            "_dom_classes": [],
            "_model_name": "HBoxModel",
            "_view_module": "@jupyter-widgets/controls",
            "_model_module_version": "1.5.0",
            "_view_count": null,
            "_view_module_version": "1.5.0",
            "box_style": "",
            "layout": "IPY_MODEL_891601f623f545e2a4ef0259e1431855",
            "_model_module": "@jupyter-widgets/controls",
            "children": [
              "IPY_MODEL_b480471a2d724429b82f010873106b81",
              "IPY_MODEL_7f642529816d41d8b875b90121fc5786"
            ]
          }
        },
        "891601f623f545e2a4ef0259e1431855": {
          "model_module": "@jupyter-widgets/base",
          "model_name": "LayoutModel",
          "state": {
            "_view_name": "LayoutView",
            "grid_template_rows": null,
            "right": null,
            "justify_content": null,
            "_view_module": "@jupyter-widgets/base",
            "overflow": null,
            "_model_module_version": "1.2.0",
            "_view_count": null,
            "flex_flow": null,
            "width": null,
            "min_width": null,
            "border": null,
            "align_items": null,
            "bottom": null,
            "_model_module": "@jupyter-widgets/base",
            "top": null,
            "grid_column": null,
            "overflow_y": null,
            "overflow_x": null,
            "grid_auto_flow": null,
            "grid_area": null,
            "grid_template_columns": null,
            "flex": null,
            "_model_name": "LayoutModel",
            "justify_items": null,
            "grid_row": null,
            "max_height": null,
            "align_content": null,
            "visibility": null,
            "align_self": null,
            "height": null,
            "min_height": null,
            "padding": null,
            "grid_auto_rows": null,
            "grid_gap": null,
            "max_width": null,
            "order": null,
            "_view_module_version": "1.2.0",
            "grid_template_areas": null,
            "object_position": null,
            "object_fit": null,
            "grid_auto_columns": null,
            "margin": null,
            "display": null,
            "left": null
          }
        },
        "b480471a2d724429b82f010873106b81": {
          "model_module": "@jupyter-widgets/controls",
          "model_name": "IntProgressModel",
          "state": {
            "_view_name": "ProgressView",
            "style": "IPY_MODEL_b5780ee170674365bc206001865844be",
            "_dom_classes": [],
            "description": "100%",
            "_model_name": "IntProgressModel",
            "bar_style": "success",
            "max": 2,
            "_view_module": "@jupyter-widgets/controls",
            "_model_module_version": "1.5.0",
            "value": 2,
            "_view_count": null,
            "_view_module_version": "1.5.0",
            "orientation": "horizontal",
            "min": 0,
            "description_tooltip": null,
            "_model_module": "@jupyter-widgets/controls",
            "layout": "IPY_MODEL_7602398b9a1c4b44bb5d6f87f3ee0aa3"
          }
        },
        "7f642529816d41d8b875b90121fc5786": {
          "model_module": "@jupyter-widgets/controls",
          "model_name": "HTMLModel",
          "state": {
            "_view_name": "HTMLView",
            "style": "IPY_MODEL_1a932d6e818240f999637939ea0052a2",
            "_dom_classes": [],
            "description": "",
            "_model_name": "HTMLModel",
            "placeholder": "​",
            "_view_module": "@jupyter-widgets/controls",
            "_model_module_version": "1.5.0",
            "value": " 2/2 [14:45&lt;00:00, 442.67s/it]",
            "_view_count": null,
            "_view_module_version": "1.5.0",
            "description_tooltip": null,
            "_model_module": "@jupyter-widgets/controls",
            "layout": "IPY_MODEL_8569b472d4334040809797884d435e7a"
          }
        },
        "b5780ee170674365bc206001865844be": {
          "model_module": "@jupyter-widgets/controls",
          "model_name": "ProgressStyleModel",
          "state": {
            "_view_name": "StyleView",
            "_model_name": "ProgressStyleModel",
            "description_width": "initial",
            "_view_module": "@jupyter-widgets/base",
            "_model_module_version": "1.5.0",
            "_view_count": null,
            "_view_module_version": "1.2.0",
            "bar_color": null,
            "_model_module": "@jupyter-widgets/controls"
          }
        },
        "7602398b9a1c4b44bb5d6f87f3ee0aa3": {
          "model_module": "@jupyter-widgets/base",
          "model_name": "LayoutModel",
          "state": {
            "_view_name": "LayoutView",
            "grid_template_rows": null,
            "right": null,
            "justify_content": null,
            "_view_module": "@jupyter-widgets/base",
            "overflow": null,
            "_model_module_version": "1.2.0",
            "_view_count": null,
            "flex_flow": null,
            "width": null,
            "min_width": null,
            "border": null,
            "align_items": null,
            "bottom": null,
            "_model_module": "@jupyter-widgets/base",
            "top": null,
            "grid_column": null,
            "overflow_y": null,
            "overflow_x": null,
            "grid_auto_flow": null,
            "grid_area": null,
            "grid_template_columns": null,
            "flex": null,
            "_model_name": "LayoutModel",
            "justify_items": null,
            "grid_row": null,
            "max_height": null,
            "align_content": null,
            "visibility": null,
            "align_self": null,
            "height": null,
            "min_height": null,
            "padding": null,
            "grid_auto_rows": null,
            "grid_gap": null,
            "max_width": null,
            "order": null,
            "_view_module_version": "1.2.0",
            "grid_template_areas": null,
            "object_position": null,
            "object_fit": null,
            "grid_auto_columns": null,
            "margin": null,
            "display": null,
            "left": null
          }
        },
        "1a932d6e818240f999637939ea0052a2": {
          "model_module": "@jupyter-widgets/controls",
          "model_name": "DescriptionStyleModel",
          "state": {
            "_view_name": "StyleView",
            "_model_name": "DescriptionStyleModel",
            "description_width": "",
            "_view_module": "@jupyter-widgets/base",
            "_model_module_version": "1.5.0",
            "_view_count": null,
            "_view_module_version": "1.2.0",
            "_model_module": "@jupyter-widgets/controls"
          }
        },
        "8569b472d4334040809797884d435e7a": {
          "model_module": "@jupyter-widgets/base",
          "model_name": "LayoutModel",
          "state": {
            "_view_name": "LayoutView",
            "grid_template_rows": null,
            "right": null,
            "justify_content": null,
            "_view_module": "@jupyter-widgets/base",
            "overflow": null,
            "_model_module_version": "1.2.0",
            "_view_count": null,
            "flex_flow": null,
            "width": null,
            "min_width": null,
            "border": null,
            "align_items": null,
            "bottom": null,
            "_model_module": "@jupyter-widgets/base",
            "top": null,
            "grid_column": null,
            "overflow_y": null,
            "overflow_x": null,
            "grid_auto_flow": null,
            "grid_area": null,
            "grid_template_columns": null,
            "flex": null,
            "_model_name": "LayoutModel",
            "justify_items": null,
            "grid_row": null,
            "max_height": null,
            "align_content": null,
            "visibility": null,
            "align_self": null,
            "height": null,
            "min_height": null,
            "padding": null,
            "grid_auto_rows": null,
            "grid_gap": null,
            "max_width": null,
            "order": null,
            "_view_module_version": "1.2.0",
            "grid_template_areas": null,
            "object_position": null,
            "object_fit": null,
            "grid_auto_columns": null,
            "margin": null,
            "display": null,
            "left": null
          }
        }
      }
    }
  },
  "cells": [
    {
      "cell_type": "markdown",
      "metadata": {
        "id": "view-in-github",
        "colab_type": "text"
      },
      "source": [
        "<a href=\"https://colab.research.google.com/github/yilin10/MusicalGenreClassification/blob/master/Assignment1.ipynb\" target=\"_parent\"><img src=\"https://colab.research.google.com/assets/colab-badge.svg\" alt=\"Open In Colab\"/></a>"
      ]
    },
    {
      "cell_type": "markdown",
      "metadata": {
        "colab_type": "text",
        "id": "jLVe0JKuO3bf"
      },
      "source": [
        "# Computer Music Languages and System - Assignment 1"
      ]
    },
    {
      "cell_type": "markdown",
      "metadata": {
        "id": "gqa0sub0LAkQ",
        "colab_type": "text"
      },
      "source": [
        "## Introduction"
      ]
    },
    {
      "cell_type": "markdown",
      "metadata": {
        "id": "9Qx1zsQfLC0q",
        "colab_type": "text"
      },
      "source": [
        "This is a report for Computer Music: Language and Systesms in Politecnico di Milano. It is written as IPython Notebook using Google Colaboratory.\n",
        "\n",
        "The report version on OverLeaf (Editable) [link](https://www.overleaf.com/1494782774kwgkjvfgddzq)\n"
      ]
    },
    {
      "cell_type": "markdown",
      "metadata": {
        "colab_type": "text",
        "id": "oAMtiv3fi_zD"
      },
      "source": [
        "## Imports"
      ]
    },
    {
      "cell_type": "markdown",
      "metadata": {
        "colab_type": "text",
        "id": "AoIKVCIltRqu"
      },
      "source": [
        "Import of **Libraries** we needed in this project."
      ]
    },
    {
      "cell_type": "code",
      "metadata": {
        "colab_type": "code",
        "id": "PM1VJfgyOXPH",
        "colab": {}
      },
      "source": [
        "# import python libraries\n",
        "import librosa\n",
        "import numpy as np\n",
        "import pandas as pd\n",
        "import os\n",
        "import matplotlib.pyplot as plt\n",
        "import IPython.display as ipd\n",
        "import scipy as sp\n",
        "from tqdm.notebook import tqdm\n",
        "from time import sleep\n",
        "\n",
        "# import classification and evaluation\n",
        "import sklearn.svm\n",
        "from sklearn.model_selection import train_test_split, cross_val_score\n",
        "from sklearn import datasets\n",
        "import sklearn.neighbors as neighbors\n",
        "from sklearn.metrics import plot_confusion_matrix\n",
        "from sklearn.model_selection import train_test_split\n",
        "from sklearn.model_selection import GridSearchCV\n",
        "from sklearn.metrics import classification_report"
      ],
      "execution_count": 0,
      "outputs": []
    },
    {
      "cell_type": "markdown",
      "metadata": {
        "colab_type": "text",
        "id": "hxm6tnwutXJu"
      },
      "source": [
        "We can use the personal **Kaggle Api token** to enable download from Kaggle."
      ]
    },
    {
      "cell_type": "code",
      "metadata": {
        "colab_type": "code",
        "id": "X8wsW27Qk5d2",
        "outputId": "d4873067-f38c-49f3-dd99-75b66f028538",
        "colab": {
          "resources": {
            "http://localhost:8080/nbextensions/google.colab/files.js": {
              "data": "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",
              "ok": true,
              "headers": [
                [
                  "content-type",
                  "application/javascript"
                ]
              ],
              "status": 200,
              "status_text": ""
            }
          },
          "base_uri": "https://localhost:8080/",
          "height": 92
        }
      },
      "source": [
        "from google.colab import files\n",
        "files.upload() # Choose kaggle.json (your personal Kaggle API token)\n",
        "\n",
        "! rm -r ~/.kaggle\n",
        "! mkdir ~/.kaggle\n",
        "! mv kaggle.json ~/.kaggle/\n",
        "! chmod 600 ~/.kaggle/kaggle.json # Change the permissions of the file."
      ],
      "execution_count": 2,
      "outputs": [
        {
          "output_type": "display_data",
          "data": {
            "text/html": [
              "\n",
              "     <input type=\"file\" id=\"files-57827105-3a78-481e-bdd8-bbf66c6568bf\" name=\"files[]\" multiple disabled />\n",
              "     <output id=\"result-57827105-3a78-481e-bdd8-bbf66c6568bf\">\n",
              "      Upload widget is only available when the cell has been executed in the\n",
              "      current browser session. Please rerun this cell to enable.\n",
              "      </output>\n",
              "      <script src=\"/nbextensions/google.colab/files.js\"></script> "
            ],
            "text/plain": [
              "<IPython.core.display.HTML object>"
            ]
          },
          "metadata": {
            "tags": []
          }
        },
        {
          "output_type": "stream",
          "text": [
            "Saving kaggle.json to kaggle.json\n",
            "rm: cannot remove '/root/.kaggle': No such file or directory\n"
          ],
          "name": "stdout"
        }
      ]
    },
    {
      "cell_type": "markdown",
      "metadata": {
        "colab_type": "text",
        "id": "ut0yfrF6tvqA"
      },
      "source": [
        "Download of the dataset from Kaggle, and unzip the dataset\n",
        "\n"
      ]
    },
    {
      "cell_type": "code",
      "metadata": {
        "colab_type": "code",
        "id": "O-jkkBM5RLBm",
        "outputId": "1672ca2d-60f7-4696-8073-061541d0831f",
        "colab": {
          "base_uri": "https://localhost:8080/",
          "height": 68
        }
      },
      "source": [
        "! pip install -q kaggle\n",
        "! mkdir ~/dataset\n",
        "! kaggle datasets download -d carlthome/gtzan-genre-collection\n",
        "! unzip -q gtzan-genre-collection.zip -d ~/dataset"
      ],
      "execution_count": 3,
      "outputs": [
        {
          "output_type": "stream",
          "text": [
            "Downloading gtzan-genre-collection.zip to /content\n",
            " 99% 1.13G/1.14G [00:18<00:00, 65.9MB/s]\n",
            "100% 1.14G/1.14G [00:18<00:00, 66.9MB/s]\n"
          ],
          "name": "stdout"
        }
      ]
    },
    {
      "cell_type": "markdown",
      "metadata": {
        "id": "wMvXCboCo0oa",
        "colab_type": "text"
      },
      "source": [
        "## Observation and Retrieving Annotations\n"
      ]
    },
    {
      "cell_type": "markdown",
      "metadata": {
        "id": "muksP7rsd25t",
        "colab_type": "text"
      },
      "source": [
        "The original Dataset we are using is from [Kaggle](https://www.kaggle.com/carlthome/gtzan-genre-collection) and provided by [GTZAN](http://marsyas.info/downloads/datasets.html), which is the most widely used free database in music genre recognization field.\n",
        "\n",
        "In our Task **Group 5 Assignment 1**, we need to classify the four Music Genre categories **Blues, Metal, Hip-Hop, Reggae**.\n",
        "\n",
        "\n",
        "In the description part, we can see the brief infomation on this data set.\n",
        "\n",
        "\n",
        "\n",
        "```\n",
        "The dataset consists of 1000 audio tracks each 30 seconds long. \n",
        "\n",
        "It contains 10 genres, each represented by 100 tracks. \n",
        "\n",
        "The tracks are all 22050 Hz monophonic 16-bit audio files in .au format.\n",
        "```\n",
        "\n",
        "\n"
      ]
    },
    {
      "cell_type": "code",
      "metadata": {
        "id": "AvcEkZ9IKqPi",
        "colab_type": "code",
        "outputId": "03413d84-32bd-42da-f800-2e0d0e900547",
        "colab": {
          "base_uri": "https://localhost:8080/",
          "height": 468,
          "referenced_widgets": [
            "3db1a1cbc4c74037b0036c57361ac251",
            "cdf3457fbe6c438bb0a1ec7ff0b09472",
            "13639197eb9f4e05a0f4db02a1e338e8",
            "a523ac10510345ffa2fc55954aac839b",
            "6f34ec0ee190454f8876a271ca3dd831",
            "a7f179f76e15453f9c4f0271e3613048",
            "421dbe7b4def46beafda0aa086cd8b07",
            "e9718909e67c4ceab6cca1f865d10918"
          ]
        }
      },
      "source": [
        "# save data in genre.csv\n",
        "genre_analysis_list = [\"blues\",\"metal\",\"hiphop\",\"reggae\"]  \n",
        "genre_list = []  \n",
        "path_list = []\n",
        "train_path = \"../root/dataset/genres/\"\n",
        "\n",
        "for each in tqdm(genre_analysis_list):\n",
        "    train_test_folder = train_path + format(each)\n",
        "    train_catg_files = [f for f in os.listdir(train_test_folder) if f.endswith('.au')]\n",
        "    for index, each_file in enumerate(train_catg_files):\n",
        "        each_file_path = os.path.join(train_test_folder, each_file)\n",
        "        genre_list.append(each)\n",
        "        path_list.append(each_file_path)\n",
        "genre_data = pd.DataFrame(list(zip(genre_list,path_list)),columns = ['Genre','Path'])\n",
        "genre_data.to_csv('./genres.csv',sep = '\\t', index = False)\n",
        "\n",
        "genre_data # get pd.DataFrame"
      ],
      "execution_count": 4,
      "outputs": [
        {
          "output_type": "display_data",
          "data": {
            "application/vnd.jupyter.widget-view+json": {
              "model_id": "3db1a1cbc4c74037b0036c57361ac251",
              "version_minor": 0,
              "version_major": 2
            },
            "text/plain": [
              "HBox(children=(IntProgress(value=0, max=4), HTML(value='')))"
            ]
          },
          "metadata": {
            "tags": []
          }
        },
        {
          "output_type": "stream",
          "text": [
            "\n"
          ],
          "name": "stdout"
        },
        {
          "output_type": "execute_result",
          "data": {
            "text/html": [
              "<div>\n",
              "<style scoped>\n",
              "    .dataframe tbody tr th:only-of-type {\n",
              "        vertical-align: middle;\n",
              "    }\n",
              "\n",
              "    .dataframe tbody tr th {\n",
              "        vertical-align: top;\n",
              "    }\n",
              "\n",
              "    .dataframe thead th {\n",
              "        text-align: right;\n",
              "    }\n",
              "</style>\n",
              "<table border=\"1\" class=\"dataframe\">\n",
              "  <thead>\n",
              "    <tr style=\"text-align: right;\">\n",
              "      <th></th>\n",
              "      <th>Genre</th>\n",
              "      <th>Path</th>\n",
              "    </tr>\n",
              "  </thead>\n",
              "  <tbody>\n",
              "    <tr>\n",
              "      <th>0</th>\n",
              "      <td>blues</td>\n",
              "      <td>../root/dataset/genres/blues/blues.00046.au</td>\n",
              "    </tr>\n",
              "    <tr>\n",
              "      <th>1</th>\n",
              "      <td>blues</td>\n",
              "      <td>../root/dataset/genres/blues/blues.00094.au</td>\n",
              "    </tr>\n",
              "    <tr>\n",
              "      <th>2</th>\n",
              "      <td>blues</td>\n",
              "      <td>../root/dataset/genres/blues/blues.00085.au</td>\n",
              "    </tr>\n",
              "    <tr>\n",
              "      <th>3</th>\n",
              "      <td>blues</td>\n",
              "      <td>../root/dataset/genres/blues/blues.00011.au</td>\n",
              "    </tr>\n",
              "    <tr>\n",
              "      <th>4</th>\n",
              "      <td>blues</td>\n",
              "      <td>../root/dataset/genres/blues/blues.00077.au</td>\n",
              "    </tr>\n",
              "    <tr>\n",
              "      <th>...</th>\n",
              "      <td>...</td>\n",
              "      <td>...</td>\n",
              "    </tr>\n",
              "    <tr>\n",
              "      <th>395</th>\n",
              "      <td>reggae</td>\n",
              "      <td>../root/dataset/genres/reggae/reggae.00004.au</td>\n",
              "    </tr>\n",
              "    <tr>\n",
              "      <th>396</th>\n",
              "      <td>reggae</td>\n",
              "      <td>../root/dataset/genres/reggae/reggae.00081.au</td>\n",
              "    </tr>\n",
              "    <tr>\n",
              "      <th>397</th>\n",
              "      <td>reggae</td>\n",
              "      <td>../root/dataset/genres/reggae/reggae.00047.au</td>\n",
              "    </tr>\n",
              "    <tr>\n",
              "      <th>398</th>\n",
              "      <td>reggae</td>\n",
              "      <td>../root/dataset/genres/reggae/reggae.00057.au</td>\n",
              "    </tr>\n",
              "    <tr>\n",
              "      <th>399</th>\n",
              "      <td>reggae</td>\n",
              "      <td>../root/dataset/genres/reggae/reggae.00018.au</td>\n",
              "    </tr>\n",
              "  </tbody>\n",
              "</table>\n",
              "<p>400 rows × 2 columns</p>\n",
              "</div>"
            ],
            "text/plain": [
              "      Genre                                           Path\n",
              "0     blues    ../root/dataset/genres/blues/blues.00046.au\n",
              "1     blues    ../root/dataset/genres/blues/blues.00094.au\n",
              "2     blues    ../root/dataset/genres/blues/blues.00085.au\n",
              "3     blues    ../root/dataset/genres/blues/blues.00011.au\n",
              "4     blues    ../root/dataset/genres/blues/blues.00077.au\n",
              "..      ...                                            ...\n",
              "395  reggae  ../root/dataset/genres/reggae/reggae.00004.au\n",
              "396  reggae  ../root/dataset/genres/reggae/reggae.00081.au\n",
              "397  reggae  ../root/dataset/genres/reggae/reggae.00047.au\n",
              "398  reggae  ../root/dataset/genres/reggae/reggae.00057.au\n",
              "399  reggae  ../root/dataset/genres/reggae/reggae.00018.au\n",
              "\n",
              "[400 rows x 2 columns]"
            ]
          },
          "metadata": {
            "tags": []
          },
          "execution_count": 4
        }
      ]
    },
    {
      "cell_type": "markdown",
      "metadata": {
        "id": "HfjjS6PJ_Moo",
        "colab_type": "text"
      },
      "source": [
        "## Preprocessing"
      ]
    },
    {
      "cell_type": "markdown",
      "metadata": {
        "id": "byNZHT1qP57Z",
        "colab_type": "text"
      },
      "source": [
        "Go through the files and check .au basic info, we can pick random samples to check according to statistic principle.\n",
        "- sample rate\n",
        "- duration in seconds\n",
        "- static tempo\n",
        "\n",
        "By executing the following code we can get the same information on this dataset which confirms with the provided info."
      ]
    },
    {
      "cell_type": "code",
      "metadata": {
        "id": "J0PiPkNoP6Tx",
        "colab_type": "code",
        "outputId": "fd4f60f5-24c2-4e12-ac6e-f8d34b53e56f",
        "colab": {
          "base_uri": "https://localhost:8080/",
          "height": 137,
          "referenced_widgets": [
            "4b3b45e754494ca5bd27713fcc71713d",
            "ad60ef9a3d9a4b31a9f6c3aa53b82a18",
            "e7ff7d2438dc43e5882f5cb94337e45d",
            "9c0be9b474c74581837016e140f76efd",
            "daf35bb88e414c9c9bd1c054be429856",
            "889884b4f35d48bfac35760893d9ef5e",
            "466fc7afcc544474801c9bc02cfae553",
            "e8d977a64fc04a09999d1213d4e70891"
          ]
        }
      },
      "source": [
        "import warnings \n",
        "# ignore dw warning from librosa.beat\n",
        "warnings.filterwarnings(\"ignore\", category=DeprecationWarning) \n",
        "# get 20% of check_sample from original dataset\n",
        "check_sample = genre_data['Path'].sample(frac = 0.2, replace = False,\n",
        "                                         random_state = None, axis = 0 )\n",
        "sr_list = []\n",
        "dur_list = []\n",
        "tempo_list = []\n",
        "for p in tqdm(check_sample):\n",
        "    #read audio file \n",
        "    y, sr = librosa.load(p) \n",
        "    #1. get sample rate\n",
        "    sr_list.append(sr)\n",
        "    #2. get duration\n",
        "    dur = round(librosa.get_duration(y=y, sr=sr))\n",
        "    dur_list.append(dur)\n",
        "    #3. static tempo\n",
        "    onset_env = librosa.onset.onset_strength(y, sr=sr)\n",
        "    tempo = librosa.beat.tempo(onset_envelope=onset_env, sr=sr)\n",
        "    tempo_list.append(round(tempo[0]))\n",
        "    #4. ??\n",
        "print(\"sample rate: \", sr_list) # sample rate = 22050\n",
        "print(\"duration in seconds: \", dur_list)\n",
        "print(\"static tempo: \", tempo_list)"
      ],
      "execution_count": 5,
      "outputs": [
        {
          "output_type": "display_data",
          "data": {
            "application/vnd.jupyter.widget-view+json": {
              "model_id": "4b3b45e754494ca5bd27713fcc71713d",
              "version_minor": 0,
              "version_major": 2
            },
            "text/plain": [
              "HBox(children=(IntProgress(value=0, max=80), HTML(value='')))"
            ]
          },
          "metadata": {
            "tags": []
          }
        },
        {
          "output_type": "stream",
          "text": [
            "\n",
            "sample rate:  [22050, 22050, 22050, 22050, 22050, 22050, 22050, 22050, 22050, 22050, 22050, 22050, 22050, 22050, 22050, 22050, 22050, 22050, 22050, 22050, 22050, 22050, 22050, 22050, 22050, 22050, 22050, 22050, 22050, 22050, 22050, 22050, 22050, 22050, 22050, 22050, 22050, 22050, 22050, 22050, 22050, 22050, 22050, 22050, 22050, 22050, 22050, 22050, 22050, 22050, 22050, 22050, 22050, 22050, 22050, 22050, 22050, 22050, 22050, 22050, 22050, 22050, 22050, 22050, 22050, 22050, 22050, 22050, 22050, 22050, 22050, 22050, 22050, 22050, 22050, 22050, 22050, 22050, 22050, 22050]\n",
            "duration in seconds:  [30, 30, 30, 30, 30, 30, 30, 30, 30, 30, 30, 30, 30, 30, 30, 30, 30, 30, 30, 30, 30, 30, 30, 30, 30, 30, 30, 30, 30, 30, 30, 30, 30, 30, 30, 30, 30, 30, 30, 30, 30, 30, 30, 30, 30, 30, 30, 30, 30, 31, 30, 30, 30, 30, 30, 30, 30, 30, 30, 31, 30, 30, 30, 30, 30, 30, 30, 30, 30, 30, 30, 30, 30, 30, 30, 30, 30, 30, 30, 30]\n",
            "static tempo:  [112.0, 123.0, 103.0, 108.0, 112.0, 112.0, 152.0, 123.0, 96.0, 99.0, 96.0, 103.0, 103.0, 123.0, 108.0, 136.0, 89.0, 112.0, 129.0, 123.0, 152.0, 117.0, 92.0, 129.0, 129.0, 96.0, 103.0, 117.0, 152.0, 161.0, 129.0, 161.0, 96.0, 86.0, 96.0, 161.0, 83.0, 99.0, 152.0, 123.0, 92.0, 144.0, 161.0, 136.0, 123.0, 108.0, 86.0, 103.0, 152.0, 89.0, 136.0, 129.0, 144.0, 99.0, 136.0, 96.0, 152.0, 89.0, 117.0, 117.0, 92.0, 108.0, 172.0, 185.0, 117.0, 108.0, 99.0, 108.0, 123.0, 144.0, 112.0, 172.0, 92.0, 89.0, 172.0, 108.0, 99.0, 108.0, 103.0, 123.0]\n"
          ],
          "name": "stdout"
        }
      ]
    },
    {
      "cell_type": "code",
      "metadata": {
        "id": "lzWlyjSEkCuR",
        "colab_type": "code",
        "outputId": "7bf3bb5d-8d6b-4b3e-f81a-286a4f023d93",
        "colab": {
          "base_uri": "https://localhost:8080/",
          "height": 119
        }
      },
      "source": [
        "print(\"--- Statistics for sample data in static tempo ---\")\n",
        "print(\"Mean\", np.mean(tempo_list))\n",
        "print(\"Min\",np.min(tempo_list))\n",
        "print(\"Max\",np.min(tempo_list))\n",
        "print(\"Median\", np.median(tempo_list))\n",
        "print(\"Std\", np.std(tempo_list))"
      ],
      "execution_count": 0,
      "outputs": [
        {
          "output_type": "stream",
          "text": [
            "--- Statistics for sample data in static tempo ---\n",
            "Mean 119.3875\n",
            "Min 89.0\n",
            "Max 89.0\n",
            "Median 117.0\n",
            "Std 20.578808122678048\n"
          ],
          "name": "stdout"
        }
      ]
    },
    {
      "cell_type": "markdown",
      "metadata": {
        "id": "1--vsk7VfXpB",
        "colab_type": "text"
      },
      "source": [
        "Here we can print to see the statistic info in tempo as a test. We can see in rhythmic part the standard diviation is quiet obvious, which makes it possible to distinguish different different genres."
      ]
    },
    {
      "cell_type": "markdown",
      "metadata": {
        "id": "CJek8GfLI9q9",
        "colab_type": "text"
      },
      "source": [
        "**Check the quality of the Original dataset**\n",
        "\n",
        "- if it is balanced\n",
        "- if it has repetition\n",
        "- if it is able to describe differnet genre\n",
        "\n",
        "According to a research result we found [[1]](https://arxiv.org/abs/1306.1461), the audio pieces from GTZAN is not perfect, it does have repetitions, and dislabelling error.\n",
        "\n",
        "In the research result we find from the paper, they checked each audio piece both using fingerprinting of the audio and also human ears.\n",
        "\n",
        "There are different kinds of repetition and mislabelling in the GTZAN dataset(as recording repetition, artist repetiton and version repetition and others).\n",
        "\n",
        "1. **Recording repetition**: 0 error in blues, 6 in hiphop, 0 in metal, 3 in reggae\n",
        "2. **Artist unbalanced**: all blues audio come from only 9 artists; 34 % of the Reggae pieces come from artist Bob Marley(no.00-27 and no.54-60)\n",
        "3. **Version repetition**: 0 in blues, 2 in hiphop, 3 in Metal, 2 in Reggae; eg. Metal 33 is “Enter Sandman” by Metallica, and Metal 74 is a parody\n",
        "4. **Mislabelling**: there are some contentious or conscpicious labelled piece; eg. In Metal Genre, Queen's “Tie Your Mother Down” (no.58), “Tear it up” (no.59), “We Will Rock You” (no.60) might be labelled as Rock instead; In all, there are 0 error in blues, 4 in Hiphop, 13 in Metal and 1 in reggae.\n",
        "\n",
        "Thus, we know that GTZAN provides convenient origin dataset for further analysis, but is not perfect. \n",
        "\n",
        "We should take into consideration the error inside each 'Genre', especially in the categories of 'Metal' and 'Reggae' for **the evaluation stage**.\n",
        "\n",
        "\n",
        "\n",
        "\n",
        "\n",
        "\n",
        "\n",
        "\n",
        "\n",
        "\n",
        "\n",
        "\n"
      ]
    },
    {
      "cell_type": "markdown",
      "metadata": {
        "id": "oH7PRBQyBzwJ",
        "colab_type": "text"
      },
      "source": [
        "## Choose the Features"
      ]
    },
    {
      "cell_type": "markdown",
      "metadata": {
        "id": "ZipMFYxDvGrq",
        "colab_type": "text"
      },
      "source": [
        "We are able to analysis the genral information and store the data result we need.\n",
        "\n",
        "1. go through the genre list we are going to analysis **'blues', 'metal', 'hiphop', 'reggae'**\n",
        "2. store the file path and the genre tag\n",
        "3. extract and calculate other features we need, as **MFCC**, **Chroma_stft**, **centroid, zero crossing rate, tempo, rms**.\n",
        "4. store result in a pandas.DataFrame structure \n",
        "5. also create a .csv file named **source_data.csv** under **'./source_data.csv'**"
      ]
    },
    {
      "cell_type": "markdown",
      "metadata": {
        "id": "tZfnxz9WHf6w",
        "colab_type": "text"
      },
      "source": [
        "## Feature Extraction 2: MFCC + chroma_stft + centroid + zcr + tempo + rms\n",
        "\n"
      ]
    },
    {
      "cell_type": "markdown",
      "metadata": {
        "id": "b8CTKj1vo2QN",
        "colab_type": "text"
      },
      "source": [
        "We decided to use the features of MFCC, Chroma_stft, tempogram and zero crossing rate.\n",
        "\n",
        "1. why we choose these fetures\n",
        "2. explain the meaning of each features"
      ]
    },
    {
      "cell_type": "code",
      "metadata": {
        "id": "_B8d6Bds_QAt",
        "colab_type": "code",
        "outputId": "240c514f-9a79-4886-adb8-dce3dc18b1cd",
        "colab": {
          "base_uri": "https://localhost:8080/",
          "height": 34
        }
      },
      "source": [
        "# test tempogram\n",
        "# This is just a test to get tempogram features\n",
        "hop_length = 512\n",
        "y, sr = librosa.load(genre_data['Path'][1])\n",
        "#print(genre_data['Path'][1])\n",
        "oenv = librosa.onset.onset_strength(y=y, sr=sr, hop_length=hop_length)\n",
        "features_tempogram = librosa.feature.tempogram(onset_envelope=oenv, sr=sr,hop_length=hop_length)\n",
        "# show \n",
        "avg = np.mean(features_tempogram,axis=1)\n",
        "print(np.mean(avg,axis= 0))\n"
      ],
      "execution_count": 0,
      "outputs": [
        {
          "output_type": "stream",
          "text": [
            "0.13729321365601108\n"
          ],
          "name": "stdout"
        }
      ]
    },
    {
      "cell_type": "code",
      "metadata": {
        "id": "l7J7U2UR2LLt",
        "colab_type": "code",
        "outputId": "26409c16-7574-4a52-ed1a-2f9bf3563f61",
        "colab": {
          "base_uri": "https://localhost:8080/",
          "height": 34
        }
      },
      "source": [
        "#This is a test to add zero crossing rate\n",
        "y, sr = librosa.load(genre_data['Path'][1])\n",
        "feature_zcr = librosa.feature.zero_crossing_rate(y,frame_length = 2048, hop_length=512)\n",
        "# mean + std\n",
        "print(np.mean(feature_zcr),np.std(feature_zcr))"
      ],
      "execution_count": 0,
      "outputs": [
        {
          "output_type": "stream",
          "text": [
            "0.10435170751160093 0.0439276251082811\n"
          ],
          "name": "stdout"
        }
      ]
    },
    {
      "cell_type": "code",
      "metadata": {
        "id": "0DvgvEfxgLJV",
        "colab_type": "code",
        "outputId": "1d997170-38da-4300-c3fe-a8da869b871f",
        "colab": {
          "base_uri": "https://localhost:8080/",
          "height": 34
        }
      },
      "source": [
        "# test rms\n",
        "y, sr = librosa.load(genre_data['Path'][1])\n",
        "features_rms = librosa.feature.rms(y=y)\n",
        "print(np.mean(features_rms),np.std(features_rms))"
      ],
      "execution_count": 0,
      "outputs": [
        {
          "output_type": "stream",
          "text": [
            "0.16199261 0.0691715\n"
          ],
          "name": "stdout"
        }
      ]
    },
    {
      "cell_type": "markdown",
      "metadata": {
        "id": "qaH0dQxSPSO9",
        "colab_type": "text"
      },
      "source": [
        "Now we can **extract all the features we need**.\n",
        "\n",
        "Save it both in pandas structure and .csv file."
      ]
    },
    {
      "cell_type": "code",
      "metadata": {
        "id": "5xD6qqGjHvnW",
        "colab_type": "code",
        "outputId": "754256ce-89be-4f9d-ab1d-8452a52fa7ec",
        "colab": {
          "base_uri": "https://localhost:8080/",
          "height": 66,
          "referenced_widgets": [
            "7a81b71134db4b8b868ed0dce4a4b0c8",
            "f2d6c47f59c8498faa85b6fa7cf78900",
            "38aff011932a4016a28409918e5561e0",
            "daaaca1864204b9896d4611b37090d44",
            "8c88b7cdef15415095d31d5204db4374",
            "9a4a3b4da64147d4aee7b678c6bc5a03",
            "180ca5754dd3461e96b5cb21622e2ac2",
            "3a2d9bd26807457f9e83a11d615be5d1"
          ]
        }
      },
      "source": [
        "# save MFCC feature in features.csv\n",
        "mfcc_list = []\n",
        "mfcc_value = np.zeros((400, 13))\n",
        "chroma_value = np.zeros((400, 12))\n",
        "cent_value = np.zeros((400, 2))\n",
        "zcr_value = np.zeros((400,2))\n",
        "stmp_value = np.zeros((400,1))\n",
        "rms_value = np.zeros((400,2))\n",
        "\n",
        "columns =[]\n",
        "for each_file, index in zip(genre_data['Path'],tqdm(range(0,400))):\n",
        "    hop_length = 2048 # 512\n",
        "    y, sr = librosa.load(each_file)\n",
        "    #print(\"Now processing:\",each_file)\n",
        "    # get feature mfcc\n",
        "    features_mfcc = librosa.feature.mfcc(y=y, sr=sr, n_mfcc=13) \n",
        "    mfcc_value[index,:] = np.mean(features_mfcc,axis=1)\n",
        "    # get feature chroma\n",
        "    features_chroma = librosa.feature.chroma_stft(y,sr)\n",
        "    chroma_value[index, :] = np.mean(features_chroma, axis=1)\n",
        "    #---------get feature tempo\n",
        "    #oenv = librosa.onset.onset_strength(y=y, sr=sr, hop_length=hop_length)\n",
        "    #features_tempo = librosa.feature.tempogram(onset_envelope=oenv, sr=sr,hop_length=hop_length)\n",
        "    #---------tempo_value[index,:] =  (np.mean(np.mean(features_tempo, axis =1),axis =0),np.std(np.mean(features_tempo, axis =1),axis =0))\n",
        "    \n",
        "    # spectral_centroid\n",
        "    features_cent = librosa.feature.spectral_centroid(y=y, sr=sr)\n",
        "    cent_value[index,:] =(np.mean(features_cent),np.std(features_cent))\n",
        "    \n",
        "    #get zero crossing rate\n",
        "    features_zcr = librosa.feature.zero_crossing_rate(y,frame_length=2048,hop_length=512)\n",
        "    zcr_value[index,:] =(np.mean(features_zcr),np.std(features_zcr))\n",
        "\n",
        "    # static_tempo\n",
        "    onset_env = librosa.onset.onset_strength(y, sr=sr)\n",
        "    features_tempo = librosa.beat.tempo(onset_envelope=onset_env, sr=sr)\n",
        "    stmp_value[index,:] = round(features_tempo[0])\n",
        "\n",
        "    # rms\n",
        "    features_rms = librosa.feature.rms(y=y)\n",
        "    rms_value[index,:] = (np.mean(features_rms),np.std(features_rms))\n",
        "\n",
        "\n",
        "# feature_table is the df of mfcc_value\n",
        "features_value = pd.DataFrame(mfcc_value)\n",
        "# add other feature, chroma also inside this table\n",
        "\n",
        "# update features_value and save to .csv\n",
        "features_value = pd.concat([features_value, pd.DataFrame(chroma_value)], axis=1)\n",
        "features_value = pd.concat([features_value, pd.DataFrame(cent_value)], axis=1)\n",
        "features_value = pd.concat([features_value, pd.DataFrame(zcr_value)], axis=1)\n",
        "features_value = pd.concat([features_value, pd.DataFrame(stmp_value)], axis=1)\n",
        "features_value = pd.concat([features_value, pd.DataFrame(rms_value)], axis=1)\n",
        "\n",
        "# update the features_value dataframe column name to mfcc1 to mfcc13, chroma 1 to 12\n",
        "col_name = []\n",
        "for index in range(0,13):\n",
        "    col_name.append('mfcc'+str(index+1))\n",
        "for index in range(0,12):\n",
        "    col_name.append('chroma'+str(index+1))\n",
        "for index in range(0,2):\n",
        "    col_name.append('cent'+str(index+1))\n",
        "for index in range(0,2):\n",
        "    col_name.append('zcr'+str(index+1))\n",
        "for index in range(0,1):\n",
        "    col_name.append('tempo'+str(index+1))\n",
        "for index in range(0,2):\n",
        "    col_name.append('rms'+str(index+1))\n",
        "\n",
        "features_value.columns = col_name\n",
        "# save to .csv\n",
        "features_value.to_csv('./features.csv',sep = '\\t', index = False)\n",
        "print(\"Finished processing, saved all features.\")\n",
        "# need to wait some time to see the result.\n",
        "\n"
      ],
      "execution_count": 7,
      "outputs": [
        {
          "output_type": "display_data",
          "data": {
            "application/vnd.jupyter.widget-view+json": {
              "model_id": "7a81b71134db4b8b868ed0dce4a4b0c8",
              "version_minor": 0,
              "version_major": 2
            },
            "text/plain": [
              "HBox(children=(IntProgress(value=0, max=400), HTML(value='')))"
            ]
          },
          "metadata": {
            "tags": []
          }
        },
        {
          "output_type": "stream",
          "text": [
            "Finished processing, saved all features.\n"
          ],
          "name": "stdout"
        }
      ]
    },
    {
      "cell_type": "code",
      "metadata": {
        "id": "FFpBdIqIU1gc",
        "colab_type": "code",
        "outputId": "640b7a01-e93c-447c-f201-38c3ae0081aa",
        "colab": {
          "base_uri": "https://localhost:8080/",
          "height": 439
        }
      },
      "source": [
        "features_value"
      ],
      "execution_count": 8,
      "outputs": [
        {
          "output_type": "execute_result",
          "data": {
            "text/html": [
              "<div>\n",
              "<style scoped>\n",
              "    .dataframe tbody tr th:only-of-type {\n",
              "        vertical-align: middle;\n",
              "    }\n",
              "\n",
              "    .dataframe tbody tr th {\n",
              "        vertical-align: top;\n",
              "    }\n",
              "\n",
              "    .dataframe thead th {\n",
              "        text-align: right;\n",
              "    }\n",
              "</style>\n",
              "<table border=\"1\" class=\"dataframe\">\n",
              "  <thead>\n",
              "    <tr style=\"text-align: right;\">\n",
              "      <th></th>\n",
              "      <th>mfcc1</th>\n",
              "      <th>mfcc2</th>\n",
              "      <th>mfcc3</th>\n",
              "      <th>mfcc4</th>\n",
              "      <th>mfcc5</th>\n",
              "      <th>mfcc6</th>\n",
              "      <th>mfcc7</th>\n",
              "      <th>mfcc8</th>\n",
              "      <th>mfcc9</th>\n",
              "      <th>mfcc10</th>\n",
              "      <th>mfcc11</th>\n",
              "      <th>mfcc12</th>\n",
              "      <th>mfcc13</th>\n",
              "      <th>chroma1</th>\n",
              "      <th>chroma2</th>\n",
              "      <th>chroma3</th>\n",
              "      <th>chroma4</th>\n",
              "      <th>chroma5</th>\n",
              "      <th>chroma6</th>\n",
              "      <th>chroma7</th>\n",
              "      <th>chroma8</th>\n",
              "      <th>chroma9</th>\n",
              "      <th>chroma10</th>\n",
              "      <th>chroma11</th>\n",
              "      <th>chroma12</th>\n",
              "      <th>cent1</th>\n",
              "      <th>cent2</th>\n",
              "      <th>zcr1</th>\n",
              "      <th>zcr2</th>\n",
              "      <th>tempo1</th>\n",
              "      <th>rms1</th>\n",
              "      <th>rms2</th>\n",
              "    </tr>\n",
              "  </thead>\n",
              "  <tbody>\n",
              "    <tr>\n",
              "      <th>0</th>\n",
              "      <td>-182.573780</td>\n",
              "      <td>90.667559</td>\n",
              "      <td>14.124546</td>\n",
              "      <td>67.549227</td>\n",
              "      <td>2.678699</td>\n",
              "      <td>38.429826</td>\n",
              "      <td>-8.410715</td>\n",
              "      <td>24.129551</td>\n",
              "      <td>-13.789951</td>\n",
              "      <td>4.833090</td>\n",
              "      <td>-16.685229</td>\n",
              "      <td>5.817601</td>\n",
              "      <td>-5.146697</td>\n",
              "      <td>0.296446</td>\n",
              "      <td>0.419363</td>\n",
              "      <td>0.423290</td>\n",
              "      <td>0.480253</td>\n",
              "      <td>0.363995</td>\n",
              "      <td>0.265106</td>\n",
              "      <td>0.349328</td>\n",
              "      <td>0.401695</td>\n",
              "      <td>0.510102</td>\n",
              "      <td>0.454700</td>\n",
              "      <td>0.390488</td>\n",
              "      <td>0.300843</td>\n",
              "      <td>1913.011600</td>\n",
              "      <td>575.813762</td>\n",
              "      <td>0.058458</td>\n",
              "      <td>0.030124</td>\n",
              "      <td>123.0</td>\n",
              "      <td>0.102602</td>\n",
              "      <td>0.030764</td>\n",
              "    </tr>\n",
              "    <tr>\n",
              "      <th>1</th>\n",
              "      <td>-206.264000</td>\n",
              "      <td>126.616617</td>\n",
              "      <td>10.599261</td>\n",
              "      <td>43.217927</td>\n",
              "      <td>12.512424</td>\n",
              "      <td>19.433657</td>\n",
              "      <td>0.363658</td>\n",
              "      <td>12.744847</td>\n",
              "      <td>-4.568616</td>\n",
              "      <td>4.051736</td>\n",
              "      <td>-4.407841</td>\n",
              "      <td>3.657619</td>\n",
              "      <td>-1.446165</td>\n",
              "      <td>0.351800</td>\n",
              "      <td>0.400501</td>\n",
              "      <td>0.337665</td>\n",
              "      <td>0.290132</td>\n",
              "      <td>0.375274</td>\n",
              "      <td>0.340593</td>\n",
              "      <td>0.360618</td>\n",
              "      <td>0.390082</td>\n",
              "      <td>0.436680</td>\n",
              "      <td>0.492176</td>\n",
              "      <td>0.376972</td>\n",
              "      <td>0.367721</td>\n",
              "      <td>1239.195580</td>\n",
              "      <td>725.808898</td>\n",
              "      <td>0.050879</td>\n",
              "      <td>0.050054</td>\n",
              "      <td>103.0</td>\n",
              "      <td>0.141069</td>\n",
              "      <td>0.073300</td>\n",
              "    </tr>\n",
              "    <tr>\n",
              "      <th>2</th>\n",
              "      <td>-180.188166</td>\n",
              "      <td>131.448948</td>\n",
              "      <td>0.590290</td>\n",
              "      <td>43.146331</td>\n",
              "      <td>14.139363</td>\n",
              "      <td>25.625079</td>\n",
              "      <td>-5.311244</td>\n",
              "      <td>12.026699</td>\n",
              "      <td>-13.540604</td>\n",
              "      <td>-1.103392</td>\n",
              "      <td>-7.605921</td>\n",
              "      <td>2.716887</td>\n",
              "      <td>0.782552</td>\n",
              "      <td>0.365938</td>\n",
              "      <td>0.331455</td>\n",
              "      <td>0.471378</td>\n",
              "      <td>0.274908</td>\n",
              "      <td>0.215231</td>\n",
              "      <td>0.194560</td>\n",
              "      <td>0.222012</td>\n",
              "      <td>0.386245</td>\n",
              "      <td>0.312383</td>\n",
              "      <td>0.343086</td>\n",
              "      <td>0.316737</td>\n",
              "      <td>0.349766</td>\n",
              "      <td>1311.848800</td>\n",
              "      <td>638.456267</td>\n",
              "      <td>0.059392</td>\n",
              "      <td>0.040873</td>\n",
              "      <td>144.0</td>\n",
              "      <td>0.150174</td>\n",
              "      <td>0.059800</td>\n",
              "    </tr>\n",
              "    <tr>\n",
              "      <th>3</th>\n",
              "      <td>-287.923749</td>\n",
              "      <td>124.018757</td>\n",
              "      <td>5.469895</td>\n",
              "      <td>33.657407</td>\n",
              "      <td>1.095499</td>\n",
              "      <td>14.705334</td>\n",
              "      <td>-4.877008</td>\n",
              "      <td>8.670524</td>\n",
              "      <td>0.785406</td>\n",
              "      <td>6.579526</td>\n",
              "      <td>-4.874973</td>\n",
              "      <td>-3.178224</td>\n",
              "      <td>-5.536158</td>\n",
              "      <td>0.261065</td>\n",
              "      <td>0.226673</td>\n",
              "      <td>0.295843</td>\n",
              "      <td>0.396180</td>\n",
              "      <td>0.648138</td>\n",
              "      <td>0.569606</td>\n",
              "      <td>0.362394</td>\n",
              "      <td>0.349990</td>\n",
              "      <td>0.345085</td>\n",
              "      <td>0.351322</td>\n",
              "      <td>0.277726</td>\n",
              "      <td>0.321803</td>\n",
              "      <td>1352.659665</td>\n",
              "      <td>715.636143</td>\n",
              "      <td>0.043931</td>\n",
              "      <td>0.043540</td>\n",
              "      <td>161.0</td>\n",
              "      <td>0.065741</td>\n",
              "      <td>0.049999</td>\n",
              "    </tr>\n",
              "    <tr>\n",
              "      <th>4</th>\n",
              "      <td>-28.951168</td>\n",
              "      <td>104.517807</td>\n",
              "      <td>-30.971534</td>\n",
              "      <td>38.158451</td>\n",
              "      <td>-8.001604</td>\n",
              "      <td>30.886064</td>\n",
              "      <td>-20.604154</td>\n",
              "      <td>25.816149</td>\n",
              "      <td>-12.962704</td>\n",
              "      <td>16.937760</td>\n",
              "      <td>-12.270351</td>\n",
              "      <td>10.782378</td>\n",
              "      <td>-10.557270</td>\n",
              "      <td>0.556069</td>\n",
              "      <td>0.340421</td>\n",
              "      <td>0.353600</td>\n",
              "      <td>0.343823</td>\n",
              "      <td>0.397202</td>\n",
              "      <td>0.446034</td>\n",
              "      <td>0.370582</td>\n",
              "      <td>0.463883</td>\n",
              "      <td>0.344755</td>\n",
              "      <td>0.443572</td>\n",
              "      <td>0.403562</td>\n",
              "      <td>0.443157</td>\n",
              "      <td>2207.219165</td>\n",
              "      <td>429.253188</td>\n",
              "      <td>0.111534</td>\n",
              "      <td>0.033841</td>\n",
              "      <td>99.0</td>\n",
              "      <td>0.243229</td>\n",
              "      <td>0.071317</td>\n",
              "    </tr>\n",
              "    <tr>\n",
              "      <th>...</th>\n",
              "      <td>...</td>\n",
              "      <td>...</td>\n",
              "      <td>...</td>\n",
              "      <td>...</td>\n",
              "      <td>...</td>\n",
              "      <td>...</td>\n",
              "      <td>...</td>\n",
              "      <td>...</td>\n",
              "      <td>...</td>\n",
              "      <td>...</td>\n",
              "      <td>...</td>\n",
              "      <td>...</td>\n",
              "      <td>...</td>\n",
              "      <td>...</td>\n",
              "      <td>...</td>\n",
              "      <td>...</td>\n",
              "      <td>...</td>\n",
              "      <td>...</td>\n",
              "      <td>...</td>\n",
              "      <td>...</td>\n",
              "      <td>...</td>\n",
              "      <td>...</td>\n",
              "      <td>...</td>\n",
              "      <td>...</td>\n",
              "      <td>...</td>\n",
              "      <td>...</td>\n",
              "      <td>...</td>\n",
              "      <td>...</td>\n",
              "      <td>...</td>\n",
              "      <td>...</td>\n",
              "      <td>...</td>\n",
              "      <td>...</td>\n",
              "    </tr>\n",
              "    <tr>\n",
              "      <th>395</th>\n",
              "      <td>-175.551206</td>\n",
              "      <td>104.886211</td>\n",
              "      <td>-15.680852</td>\n",
              "      <td>27.523688</td>\n",
              "      <td>-8.108692</td>\n",
              "      <td>24.019667</td>\n",
              "      <td>-10.319920</td>\n",
              "      <td>18.858123</td>\n",
              "      <td>-8.376988</td>\n",
              "      <td>11.853948</td>\n",
              "      <td>-7.580990</td>\n",
              "      <td>12.563685</td>\n",
              "      <td>-6.032729</td>\n",
              "      <td>0.354526</td>\n",
              "      <td>0.486466</td>\n",
              "      <td>0.332730</td>\n",
              "      <td>0.290911</td>\n",
              "      <td>0.410499</td>\n",
              "      <td>0.368135</td>\n",
              "      <td>0.416004</td>\n",
              "      <td>0.379243</td>\n",
              "      <td>0.487312</td>\n",
              "      <td>0.560699</td>\n",
              "      <td>0.391195</td>\n",
              "      <td>0.345839</td>\n",
              "      <td>2009.585992</td>\n",
              "      <td>700.989588</td>\n",
              "      <td>0.084453</td>\n",
              "      <td>0.049176</td>\n",
              "      <td>123.0</td>\n",
              "      <td>0.101107</td>\n",
              "      <td>0.052273</td>\n",
              "    </tr>\n",
              "    <tr>\n",
              "      <th>396</th>\n",
              "      <td>-115.707166</td>\n",
              "      <td>67.075646</td>\n",
              "      <td>1.873526</td>\n",
              "      <td>29.089332</td>\n",
              "      <td>4.004096</td>\n",
              "      <td>12.039478</td>\n",
              "      <td>14.017005</td>\n",
              "      <td>14.940318</td>\n",
              "      <td>2.313585</td>\n",
              "      <td>17.086959</td>\n",
              "      <td>7.597496</td>\n",
              "      <td>4.998960</td>\n",
              "      <td>8.534348</td>\n",
              "      <td>0.573398</td>\n",
              "      <td>0.487837</td>\n",
              "      <td>0.423078</td>\n",
              "      <td>0.341222</td>\n",
              "      <td>0.322566</td>\n",
              "      <td>0.335901</td>\n",
              "      <td>0.415263</td>\n",
              "      <td>0.405728</td>\n",
              "      <td>0.468937</td>\n",
              "      <td>0.562404</td>\n",
              "      <td>0.623005</td>\n",
              "      <td>0.721326</td>\n",
              "      <td>2566.692787</td>\n",
              "      <td>990.476030</td>\n",
              "      <td>0.099382</td>\n",
              "      <td>0.075081</td>\n",
              "      <td>99.0</td>\n",
              "      <td>0.179540</td>\n",
              "      <td>0.100126</td>\n",
              "    </tr>\n",
              "    <tr>\n",
              "      <th>397</th>\n",
              "      <td>-140.290315</td>\n",
              "      <td>69.664493</td>\n",
              "      <td>-9.971291</td>\n",
              "      <td>52.164635</td>\n",
              "      <td>3.239513</td>\n",
              "      <td>4.563589</td>\n",
              "      <td>-3.490685</td>\n",
              "      <td>2.923248</td>\n",
              "      <td>-6.561514</td>\n",
              "      <td>-2.655435</td>\n",
              "      <td>-1.732663</td>\n",
              "      <td>-6.940783</td>\n",
              "      <td>-5.833224</td>\n",
              "      <td>0.409035</td>\n",
              "      <td>0.321338</td>\n",
              "      <td>0.371112</td>\n",
              "      <td>0.305291</td>\n",
              "      <td>0.317272</td>\n",
              "      <td>0.389195</td>\n",
              "      <td>0.349023</td>\n",
              "      <td>0.468910</td>\n",
              "      <td>0.348531</td>\n",
              "      <td>0.293978</td>\n",
              "      <td>0.245879</td>\n",
              "      <td>0.291303</td>\n",
              "      <td>2477.798653</td>\n",
              "      <td>788.799807</td>\n",
              "      <td>0.114943</td>\n",
              "      <td>0.070158</td>\n",
              "      <td>144.0</td>\n",
              "      <td>0.109299</td>\n",
              "      <td>0.046115</td>\n",
              "    </tr>\n",
              "    <tr>\n",
              "      <th>398</th>\n",
              "      <td>-177.520109</td>\n",
              "      <td>98.311107</td>\n",
              "      <td>14.755117</td>\n",
              "      <td>21.152811</td>\n",
              "      <td>14.985964</td>\n",
              "      <td>10.221002</td>\n",
              "      <td>4.956933</td>\n",
              "      <td>0.841016</td>\n",
              "      <td>4.855820</td>\n",
              "      <td>6.870387</td>\n",
              "      <td>3.544467</td>\n",
              "      <td>-0.351910</td>\n",
              "      <td>0.571039</td>\n",
              "      <td>0.364555</td>\n",
              "      <td>0.416571</td>\n",
              "      <td>0.545891</td>\n",
              "      <td>0.431478</td>\n",
              "      <td>0.293239</td>\n",
              "      <td>0.299904</td>\n",
              "      <td>0.331538</td>\n",
              "      <td>0.431921</td>\n",
              "      <td>0.295312</td>\n",
              "      <td>0.354472</td>\n",
              "      <td>0.383819</td>\n",
              "      <td>0.325849</td>\n",
              "      <td>2169.074985</td>\n",
              "      <td>1037.885894</td>\n",
              "      <td>0.078843</td>\n",
              "      <td>0.057193</td>\n",
              "      <td>96.0</td>\n",
              "      <td>0.103380</td>\n",
              "      <td>0.047975</td>\n",
              "    </tr>\n",
              "    <tr>\n",
              "      <th>399</th>\n",
              "      <td>-170.842777</td>\n",
              "      <td>107.722848</td>\n",
              "      <td>-1.758856</td>\n",
              "      <td>46.444073</td>\n",
              "      <td>-0.183571</td>\n",
              "      <td>24.942400</td>\n",
              "      <td>-10.660903</td>\n",
              "      <td>18.090780</td>\n",
              "      <td>-10.776378</td>\n",
              "      <td>11.157840</td>\n",
              "      <td>-7.251315</td>\n",
              "      <td>6.206228</td>\n",
              "      <td>-6.465581</td>\n",
              "      <td>0.415095</td>\n",
              "      <td>0.362281</td>\n",
              "      <td>0.417290</td>\n",
              "      <td>0.394711</td>\n",
              "      <td>0.441823</td>\n",
              "      <td>0.411737</td>\n",
              "      <td>0.317564</td>\n",
              "      <td>0.313227</td>\n",
              "      <td>0.333422</td>\n",
              "      <td>0.530053</td>\n",
              "      <td>0.421564</td>\n",
              "      <td>0.377205</td>\n",
              "      <td>1907.516241</td>\n",
              "      <td>867.963790</td>\n",
              "      <td>0.077404</td>\n",
              "      <td>0.058443</td>\n",
              "      <td>152.0</td>\n",
              "      <td>0.106431</td>\n",
              "      <td>0.051827</td>\n",
              "    </tr>\n",
              "  </tbody>\n",
              "</table>\n",
              "<p>400 rows × 32 columns</p>\n",
              "</div>"
            ],
            "text/plain": [
              "          mfcc1       mfcc2      mfcc3  ...  tempo1      rms1      rms2\n",
              "0   -182.573780   90.667559  14.124546  ...   123.0  0.102602  0.030764\n",
              "1   -206.264000  126.616617  10.599261  ...   103.0  0.141069  0.073300\n",
              "2   -180.188166  131.448948   0.590290  ...   144.0  0.150174  0.059800\n",
              "3   -287.923749  124.018757   5.469895  ...   161.0  0.065741  0.049999\n",
              "4    -28.951168  104.517807 -30.971534  ...    99.0  0.243229  0.071317\n",
              "..          ...         ...        ...  ...     ...       ...       ...\n",
              "395 -175.551206  104.886211 -15.680852  ...   123.0  0.101107  0.052273\n",
              "396 -115.707166   67.075646   1.873526  ...    99.0  0.179540  0.100126\n",
              "397 -140.290315   69.664493  -9.971291  ...   144.0  0.109299  0.046115\n",
              "398 -177.520109   98.311107  14.755117  ...    96.0  0.103380  0.047975\n",
              "399 -170.842777  107.722848  -1.758856  ...   152.0  0.106431  0.051827\n",
              "\n",
              "[400 rows x 32 columns]"
            ]
          },
          "metadata": {
            "tags": []
          },
          "execution_count": 8
        }
      ]
    },
    {
      "cell_type": "markdown",
      "metadata": {
        "id": "y3t1yJUPAPpp",
        "colab_type": "text"
      },
      "source": [
        " ## Visualize the feature"
      ]
    },
    {
      "cell_type": "markdown",
      "metadata": {
        "id": "HARLRoPMAUJ0",
        "colab_type": "text"
      },
      "source": [
        "**MFCC**\n",
        "\n"
      ]
    },
    {
      "cell_type": "code",
      "metadata": {
        "id": "7Q-ke-H17WZ-",
        "colab_type": "code",
        "outputId": "9a6977e2-f88a-4b1e-eb4d-d14b86eec913",
        "colab": {
          "base_uri": "https://localhost:8080/",
          "height": 1000
        }
      },
      "source": [
        "# store mfcc value for each genre\n",
        "#mfcc_dict = {'blues':,'metal','hiohop':,'reggae':}\n",
        "mfcc_dict = {\"blues\": [], \"metal\": [], \"hiphop\": [], \"reggae\": []}\n",
        "for each,i in zip(genre_analysis_list,range(0,4)):\n",
        "    mfcc =  mfcc_value[100 * i: 100 * (i+1)].T\n",
        "    figure = plt.figure(figsize=(16, 6))\n",
        "    plt.subplot(1,2,1)\n",
        "    plt.imshow(mfcc, origin='lower', aspect='auto')\n",
        "    plt.xlabel('Training samples')\n",
        "    plt.ylabel('MFCC coefficients')\n",
        "    plt.title('MFCC (coefficients 0 to 13) for class {}'.format(each))\n",
        "    plt.colorbar()\n",
        "    plt.tight_layout()\n",
        "\n",
        "    mfcc_upper = mfcc[5:]\n",
        "    plt.subplot(1,2,2)\n",
        "    plt.imshow(mfcc_upper, origin='lower', aspect='auto')\n",
        "    plt.title('MFCC (coefficients 5 to 13) for class {}'.format(each))\n",
        "    plt.xlabel('Training samples')\n",
        "    plt.ylabel('MFCC coefficients')\n",
        "    plt.colorbar()\n",
        "    plt.tight_layout()"
      ],
      "execution_count": 11,
      "outputs": [
        {
          "output_type": "display_data",
          "data": {
            "image/png": "[encoded data removed]",
            "text/plain": [
              "<Figure size 1152x432 with 4 Axes>"
            ]
          },
          "metadata": {
            "tags": [],
            "needs_background": "light"
          }
        },
        {
          "output_type": "display_data",
          "data": {
            "image/png": "[encoded data removed]",
            "text/plain": [
              "<Figure size 1152x432 with 4 Axes>"
            ]
          },
          "metadata": {
            "tags": [],
            "needs_background": "light"
          }
        },
        {
          "output_type": "display_data",
          "data": {
            "image/png": "[encoded data removed]",
            "text/plain": [
              "<Figure size 1152x432 with 4 Axes>"
            ]
          },
          "metadata": {
            "tags": [],
            "needs_background": "light"
          }
        },
        {
          "output_type": "display_data",
          "data": {
            "image/png": "[encoded data removed]",
            "text/plain": [
              "<Figure size 1152x432 with 4 Axes>"
            ]
          },
          "metadata": {
            "tags": [],
            "needs_background": "light"
          }
        }
      ]
    },
    {
      "cell_type": "markdown",
      "metadata": {
        "id": "8c3UIBKK5u8H",
        "colab_type": "text"
      },
      "source": [
        "Check **zero crossing rate**"
      ]
    },
    {
      "cell_type": "code",
      "metadata": {
        "id": "0k1fHexG6Udz",
        "colab_type": "code",
        "outputId": "a8557afe-5bcd-4079-c7e0-bc96ffb70862",
        "colab": {
          "base_uri": "https://localhost:8080/",
          "height": 265
        }
      },
      "source": [
        "x = features_value['zcr1']\n",
        "y = features_value['zcr2']\n",
        "# set colors\n",
        "color_to_genre = {'blues':'blue','metal':'grey','hiphop':'red','reggae':'green'}\n",
        "colors = []\n",
        "for each in genre_data['Genre']:\n",
        "    colors.append(color_to_genre[each])\n",
        "\n",
        "area = 10\n",
        "plt.scatter(x, y, s=area, c=colors, alpha=0.5)\n",
        "plt.grid(True)\n",
        "plt.show()"
      ],
      "execution_count": 0,
      "outputs": [
        {
          "output_type": "display_data",
          "data": {
            "image/png": "[encoded data removed]",
            "text/plain": [
              "<Figure size 432x288 with 1 Axes>"
            ]
          },
          "metadata": {
            "tags": [],
            "needs_background": "light"
          }
        }
      ]
    },
    {
      "cell_type": "markdown",
      "metadata": {
        "id": "p9lQZ4ri7iXQ",
        "colab_type": "text"
      },
      "source": [
        "Check **centroid**"
      ]
    },
    {
      "cell_type": "code",
      "metadata": {
        "id": "5sR0ILa67qhh",
        "colab_type": "code",
        "outputId": "b999207b-3b96-46d5-c8a1-8bc24f76a055",
        "colab": {
          "base_uri": "https://localhost:8080/",
          "height": 267
        }
      },
      "source": [
        "x = features_value['cent1']\n",
        "y = features_value['cent2']\n",
        "# set colors\n",
        "colors = []\n",
        "for each in genre_data['Genre']:\n",
        "    colors.append(color_to_genre[each])\n",
        "\n",
        "area = 10\n",
        "plt.scatter(x, y, s=area, c=colors, alpha=0.5)\n",
        "plt.grid(True)\n",
        "plt.show()"
      ],
      "execution_count": 0,
      "outputs": [
        {
          "output_type": "display_data",
          "data": {
            "image/png": "[encoded data removed]",
            "text/plain": [
              "<Figure size 432x288 with 1 Axes>"
            ]
          },
          "metadata": {
            "tags": [],
            "needs_background": "light"
          }
        }
      ]
    },
    {
      "cell_type": "markdown",
      "metadata": {
        "id": "SLMwGtgYmN5J",
        "colab_type": "text"
      },
      "source": [
        "**Check rms**"
      ]
    },
    {
      "cell_type": "code",
      "metadata": {
        "id": "x_BZcrlLmOXW",
        "colab_type": "code",
        "outputId": "1c895e4a-0d45-46ca-ea7b-e27837c55ca9",
        "colab": {
          "base_uri": "https://localhost:8080/",
          "height": 265
        }
      },
      "source": [
        "x = features_value['rms1']\n",
        "y = features_value['rms2']\n",
        "# set colors\n",
        "colors = []\n",
        "for each in genre_data['Genre']:\n",
        "    colors.append(color_to_genre[each])\n",
        "\n",
        "area = 10\n",
        "plt.scatter(x, y, s=area, c=colors, alpha=0.5)\n",
        "plt.grid(True)\n",
        "plt.show()"
      ],
      "execution_count": 0,
      "outputs": [
        {
          "output_type": "display_data",
          "data": {
            "image/png": "[encoded data removed]",
            "text/plain": [
              "<Figure size 432x288 with 1 Axes>"
            ]
          },
          "metadata": {
            "tags": [],
            "needs_background": "light"
          }
        }
      ]
    },
    {
      "cell_type": "markdown",
      "metadata": {
        "id": "wSSYxuLsqhv5",
        "colab_type": "text"
      },
      "source": [
        "\n",
        "## Data Spliting"
      ]
    },
    {
      "cell_type": "markdown",
      "metadata": {
        "id": "dDAYgLuqtGq4",
        "colab_type": "text"
      },
      "source": [
        "What's the benefit about data spliting,\n",
        "\n",
        "1. By dividing the data set according to a certain ratio, we can reasonably evaluate the performance of the learning algorithm in the face of unknown data.\n",
        "\n",
        "2. If the data used to evaluate the model is not independent of the sample, the evaluation result may be inaccurate. We also want this model can be applied in a wider range of situations.\n",
        "\n"
      ]
    },
    {
      "cell_type": "markdown",
      "metadata": {
        "id": "_R5429yU3OEk",
        "colab_type": "text"
      },
      "source": [
        "The simple way to do the data spliting is to use *sklearn.model_selection.train_test_split* to split to **Training set** and **Testing set**.\n"
      ]
    },
    {
      "cell_type": "code",
      "metadata": {
        "id": "7gpR50PytP4h",
        "colab_type": "code",
        "outputId": "a7a3420a-6fae-4f94-f7ca-1dcd3fd82968",
        "colab": {
          "base_uri": "https://localhost:8080/",
          "height": 66,
          "referenced_widgets": [
            "ea5593013d3340949feda7b3b56f43a5",
            "b0f96d3405114ee9aea702ef1dbc17de",
            "f9b5eafe2ff54034b3efb1ff7558f29d",
            "c6edf0c08af0455aae61834c9a697483",
            "6390d4efc51a4c439e880d337a0f9e1c",
            "02c24d1309de40cbb89eb714845e1dd7",
            "f8e5b9f0731f4aafb29aaefd0cdaca12",
            "1a1ba2a44d7b4b7bb23a4d76f83e9718"
          ]
        }
      },
      "source": [
        "# sklearn provides the function to split data\n",
        "#from sklearn.model_selection import train_test_split\n",
        "# get the features\n",
        "features = features_value\n",
        "\n",
        "# get only the labeled genre result\n",
        "result = genre_data['Genre']\n",
        "\n",
        "# Use sklearn.train_test_split to split 80 % for training and 20% for testing\n",
        "# the random seed is set to 22 here in order to see a fixed output based on this.\n",
        "for each in tqdm(genre_analysis_list):\n",
        "    X_train, X_test,y_train,y_test = train_test_split(\n",
        "        features, result,\n",
        "        test_size = 0.2,\n",
        "        random_state = 22, shuffle = True)"
      ],
      "execution_count": 0,
      "outputs": [
        {
          "output_type": "display_data",
          "data": {
            "application/vnd.jupyter.widget-view+json": {
              "model_id": "ea5593013d3340949feda7b3b56f43a5",
              "version_minor": 0,
              "version_major": 2
            },
            "text/plain": [
              "HBox(children=(IntProgress(value=0, max=4), HTML(value='')))"
            ]
          },
          "metadata": {
            "tags": []
          }
        },
        {
          "output_type": "stream",
          "text": [
            "\n"
          ],
          "name": "stdout"
        }
      ]
    },
    {
      "cell_type": "markdown",
      "metadata": {
        "id": "l_b1isGt3lYv",
        "colab_type": "text"
      },
      "source": [
        "Seconderly, another way to do the spliting, is to use **K-fold cross validating** method.\n",
        "\n",
        "The advantage of applying this method:\n",
        "\n",
        "1. we only have 400 audio piece in total, it's realatively a small amout of sample\n",
        "2. to make the future model more accurate\n",
        "\n",
        "\n",
        "**K-fold cross-validation** to do the selecting for the best parameter for the future model in order to increase the accuary dealing with unseen data.\n",
        "\n",
        "\n",
        "The workflow in this part should be like this,\n",
        "<div>\n",
        "<img src=\"https://scikit-learn.org/stable/_images/grid_search_workflow.png\" width=\"500\"/>\n",
        "</div>\n",
        "\n",
        "The general procedure for Cross-Validating is:\n",
        "\n",
        "1. Shuffle the dataset randomly.\n",
        "2. Split the dataset into k groups\n",
        "3. For each unique group:\n",
        "    - Take the group as a hold out or test data set\n",
        "    - Take the remaining groups as a training data set\n",
        "    - Fit a model on the training set and evaluate it on the test set\n",
        "    - Retain the evaluation score and discard the model\n",
        "    - Summarize the skill of the model using the sample of model evaluation scores\n",
        "\n",
        "**Reference**\n",
        "1. [Wiki](https://en.wikipedia.org/wiki/Cross-validation_(statistics))\n",
        "2. [sklearn](https://scikit-learn.org/stable/modules/generated/sklearn.model_selection.cross_validate.html)"
      ]
    },
    {
      "cell_type": "markdown",
      "metadata": {
        "id": "cRGlQyghYkq9",
        "colab_type": "text"
      },
      "source": [
        "## Observing the Training Set"
      ]
    },
    {
      "cell_type": "markdown",
      "metadata": {
        "id": "AbnimjWFYtCE",
        "colab_type": "text"
      },
      "source": [
        "We can visusalise the feature we want to use from the splited subset **X_train** and its genre label **y_train** .\n",
        "\n"
      ]
    },
    {
      "cell_type": "code",
      "metadata": {
        "id": "tGFkT-InkFqd",
        "colab_type": "code",
        "outputId": "b01dba52-25c5-44fb-924b-823bb17c4ec3",
        "colab": {
          "base_uri": "https://localhost:8080/",
          "height": 265
        }
      },
      "source": [
        "# test plot 1 using\n",
        "x = X_train['cent1']\n",
        "y = X_train['zcr1']\n",
        "color_to_genre = {'blues':'blue','metal':'grey','hiphop':'red','reggae':'green'}\n",
        "\n",
        "colors = []\n",
        "for each in y_train:\n",
        "    colors.append(color_to_genre[each])\n",
        "\n",
        "area = 10\n",
        "plt.scatter(x, y, s=area, c=colors, alpha=0.5)\n",
        "plt.grid(True)\n",
        "plt.show()"
      ],
      "execution_count": 0,
      "outputs": [
        {
          "output_type": "display_data",
          "data": {
            "image/png": "[encoded data removed]",
            "text/plain": [
              "<Figure size 432x288 with 1 Axes>"
            ]
          },
          "metadata": {
            "tags": [],
            "needs_background": "light"
          }
        }
      ]
    },
    {
      "cell_type": "code",
      "metadata": {
        "id": "SrGaosmSrd5t",
        "colab_type": "code",
        "outputId": "c894639b-e222-47ad-afe2-5c029db93347",
        "colab": {
          "base_uri": "https://localhost:8080/",
          "height": 265
        }
      },
      "source": [
        "# test plot 2 using\n",
        "x = X_train['mfcc1']\n",
        "y = X_train['cent1']\n",
        "color_to_genre = {'blues':'blue','metal':'grey','hiphop':'red','reggae':'green'}\n",
        "\n",
        "colors = []\n",
        "for each in y_train:\n",
        "    colors.append(color_to_genre[each])\n",
        "\n",
        "area = 10\n",
        "plt.scatter(x, y, s=area, c=colors, alpha=0.5)\n",
        "\n",
        "plt.grid(True)\n",
        "plt.show()"
      ],
      "execution_count": 0,
      "outputs": [
        {
          "output_type": "display_data",
          "data": {
            "image/png": "[encoded data removed]",
            "text/plain": [
              "<Figure size 432x288 with 1 Axes>"
            ]
          },
          "metadata": {
            "tags": [],
            "needs_background": "light"
          }
        }
      ]
    },
    {
      "cell_type": "markdown",
      "metadata": {
        "id": "1LlAg7ll8Lhj",
        "colab_type": "text"
      },
      "source": [
        "3d"
      ]
    },
    {
      "cell_type": "code",
      "metadata": {
        "id": "w_RV7I6p8L-x",
        "colab_type": "code",
        "outputId": "675660b1-f61a-4604-a4b9-55c3f62f9535",
        "colab": {
          "base_uri": "https://localhost:8080/",
          "height": 248
        }
      },
      "source": [
        "fig = plt.figure()\n",
        "#plt.rcParams['figure.figsize'] = (20.0, 10.0)\n",
        "\n",
        "ax = fig.add_subplot(111, projection='3d')\n",
        "\n",
        "m = 'o'\n",
        "xs = X_train['cent1']\n",
        "ys = X_train['zcr1']\n",
        "zs = X_train['tempo1']\n",
        "ax.scatter(xs, ys, zs, marker=m,color = colors)\n",
        "\n",
        "ax.set_xlabel('X Label')\n",
        "ax.set_ylabel('Y Label')\n",
        "ax.set_zlabel('Z Label')\n",
        "\n",
        "\n",
        "plt.show()\n"
      ],
      "execution_count": 0,
      "outputs": [
        {
          "output_type": "display_data",
          "data": {
            "image/png": "[encoded data removed]",
            "text/plain": [
              "<Figure size 432x288 with 1 Axes>"
            ]
          },
          "metadata": {
            "tags": [],
            "needs_background": "light"
          }
        }
      ]
    },
    {
      "cell_type": "markdown",
      "metadata": {
        "id": "JoSgWvefYfAQ",
        "colab_type": "text"
      },
      "source": [
        "## Modelling"
      ]
    },
    {
      "cell_type": "markdown",
      "metadata": {
        "id": "ZvVHHhDa6sxG",
        "colab_type": "text"
      },
      "source": [
        "As for classifier, we can try different approaches, \n",
        "\n",
        "as **K Neighbour Classfier**, **Support Vector Classifier** or others.\n",
        "\n",
        "We can test each model with the already splited dataset and try to find the best parameters to see the best result they could have."
      ]
    },
    {
      "cell_type": "markdown",
      "metadata": {
        "id": "o7bEmc7UPqni",
        "colab_type": "text"
      },
      "source": [
        "### 0. KNN"
      ]
    },
    {
      "cell_type": "markdown",
      "metadata": {
        "id": "uBdy05siwszs",
        "colab_type": "text"
      },
      "source": [
        "The parameters for KNN Classifier are **searching algorithm**, **n_neighbors**, **weights** and **p** (the way to calculate distance)\n",
        "\n",
        "Here is a simple test example using the dataset we have.\n",
        "\n",
        "**Simple test... with random parameters**"
      ]
    },
    {
      "cell_type": "code",
      "metadata": {
        "id": "qH_klroVP0x1",
        "colab_type": "code",
        "outputId": "78fee9b8-570b-4f10-a17d-fcbaf8f1b53b",
        "colab": {
          "base_uri": "https://localhost:8080/",
          "height": 34
        }
      },
      "source": [
        "kClassifier = neighbors.KNeighborsClassifier(n_neighbors=15,weights = 'distance')\n",
        "kClassifier.fit(X_train,y_train)\n",
        "\n",
        "predictedTestLabels = kClassifier.predict(X_test)\n",
        "  \n",
        "print(kClassifier.score(X_test,y_test))"
      ],
      "execution_count": 0,
      "outputs": [
        {
          "output_type": "stream",
          "text": [
            "0.7125\n"
          ],
          "name": "stdout"
        }
      ]
    },
    {
      "cell_type": "markdown",
      "metadata": {
        "id": "oz41s_2h_r5F",
        "colab_type": "text"
      },
      "source": [
        "Now we can try to find a better k and weight to get higher score.\n",
        "\n",
        "\n",
        "For the **algorithm**, we can just choose **'auto'**, since this method would choose the fatest method from the other three, 'brute', 'kd_tree', 'ball_tree'.\n",
        "\n",
        "But for k and p, we will just enumerate all the combinations of different parameter set to check which has the highest score. \n",
        "\n",
        "(Is this called Grid Search to get the best parameter set?)"
      ]
    },
    {
      "cell_type": "markdown",
      "metadata": {
        "id": "UlolIGsJCtUG",
        "colab_type": "text"
      },
      "source": [
        "We can search for a better **k** with **p**\n",
        "\n"
      ]
    },
    {
      "cell_type": "code",
      "metadata": {
        "id": "Hy-n4kBwCsxm",
        "colab_type": "code",
        "outputId": "f66d872c-dd2d-422a-a9d7-94f9b33eb99a",
        "colab": {
          "base_uri": "https://localhost:8080/",
          "height": 68
        }
      },
      "source": [
        "%%time\n",
        "best_p = -1\n",
        "best_score = 0.0\n",
        "best_k = -1\n",
        "for k in range(1, 11):\n",
        "    for p in range(1, 6):\n",
        "        knn_clf = neighbors.KNeighborsClassifier(n_neighbors = k, weights = \"distance\", p = p)\n",
        "        knn_clf.fit(X_train, y_train)\n",
        "        knn_score = knn_clf.score(X_test, y_test)\n",
        "        if knn_score > best_score:\n",
        "            best_score = knn_score\n",
        "            best_k = k\n",
        "            best_p = p\n",
        "\n",
        "print(\"best_p = \", best_p, \", the best_k = \", best_k,\", and best_score = \", best_score)\n"
      ],
      "execution_count": 0,
      "outputs": [
        {
          "output_type": "stream",
          "text": [
            "best_p =  1 , the best_k =  7 , and best_score =  0.725\n",
            "CPU times: user 565 ms, sys: 1.41 ms, total: 566 ms\n",
            "Wall time: 565 ms\n"
          ],
          "name": "stdout"
        }
      ]
    },
    {
      "cell_type": "markdown",
      "metadata": {
        "id": "wBvyvqqZ7kow",
        "colab_type": "text"
      },
      "source": [
        "So we can use the best parameter for training"
      ]
    },
    {
      "cell_type": "code",
      "metadata": {
        "id": "W0Gu0VqHnW90",
        "colab_type": "code",
        "outputId": "00ffd4d4-1e93-47dd-f531-81f0a30c7340",
        "colab": {
          "base_uri": "https://localhost:8080/",
          "height": 34
        }
      },
      "source": [
        "kClassifier = neighbors.KNeighborsClassifier(n_neighbors=7, weights = 'distance',p =1)\n",
        "kClassifier.fit(X_train,y_train)\n",
        "\n",
        "predictedTestLabels = kClassifier.predict(X_test)\n",
        "  \n",
        "print(kClassifier.score(X_test,y_test))"
      ],
      "execution_count": 0,
      "outputs": [
        {
          "output_type": "stream",
          "text": [
            "0.725\n"
          ],
          "name": "stdout"
        }
      ]
    },
    {
      "cell_type": "markdown",
      "metadata": {
        "id": "gYpqEc3KHEwp",
        "colab_type": "text"
      },
      "source": [
        "**Confusion Matrix**\n",
        "\n",
        "So up to now, the best parameter for current KNN model should use **k = ?, p =? **.\n",
        "\n",
        "(With different testing data, different result of parameters)\n",
        "\n",
        "We can get the percentage of the accuracy for the prediction result,then together with the genre label of the testdata we can plot the **Confusion Matrix** as followed.\n",
        "\n",
        "Each **row** in the matrix is the real genre, while each **column** is the predicted genre category classified by the model we build.\n",
        "\n",
        "From the result of this Confusion Matrix, we can clearly see that the only music genre that has been difficult for our KNN model to classify is the \"Regea\". The result shows that the accuracy rate is only 0.48. And 0.43 has been put in the wrong genre a \"metal\"."
      ]
    },
    {
      "cell_type": "code",
      "metadata": {
        "id": "mi9XUnPvjbdn",
        "colab_type": "code",
        "outputId": "4505be94-491b-4e27-d304-08894bab95fd",
        "colab": {
          "base_uri": "https://localhost:8080/",
          "height": 380
        }
      },
      "source": [
        "#from sklearn.metrics import plot_confusion_matrix\n",
        "# plot confusion matrix\n",
        "title = \"Normalized confusion matrix\"\n",
        "disp = plot_confusion_matrix(kClassifier,X_test, y_test,\n",
        "                                 display_labels=genre_analysis_list, # genre names list\n",
        "                                 cmap=plt.cm.Blues,\n",
        "                                 normalize='true')\n",
        "disp.ax_.set_title(title)\n",
        "\n",
        "print()\n",
        "print(disp.confusion_matrix)\n",
        "\n",
        "plt.show()"
      ],
      "execution_count": 0,
      "outputs": [
        {
          "output_type": "stream",
          "text": [
            "\n",
            "[[0.7        0.1        0.15       0.05      ]\n",
            " [0.04545455 0.54545455 0.18181818 0.22727273]\n",
            " [0.05882353 0.05882353 0.88235294 0.        ]\n",
            " [0.14285714 0.04761905 0.         0.80952381]]\n"
          ],
          "name": "stdout"
        },
        {
          "output_type": "display_data",
          "data": {
            "image/png": "[encoded data removed]",
            "text/plain": [
              "<Figure size 432x288 with 2 Axes>"
            ]
          },
          "metadata": {
            "tags": [],
            "needs_background": "light"
          }
        }
      ]
    },
    {
      "cell_type": "markdown",
      "metadata": {
        "id": "jR2A2XhFrE3M",
        "colab_type": "text"
      },
      "source": [
        "### Decision Tree\n"
      ]
    },
    {
      "cell_type": "code",
      "metadata": {
        "id": "ilt25lbrrKfG",
        "colab_type": "code",
        "outputId": "1c7ff73a-5990-4a09-9541-3e2a138a2009",
        "colab": {
          "base_uri": "https://localhost:8080/",
          "height": 265
        }
      },
      "source": [
        "from sklearn import tree\n",
        "\n",
        "tree_classifier = tree.DecisionTreeClassifier()\n",
        "tree_classifier = tree_classifier.fit(X_train,y_train)\n",
        "tree_classifier.predict(X_test)\n",
        "tree.plot_tree(tree_classifier)\n",
        "\n",
        "scores = cross_val_score(tree_classifier, features, result, cv=10)\n",
        "print(scores,'avg_score: ',np.mean(scores))\n",
        "# can see clearly the plot"
      ],
      "execution_count": 0,
      "outputs": [
        {
          "output_type": "stream",
          "text": [
            "[0.8   0.8   0.725 0.525 0.725 0.675 0.625 0.75  0.525 0.75 ] avg_score:  0.6900000000000001\n"
          ],
          "name": "stdout"
        },
        {
          "output_type": "display_data",
          "data": {
            "image/png": "[encoded data removed]",
            "text/plain": [
              "<Figure size 432x288 with 1 Axes>"
            ]
          },
          "metadata": {
            "tags": [],
            "needs_background": "light"
          }
        }
      ]
    },
    {
      "cell_type": "code",
      "metadata": {
        "id": "N_XvCJyhwPFg",
        "colab_type": "code",
        "colab": {}
      },
      "source": [
        "# I don't know how to turn this model.\n",
        "# need to check https://scikit-learn.org/stable/modules/tree.html#classification\n",
        "tuned_parameters = [{'criterion': ['rbf'], 'splitter': [1e-3, 1e-4],\n",
        "                     'max_depth': [1, 10, 100, 1000]}\n",
        "\n",
        "for score in scores:\n",
        "    print(\"# Tuning hyper-parameters for %s\" % score)\n",
        "    print()\n",
        "\n",
        "    tre = GridSearchCV(\n",
        "        tree_classifier, tuned_parameters, scoring='%s_macro' % score\n",
        "    )\n",
        "    tre.fit(X_train, y_train)"
      ],
      "execution_count": 0,
      "outputs": []
    },
    {
      "cell_type": "markdown",
      "metadata": {
        "id": "j7pIp54HKp1O",
        "colab_type": "text"
      },
      "source": [
        "### 1. SVC: Support Vector Classifier\n",
        "\n",
        "using sklearn [SVM](https://scikit-learn.org/stable/modules/svm.html#classification)\n",
        "\n",
        "In this part, we can use the simplest svm to get get prediction of the music genre using test data."
      ]
    },
    {
      "cell_type": "code",
      "metadata": {
        "id": "3smDhj-0a8Wb",
        "colab_type": "code",
        "outputId": "d1ea38c4-5bea-497a-e549-aa25d5fe3b84",
        "colab": {
          "base_uri": "https://localhost:8080/",
          "height": 34
        }
      },
      "source": [
        "from sklearn import svm\n",
        "from sklearn.model_selection import cross_val_score\n",
        "\n",
        "X = X_train #feature training data\n",
        "Y = y_train # genre\n",
        "clf = svm.SVC(decision_function_shape='ovo')\n",
        "\n",
        "# the predicted result\n",
        "clf.fit(X, Y)\n",
        "#print(clf.predict(X_test))\n",
        "# check the score of the predicted result\n",
        "scores = cross_val_score(clf,features,result, cv=5)\n",
        "np.mean(scores)\n"
      ],
      "execution_count": 0,
      "outputs": [
        {
          "output_type": "execute_result",
          "data": {
            "text/plain": [
              "0.5974999999999999"
            ]
          },
          "metadata": {
            "tags": []
          },
          "execution_count": 27
        }
      ]
    },
    {
      "cell_type": "markdown",
      "metadata": {
        "id": "3LrDxaDKz9Rr",
        "colab_type": "text"
      },
      "source": [
        "Plot the prediction result and the difference between the test result.\n"
      ]
    },
    {
      "cell_type": "markdown",
      "metadata": {
        "id": "7tbfBRthXq9L",
        "colab_type": "text"
      },
      "source": [
        "**Get the best parameters**\n",
        "\n",
        "Slow..."
      ]
    },
    {
      "cell_type": "code",
      "metadata": {
        "id": "OPi2S6euXro5",
        "colab_type": "code",
        "outputId": "215cd19f-6c92-42ac-bdfe-c5d068821bd0",
        "colab": {
          "base_uri": "https://localhost:8080/",
          "height": 1000,
          "referenced_widgets": [
            "ed4a19eb70fe47bbb0f62eda65a22981",
            "891601f623f545e2a4ef0259e1431855",
            "b480471a2d724429b82f010873106b81",
            "7f642529816d41d8b875b90121fc5786",
            "b5780ee170674365bc206001865844be",
            "7602398b9a1c4b44bb5d6f87f3ee0aa3",
            "1a932d6e818240f999637939ea0052a2",
            "8569b472d4334040809797884d435e7a"
          ]
        }
      },
      "source": [
        "\n",
        "tuned_parameters = [{'kernel': ['rbf'], 'gamma': [1e-3, 1e-4],\n",
        "                     'C': [1, 10, 100, 1000]},\n",
        "                    {'kernel': ['linear'], 'C': [1, 10, 100, 1000]}]\n",
        "\n",
        "scores = ['precision', 'recall']\n",
        "print(\"Still searching....please wait...\")\n",
        "for score in tqdm(scores):\n",
        "    print(\"# Tuning hyper-parameters for %s\" % score)\n",
        "    print()\n",
        "    # use Parallelism\n",
        "    # https://scikit-learn.org/stable/modules/generated/sklearn.model_selection.GridSearchCV.html\n",
        "    clf = GridSearchCV(\n",
        "        svm.SVC(), tuned_parameters, scoring='%s_macro' % score, n_jobs = -1)\n",
        "    clf.fit(X_train, y_train)\n",
        "\n",
        "    print(\"Best parameters set found on development set:\")\n",
        "    print()\n",
        "    print(clf.best_params_)\n",
        "    print()\n",
        "    print(\"Grid scores on development set:\")\n",
        "    print()\n",
        "    means = clf.cv_results_['mean_test_score']\n",
        "    stds = clf.cv_results_['std_test_score']\n",
        "    for mean, std, params in zip(means, stds, clf.cv_results_['params']):\n",
        "        print(\"%0.3f (+/-%0.03f) for %r\"\n",
        "              % (mean, std * 2, params))\n",
        "    print()\n",
        "\n",
        "    print(\"Detailed classification report:\")\n",
        "    print()\n",
        "    print(\"The model is trained on the full development set.\")\n",
        "    print(\"The scores are computed on the full evaluation set.\")\n",
        "    print()\n",
        "    y_true, y_pred = y_test, clf.predict(X_test)\n",
        "    print(classification_report(y_true, y_pred))\n",
        "    print()"
      ],
      "execution_count": 0,
      "outputs": [
        {
          "output_type": "stream",
          "text": [
            "Still searching....please wait...\n"
          ],
          "name": "stdout"
        },
        {
          "output_type": "display_data",
          "data": {
            "application/vnd.jupyter.widget-view+json": {
              "model_id": "ed4a19eb70fe47bbb0f62eda65a22981",
              "version_minor": 0,
              "version_major": 2
            },
            "text/plain": [
              "HBox(children=(IntProgress(value=0, max=2), HTML(value='')))"
            ]
          },
          "metadata": {
            "tags": []
          }
        },
        {
          "output_type": "stream",
          "text": [
            "# Tuning hyper-parameters for precision\n",
            "\n",
            "Best parameters set found on development set:\n",
            "\n",
            "{'C': 1, 'kernel': 'linear'}\n",
            "\n",
            "Grid scores on development set:\n",
            "\n",
            "0.553 (+/-0.207) for {'C': 1, 'gamma': 0.001, 'kernel': 'rbf'}\n",
            "0.619 (+/-0.134) for {'C': 1, 'gamma': 0.0001, 'kernel': 'rbf'}\n",
            "0.619 (+/-0.146) for {'C': 10, 'gamma': 0.001, 'kernel': 'rbf'}\n",
            "0.606 (+/-0.105) for {'C': 10, 'gamma': 0.0001, 'kernel': 'rbf'}\n",
            "0.619 (+/-0.146) for {'C': 100, 'gamma': 0.001, 'kernel': 'rbf'}\n",
            "0.599 (+/-0.108) for {'C': 100, 'gamma': 0.0001, 'kernel': 'rbf'}\n",
            "0.619 (+/-0.146) for {'C': 1000, 'gamma': 0.001, 'kernel': 'rbf'}\n",
            "0.599 (+/-0.108) for {'C': 1000, 'gamma': 0.0001, 'kernel': 'rbf'}\n",
            "0.731 (+/-0.081) for {'C': 1, 'kernel': 'linear'}\n",
            "0.705 (+/-0.092) for {'C': 10, 'kernel': 'linear'}\n",
            "0.690 (+/-0.105) for {'C': 100, 'kernel': 'linear'}\n",
            "0.696 (+/-0.077) for {'C': 1000, 'kernel': 'linear'}\n",
            "\n",
            "Detailed classification report:\n",
            "\n",
            "The model is trained on the full development set.\n",
            "The scores are computed on the full evaluation set.\n",
            "\n",
            "              precision    recall  f1-score   support\n",
            "\n",
            "       blues       0.70      0.80      0.74        20\n",
            "      hiphop       0.65      0.59      0.62        22\n",
            "       metal       0.88      0.88      0.88        17\n",
            "      reggae       0.60      0.57      0.59        21\n",
            "\n",
            "    accuracy                           0.70        80\n",
            "   macro avg       0.71      0.71      0.71        80\n",
            "weighted avg       0.70      0.70      0.70        80\n",
            "\n",
            "\n",
            "# Tuning hyper-parameters for recall\n",
            "\n",
            "Best parameters set found on development set:\n",
            "\n",
            "{'C': 1, 'kernel': 'linear'}\n",
            "\n",
            "Grid scores on development set:\n",
            "\n",
            "0.380 (+/-0.164) for {'C': 1, 'gamma': 0.001, 'kernel': 'rbf'}\n",
            "0.602 (+/-0.130) for {'C': 1, 'gamma': 0.0001, 'kernel': 'rbf'}\n",
            "0.402 (+/-0.164) for {'C': 10, 'gamma': 0.001, 'kernel': 'rbf'}\n",
            "0.604 (+/-0.109) for {'C': 10, 'gamma': 0.0001, 'kernel': 'rbf'}\n",
            "0.402 (+/-0.164) for {'C': 100, 'gamma': 0.001, 'kernel': 'rbf'}\n",
            "0.595 (+/-0.111) for {'C': 100, 'gamma': 0.0001, 'kernel': 'rbf'}\n",
            "0.402 (+/-0.164) for {'C': 1000, 'gamma': 0.001, 'kernel': 'rbf'}\n",
            "0.595 (+/-0.111) for {'C': 1000, 'gamma': 0.0001, 'kernel': 'rbf'}\n",
            "0.721 (+/-0.084) for {'C': 1, 'kernel': 'linear'}\n",
            "0.698 (+/-0.089) for {'C': 10, 'kernel': 'linear'}\n",
            "0.686 (+/-0.096) for {'C': 100, 'kernel': 'linear'}\n",
            "0.689 (+/-0.074) for {'C': 1000, 'kernel': 'linear'}\n",
            "\n",
            "Detailed classification report:\n",
            "\n",
            "The model is trained on the full development set.\n",
            "The scores are computed on the full evaluation set.\n",
            "\n",
            "              precision    recall  f1-score   support\n",
            "\n",
            "       blues       0.70      0.80      0.74        20\n",
            "      hiphop       0.65      0.59      0.62        22\n",
            "       metal       0.88      0.88      0.88        17\n",
            "      reggae       0.60      0.57      0.59        21\n",
            "\n",
            "    accuracy                           0.70        80\n",
            "   macro avg       0.71      0.71      0.71        80\n",
            "weighted avg       0.70      0.70      0.70        80\n",
            "\n",
            "\n",
            "\n"
          ],
          "name": "stdout"
        }
      ]
    },
    {
      "cell_type": "markdown",
      "metadata": {
        "id": "4UQ7zfVmDEoK",
        "colab_type": "text"
      },
      "source": [
        "Then, we can see the best parameter set\n",
        "{'C': 1, 'gamma': 0.0001, 'kernel': 'linear'}"
      ]
    },
    {
      "cell_type": "code",
      "metadata": {
        "id": "V09EekGbz9qk",
        "colab_type": "code",
        "outputId": "9a6a27bb-64b4-4f30-c454-5b819991cfed",
        "colab": {
          "base_uri": "https://localhost:8080/",
          "height": 380
        }
      },
      "source": [
        "from sklearn.metrics import plot_confusion_matrix\n",
        "# plot confusion matrix\n",
        "title = \"Normalized confusion matrix\"\n",
        "clf = svm.SVC(C=1.0,kernel ='linear')\n",
        "clf.fit(X, Y)\n",
        "disp = plot_confusion_matrix(clf,X_test, y_test,\n",
        "                                 display_labels=genre_analysis_list, # genre names list\n",
        "                                 cmap=plt.cm.Blues,\n",
        "                                 normalize='true')\n",
        "disp.ax_.set_title(title)\n",
        "\n",
        "print()\n",
        "print(disp.confusion_matrix)\n",
        "\n",
        "plt.show()"
      ],
      "execution_count": 0,
      "outputs": [
        {
          "output_type": "stream",
          "text": [
            "\n",
            "[[0.8        0.1        0.         0.1       ]\n",
            " [0.04545455 0.59090909 0.09090909 0.27272727]\n",
            " [0.05882353 0.05882353 0.88235294 0.        ]\n",
            " [0.23809524 0.19047619 0.         0.57142857]]\n"
          ],
          "name": "stdout"
        },
        {
          "output_type": "display_data",
          "data": {
            "image/png": "[encoded data removed]",
            "text/plain": [
              "<Figure size 432x288 with 2 Axes>"
            ]
          },
          "metadata": {
            "tags": [],
            "needs_background": "light"
          }
        }
      ]
    },
    {
      "cell_type": "markdown",
      "metadata": {
        "id": "wSWPLIU3YMvF",
        "colab_type": "text"
      },
      "source": [
        "Need to check \n",
        "\n",
        "https://scikit-learn.org/stable/auto_examples/model_selection/plot_grid_search_digits.html#sphx-glr-auto-examples-model-selection-plot-grid-search-digits-py\n"
      ]
    },
    {
      "cell_type": "markdown",
      "metadata": {
        "id": "Pn-mdN1UY3ZD",
        "colab_type": "text"
      },
      "source": [
        "## Cross Validation\n"
      ]
    },
    {
      "cell_type": "code",
      "metadata": {
        "id": "FtWp04QJRn-0",
        "colab_type": "code",
        "outputId": "06cb3ecd-cf14-4dd0-bb6d-0c04760c6df2",
        "colab": {
          "base_uri": "https://localhost:8080/",
          "height": 395
        }
      },
      "source": [
        "%%time\n",
        "best_p = -1\n",
        "best_score = 0.0\n",
        "best_k = -1\n",
        "for k in range(1, 11):\n",
        "    for p in range(1, 6):\n",
        "        knn_clf = neighbors.KNeighborsClassifier(n_neighbors = k, weights = \"distance\", p = p)\n",
        "        knn_clf.fit(X_train, y_train)\n",
        "\n",
        "        knn_score = knn_clf.cross_val_score(features, result)\n",
        "        if knn_score > best_score:\n",
        "            best_score = knn_score\n",
        "            best_k = k\n",
        "            best_p = p\n",
        "\n",
        "print(\"best_p = \", best_p, \", the best_k = \", best_k,\", and best_score = \", best_score)\n"
      ],
      "execution_count": 0,
      "outputs": [
        {
          "output_type": "error",
          "ename": "NameError",
          "evalue": "ignored",
          "traceback": [
            "\u001b[0;31m---------------------------------------------------------------------------\u001b[0m",
            "\u001b[0;31mNameError\u001b[0m                                 Traceback (most recent call last)",
            "\u001b[0;32m<ipython-input-1-71d701c50ad4>\u001b[0m in \u001b[0;36m<module>\u001b[0;34m()\u001b[0m\n\u001b[0;32m----> 1\u001b[0;31m \u001b[0mget_ipython\u001b[0m\u001b[0;34m(\u001b[0m\u001b[0;34m)\u001b[0m\u001b[0;34m.\u001b[0m\u001b[0mrun_cell_magic\u001b[0m\u001b[0;34m(\u001b[0m\u001b[0;34m'time'\u001b[0m\u001b[0;34m,\u001b[0m \u001b[0;34m''\u001b[0m\u001b[0;34m,\u001b[0m \u001b[0;34m'best_p = -1\\nbest_score = 0.0\\nbest_k = -1\\nfor k in range(1, 11):\\n    for p in range(1, 6):\\n        knn_clf = neighbors.KNeighborsClassifier(n_neighbors = k, weights = \"distance\", p = p)\\n        knn_clf.fit(X_train, y_train)\\n\\n        knn_score = knn_clf.cross_val_score(features, result)\\n        if knn_score > best_score:\\n            best_score = knn_score\\n            best_k = k\\n            best_p = p\\n\\nprint(\"best_p = \", best_p, \", the best_k = \", best_k,\", and best_score = \", best_score)'\u001b[0m\u001b[0;34m)\u001b[0m\u001b[0;34m\u001b[0m\u001b[0;34m\u001b[0m\u001b[0m\n\u001b[0m",
            "\u001b[0;32m/usr/local/lib/python3.6/dist-packages/IPython/core/interactiveshell.py\u001b[0m in \u001b[0;36mrun_cell_magic\u001b[0;34m(self, magic_name, line, cell)\u001b[0m\n\u001b[1;32m   2115\u001b[0m             \u001b[0mmagic_arg_s\u001b[0m \u001b[0;34m=\u001b[0m \u001b[0mself\u001b[0m\u001b[0;34m.\u001b[0m\u001b[0mvar_expand\u001b[0m\u001b[0;34m(\u001b[0m\u001b[0mline\u001b[0m\u001b[0;34m,\u001b[0m \u001b[0mstack_depth\u001b[0m\u001b[0;34m)\u001b[0m\u001b[0;34m\u001b[0m\u001b[0;34m\u001b[0m\u001b[0m\n\u001b[1;32m   2116\u001b[0m             \u001b[0;32mwith\u001b[0m \u001b[0mself\u001b[0m\u001b[0;34m.\u001b[0m\u001b[0mbuiltin_trap\u001b[0m\u001b[0;34m:\u001b[0m\u001b[0;34m\u001b[0m\u001b[0;34m\u001b[0m\u001b[0m\n\u001b[0;32m-> 2117\u001b[0;31m                 \u001b[0mresult\u001b[0m \u001b[0;34m=\u001b[0m \u001b[0mfn\u001b[0m\u001b[0;34m(\u001b[0m\u001b[0mmagic_arg_s\u001b[0m\u001b[0;34m,\u001b[0m \u001b[0mcell\u001b[0m\u001b[0;34m)\u001b[0m\u001b[0;34m\u001b[0m\u001b[0;34m\u001b[0m\u001b[0m\n\u001b[0m\u001b[1;32m   2118\u001b[0m             \u001b[0;32mreturn\u001b[0m \u001b[0mresult\u001b[0m\u001b[0;34m\u001b[0m\u001b[0;34m\u001b[0m\u001b[0m\n\u001b[1;32m   2119\u001b[0m \u001b[0;34m\u001b[0m\u001b[0m\n",
            "\u001b[0;32m<decorator-gen-60>\u001b[0m in \u001b[0;36mtime\u001b[0;34m(self, line, cell, local_ns)\u001b[0m\n",
            "\u001b[0;32m/usr/local/lib/python3.6/dist-packages/IPython/core/magic.py\u001b[0m in \u001b[0;36m<lambda>\u001b[0;34m(f, *a, **k)\u001b[0m\n\u001b[1;32m    186\u001b[0m     \u001b[0;31m# but it's overkill for just that one bit of state.\u001b[0m\u001b[0;34m\u001b[0m\u001b[0;34m\u001b[0m\u001b[0;34m\u001b[0m\u001b[0m\n\u001b[1;32m    187\u001b[0m     \u001b[0;32mdef\u001b[0m \u001b[0mmagic_deco\u001b[0m\u001b[0;34m(\u001b[0m\u001b[0marg\u001b[0m\u001b[0;34m)\u001b[0m\u001b[0;34m:\u001b[0m\u001b[0;34m\u001b[0m\u001b[0;34m\u001b[0m\u001b[0m\n\u001b[0;32m--> 188\u001b[0;31m         \u001b[0mcall\u001b[0m \u001b[0;34m=\u001b[0m \u001b[0;32mlambda\u001b[0m \u001b[0mf\u001b[0m\u001b[0;34m,\u001b[0m \u001b[0;34m*\u001b[0m\u001b[0ma\u001b[0m\u001b[0;34m,\u001b[0m \u001b[0;34m**\u001b[0m\u001b[0mk\u001b[0m\u001b[0;34m:\u001b[0m \u001b[0mf\u001b[0m\u001b[0;34m(\u001b[0m\u001b[0;34m*\u001b[0m\u001b[0ma\u001b[0m\u001b[0;34m,\u001b[0m \u001b[0;34m**\u001b[0m\u001b[0mk\u001b[0m\u001b[0;34m)\u001b[0m\u001b[0;34m\u001b[0m\u001b[0;34m\u001b[0m\u001b[0m\n\u001b[0m\u001b[1;32m    189\u001b[0m \u001b[0;34m\u001b[0m\u001b[0m\n\u001b[1;32m    190\u001b[0m         \u001b[0;32mif\u001b[0m \u001b[0mcallable\u001b[0m\u001b[0;34m(\u001b[0m\u001b[0marg\u001b[0m\u001b[0;34m)\u001b[0m\u001b[0;34m:\u001b[0m\u001b[0;34m\u001b[0m\u001b[0;34m\u001b[0m\u001b[0m\n",
            "\u001b[0;32m/usr/local/lib/python3.6/dist-packages/IPython/core/magics/execution.py\u001b[0m in \u001b[0;36mtime\u001b[0;34m(self, line, cell, local_ns)\u001b[0m\n\u001b[1;32m   1191\u001b[0m         \u001b[0;32melse\u001b[0m\u001b[0;34m:\u001b[0m\u001b[0;34m\u001b[0m\u001b[0;34m\u001b[0m\u001b[0m\n\u001b[1;32m   1192\u001b[0m             \u001b[0mst\u001b[0m \u001b[0;34m=\u001b[0m \u001b[0mclock2\u001b[0m\u001b[0;34m(\u001b[0m\u001b[0;34m)\u001b[0m\u001b[0;34m\u001b[0m\u001b[0;34m\u001b[0m\u001b[0m\n\u001b[0;32m-> 1193\u001b[0;31m             \u001b[0mexec\u001b[0m\u001b[0;34m(\u001b[0m\u001b[0mcode\u001b[0m\u001b[0;34m,\u001b[0m \u001b[0mglob\u001b[0m\u001b[0;34m,\u001b[0m \u001b[0mlocal_ns\u001b[0m\u001b[0;34m)\u001b[0m\u001b[0;34m\u001b[0m\u001b[0;34m\u001b[0m\u001b[0m\n\u001b[0m\u001b[1;32m   1194\u001b[0m             \u001b[0mend\u001b[0m \u001b[0;34m=\u001b[0m \u001b[0mclock2\u001b[0m\u001b[0;34m(\u001b[0m\u001b[0;34m)\u001b[0m\u001b[0;34m\u001b[0m\u001b[0;34m\u001b[0m\u001b[0m\n\u001b[1;32m   1195\u001b[0m             \u001b[0mout\u001b[0m \u001b[0;34m=\u001b[0m \u001b[0;32mNone\u001b[0m\u001b[0;34m\u001b[0m\u001b[0;34m\u001b[0m\u001b[0m\n",
            "\u001b[0;32m<timed exec>\u001b[0m in \u001b[0;36m<module>\u001b[0;34m()\u001b[0m\n",
            "\u001b[0;31mNameError\u001b[0m: name 'neighbors' is not defined"
          ]
        }
      ]
    },
    {
      "cell_type": "markdown",
      "metadata": {
        "id": "6YAZWodR6tT-",
        "colab_type": "text"
      },
      "source": [
        "## Evaluation"
      ]
    },
    {
      "cell_type": "markdown",
      "metadata": {
        "id": "NEv2pnbe4Q69",
        "colab_type": "text"
      },
      "source": [
        "## Optimization"
      ]
    },
    {
      "cell_type": "code",
      "metadata": {
        "id": "HGC1py5yxTp9",
        "colab_type": "code",
        "colab": {}
      },
      "source": [
        ""
      ],
      "execution_count": 0,
      "outputs": []
    },
    {
      "cell_type": "markdown",
      "metadata": {
        "id": "4S2yn57R7Uv6",
        "colab_type": "text"
      },
      "source": [
        "## Final Conclusion"
      ]
    },
    {
      "cell_type": "markdown",
      "metadata": {
        "id": "ye_vUCgF6mCu",
        "colab_type": "text"
      },
      "source": [
        "To Do..."
      ]
    },
    {
      "cell_type": "markdown",
      "metadata": {
        "id": "fOAxKOIUSRHA",
        "colab_type": "text"
      },
      "source": [
        "## About Team Work\n",
        "**0410 Discussion**\n",
        "1. apply preprocessing to audio files\n",
        "2. how to split our dataset to {training, testing} to make sure the difference of the two groups\n",
        "3. check if our dataset is balanced? Actually it is already balanced.\n",
        "4. which set of features can to useful for our cases\n",
        "5. apply feature selection?\n",
        "6. choose which classification method?\n",
        "7. try different parameter for the classfier\n",
        "8. evaluate the model\n",
        "9. display the result\n",
        "**0411 Discussion**\n",
        "1. do some test individually, using different classfiers\n",
        "**0422 Discussion**\n",
        "1. finish HW1: add tempo features(peakA1,A0,beat...)\n",
        "2. start to write Document, do it together\n",
        "3. still need to fix some error\n",
        "4. complete the model evaluation,optimization\n",
        "5. then, write the introduction and final conclusion\n",
        "\n"
      ]
    },
    {
      "cell_type": "markdown",
      "metadata": {
        "id": "RX0AgidX4rzo",
        "colab_type": "text"
      },
      "source": [
        "## Reference Materials"
      ]
    },
    {
      "cell_type": "markdown",
      "metadata": {
        "id": "4xJ3RN_-IdrD",
        "colab_type": "text"
      },
      "source": [
        "1. [librosa Library](http://librosa.github.io/librosa/generated/librosa.feature.tempogram.html#librosa.feature.tempogram)\n",
        "2. [sklearn, machine learning library](https://scikit-learn.org/stable/) \n",
        "3. [Essentia Library](https://essentia.upf.edu/essentia_python_tutorial.html) \n",
        "4. VAMP plugin python wrapper\n",
        "4. \"The GTZAN dataset: Its contents, its faults, their effects on evaluation, and its future us\", Bob L. Sturm, [2013](https://arxiv.org/abs/1306.1461)\n"
      ]
    },
    {
      "cell_type": "code",
      "metadata": {
        "id": "KJ7A5uWa-Jfg",
        "colab_type": "code",
        "colab": {}
      },
      "source": [
        ""
      ],
      "execution_count": 0,
      "outputs": []
    }
  ]
}